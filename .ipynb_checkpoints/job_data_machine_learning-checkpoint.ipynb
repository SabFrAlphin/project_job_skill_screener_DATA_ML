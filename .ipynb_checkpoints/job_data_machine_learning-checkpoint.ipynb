{
 "cells": [
  {
   "cell_type": "markdown",
   "metadata": {},
   "source": [
    "# Berlin tech job market - analysis and machine learning\n",
    "\n",
    "Objective: \n",
    "\n",
    "1) Analyse word clusters in job title and job text based on distinct job_class\n",
    "- Data Scientist\n",
    "- Data Analyst\n",
    "- Data Engineer\n",
    "\n",
    "2) Train a SVM machine learning model to recognize distinct job titles\n",
    "\n",
    "3) Analyse and 3D visualisation on how distinct the job titles are used in the Berlin tech job market using PCA and t-SNE"
   ]
  },
  {
   "cell_type": "code",
   "execution_count": 171,
   "metadata": {},
   "outputs": [
    {
     "name": "stderr",
     "output_type": "stream",
     "text": [
      "[nltk_data] Downloading package wordnet to\n",
      "[nltk_data]     /Users/sabrinafruhauf/nltk_data...\n",
      "[nltk_data]   Package wordnet is already up-to-date!\n"
     ]
    },
    {
     "data": {
      "text/plain": [
       "True"
      ]
     },
     "execution_count": 171,
     "metadata": {},
     "output_type": "execute_result"
    }
   ],
   "source": [
    "# import statements\n",
    "import time\n",
    "import nltk\n",
    "import pyLDAvis.gensim\n",
    "import pyLDAvis.sklearn\n",
    "\n",
    "import pandas as pd\n",
    "import seaborn as sns\n",
    "import matplotlib.pyplot as plt\n",
    "import plotly.express as px\n",
    "import plotly.graph_objects as go\n",
    "\n",
    "# sklear for machine learning model\n",
    "from sklearn.preprocessing import LabelEncoder\n",
    "from sklearn.model_selection import train_test_split\n",
    "from sklearn.feature_extraction.text import TfidfVectorizer\n",
    "from sklearn import svm\n",
    "from sklearn.metrics import accuracy_score\n",
    "from sklearn.metrics import confusion_matrix\n",
    "from sklearn.decomposition import PCA\n",
    "from sklearn.manifold import TSNE\n",
    "\n",
    "from gensim import corpora, models\n",
    "\n",
    "%matplotlib inline\n",
    "\n",
    "nltk.download('wordnet')"
   ]
  },
  {
   "cell_type": "code",
   "execution_count": 150,
   "metadata": {},
   "outputs": [],
   "source": [
    "# load pre-processed data set\n",
    "df = pd.read_json('99_data/200810_preprocessed_df.json')"
   ]
  },
  {
   "cell_type": "code",
   "execution_count": 151,
   "metadata": {},
   "outputs": [
    {
     "data": {
      "application/vnd.plotly.v1+json": {
       "config": {
        "plotlyServerURL": "https://plot.ly"
       },
       "data": [
        {
         "alignmentgroup": "True",
         "hovertemplate": "job_class=%{x}<br>count=%{y}<extra></extra>",
         "legendgroup": "",
         "marker": {
          "color": "#636efa"
         },
         "name": "",
         "offsetgroup": "",
         "orientation": "v",
         "showlegend": false,
         "textposition": "auto",
         "type": "bar",
         "x": [
          "Data Analyst",
          "Data Engineer",
          "Data Scientist"
         ],
         "xaxis": "x",
         "y": [
          247,
          522,
          200
         ],
         "yaxis": "y"
        }
       ],
       "layout": {
        "barmode": "relative",
        "legend": {
         "tracegroupgap": 0
        },
        "template": {
         "data": {
          "bar": [
           {
            "error_x": {
             "color": "#2a3f5f"
            },
            "error_y": {
             "color": "#2a3f5f"
            },
            "marker": {
             "line": {
              "color": "#E5ECF6",
              "width": 0.5
             }
            },
            "type": "bar"
           }
          ],
          "barpolar": [
           {
            "marker": {
             "line": {
              "color": "#E5ECF6",
              "width": 0.5
             }
            },
            "type": "barpolar"
           }
          ],
          "carpet": [
           {
            "aaxis": {
             "endlinecolor": "#2a3f5f",
             "gridcolor": "white",
             "linecolor": "white",
             "minorgridcolor": "white",
             "startlinecolor": "#2a3f5f"
            },
            "baxis": {
             "endlinecolor": "#2a3f5f",
             "gridcolor": "white",
             "linecolor": "white",
             "minorgridcolor": "white",
             "startlinecolor": "#2a3f5f"
            },
            "type": "carpet"
           }
          ],
          "choropleth": [
           {
            "colorbar": {
             "outlinewidth": 0,
             "ticks": ""
            },
            "type": "choropleth"
           }
          ],
          "contour": [
           {
            "colorbar": {
             "outlinewidth": 0,
             "ticks": ""
            },
            "colorscale": [
             [
              0,
              "#0d0887"
             ],
             [
              0.1111111111111111,
              "#46039f"
             ],
             [
              0.2222222222222222,
              "#7201a8"
             ],
             [
              0.3333333333333333,
              "#9c179e"
             ],
             [
              0.4444444444444444,
              "#bd3786"
             ],
             [
              0.5555555555555556,
              "#d8576b"
             ],
             [
              0.6666666666666666,
              "#ed7953"
             ],
             [
              0.7777777777777778,
              "#fb9f3a"
             ],
             [
              0.8888888888888888,
              "#fdca26"
             ],
             [
              1,
              "#f0f921"
             ]
            ],
            "type": "contour"
           }
          ],
          "contourcarpet": [
           {
            "colorbar": {
             "outlinewidth": 0,
             "ticks": ""
            },
            "type": "contourcarpet"
           }
          ],
          "heatmap": [
           {
            "colorbar": {
             "outlinewidth": 0,
             "ticks": ""
            },
            "colorscale": [
             [
              0,
              "#0d0887"
             ],
             [
              0.1111111111111111,
              "#46039f"
             ],
             [
              0.2222222222222222,
              "#7201a8"
             ],
             [
              0.3333333333333333,
              "#9c179e"
             ],
             [
              0.4444444444444444,
              "#bd3786"
             ],
             [
              0.5555555555555556,
              "#d8576b"
             ],
             [
              0.6666666666666666,
              "#ed7953"
             ],
             [
              0.7777777777777778,
              "#fb9f3a"
             ],
             [
              0.8888888888888888,
              "#fdca26"
             ],
             [
              1,
              "#f0f921"
             ]
            ],
            "type": "heatmap"
           }
          ],
          "heatmapgl": [
           {
            "colorbar": {
             "outlinewidth": 0,
             "ticks": ""
            },
            "colorscale": [
             [
              0,
              "#0d0887"
             ],
             [
              0.1111111111111111,
              "#46039f"
             ],
             [
              0.2222222222222222,
              "#7201a8"
             ],
             [
              0.3333333333333333,
              "#9c179e"
             ],
             [
              0.4444444444444444,
              "#bd3786"
             ],
             [
              0.5555555555555556,
              "#d8576b"
             ],
             [
              0.6666666666666666,
              "#ed7953"
             ],
             [
              0.7777777777777778,
              "#fb9f3a"
             ],
             [
              0.8888888888888888,
              "#fdca26"
             ],
             [
              1,
              "#f0f921"
             ]
            ],
            "type": "heatmapgl"
           }
          ],
          "histogram": [
           {
            "marker": {
             "colorbar": {
              "outlinewidth": 0,
              "ticks": ""
             }
            },
            "type": "histogram"
           }
          ],
          "histogram2d": [
           {
            "colorbar": {
             "outlinewidth": 0,
             "ticks": ""
            },
            "colorscale": [
             [
              0,
              "#0d0887"
             ],
             [
              0.1111111111111111,
              "#46039f"
             ],
             [
              0.2222222222222222,
              "#7201a8"
             ],
             [
              0.3333333333333333,
              "#9c179e"
             ],
             [
              0.4444444444444444,
              "#bd3786"
             ],
             [
              0.5555555555555556,
              "#d8576b"
             ],
             [
              0.6666666666666666,
              "#ed7953"
             ],
             [
              0.7777777777777778,
              "#fb9f3a"
             ],
             [
              0.8888888888888888,
              "#fdca26"
             ],
             [
              1,
              "#f0f921"
             ]
            ],
            "type": "histogram2d"
           }
          ],
          "histogram2dcontour": [
           {
            "colorbar": {
             "outlinewidth": 0,
             "ticks": ""
            },
            "colorscale": [
             [
              0,
              "#0d0887"
             ],
             [
              0.1111111111111111,
              "#46039f"
             ],
             [
              0.2222222222222222,
              "#7201a8"
             ],
             [
              0.3333333333333333,
              "#9c179e"
             ],
             [
              0.4444444444444444,
              "#bd3786"
             ],
             [
              0.5555555555555556,
              "#d8576b"
             ],
             [
              0.6666666666666666,
              "#ed7953"
             ],
             [
              0.7777777777777778,
              "#fb9f3a"
             ],
             [
              0.8888888888888888,
              "#fdca26"
             ],
             [
              1,
              "#f0f921"
             ]
            ],
            "type": "histogram2dcontour"
           }
          ],
          "mesh3d": [
           {
            "colorbar": {
             "outlinewidth": 0,
             "ticks": ""
            },
            "type": "mesh3d"
           }
          ],
          "parcoords": [
           {
            "line": {
             "colorbar": {
              "outlinewidth": 0,
              "ticks": ""
             }
            },
            "type": "parcoords"
           }
          ],
          "pie": [
           {
            "automargin": true,
            "type": "pie"
           }
          ],
          "scatter": [
           {
            "marker": {
             "colorbar": {
              "outlinewidth": 0,
              "ticks": ""
             }
            },
            "type": "scatter"
           }
          ],
          "scatter3d": [
           {
            "line": {
             "colorbar": {
              "outlinewidth": 0,
              "ticks": ""
             }
            },
            "marker": {
             "colorbar": {
              "outlinewidth": 0,
              "ticks": ""
             }
            },
            "type": "scatter3d"
           }
          ],
          "scattercarpet": [
           {
            "marker": {
             "colorbar": {
              "outlinewidth": 0,
              "ticks": ""
             }
            },
            "type": "scattercarpet"
           }
          ],
          "scattergeo": [
           {
            "marker": {
             "colorbar": {
              "outlinewidth": 0,
              "ticks": ""
             }
            },
            "type": "scattergeo"
           }
          ],
          "scattergl": [
           {
            "marker": {
             "colorbar": {
              "outlinewidth": 0,
              "ticks": ""
             }
            },
            "type": "scattergl"
           }
          ],
          "scattermapbox": [
           {
            "marker": {
             "colorbar": {
              "outlinewidth": 0,
              "ticks": ""
             }
            },
            "type": "scattermapbox"
           }
          ],
          "scatterpolar": [
           {
            "marker": {
             "colorbar": {
              "outlinewidth": 0,
              "ticks": ""
             }
            },
            "type": "scatterpolar"
           }
          ],
          "scatterpolargl": [
           {
            "marker": {
             "colorbar": {
              "outlinewidth": 0,
              "ticks": ""
             }
            },
            "type": "scatterpolargl"
           }
          ],
          "scatterternary": [
           {
            "marker": {
             "colorbar": {
              "outlinewidth": 0,
              "ticks": ""
             }
            },
            "type": "scatterternary"
           }
          ],
          "surface": [
           {
            "colorbar": {
             "outlinewidth": 0,
             "ticks": ""
            },
            "colorscale": [
             [
              0,
              "#0d0887"
             ],
             [
              0.1111111111111111,
              "#46039f"
             ],
             [
              0.2222222222222222,
              "#7201a8"
             ],
             [
              0.3333333333333333,
              "#9c179e"
             ],
             [
              0.4444444444444444,
              "#bd3786"
             ],
             [
              0.5555555555555556,
              "#d8576b"
             ],
             [
              0.6666666666666666,
              "#ed7953"
             ],
             [
              0.7777777777777778,
              "#fb9f3a"
             ],
             [
              0.8888888888888888,
              "#fdca26"
             ],
             [
              1,
              "#f0f921"
             ]
            ],
            "type": "surface"
           }
          ],
          "table": [
           {
            "cells": {
             "fill": {
              "color": "#EBF0F8"
             },
             "line": {
              "color": "white"
             }
            },
            "header": {
             "fill": {
              "color": "#C8D4E3"
             },
             "line": {
              "color": "white"
             }
            },
            "type": "table"
           }
          ]
         },
         "layout": {
          "annotationdefaults": {
           "arrowcolor": "#2a3f5f",
           "arrowhead": 0,
           "arrowwidth": 1
          },
          "coloraxis": {
           "colorbar": {
            "outlinewidth": 0,
            "ticks": ""
           }
          },
          "colorscale": {
           "diverging": [
            [
             0,
             "#8e0152"
            ],
            [
             0.1,
             "#c51b7d"
            ],
            [
             0.2,
             "#de77ae"
            ],
            [
             0.3,
             "#f1b6da"
            ],
            [
             0.4,
             "#fde0ef"
            ],
            [
             0.5,
             "#f7f7f7"
            ],
            [
             0.6,
             "#e6f5d0"
            ],
            [
             0.7,
             "#b8e186"
            ],
            [
             0.8,
             "#7fbc41"
            ],
            [
             0.9,
             "#4d9221"
            ],
            [
             1,
             "#276419"
            ]
           ],
           "sequential": [
            [
             0,
             "#0d0887"
            ],
            [
             0.1111111111111111,
             "#46039f"
            ],
            [
             0.2222222222222222,
             "#7201a8"
            ],
            [
             0.3333333333333333,
             "#9c179e"
            ],
            [
             0.4444444444444444,
             "#bd3786"
            ],
            [
             0.5555555555555556,
             "#d8576b"
            ],
            [
             0.6666666666666666,
             "#ed7953"
            ],
            [
             0.7777777777777778,
             "#fb9f3a"
            ],
            [
             0.8888888888888888,
             "#fdca26"
            ],
            [
             1,
             "#f0f921"
            ]
           ],
           "sequentialminus": [
            [
             0,
             "#0d0887"
            ],
            [
             0.1111111111111111,
             "#46039f"
            ],
            [
             0.2222222222222222,
             "#7201a8"
            ],
            [
             0.3333333333333333,
             "#9c179e"
            ],
            [
             0.4444444444444444,
             "#bd3786"
            ],
            [
             0.5555555555555556,
             "#d8576b"
            ],
            [
             0.6666666666666666,
             "#ed7953"
            ],
            [
             0.7777777777777778,
             "#fb9f3a"
            ],
            [
             0.8888888888888888,
             "#fdca26"
            ],
            [
             1,
             "#f0f921"
            ]
           ]
          },
          "colorway": [
           "#636efa",
           "#EF553B",
           "#00cc96",
           "#ab63fa",
           "#FFA15A",
           "#19d3f3",
           "#FF6692",
           "#B6E880",
           "#FF97FF",
           "#FECB52"
          ],
          "font": {
           "color": "#2a3f5f"
          },
          "geo": {
           "bgcolor": "white",
           "lakecolor": "white",
           "landcolor": "#E5ECF6",
           "showlakes": true,
           "showland": true,
           "subunitcolor": "white"
          },
          "hoverlabel": {
           "align": "left"
          },
          "hovermode": "closest",
          "mapbox": {
           "style": "light"
          },
          "paper_bgcolor": "white",
          "plot_bgcolor": "#E5ECF6",
          "polar": {
           "angularaxis": {
            "gridcolor": "white",
            "linecolor": "white",
            "ticks": ""
           },
           "bgcolor": "#E5ECF6",
           "radialaxis": {
            "gridcolor": "white",
            "linecolor": "white",
            "ticks": ""
           }
          },
          "scene": {
           "xaxis": {
            "backgroundcolor": "#E5ECF6",
            "gridcolor": "white",
            "gridwidth": 2,
            "linecolor": "white",
            "showbackground": true,
            "ticks": "",
            "zerolinecolor": "white"
           },
           "yaxis": {
            "backgroundcolor": "#E5ECF6",
            "gridcolor": "white",
            "gridwidth": 2,
            "linecolor": "white",
            "showbackground": true,
            "ticks": "",
            "zerolinecolor": "white"
           },
           "zaxis": {
            "backgroundcolor": "#E5ECF6",
            "gridcolor": "white",
            "gridwidth": 2,
            "linecolor": "white",
            "showbackground": true,
            "ticks": "",
            "zerolinecolor": "white"
           }
          },
          "shapedefaults": {
           "line": {
            "color": "#2a3f5f"
           }
          },
          "ternary": {
           "aaxis": {
            "gridcolor": "white",
            "linecolor": "white",
            "ticks": ""
           },
           "baxis": {
            "gridcolor": "white",
            "linecolor": "white",
            "ticks": ""
           },
           "bgcolor": "#E5ECF6",
           "caxis": {
            "gridcolor": "white",
            "linecolor": "white",
            "ticks": ""
           }
          },
          "title": {
           "x": 0.05
          },
          "xaxis": {
           "automargin": true,
           "gridcolor": "white",
           "linecolor": "white",
           "ticks": "",
           "title": {
            "standoff": 15
           },
           "zerolinecolor": "white",
           "zerolinewidth": 2
          },
          "yaxis": {
           "automargin": true,
           "gridcolor": "white",
           "linecolor": "white",
           "ticks": "",
           "title": {
            "standoff": 15
           },
           "zerolinecolor": "white",
           "zerolinewidth": 2
          }
         }
        },
        "title": {
         "text": "count jobs per job_class"
        },
        "xaxis": {
         "anchor": "y",
         "domain": [
          0,
          1
         ],
         "title": {
          "text": "job_class"
         }
        },
        "yaxis": {
         "anchor": "x",
         "domain": [
          0,
          1
         ],
         "title": {
          "text": "count"
         }
        }
       }
      },
      "text/html": [
       "<div>\n",
       "        \n",
       "        \n",
       "            <div id=\"d9e1e42b-dfeb-4f69-b1ce-572721baf3bf\" class=\"plotly-graph-div\" style=\"height:525px; width:100%;\"></div>\n",
       "            <script type=\"text/javascript\">\n",
       "                require([\"plotly\"], function(Plotly) {\n",
       "                    window.PLOTLYENV=window.PLOTLYENV || {};\n",
       "                    \n",
       "                if (document.getElementById(\"d9e1e42b-dfeb-4f69-b1ce-572721baf3bf\")) {\n",
       "                    Plotly.newPlot(\n",
       "                        'd9e1e42b-dfeb-4f69-b1ce-572721baf3bf',\n",
       "                        [{\"alignmentgroup\": \"True\", \"hovertemplate\": \"job_class=%{x}<br>count=%{y}<extra></extra>\", \"legendgroup\": \"\", \"marker\": {\"color\": \"#636efa\"}, \"name\": \"\", \"offsetgroup\": \"\", \"orientation\": \"v\", \"showlegend\": false, \"textposition\": \"auto\", \"type\": \"bar\", \"x\": [\"Data Analyst\", \"Data Engineer\", \"Data Scientist\"], \"xaxis\": \"x\", \"y\": [247, 522, 200], \"yaxis\": \"y\"}],\n",
       "                        {\"barmode\": \"relative\", \"legend\": {\"tracegroupgap\": 0}, \"template\": {\"data\": {\"bar\": [{\"error_x\": {\"color\": \"#2a3f5f\"}, \"error_y\": {\"color\": \"#2a3f5f\"}, \"marker\": {\"line\": {\"color\": \"#E5ECF6\", \"width\": 0.5}}, \"type\": \"bar\"}], \"barpolar\": [{\"marker\": {\"line\": {\"color\": \"#E5ECF6\", \"width\": 0.5}}, \"type\": \"barpolar\"}], \"carpet\": [{\"aaxis\": {\"endlinecolor\": \"#2a3f5f\", \"gridcolor\": \"white\", \"linecolor\": \"white\", \"minorgridcolor\": \"white\", \"startlinecolor\": \"#2a3f5f\"}, \"baxis\": {\"endlinecolor\": \"#2a3f5f\", \"gridcolor\": \"white\", \"linecolor\": \"white\", \"minorgridcolor\": \"white\", \"startlinecolor\": \"#2a3f5f\"}, \"type\": \"carpet\"}], \"choropleth\": [{\"colorbar\": {\"outlinewidth\": 0, \"ticks\": \"\"}, \"type\": \"choropleth\"}], \"contour\": [{\"colorbar\": {\"outlinewidth\": 0, \"ticks\": \"\"}, \"colorscale\": [[0.0, \"#0d0887\"], [0.1111111111111111, \"#46039f\"], [0.2222222222222222, \"#7201a8\"], [0.3333333333333333, \"#9c179e\"], [0.4444444444444444, \"#bd3786\"], [0.5555555555555556, \"#d8576b\"], [0.6666666666666666, \"#ed7953\"], [0.7777777777777778, \"#fb9f3a\"], [0.8888888888888888, \"#fdca26\"], [1.0, \"#f0f921\"]], \"type\": \"contour\"}], \"contourcarpet\": [{\"colorbar\": {\"outlinewidth\": 0, \"ticks\": \"\"}, \"type\": \"contourcarpet\"}], \"heatmap\": [{\"colorbar\": {\"outlinewidth\": 0, \"ticks\": \"\"}, \"colorscale\": [[0.0, \"#0d0887\"], [0.1111111111111111, \"#46039f\"], [0.2222222222222222, \"#7201a8\"], [0.3333333333333333, \"#9c179e\"], [0.4444444444444444, \"#bd3786\"], [0.5555555555555556, \"#d8576b\"], [0.6666666666666666, \"#ed7953\"], [0.7777777777777778, \"#fb9f3a\"], [0.8888888888888888, \"#fdca26\"], [1.0, \"#f0f921\"]], \"type\": \"heatmap\"}], \"heatmapgl\": [{\"colorbar\": {\"outlinewidth\": 0, \"ticks\": \"\"}, \"colorscale\": [[0.0, \"#0d0887\"], [0.1111111111111111, \"#46039f\"], [0.2222222222222222, \"#7201a8\"], [0.3333333333333333, \"#9c179e\"], [0.4444444444444444, \"#bd3786\"], [0.5555555555555556, \"#d8576b\"], [0.6666666666666666, \"#ed7953\"], [0.7777777777777778, \"#fb9f3a\"], [0.8888888888888888, \"#fdca26\"], [1.0, \"#f0f921\"]], \"type\": \"heatmapgl\"}], \"histogram\": [{\"marker\": {\"colorbar\": {\"outlinewidth\": 0, \"ticks\": \"\"}}, \"type\": \"histogram\"}], \"histogram2d\": [{\"colorbar\": {\"outlinewidth\": 0, \"ticks\": \"\"}, \"colorscale\": [[0.0, \"#0d0887\"], [0.1111111111111111, \"#46039f\"], [0.2222222222222222, \"#7201a8\"], [0.3333333333333333, \"#9c179e\"], [0.4444444444444444, \"#bd3786\"], [0.5555555555555556, \"#d8576b\"], [0.6666666666666666, \"#ed7953\"], [0.7777777777777778, \"#fb9f3a\"], [0.8888888888888888, \"#fdca26\"], [1.0, \"#f0f921\"]], \"type\": \"histogram2d\"}], \"histogram2dcontour\": [{\"colorbar\": {\"outlinewidth\": 0, \"ticks\": \"\"}, \"colorscale\": [[0.0, \"#0d0887\"], [0.1111111111111111, \"#46039f\"], [0.2222222222222222, \"#7201a8\"], [0.3333333333333333, \"#9c179e\"], [0.4444444444444444, \"#bd3786\"], [0.5555555555555556, \"#d8576b\"], [0.6666666666666666, \"#ed7953\"], [0.7777777777777778, \"#fb9f3a\"], [0.8888888888888888, \"#fdca26\"], [1.0, \"#f0f921\"]], \"type\": \"histogram2dcontour\"}], \"mesh3d\": [{\"colorbar\": {\"outlinewidth\": 0, \"ticks\": \"\"}, \"type\": \"mesh3d\"}], \"parcoords\": [{\"line\": {\"colorbar\": {\"outlinewidth\": 0, \"ticks\": \"\"}}, \"type\": \"parcoords\"}], \"pie\": [{\"automargin\": true, \"type\": \"pie\"}], \"scatter\": [{\"marker\": {\"colorbar\": {\"outlinewidth\": 0, \"ticks\": \"\"}}, \"type\": \"scatter\"}], \"scatter3d\": [{\"line\": {\"colorbar\": {\"outlinewidth\": 0, \"ticks\": \"\"}}, \"marker\": {\"colorbar\": {\"outlinewidth\": 0, \"ticks\": \"\"}}, \"type\": \"scatter3d\"}], \"scattercarpet\": [{\"marker\": {\"colorbar\": {\"outlinewidth\": 0, \"ticks\": \"\"}}, \"type\": \"scattercarpet\"}], \"scattergeo\": [{\"marker\": {\"colorbar\": {\"outlinewidth\": 0, \"ticks\": \"\"}}, \"type\": \"scattergeo\"}], \"scattergl\": [{\"marker\": {\"colorbar\": {\"outlinewidth\": 0, \"ticks\": \"\"}}, \"type\": \"scattergl\"}], \"scattermapbox\": [{\"marker\": {\"colorbar\": {\"outlinewidth\": 0, \"ticks\": \"\"}}, \"type\": \"scattermapbox\"}], \"scatterpolar\": [{\"marker\": {\"colorbar\": {\"outlinewidth\": 0, \"ticks\": \"\"}}, \"type\": \"scatterpolar\"}], \"scatterpolargl\": [{\"marker\": {\"colorbar\": {\"outlinewidth\": 0, \"ticks\": \"\"}}, \"type\": \"scatterpolargl\"}], \"scatterternary\": [{\"marker\": {\"colorbar\": {\"outlinewidth\": 0, \"ticks\": \"\"}}, \"type\": \"scatterternary\"}], \"surface\": [{\"colorbar\": {\"outlinewidth\": 0, \"ticks\": \"\"}, \"colorscale\": [[0.0, \"#0d0887\"], [0.1111111111111111, \"#46039f\"], [0.2222222222222222, \"#7201a8\"], [0.3333333333333333, \"#9c179e\"], [0.4444444444444444, \"#bd3786\"], [0.5555555555555556, \"#d8576b\"], [0.6666666666666666, \"#ed7953\"], [0.7777777777777778, \"#fb9f3a\"], [0.8888888888888888, \"#fdca26\"], [1.0, \"#f0f921\"]], \"type\": \"surface\"}], \"table\": [{\"cells\": {\"fill\": {\"color\": \"#EBF0F8\"}, \"line\": {\"color\": \"white\"}}, \"header\": {\"fill\": {\"color\": \"#C8D4E3\"}, \"line\": {\"color\": \"white\"}}, \"type\": \"table\"}]}, \"layout\": {\"annotationdefaults\": {\"arrowcolor\": \"#2a3f5f\", \"arrowhead\": 0, \"arrowwidth\": 1}, \"coloraxis\": {\"colorbar\": {\"outlinewidth\": 0, \"ticks\": \"\"}}, \"colorscale\": {\"diverging\": [[0, \"#8e0152\"], [0.1, \"#c51b7d\"], [0.2, \"#de77ae\"], [0.3, \"#f1b6da\"], [0.4, \"#fde0ef\"], [0.5, \"#f7f7f7\"], [0.6, \"#e6f5d0\"], [0.7, \"#b8e186\"], [0.8, \"#7fbc41\"], [0.9, \"#4d9221\"], [1, \"#276419\"]], \"sequential\": [[0.0, \"#0d0887\"], [0.1111111111111111, \"#46039f\"], [0.2222222222222222, \"#7201a8\"], [0.3333333333333333, \"#9c179e\"], [0.4444444444444444, \"#bd3786\"], [0.5555555555555556, \"#d8576b\"], [0.6666666666666666, \"#ed7953\"], [0.7777777777777778, \"#fb9f3a\"], [0.8888888888888888, \"#fdca26\"], [1.0, \"#f0f921\"]], \"sequentialminus\": [[0.0, \"#0d0887\"], [0.1111111111111111, \"#46039f\"], [0.2222222222222222, \"#7201a8\"], [0.3333333333333333, \"#9c179e\"], [0.4444444444444444, \"#bd3786\"], [0.5555555555555556, \"#d8576b\"], [0.6666666666666666, \"#ed7953\"], [0.7777777777777778, \"#fb9f3a\"], [0.8888888888888888, \"#fdca26\"], [1.0, \"#f0f921\"]]}, \"colorway\": [\"#636efa\", \"#EF553B\", \"#00cc96\", \"#ab63fa\", \"#FFA15A\", \"#19d3f3\", \"#FF6692\", \"#B6E880\", \"#FF97FF\", \"#FECB52\"], \"font\": {\"color\": \"#2a3f5f\"}, \"geo\": {\"bgcolor\": \"white\", \"lakecolor\": \"white\", \"landcolor\": \"#E5ECF6\", \"showlakes\": true, \"showland\": true, \"subunitcolor\": \"white\"}, \"hoverlabel\": {\"align\": \"left\"}, \"hovermode\": \"closest\", \"mapbox\": {\"style\": \"light\"}, \"paper_bgcolor\": \"white\", \"plot_bgcolor\": \"#E5ECF6\", \"polar\": {\"angularaxis\": {\"gridcolor\": \"white\", \"linecolor\": \"white\", \"ticks\": \"\"}, \"bgcolor\": \"#E5ECF6\", \"radialaxis\": {\"gridcolor\": \"white\", \"linecolor\": \"white\", \"ticks\": \"\"}}, \"scene\": {\"xaxis\": {\"backgroundcolor\": \"#E5ECF6\", \"gridcolor\": \"white\", \"gridwidth\": 2, \"linecolor\": \"white\", \"showbackground\": true, \"ticks\": \"\", \"zerolinecolor\": \"white\"}, \"yaxis\": {\"backgroundcolor\": \"#E5ECF6\", \"gridcolor\": \"white\", \"gridwidth\": 2, \"linecolor\": \"white\", \"showbackground\": true, \"ticks\": \"\", \"zerolinecolor\": \"white\"}, \"zaxis\": {\"backgroundcolor\": \"#E5ECF6\", \"gridcolor\": \"white\", \"gridwidth\": 2, \"linecolor\": \"white\", \"showbackground\": true, \"ticks\": \"\", \"zerolinecolor\": \"white\"}}, \"shapedefaults\": {\"line\": {\"color\": \"#2a3f5f\"}}, \"ternary\": {\"aaxis\": {\"gridcolor\": \"white\", \"linecolor\": \"white\", \"ticks\": \"\"}, \"baxis\": {\"gridcolor\": \"white\", \"linecolor\": \"white\", \"ticks\": \"\"}, \"bgcolor\": \"#E5ECF6\", \"caxis\": {\"gridcolor\": \"white\", \"linecolor\": \"white\", \"ticks\": \"\"}}, \"title\": {\"x\": 0.05}, \"xaxis\": {\"automargin\": true, \"gridcolor\": \"white\", \"linecolor\": \"white\", \"ticks\": \"\", \"title\": {\"standoff\": 15}, \"zerolinecolor\": \"white\", \"zerolinewidth\": 2}, \"yaxis\": {\"automargin\": true, \"gridcolor\": \"white\", \"linecolor\": \"white\", \"ticks\": \"\", \"title\": {\"standoff\": 15}, \"zerolinecolor\": \"white\", \"zerolinewidth\": 2}}}, \"title\": {\"text\": \"count jobs per job_class\"}, \"xaxis\": {\"anchor\": \"y\", \"domain\": [0.0, 1.0], \"title\": {\"text\": \"job_class\"}}, \"yaxis\": {\"anchor\": \"x\", \"domain\": [0.0, 1.0], \"title\": {\"text\": \"count\"}}},\n",
       "                        {\"responsive\": true}\n",
       "                    ).then(function(){\n",
       "                            \n",
       "var gd = document.getElementById('d9e1e42b-dfeb-4f69-b1ce-572721baf3bf');\n",
       "var x = new MutationObserver(function (mutations, observer) {{\n",
       "        var display = window.getComputedStyle(gd).display;\n",
       "        if (!display || display === 'none') {{\n",
       "            console.log([gd, 'removed!']);\n",
       "            Plotly.purge(gd);\n",
       "            observer.disconnect();\n",
       "        }}\n",
       "}});\n",
       "\n",
       "// Listen for the removal of the full notebook cells\n",
       "var notebookContainer = gd.closest('#notebook-container');\n",
       "if (notebookContainer) {{\n",
       "    x.observe(notebookContainer, {childList: true});\n",
       "}}\n",
       "\n",
       "// Listen for the clearing of the current output cell\n",
       "var outputEl = gd.closest('.output');\n",
       "if (outputEl) {{\n",
       "    x.observe(outputEl, {childList: true});\n",
       "}}\n",
       "\n",
       "                        })\n",
       "                };\n",
       "                });\n",
       "            </script>\n",
       "        </div>"
      ]
     },
     "metadata": {},
     "output_type": "display_data"
    }
   ],
   "source": [
    "count = df[['job_class', 'ID']].groupby(['job_class'])['ID'].count()\n",
    "fig = px.bar(df, x=count.index.values, y=count, \n",
    "             title=\"count jobs per job_class\",\n",
    "            labels={'x':'job_class','y':'count'})\n",
    "fig.show()"
   ]
  },
  {
   "cell_type": "code",
   "execution_count": 177,
   "metadata": {},
   "outputs": [
    {
     "data": {
      "application/vnd.plotly.v1+json": {
       "config": {
        "plotlyServerURL": "https://plot.ly"
       },
       "data": [
        {
         "alignmentgroup": "True",
         "hovertemplate": "company_name=%{x}<br>count=%{y}<extra></extra>",
         "legendgroup": "",
         "marker": {
          "color": "#636efa"
         },
         "name": "",
         "offsetgroup": "",
         "orientation": "v",
         "showlegend": false,
         "textposition": "auto",
         "type": "bar",
         "x": [
          "Zalando SE",
          "adesso SE",
          "Alldus",
          "Delivery Hero SE",
          "Deutsche Bahn International",
          "Campusjäger",
          "Amazon",
          "HelloFresh",
          "idealo internet GmbH",
          "Charité",
          "Deutsche Rentenversicherung",
          "Spark Networks",
          "Babbel (Lesson Nine GmbH)",
          "Zalando",
          "Trade Republic",
          "Bankpower GmbH",
          "Teraki",
          "Amazon.com, Inc",
          "I.K. Hofmann GmbH - Austria",
          "DKB Service GmbH",
          "Materna-Gruppe",
          "Cpl",
          "Zalando SE Follow",
          "QUISMA",
          "Campusjaeger GmbH",
          "Sopra Steria Consulting",
          "Yara International",
          "OLX Group",
          "adesso as a service GmbH",
          "AUTO1 Group",
          "Heringer Consulting GmbH",
          "Cititec",
          "soatadomicilio",
          "Oliver Bernard",
          "oliwa Personalservice GmbH",
          "Yara",
          "JOIN Solutions AG",
          "AUTO1 GROUP",
          "Enote",
          "Axel Springer SE",
          "FlixBus",
          "Trust In SODA Ltd",
          "Big Cloud",
          "Sparkassen Rating und Risikosysteme GmbH",
          "Flaconi",
          "Competence Call Center",
          "CQ Beratung+Bildung GmbH",
          "mayato",
          "advalyze GmbH",
          "Amazon Web Services (AWS)",
          "VOODOO Group",
          "BAG Berlin",
          "Enpal GmbH",
          "MEDIENGRUPPE RTL",
          "Made For_",
          "Deutsche Bahn",
          "Crossover for Work",
          "Checkout.com",
          "Snowflake",
          "Apriori",
          "Kausa",
          "Bundesanstalt für Materialforschung und -prüfung",
          "Scout24 Gruppe",
          "BWI",
          "DRV",
          "Oetker Digital GmbH",
          "Bayer",
          "Computer Futures",
          "ng-voice GmbH",
          "FRIDAY Versicherung",
          "Fyber",
          "SoundHound Inc.",
          "First Sensor",
          "Bertelsmann SE & Co. KGaA",
          "Takeaway.com",
          "Sonova Gruppe",
          "Cosmonauts & Kings",
          "ICE",
          "Brands4Friends",
          "Saxovent Ökologische Investments GmbH & Co. KG",
          "Lendico",
          "Homeday GmbH",
          "Planetly",
          "Mister Spex GmbH",
          "Cpl Jobs Poland",
          "Peak Ace AG",
          "Codepan GmbH",
          "Harnham",
          "Helios",
          "Hitachi Vantara",
          "SHD System-Haus-Dresden GmbH",
          "Lieferando.de",
          "FlixMobility Tech GmbH",
          "YAS.life - Digitales Bonusprogramm für Versicherungen",
          "Verimi",
          "finleap connect",
          "eXperts",
          "Architrave GmbH",
          "Tillhub GmbH",
          "ThoughtWorks",
          "Wayfair",
          "The Qt Company",
          "9 friendly white rabbits",
          "wu personal GmbH",
          "Architrave, Ltd.",
          "Mapp Digital",
          "Kolibri Games",
          "Kooku Recruiting Partners Berlin",
          "Kraken Digital Asset Exchange",
          "Oliver Wyman",
          "Lever IS Opportunities Demo - Test",
          "DCMN",
          "MBition GmbH",
          "eNote.Com Inc.",
          "Materna Information & Communications SE",
          "Zeitgold",
          "Amorelie",
          "CrossLend GmbH",
          "Microsoft",
          "expond GmbH",
          "borg",
          "Applause App Quality, Inc.",
          "Tesdorpfs",
          "Mpex Inc",
          "Zattoo",
          "esanum",
          "factorymarket",
          "KNIME",
          "smartclip Europe GmbH",
          "FourEnergy GmbH",
          "FZI Forschungszentrum Informatik",
          "FUNKE Digital GmbH",
          "Funke Digital GmbH",
          "FUNKE DIGITAL",
          "FUNKE BAU ESPAÑA SL",
          "AKQA",
          "Evonik Operations GmbH",
          "Glocomms",
          "Grover",
          "thryve.",
          "Hays",
          "KAARISMA Recruitment GmbH",
          "EDAG",
          "neurocat GmbH",
          "Holoswitch",
          "Humboldt-Universität zu Berlin",
          "kloeckner.i GmbH",
          "itk communications GmbH",
          "IPlytics GmbH",
          "IT Search and Selection",
          "ITR Partners",
          "Informationstechnikzentrum Bund (ITZBund)",
          "PERSO PLANKONTOR",
          "Omio",
          "adesso insurance solutions GmbH",
          "Scout24 Group",
          "BioTalent",
          "Pandata GmbH",
          "BuildingMinds",
          "Trust In Soda Ltd",
          "Cassini Consulting AG",
          "Trisor",
          "Universität Potsdam",
          "Recare",
          "Cha­rité",
          "Smartclip",
          "SmartRecruiters",
          "Vertex Solutions International Ltd",
          "Simplifa",
          "Remerge",
          "SHD",
          "Voodoo.io",
          "Venturi Germany GmbH",
          "Senacor Technologies",
          "PubNative",
          "Seerene",
          "TEMPTON Next Level GmbH",
          "Cobalt Deutschland",
          "TEMPTON Next Level",
          "Client Server Limited",
          "SumUp",
          "Stolzberger GmbH",
          "Client Server",
          "Steinbeis School of International Business and Entrepreneurship (SIBE)",
          "Thermondo GmbH",
          "PriceHubble",
          "Chemovator",
          "Signify Technology",
          "Airteam Aerial Intelligence",
          "DoiT International",
          "Deutsche Post DHL Group Deutsche Post AG",
          "Altagram Group - Game Localization",
          "Durstexpress GmbH",
          "Digital Motion DM",
          "Cobalt.io",
          "Agoda",
          "Ada Health",
          "Abalon Group",
          "Elastic",
          "AMBOSS",
          "Equalista",
          "European Recruitment",
          "BFS finance Münster GmbH",
          "BJC BEST JOB IT SERVICES GmbH",
          "FERCHAU",
          "Billie",
          "BNP Paribas Real Estate",
          "AC - Distribution & Marketing GmbH",
          "Becruiter",
          "BASF",
          "Db Netz Ag",
          "BANKPOWER GmbH Personaldienstleistungen",
          "Autohero",
          "Caseking GmbH",
          "Cgm",
          "DATAGROUP",
          "Customlytics GmbH",
          "Applause",
          "Avaloq",
          "Außendienst Akademie GmbH",
          "Contentful",
          "Deutsche Kreditbank",
          "Construyo",
          "Comtravo",
          "Aroundhome",
          "Aroundtown Consulting GmbH",
          "AutoHero",
          "Cobalt Deutschland GmbH",
          "Atheneum",
          "DATAGROUP Inshore Services GmbH",
          "Amicus Recruitment",
          "Carl",
          "DB Netz AG",
          "Alter Solutions Deutschland GmbH",
          "Amazon EU SARL (Germany Branch)",
          "CASPAR Health",
          "Daimler",
          "DRV Bund",
          "CREALOGIX",
          "Caissa Global Recruitment",
          "DLR",
          "Avrios International AG",
          "Capita Customer Services (Germany) GmbH",
          "Amazon.com",
          "Capita Europe",
          "Careem",
          "DB Zeitarbeit GmbH",
          "DB Services GmbH",
          "Barmenia Versicherungen",
          "xbAV",
          "Foundamental",
          "Taledo",
          "WWF Deutschland",
          "WBS TRAINING AG",
          "WBS Gruppe",
          "Viessmann",
          "VEHICULUM",
          "Truecaller",
          "Triple A Internetshops GmbH",
          "Trifacta",
          "Trendence Institut",
          "The Adecco Group",
          "Thalia Bücher GmbH",
          "Talentspace",
          "Talentful",
          "TIER Mobility",
          "Rehbach Gruppe Gmbh",
          "Sparkassen-Finanzportal GmbH",
          "Sourceability North America",
          "Sourceability LLC",
          "SnapEngage",
          "Sigmar International",
          "Sicoya GmbH",
          "Schwertfels Consulting GmbH",
          "STAR COOPERATION GmbH",
          "SPIRIT21 MOBILE PRIVATE LIMITED",
          "SPIRIT/21",
          "SOLCOM GmbH",
          "S-Kreditpartner",
          "Rosenmeister Legal Tech GmbH",
          "Webfleet Solutions",
          "Xdi360 Gmbh",
          "ZAGENO Inc.",
          "ZF Car eWallet GmbH",
          "wefox",
          "weeve",
          "wattx",
          "travel audience GmbH - an Amadeus Company",
          "smava GmbH",
          "smava",
          "sennder",
          "msg",
          "mpex GmbH",
          "kreuzwerker",
          "konversionsKRAFT (Web Arts AG)",
          "itk communications",
          "idealo",
          "home24 SE",
          "home of jobs",
          "heycater!",
          "enote GmbH",
          "eXperts consulting center",
          "doctari",
          "colorfy GmbH",
          "byrd",
          "bookingkit",
          "auticon UK",
          "active-consulting Ltd",
          "]init[ AG für digitale Kommunikation",
          "]init[ AG für Digitale Kommunikation",
          "Zoetis Inc.",
          "Right Point IT GmbH",
          "Recare Ltd",
          "Fraunhofer Fokus",
          "Home24",
          "LANA",
          "KaufDA",
          "KWS",
          "Jodel",
          "Jobs via eFinancialCareers",
          "Jam City",
          "Ironhack",
          "Ionos",
          "Institut für angewandte Gesundheitsforschung Berlin",
          "InstaFreight GmbH",
          "IONOS",
          "INFARM",
          "IAV",
          "Home",
          "Ratepay",
          "HeavenHR",
          "Healthmetrix",
          "HR UNIVERSAL",
          "Greifenberg Personalberatung & Recruitment",
          "Governikus KG",
          "Google",
          "Global Nomadic",
          "GlassDollar",
          "GLO Comms",
          "GEMA Germany GmbH",
          "Funke Mediengruppe GmbH & Co. KGaA",
          "Fresenius Medical Care",
          "Fresenius",
          "Lieferando",
          "x-tention Informationstechnologie GmbH GmbH",
          "Liqid",
          "Logikk",
          "Ratbacher GmbH",
          "Raisin",
          "Rainer IT GmbH",
          "REMERGE - App Retargeting",
          "REHSEARCH",
          "QMETHODS - Business & IT Consulting GmbH",
          "Prosis Srl",
          "Pitch",
          "Phiture - Mobile Growth Consultancy",
          "Perso Plankontor GmbH",
          "Passion for People GmbH",
          "Parallel",
          "PERSO PLANKONTOR Nord GmbH",
          "On",
          "Oetker Digital",
          "OSB AG Ingenieur- und IT-Dienstleistungen",
          "Newtec",
          "New Yorker",
          "Neugelb Studios GmbH",
          "Müller Und Partner Unternehmensberater",
          "Momox GmbH",
          "Mobimeo",
          "Michael Page",
          "Meritocracy.is",
          "Medicover Deutschland",
          "MedEngine",
          "Manpower GmbH & Co. KG",
          ".companion Strategieberatung GmbH"
         ],
         "xaxis": "x",
         "y": [
          31,
          27,
          19,
          19,
          18,
          18,
          14,
          14,
          13,
          11,
          11,
          10,
          9,
          9,
          8,
          8,
          7,
          7,
          7,
          7,
          7,
          7,
          7,
          7,
          7,
          7,
          6,
          6,
          6,
          6,
          6,
          5,
          5,
          5,
          5,
          5,
          5,
          5,
          5,
          5,
          5,
          5,
          5,
          5,
          5,
          5,
          5,
          5,
          5,
          4,
          4,
          4,
          4,
          4,
          4,
          4,
          4,
          4,
          4,
          4,
          4,
          4,
          4,
          4,
          4,
          4,
          4,
          4,
          4,
          3,
          3,
          3,
          3,
          3,
          3,
          3,
          3,
          3,
          3,
          3,
          3,
          3,
          3,
          3,
          3,
          3,
          3,
          3,
          3,
          3,
          3,
          3,
          3,
          3,
          3,
          3,
          3,
          3,
          3,
          3,
          3,
          3,
          3,
          3,
          2,
          2,
          2,
          2,
          2,
          2,
          2,
          2,
          2,
          2,
          2,
          2,
          2,
          2,
          2,
          2,
          2,
          2,
          2,
          2,
          2,
          2,
          2,
          2,
          2,
          2,
          2,
          2,
          2,
          2,
          2,
          2,
          2,
          2,
          2,
          2,
          2,
          2,
          2,
          2,
          2,
          2,
          2,
          2,
          2,
          2,
          2,
          2,
          2,
          2,
          2,
          2,
          2,
          2,
          2,
          2,
          2,
          2,
          2,
          2,
          2,
          2,
          2,
          2,
          2,
          2,
          2,
          2,
          2,
          2,
          2,
          2,
          2,
          2,
          2,
          2,
          2,
          2,
          2,
          2,
          2,
          2,
          2,
          2,
          1,
          1,
          1,
          1,
          1,
          1,
          1,
          1,
          1,
          1,
          1,
          1,
          1,
          1,
          1,
          1,
          1,
          1,
          1,
          1,
          1,
          1,
          1,
          1,
          1,
          1,
          1,
          1,
          1,
          1,
          1,
          1,
          1,
          1,
          1,
          1,
          1,
          1,
          1,
          1,
          1,
          1,
          1,
          1,
          1,
          1,
          1,
          1,
          1,
          1,
          1,
          1,
          1,
          1,
          1,
          1,
          1,
          1,
          1,
          1,
          1,
          1,
          1,
          1,
          1,
          1,
          1,
          1,
          1,
          1,
          1,
          1,
          1,
          1,
          1,
          1,
          1,
          1,
          1,
          1,
          1,
          1,
          1,
          1,
          1,
          1,
          1,
          1,
          1,
          1,
          1,
          1,
          1,
          1,
          1,
          1,
          1,
          1,
          1,
          1,
          1,
          1,
          1,
          1,
          1,
          1,
          1,
          1,
          1,
          1,
          1,
          1,
          1,
          1,
          1,
          1,
          1,
          1,
          1,
          1,
          1,
          1,
          1,
          1,
          1,
          1,
          1,
          1,
          1,
          1,
          1,
          1,
          1,
          1,
          1,
          1,
          1,
          1,
          1,
          1,
          1,
          1,
          1,
          1,
          1,
          1,
          1,
          1,
          1,
          1,
          1,
          1,
          1,
          1,
          1,
          1,
          1,
          1,
          1,
          1,
          1,
          1,
          1,
          1,
          1,
          1,
          1,
          1,
          1,
          1,
          1,
          1,
          1,
          1,
          1,
          1,
          1,
          1,
          1,
          1,
          1,
          1,
          1,
          1,
          1,
          1,
          1
         ],
         "yaxis": "y"
        }
       ],
       "layout": {
        "barmode": "relative",
        "legend": {
         "tracegroupgap": 0
        },
        "template": {
         "data": {
          "bar": [
           {
            "error_x": {
             "color": "#2a3f5f"
            },
            "error_y": {
             "color": "#2a3f5f"
            },
            "marker": {
             "line": {
              "color": "#E5ECF6",
              "width": 0.5
             }
            },
            "type": "bar"
           }
          ],
          "barpolar": [
           {
            "marker": {
             "line": {
              "color": "#E5ECF6",
              "width": 0.5
             }
            },
            "type": "barpolar"
           }
          ],
          "carpet": [
           {
            "aaxis": {
             "endlinecolor": "#2a3f5f",
             "gridcolor": "white",
             "linecolor": "white",
             "minorgridcolor": "white",
             "startlinecolor": "#2a3f5f"
            },
            "baxis": {
             "endlinecolor": "#2a3f5f",
             "gridcolor": "white",
             "linecolor": "white",
             "minorgridcolor": "white",
             "startlinecolor": "#2a3f5f"
            },
            "type": "carpet"
           }
          ],
          "choropleth": [
           {
            "colorbar": {
             "outlinewidth": 0,
             "ticks": ""
            },
            "type": "choropleth"
           }
          ],
          "contour": [
           {
            "colorbar": {
             "outlinewidth": 0,
             "ticks": ""
            },
            "colorscale": [
             [
              0,
              "#0d0887"
             ],
             [
              0.1111111111111111,
              "#46039f"
             ],
             [
              0.2222222222222222,
              "#7201a8"
             ],
             [
              0.3333333333333333,
              "#9c179e"
             ],
             [
              0.4444444444444444,
              "#bd3786"
             ],
             [
              0.5555555555555556,
              "#d8576b"
             ],
             [
              0.6666666666666666,
              "#ed7953"
             ],
             [
              0.7777777777777778,
              "#fb9f3a"
             ],
             [
              0.8888888888888888,
              "#fdca26"
             ],
             [
              1,
              "#f0f921"
             ]
            ],
            "type": "contour"
           }
          ],
          "contourcarpet": [
           {
            "colorbar": {
             "outlinewidth": 0,
             "ticks": ""
            },
            "type": "contourcarpet"
           }
          ],
          "heatmap": [
           {
            "colorbar": {
             "outlinewidth": 0,
             "ticks": ""
            },
            "colorscale": [
             [
              0,
              "#0d0887"
             ],
             [
              0.1111111111111111,
              "#46039f"
             ],
             [
              0.2222222222222222,
              "#7201a8"
             ],
             [
              0.3333333333333333,
              "#9c179e"
             ],
             [
              0.4444444444444444,
              "#bd3786"
             ],
             [
              0.5555555555555556,
              "#d8576b"
             ],
             [
              0.6666666666666666,
              "#ed7953"
             ],
             [
              0.7777777777777778,
              "#fb9f3a"
             ],
             [
              0.8888888888888888,
              "#fdca26"
             ],
             [
              1,
              "#f0f921"
             ]
            ],
            "type": "heatmap"
           }
          ],
          "heatmapgl": [
           {
            "colorbar": {
             "outlinewidth": 0,
             "ticks": ""
            },
            "colorscale": [
             [
              0,
              "#0d0887"
             ],
             [
              0.1111111111111111,
              "#46039f"
             ],
             [
              0.2222222222222222,
              "#7201a8"
             ],
             [
              0.3333333333333333,
              "#9c179e"
             ],
             [
              0.4444444444444444,
              "#bd3786"
             ],
             [
              0.5555555555555556,
              "#d8576b"
             ],
             [
              0.6666666666666666,
              "#ed7953"
             ],
             [
              0.7777777777777778,
              "#fb9f3a"
             ],
             [
              0.8888888888888888,
              "#fdca26"
             ],
             [
              1,
              "#f0f921"
             ]
            ],
            "type": "heatmapgl"
           }
          ],
          "histogram": [
           {
            "marker": {
             "colorbar": {
              "outlinewidth": 0,
              "ticks": ""
             }
            },
            "type": "histogram"
           }
          ],
          "histogram2d": [
           {
            "colorbar": {
             "outlinewidth": 0,
             "ticks": ""
            },
            "colorscale": [
             [
              0,
              "#0d0887"
             ],
             [
              0.1111111111111111,
              "#46039f"
             ],
             [
              0.2222222222222222,
              "#7201a8"
             ],
             [
              0.3333333333333333,
              "#9c179e"
             ],
             [
              0.4444444444444444,
              "#bd3786"
             ],
             [
              0.5555555555555556,
              "#d8576b"
             ],
             [
              0.6666666666666666,
              "#ed7953"
             ],
             [
              0.7777777777777778,
              "#fb9f3a"
             ],
             [
              0.8888888888888888,
              "#fdca26"
             ],
             [
              1,
              "#f0f921"
             ]
            ],
            "type": "histogram2d"
           }
          ],
          "histogram2dcontour": [
           {
            "colorbar": {
             "outlinewidth": 0,
             "ticks": ""
            },
            "colorscale": [
             [
              0,
              "#0d0887"
             ],
             [
              0.1111111111111111,
              "#46039f"
             ],
             [
              0.2222222222222222,
              "#7201a8"
             ],
             [
              0.3333333333333333,
              "#9c179e"
             ],
             [
              0.4444444444444444,
              "#bd3786"
             ],
             [
              0.5555555555555556,
              "#d8576b"
             ],
             [
              0.6666666666666666,
              "#ed7953"
             ],
             [
              0.7777777777777778,
              "#fb9f3a"
             ],
             [
              0.8888888888888888,
              "#fdca26"
             ],
             [
              1,
              "#f0f921"
             ]
            ],
            "type": "histogram2dcontour"
           }
          ],
          "mesh3d": [
           {
            "colorbar": {
             "outlinewidth": 0,
             "ticks": ""
            },
            "type": "mesh3d"
           }
          ],
          "parcoords": [
           {
            "line": {
             "colorbar": {
              "outlinewidth": 0,
              "ticks": ""
             }
            },
            "type": "parcoords"
           }
          ],
          "pie": [
           {
            "automargin": true,
            "type": "pie"
           }
          ],
          "scatter": [
           {
            "marker": {
             "colorbar": {
              "outlinewidth": 0,
              "ticks": ""
             }
            },
            "type": "scatter"
           }
          ],
          "scatter3d": [
           {
            "line": {
             "colorbar": {
              "outlinewidth": 0,
              "ticks": ""
             }
            },
            "marker": {
             "colorbar": {
              "outlinewidth": 0,
              "ticks": ""
             }
            },
            "type": "scatter3d"
           }
          ],
          "scattercarpet": [
           {
            "marker": {
             "colorbar": {
              "outlinewidth": 0,
              "ticks": ""
             }
            },
            "type": "scattercarpet"
           }
          ],
          "scattergeo": [
           {
            "marker": {
             "colorbar": {
              "outlinewidth": 0,
              "ticks": ""
             }
            },
            "type": "scattergeo"
           }
          ],
          "scattergl": [
           {
            "marker": {
             "colorbar": {
              "outlinewidth": 0,
              "ticks": ""
             }
            },
            "type": "scattergl"
           }
          ],
          "scattermapbox": [
           {
            "marker": {
             "colorbar": {
              "outlinewidth": 0,
              "ticks": ""
             }
            },
            "type": "scattermapbox"
           }
          ],
          "scatterpolar": [
           {
            "marker": {
             "colorbar": {
              "outlinewidth": 0,
              "ticks": ""
             }
            },
            "type": "scatterpolar"
           }
          ],
          "scatterpolargl": [
           {
            "marker": {
             "colorbar": {
              "outlinewidth": 0,
              "ticks": ""
             }
            },
            "type": "scatterpolargl"
           }
          ],
          "scatterternary": [
           {
            "marker": {
             "colorbar": {
              "outlinewidth": 0,
              "ticks": ""
             }
            },
            "type": "scatterternary"
           }
          ],
          "surface": [
           {
            "colorbar": {
             "outlinewidth": 0,
             "ticks": ""
            },
            "colorscale": [
             [
              0,
              "#0d0887"
             ],
             [
              0.1111111111111111,
              "#46039f"
             ],
             [
              0.2222222222222222,
              "#7201a8"
             ],
             [
              0.3333333333333333,
              "#9c179e"
             ],
             [
              0.4444444444444444,
              "#bd3786"
             ],
             [
              0.5555555555555556,
              "#d8576b"
             ],
             [
              0.6666666666666666,
              "#ed7953"
             ],
             [
              0.7777777777777778,
              "#fb9f3a"
             ],
             [
              0.8888888888888888,
              "#fdca26"
             ],
             [
              1,
              "#f0f921"
             ]
            ],
            "type": "surface"
           }
          ],
          "table": [
           {
            "cells": {
             "fill": {
              "color": "#EBF0F8"
             },
             "line": {
              "color": "white"
             }
            },
            "header": {
             "fill": {
              "color": "#C8D4E3"
             },
             "line": {
              "color": "white"
             }
            },
            "type": "table"
           }
          ]
         },
         "layout": {
          "annotationdefaults": {
           "arrowcolor": "#2a3f5f",
           "arrowhead": 0,
           "arrowwidth": 1
          },
          "coloraxis": {
           "colorbar": {
            "outlinewidth": 0,
            "ticks": ""
           }
          },
          "colorscale": {
           "diverging": [
            [
             0,
             "#8e0152"
            ],
            [
             0.1,
             "#c51b7d"
            ],
            [
             0.2,
             "#de77ae"
            ],
            [
             0.3,
             "#f1b6da"
            ],
            [
             0.4,
             "#fde0ef"
            ],
            [
             0.5,
             "#f7f7f7"
            ],
            [
             0.6,
             "#e6f5d0"
            ],
            [
             0.7,
             "#b8e186"
            ],
            [
             0.8,
             "#7fbc41"
            ],
            [
             0.9,
             "#4d9221"
            ],
            [
             1,
             "#276419"
            ]
           ],
           "sequential": [
            [
             0,
             "#0d0887"
            ],
            [
             0.1111111111111111,
             "#46039f"
            ],
            [
             0.2222222222222222,
             "#7201a8"
            ],
            [
             0.3333333333333333,
             "#9c179e"
            ],
            [
             0.4444444444444444,
             "#bd3786"
            ],
            [
             0.5555555555555556,
             "#d8576b"
            ],
            [
             0.6666666666666666,
             "#ed7953"
            ],
            [
             0.7777777777777778,
             "#fb9f3a"
            ],
            [
             0.8888888888888888,
             "#fdca26"
            ],
            [
             1,
             "#f0f921"
            ]
           ],
           "sequentialminus": [
            [
             0,
             "#0d0887"
            ],
            [
             0.1111111111111111,
             "#46039f"
            ],
            [
             0.2222222222222222,
             "#7201a8"
            ],
            [
             0.3333333333333333,
             "#9c179e"
            ],
            [
             0.4444444444444444,
             "#bd3786"
            ],
            [
             0.5555555555555556,
             "#d8576b"
            ],
            [
             0.6666666666666666,
             "#ed7953"
            ],
            [
             0.7777777777777778,
             "#fb9f3a"
            ],
            [
             0.8888888888888888,
             "#fdca26"
            ],
            [
             1,
             "#f0f921"
            ]
           ]
          },
          "colorway": [
           "#636efa",
           "#EF553B",
           "#00cc96",
           "#ab63fa",
           "#FFA15A",
           "#19d3f3",
           "#FF6692",
           "#B6E880",
           "#FF97FF",
           "#FECB52"
          ],
          "font": {
           "color": "#2a3f5f"
          },
          "geo": {
           "bgcolor": "white",
           "lakecolor": "white",
           "landcolor": "#E5ECF6",
           "showlakes": true,
           "showland": true,
           "subunitcolor": "white"
          },
          "hoverlabel": {
           "align": "left"
          },
          "hovermode": "closest",
          "mapbox": {
           "style": "light"
          },
          "paper_bgcolor": "white",
          "plot_bgcolor": "#E5ECF6",
          "polar": {
           "angularaxis": {
            "gridcolor": "white",
            "linecolor": "white",
            "ticks": ""
           },
           "bgcolor": "#E5ECF6",
           "radialaxis": {
            "gridcolor": "white",
            "linecolor": "white",
            "ticks": ""
           }
          },
          "scene": {
           "xaxis": {
            "backgroundcolor": "#E5ECF6",
            "gridcolor": "white",
            "gridwidth": 2,
            "linecolor": "white",
            "showbackground": true,
            "ticks": "",
            "zerolinecolor": "white"
           },
           "yaxis": {
            "backgroundcolor": "#E5ECF6",
            "gridcolor": "white",
            "gridwidth": 2,
            "linecolor": "white",
            "showbackground": true,
            "ticks": "",
            "zerolinecolor": "white"
           },
           "zaxis": {
            "backgroundcolor": "#E5ECF6",
            "gridcolor": "white",
            "gridwidth": 2,
            "linecolor": "white",
            "showbackground": true,
            "ticks": "",
            "zerolinecolor": "white"
           }
          },
          "shapedefaults": {
           "line": {
            "color": "#2a3f5f"
           }
          },
          "ternary": {
           "aaxis": {
            "gridcolor": "white",
            "linecolor": "white",
            "ticks": ""
           },
           "baxis": {
            "gridcolor": "white",
            "linecolor": "white",
            "ticks": ""
           },
           "bgcolor": "#E5ECF6",
           "caxis": {
            "gridcolor": "white",
            "linecolor": "white",
            "ticks": ""
           }
          },
          "title": {
           "x": 0.05
          },
          "xaxis": {
           "automargin": true,
           "gridcolor": "white",
           "linecolor": "white",
           "ticks": "",
           "title": {
            "standoff": 15
           },
           "zerolinecolor": "white",
           "zerolinewidth": 2
          },
          "yaxis": {
           "automargin": true,
           "gridcolor": "white",
           "linecolor": "white",
           "ticks": "",
           "title": {
            "standoff": 15
           },
           "zerolinecolor": "white",
           "zerolinewidth": 2
          }
         }
        },
        "title": {
         "text": "count jobs per company"
        },
        "xaxis": {
         "anchor": "y",
         "domain": [
          0,
          1
         ],
         "title": {
          "text": "company_name"
         }
        },
        "yaxis": {
         "anchor": "x",
         "domain": [
          0,
          1
         ],
         "title": {
          "text": "count"
         }
        }
       }
      },
      "text/html": [
       "<div>\n",
       "        \n",
       "        \n",
       "            <div id=\"2ef052e0-706b-4302-a0d7-7f9744fa5712\" class=\"plotly-graph-div\" style=\"height:525px; width:100%;\"></div>\n",
       "            <script type=\"text/javascript\">\n",
       "                require([\"plotly\"], function(Plotly) {\n",
       "                    window.PLOTLYENV=window.PLOTLYENV || {};\n",
       "                    \n",
       "                if (document.getElementById(\"2ef052e0-706b-4302-a0d7-7f9744fa5712\")) {\n",
       "                    Plotly.newPlot(\n",
       "                        '2ef052e0-706b-4302-a0d7-7f9744fa5712',\n",
       "                        [{\"alignmentgroup\": \"True\", \"hovertemplate\": \"company_name=%{x}<br>count=%{y}<extra></extra>\", \"legendgroup\": \"\", \"marker\": {\"color\": \"#636efa\"}, \"name\": \"\", \"offsetgroup\": \"\", \"orientation\": \"v\", \"showlegend\": false, \"textposition\": \"auto\", \"type\": \"bar\", \"x\": [\"Zalando SE\", \"adesso SE\", \"Alldus\", \"Delivery Hero SE\", \"Deutsche Bahn International\", \"Campusj\\u00e4ger\", \"Amazon\", \"HelloFresh\", \"idealo internet GmbH\", \"Charit\\u00e9\", \"Deutsche Rentenversicherung\", \"Spark Networks\", \"Babbel (Lesson Nine GmbH)\", \"Zalando\", \"Trade Republic\", \"Bankpower GmbH\", \"Teraki\", \"Amazon.com, Inc\", \"I.K. Hofmann GmbH - Austria\", \"DKB Service GmbH\", \"Materna-Gruppe\", \"Cpl\", \"Zalando SE Follow\", \"QUISMA\", \"Campusjaeger GmbH\", \"Sopra Steria Consulting\", \"Yara International\", \"OLX Group\", \"adesso as a service GmbH\", \"AUTO1 Group\", \"Heringer Consulting GmbH\", \"Cititec\", \"soatadomicilio\", \"Oliver Bernard\", \"oliwa Personalservice GmbH\", \"Yara\", \"JOIN Solutions AG\", \"AUTO1 GROUP\", \"Enote\", \"Axel Springer SE\", \"FlixBus\", \"Trust In SODA Ltd\", \"Big Cloud\", \"Sparkassen Rating und Risikosysteme GmbH\", \"Flaconi\", \"Competence Call Center\", \"CQ Beratung+Bildung GmbH\", \"mayato\", \"advalyze GmbH\", \"Amazon Web Services (AWS)\", \"VOODOO Group\", \"BAG Berlin\", \"Enpal GmbH\", \"MEDIENGRUPPE RTL\", \"Made For_\", \"Deutsche Bahn\", \"Crossover for Work\", \"Checkout.com\", \"Snowflake\", \"Apriori\", \"Kausa\", \"Bundesanstalt f\\u00fcr Materialforschung und -pr\\u00fcfung\", \"Scout24 Gruppe\", \"BWI\", \"DRV\", \"Oetker Digital GmbH\", \"Bayer\", \"Computer Futures\", \"ng-voice GmbH\", \"FRIDAY Versicherung\", \"Fyber\", \"SoundHound Inc.\", \"First Sensor\", \"Bertelsmann SE & Co. KGaA\", \"Takeaway.com\", \"Sonova Gruppe\", \"Cosmonauts & Kings\", \"ICE\", \"Brands4Friends\", \"Saxovent \\u00d6kologische Investments GmbH & Co. KG\", \"Lendico\", \"Homeday GmbH\", \"Planetly\", \"Mister Spex GmbH\", \"Cpl Jobs Poland\", \"Peak Ace AG\", \"Codepan GmbH\", \"Harnham\", \"Helios\", \"Hitachi Vantara\", \"SHD System-Haus-Dresden GmbH\", \"Lieferando.de\", \"FlixMobility Tech GmbH\", \"YAS.life - Digitales Bonusprogramm f\\u00fcr Versicherungen\", \"Verimi\", \"finleap connect\", \"eXperts\", \"Architrave GmbH\", \"Tillhub GmbH\", \"ThoughtWorks\", \"Wayfair\", \"The Qt Company\", \"9 friendly white rabbits\", \"wu personal GmbH\", \"Architrave, Ltd.\", \"Mapp Digital\", \"Kolibri Games\", \"Kooku Recruiting Partners Berlin\", \"Kraken Digital Asset Exchange\", \"Oliver Wyman\", \"Lever IS Opportunities Demo - Test\", \"DCMN\", \"MBition GmbH\", \"eNote.Com Inc.\", \"Materna Information & Communications SE\", \"Zeitgold\", \"Amorelie\", \"CrossLend GmbH\", \"Microsoft\", \"expond GmbH\", \"borg\", \"Applause App Quality, Inc.\", \"Tesdorpfs\", \"Mpex Inc\", \"Zattoo\", \"esanum\", \"factorymarket\", \"KNIME\", \"smartclip Europe GmbH\", \"FourEnergy GmbH\", \"FZI Forschungszentrum Informatik\", \"FUNKE Digital GmbH\", \"Funke Digital GmbH\", \"FUNKE DIGITAL\", \"FUNKE BAU ESPA\\u00d1A SL\", \"AKQA\", \"Evonik Operations GmbH\", \"Glocomms\", \"Grover\", \"thryve.\", \"Hays\", \"KAARISMA Recruitment GmbH\", \"EDAG\", \"neurocat GmbH\", \"Holoswitch\", \"Humboldt-Universit\\u00e4t zu Berlin\", \"kloeckner.i GmbH\", \"itk communications GmbH\", \"IPlytics GmbH\", \"IT Search and Selection\", \"ITR Partners\", \"Informationstechnikzentrum Bund (ITZBund)\", \"PERSO PLANKONTOR\", \"Omio\", \"adesso insurance solutions GmbH\", \"Scout24 Group\", \"BioTalent\", \"Pandata GmbH\", \"BuildingMinds\", \"Trust In Soda Ltd\", \"Cassini Consulting AG\", \"Trisor\", \"Universit\\u00e4t Potsdam\", \"Recare\", \"Cha\\u00adrit\\u00e9\", \"Smartclip\", \"SmartRecruiters\", \"Vertex Solutions International Ltd\", \"Simplifa\", \"Remerge\", \"SHD\", \"Voodoo.io\", \"Venturi Germany GmbH\", \"Senacor Technologies\", \"PubNative\", \"Seerene\", \"TEMPTON Next Level GmbH\", \"Cobalt Deutschland\", \"TEMPTON Next Level\", \"Client Server Limited\", \"SumUp\", \"Stolzberger GmbH\", \"Client Server\", \"Steinbeis School of International Business and Entrepreneurship (SIBE)\", \"Thermondo GmbH\", \"PriceHubble\", \"Chemovator\", \"Signify Technology\", \"Airteam Aerial Intelligence\", \"DoiT International\", \"Deutsche Post DHL Group Deutsche Post AG\", \"Altagram Group - Game Localization\", \"Durstexpress GmbH\", \"Digital Motion DM\", \"Cobalt.io\", \"Agoda\", \"Ada Health\", \"Abalon Group\", \"Elastic\", \"AMBOSS\", \"Equalista\", \"European Recruitment\", \"BFS finance M\\u00fcnster GmbH\", \"BJC BEST JOB IT SERVICES GmbH\", \"FERCHAU\", \"Billie\", \"BNP Paribas Real Estate\", \"AC - Distribution & Marketing GmbH\", \"Becruiter\", \"BASF\", \"Db Netz Ag\", \"BANKPOWER GmbH Personaldienstleistungen\", \"Autohero\", \"Caseking GmbH\", \"Cgm\", \"DATAGROUP\", \"Customlytics GmbH\", \"Applause\", \"Avaloq\", \"Au\\u00dfendienst Akademie GmbH\", \"Contentful\", \"Deutsche Kreditbank\", \"Construyo\", \"Comtravo\", \"Aroundhome\", \"Aroundtown Consulting GmbH\", \"AutoHero\", \"Cobalt Deutschland GmbH\", \"Atheneum\", \"DATAGROUP Inshore Services GmbH\", \"Amicus Recruitment\", \"Carl\", \"DB Netz AG\", \"Alter Solutions Deutschland GmbH\", \"Amazon EU SARL (Germany Branch)\", \"CASPAR Health\", \"Daimler\", \"DRV Bund\", \"CREALOGIX\", \"Caissa Global Recruitment\", \"DLR\", \"Avrios International AG\", \"Capita Customer Services (Germany) GmbH\", \"Amazon.com\", \"Capita Europe\", \"Careem\", \"DB Zeitarbeit GmbH\", \"DB Services GmbH\", \"Barmenia Versicherungen\", \"xbAV\", \"Foundamental\", \"Taledo\", \"WWF Deutschland\", \"WBS TRAINING AG\", \"WBS Gruppe\", \"Viessmann\", \"VEHICULUM\", \"Truecaller\", \"Triple A Internetshops GmbH\", \"Trifacta\", \"Trendence Institut\", \"The Adecco Group\", \"Thalia B\\u00fccher GmbH\", \"Talentspace\", \"Talentful\", \"TIER Mobility\", \"Rehbach Gruppe Gmbh\", \"Sparkassen-Finanzportal GmbH\", \"Sourceability North America\", \"Sourceability LLC\", \"SnapEngage\", \"Sigmar International\", \"Sicoya GmbH\", \"Schwertfels Consulting GmbH\", \"STAR COOPERATION GmbH\", \"SPIRIT21 MOBILE PRIVATE LIMITED\", \"SPIRIT/21\", \"SOLCOM GmbH\", \"S-Kreditpartner\", \"Rosenmeister Legal Tech GmbH\", \"Webfleet Solutions\", \"Xdi360 Gmbh\", \"ZAGENO Inc.\", \"ZF Car eWallet GmbH\", \"wefox\", \"weeve\", \"wattx\", \"travel audience GmbH - an Amadeus Company\", \"smava GmbH\", \"smava\", \"sennder\", \"msg\", \"mpex GmbH\", \"kreuzwerker\", \"konversionsKRAFT (Web Arts AG)\", \"itk communications\", \"idealo\", \"home24 SE\", \"home of jobs\", \"heycater!\", \"enote GmbH\", \"eXperts consulting center\", \"doctari\", \"colorfy GmbH\", \"byrd\", \"bookingkit\", \"auticon UK\", \"active-consulting Ltd\", \"]init[ AG f\\u00fcr digitale Kommunikation\", \"]init[ AG f\\u00fcr Digitale Kommunikation\", \"Zoetis Inc.\", \"Right Point IT GmbH\", \"Recare Ltd\", \"Fraunhofer Fokus\", \"Home24\", \"LANA\", \"KaufDA\", \"KWS\", \"Jodel\", \"Jobs via eFinancialCareers\", \"Jam City\", \"Ironhack\", \"Ionos\", \"Institut f\\u00fcr angewandte Gesundheitsforschung Berlin\", \"InstaFreight GmbH\", \"IONOS\", \"INFARM\", \"IAV\", \"Home\", \"Ratepay\", \"HeavenHR\", \"Healthmetrix\", \"HR UNIVERSAL\", \"Greifenberg Personalberatung & Recruitment\", \"Governikus KG\", \"Google\", \"Global Nomadic\", \"GlassDollar\", \"GLO Comms\", \"GEMA Germany GmbH\", \"Funke Mediengruppe GmbH & Co. KGaA\", \"Fresenius Medical Care\", \"Fresenius\", \"Lieferando\", \"x-tention Informationstechnologie GmbH GmbH\", \"Liqid\", \"Logikk\", \"Ratbacher GmbH\", \"Raisin\", \"Rainer IT GmbH\", \"REMERGE - App Retargeting\", \"REHSEARCH\", \"QMETHODS - Business & IT Consulting GmbH\", \"Prosis Srl\", \"Pitch\", \"Phiture - Mobile Growth Consultancy\", \"Perso Plankontor GmbH\", \"Passion for People GmbH\", \"Parallel\", \"PERSO PLANKONTOR Nord GmbH\", \"On\", \"Oetker Digital\", \"OSB AG Ingenieur- und IT-Dienstleistungen\", \"Newtec\", \"New Yorker\", \"Neugelb Studios GmbH\", \"M\\u00fcller Und Partner Unternehmensberater\", \"Momox GmbH\", \"Mobimeo\", \"Michael Page\", \"Meritocracy.is\", \"Medicover Deutschland\", \"MedEngine\", \"Manpower GmbH & Co. KG\", \".companion Strategieberatung GmbH\"], \"xaxis\": \"x\", \"y\": [31, 27, 19, 19, 18, 18, 14, 14, 13, 11, 11, 10, 9, 9, 8, 8, 7, 7, 7, 7, 7, 7, 7, 7, 7, 7, 6, 6, 6, 6, 6, 5, 5, 5, 5, 5, 5, 5, 5, 5, 5, 5, 5, 5, 5, 5, 5, 5, 5, 4, 4, 4, 4, 4, 4, 4, 4, 4, 4, 4, 4, 4, 4, 4, 4, 4, 4, 4, 4, 3, 3, 3, 3, 3, 3, 3, 3, 3, 3, 3, 3, 3, 3, 3, 3, 3, 3, 3, 3, 3, 3, 3, 3, 3, 3, 3, 3, 3, 3, 3, 3, 3, 3, 3, 2, 2, 2, 2, 2, 2, 2, 2, 2, 2, 2, 2, 2, 2, 2, 2, 2, 2, 2, 2, 2, 2, 2, 2, 2, 2, 2, 2, 2, 2, 2, 2, 2, 2, 2, 2, 2, 2, 2, 2, 2, 2, 2, 2, 2, 2, 2, 2, 2, 2, 2, 2, 2, 2, 2, 2, 2, 2, 2, 2, 2, 2, 2, 2, 2, 2, 2, 2, 2, 2, 2, 2, 2, 2, 2, 2, 2, 2, 2, 2, 2, 2, 2, 2, 1, 1, 1, 1, 1, 1, 1, 1, 1, 1, 1, 1, 1, 1, 1, 1, 1, 1, 1, 1, 1, 1, 1, 1, 1, 1, 1, 1, 1, 1, 1, 1, 1, 1, 1, 1, 1, 1, 1, 1, 1, 1, 1, 1, 1, 1, 1, 1, 1, 1, 1, 1, 1, 1, 1, 1, 1, 1, 1, 1, 1, 1, 1, 1, 1, 1, 1, 1, 1, 1, 1, 1, 1, 1, 1, 1, 1, 1, 1, 1, 1, 1, 1, 1, 1, 1, 1, 1, 1, 1, 1, 1, 1, 1, 1, 1, 1, 1, 1, 1, 1, 1, 1, 1, 1, 1, 1, 1, 1, 1, 1, 1, 1, 1, 1, 1, 1, 1, 1, 1, 1, 1, 1, 1, 1, 1, 1, 1, 1, 1, 1, 1, 1, 1, 1, 1, 1, 1, 1, 1, 1, 1, 1, 1, 1, 1, 1, 1, 1, 1, 1, 1, 1, 1, 1, 1, 1, 1, 1, 1, 1, 1, 1, 1, 1, 1, 1, 1, 1, 1, 1, 1, 1, 1, 1, 1, 1, 1, 1, 1, 1, 1, 1, 1, 1, 1, 1], \"yaxis\": \"y\"}],\n",
       "                        {\"barmode\": \"relative\", \"legend\": {\"tracegroupgap\": 0}, \"template\": {\"data\": {\"bar\": [{\"error_x\": {\"color\": \"#2a3f5f\"}, \"error_y\": {\"color\": \"#2a3f5f\"}, \"marker\": {\"line\": {\"color\": \"#E5ECF6\", \"width\": 0.5}}, \"type\": \"bar\"}], \"barpolar\": [{\"marker\": {\"line\": {\"color\": \"#E5ECF6\", \"width\": 0.5}}, \"type\": \"barpolar\"}], \"carpet\": [{\"aaxis\": {\"endlinecolor\": \"#2a3f5f\", \"gridcolor\": \"white\", \"linecolor\": \"white\", \"minorgridcolor\": \"white\", \"startlinecolor\": \"#2a3f5f\"}, \"baxis\": {\"endlinecolor\": \"#2a3f5f\", \"gridcolor\": \"white\", \"linecolor\": \"white\", \"minorgridcolor\": \"white\", \"startlinecolor\": \"#2a3f5f\"}, \"type\": \"carpet\"}], \"choropleth\": [{\"colorbar\": {\"outlinewidth\": 0, \"ticks\": \"\"}, \"type\": \"choropleth\"}], \"contour\": [{\"colorbar\": {\"outlinewidth\": 0, \"ticks\": \"\"}, \"colorscale\": [[0.0, \"#0d0887\"], [0.1111111111111111, \"#46039f\"], [0.2222222222222222, \"#7201a8\"], [0.3333333333333333, \"#9c179e\"], [0.4444444444444444, \"#bd3786\"], [0.5555555555555556, \"#d8576b\"], [0.6666666666666666, \"#ed7953\"], [0.7777777777777778, \"#fb9f3a\"], [0.8888888888888888, \"#fdca26\"], [1.0, \"#f0f921\"]], \"type\": \"contour\"}], \"contourcarpet\": [{\"colorbar\": {\"outlinewidth\": 0, \"ticks\": \"\"}, \"type\": \"contourcarpet\"}], \"heatmap\": [{\"colorbar\": {\"outlinewidth\": 0, \"ticks\": \"\"}, \"colorscale\": [[0.0, \"#0d0887\"], [0.1111111111111111, \"#46039f\"], [0.2222222222222222, \"#7201a8\"], [0.3333333333333333, \"#9c179e\"], [0.4444444444444444, \"#bd3786\"], [0.5555555555555556, \"#d8576b\"], [0.6666666666666666, \"#ed7953\"], [0.7777777777777778, \"#fb9f3a\"], [0.8888888888888888, \"#fdca26\"], [1.0, \"#f0f921\"]], \"type\": \"heatmap\"}], \"heatmapgl\": [{\"colorbar\": {\"outlinewidth\": 0, \"ticks\": \"\"}, \"colorscale\": [[0.0, \"#0d0887\"], [0.1111111111111111, \"#46039f\"], [0.2222222222222222, \"#7201a8\"], [0.3333333333333333, \"#9c179e\"], [0.4444444444444444, \"#bd3786\"], [0.5555555555555556, \"#d8576b\"], [0.6666666666666666, \"#ed7953\"], [0.7777777777777778, \"#fb9f3a\"], [0.8888888888888888, \"#fdca26\"], [1.0, \"#f0f921\"]], \"type\": \"heatmapgl\"}], \"histogram\": [{\"marker\": {\"colorbar\": {\"outlinewidth\": 0, \"ticks\": \"\"}}, \"type\": \"histogram\"}], \"histogram2d\": [{\"colorbar\": {\"outlinewidth\": 0, \"ticks\": \"\"}, \"colorscale\": [[0.0, \"#0d0887\"], [0.1111111111111111, \"#46039f\"], [0.2222222222222222, \"#7201a8\"], [0.3333333333333333, \"#9c179e\"], [0.4444444444444444, \"#bd3786\"], [0.5555555555555556, \"#d8576b\"], [0.6666666666666666, \"#ed7953\"], [0.7777777777777778, \"#fb9f3a\"], [0.8888888888888888, \"#fdca26\"], [1.0, \"#f0f921\"]], \"type\": \"histogram2d\"}], \"histogram2dcontour\": [{\"colorbar\": {\"outlinewidth\": 0, \"ticks\": \"\"}, \"colorscale\": [[0.0, \"#0d0887\"], [0.1111111111111111, \"#46039f\"], [0.2222222222222222, \"#7201a8\"], [0.3333333333333333, \"#9c179e\"], [0.4444444444444444, \"#bd3786\"], [0.5555555555555556, \"#d8576b\"], [0.6666666666666666, \"#ed7953\"], [0.7777777777777778, \"#fb9f3a\"], [0.8888888888888888, \"#fdca26\"], [1.0, \"#f0f921\"]], \"type\": \"histogram2dcontour\"}], \"mesh3d\": [{\"colorbar\": {\"outlinewidth\": 0, \"ticks\": \"\"}, \"type\": \"mesh3d\"}], \"parcoords\": [{\"line\": {\"colorbar\": {\"outlinewidth\": 0, \"ticks\": \"\"}}, \"type\": \"parcoords\"}], \"pie\": [{\"automargin\": true, \"type\": \"pie\"}], \"scatter\": [{\"marker\": {\"colorbar\": {\"outlinewidth\": 0, \"ticks\": \"\"}}, \"type\": \"scatter\"}], \"scatter3d\": [{\"line\": {\"colorbar\": {\"outlinewidth\": 0, \"ticks\": \"\"}}, \"marker\": {\"colorbar\": {\"outlinewidth\": 0, \"ticks\": \"\"}}, \"type\": \"scatter3d\"}], \"scattercarpet\": [{\"marker\": {\"colorbar\": {\"outlinewidth\": 0, \"ticks\": \"\"}}, \"type\": \"scattercarpet\"}], \"scattergeo\": [{\"marker\": {\"colorbar\": {\"outlinewidth\": 0, \"ticks\": \"\"}}, \"type\": \"scattergeo\"}], \"scattergl\": [{\"marker\": {\"colorbar\": {\"outlinewidth\": 0, \"ticks\": \"\"}}, \"type\": \"scattergl\"}], \"scattermapbox\": [{\"marker\": {\"colorbar\": {\"outlinewidth\": 0, \"ticks\": \"\"}}, \"type\": \"scattermapbox\"}], \"scatterpolar\": [{\"marker\": {\"colorbar\": {\"outlinewidth\": 0, \"ticks\": \"\"}}, \"type\": \"scatterpolar\"}], \"scatterpolargl\": [{\"marker\": {\"colorbar\": {\"outlinewidth\": 0, \"ticks\": \"\"}}, \"type\": \"scatterpolargl\"}], \"scatterternary\": [{\"marker\": {\"colorbar\": {\"outlinewidth\": 0, \"ticks\": \"\"}}, \"type\": \"scatterternary\"}], \"surface\": [{\"colorbar\": {\"outlinewidth\": 0, \"ticks\": \"\"}, \"colorscale\": [[0.0, \"#0d0887\"], [0.1111111111111111, \"#46039f\"], [0.2222222222222222, \"#7201a8\"], [0.3333333333333333, \"#9c179e\"], [0.4444444444444444, \"#bd3786\"], [0.5555555555555556, \"#d8576b\"], [0.6666666666666666, \"#ed7953\"], [0.7777777777777778, \"#fb9f3a\"], [0.8888888888888888, \"#fdca26\"], [1.0, \"#f0f921\"]], \"type\": \"surface\"}], \"table\": [{\"cells\": {\"fill\": {\"color\": \"#EBF0F8\"}, \"line\": {\"color\": \"white\"}}, \"header\": {\"fill\": {\"color\": \"#C8D4E3\"}, \"line\": {\"color\": \"white\"}}, \"type\": \"table\"}]}, \"layout\": {\"annotationdefaults\": {\"arrowcolor\": \"#2a3f5f\", \"arrowhead\": 0, \"arrowwidth\": 1}, \"coloraxis\": {\"colorbar\": {\"outlinewidth\": 0, \"ticks\": \"\"}}, \"colorscale\": {\"diverging\": [[0, \"#8e0152\"], [0.1, \"#c51b7d\"], [0.2, \"#de77ae\"], [0.3, \"#f1b6da\"], [0.4, \"#fde0ef\"], [0.5, \"#f7f7f7\"], [0.6, \"#e6f5d0\"], [0.7, \"#b8e186\"], [0.8, \"#7fbc41\"], [0.9, \"#4d9221\"], [1, \"#276419\"]], \"sequential\": [[0.0, \"#0d0887\"], [0.1111111111111111, \"#46039f\"], [0.2222222222222222, \"#7201a8\"], [0.3333333333333333, \"#9c179e\"], [0.4444444444444444, \"#bd3786\"], [0.5555555555555556, \"#d8576b\"], [0.6666666666666666, \"#ed7953\"], [0.7777777777777778, \"#fb9f3a\"], [0.8888888888888888, \"#fdca26\"], [1.0, \"#f0f921\"]], \"sequentialminus\": [[0.0, \"#0d0887\"], [0.1111111111111111, \"#46039f\"], [0.2222222222222222, \"#7201a8\"], [0.3333333333333333, \"#9c179e\"], [0.4444444444444444, \"#bd3786\"], [0.5555555555555556, \"#d8576b\"], [0.6666666666666666, \"#ed7953\"], [0.7777777777777778, \"#fb9f3a\"], [0.8888888888888888, \"#fdca26\"], [1.0, \"#f0f921\"]]}, \"colorway\": [\"#636efa\", \"#EF553B\", \"#00cc96\", \"#ab63fa\", \"#FFA15A\", \"#19d3f3\", \"#FF6692\", \"#B6E880\", \"#FF97FF\", \"#FECB52\"], \"font\": {\"color\": \"#2a3f5f\"}, \"geo\": {\"bgcolor\": \"white\", \"lakecolor\": \"white\", \"landcolor\": \"#E5ECF6\", \"showlakes\": true, \"showland\": true, \"subunitcolor\": \"white\"}, \"hoverlabel\": {\"align\": \"left\"}, \"hovermode\": \"closest\", \"mapbox\": {\"style\": \"light\"}, \"paper_bgcolor\": \"white\", \"plot_bgcolor\": \"#E5ECF6\", \"polar\": {\"angularaxis\": {\"gridcolor\": \"white\", \"linecolor\": \"white\", \"ticks\": \"\"}, \"bgcolor\": \"#E5ECF6\", \"radialaxis\": {\"gridcolor\": \"white\", \"linecolor\": \"white\", \"ticks\": \"\"}}, \"scene\": {\"xaxis\": {\"backgroundcolor\": \"#E5ECF6\", \"gridcolor\": \"white\", \"gridwidth\": 2, \"linecolor\": \"white\", \"showbackground\": true, \"ticks\": \"\", \"zerolinecolor\": \"white\"}, \"yaxis\": {\"backgroundcolor\": \"#E5ECF6\", \"gridcolor\": \"white\", \"gridwidth\": 2, \"linecolor\": \"white\", \"showbackground\": true, \"ticks\": \"\", \"zerolinecolor\": \"white\"}, \"zaxis\": {\"backgroundcolor\": \"#E5ECF6\", \"gridcolor\": \"white\", \"gridwidth\": 2, \"linecolor\": \"white\", \"showbackground\": true, \"ticks\": \"\", \"zerolinecolor\": \"white\"}}, \"shapedefaults\": {\"line\": {\"color\": \"#2a3f5f\"}}, \"ternary\": {\"aaxis\": {\"gridcolor\": \"white\", \"linecolor\": \"white\", \"ticks\": \"\"}, \"baxis\": {\"gridcolor\": \"white\", \"linecolor\": \"white\", \"ticks\": \"\"}, \"bgcolor\": \"#E5ECF6\", \"caxis\": {\"gridcolor\": \"white\", \"linecolor\": \"white\", \"ticks\": \"\"}}, \"title\": {\"x\": 0.05}, \"xaxis\": {\"automargin\": true, \"gridcolor\": \"white\", \"linecolor\": \"white\", \"ticks\": \"\", \"title\": {\"standoff\": 15}, \"zerolinecolor\": \"white\", \"zerolinewidth\": 2}, \"yaxis\": {\"automargin\": true, \"gridcolor\": \"white\", \"linecolor\": \"white\", \"ticks\": \"\", \"title\": {\"standoff\": 15}, \"zerolinecolor\": \"white\", \"zerolinewidth\": 2}}}, \"title\": {\"text\": \"count jobs per company\"}, \"xaxis\": {\"anchor\": \"y\", \"domain\": [0.0, 1.0], \"title\": {\"text\": \"company_name\"}}, \"yaxis\": {\"anchor\": \"x\", \"domain\": [0.0, 1.0], \"title\": {\"text\": \"count\"}}},\n",
       "                        {\"responsive\": true}\n",
       "                    ).then(function(){\n",
       "                            \n",
       "var gd = document.getElementById('2ef052e0-706b-4302-a0d7-7f9744fa5712');\n",
       "var x = new MutationObserver(function (mutations, observer) {{\n",
       "        var display = window.getComputedStyle(gd).display;\n",
       "        if (!display || display === 'none') {{\n",
       "            console.log([gd, 'removed!']);\n",
       "            Plotly.purge(gd);\n",
       "            observer.disconnect();\n",
       "        }}\n",
       "}});\n",
       "\n",
       "// Listen for the removal of the full notebook cells\n",
       "var notebookContainer = gd.closest('#notebook-container');\n",
       "if (notebookContainer) {{\n",
       "    x.observe(notebookContainer, {childList: true});\n",
       "}}\n",
       "\n",
       "// Listen for the clearing of the current output cell\n",
       "var outputEl = gd.closest('.output');\n",
       "if (outputEl) {{\n",
       "    x.observe(outputEl, {childList: true});\n",
       "}}\n",
       "\n",
       "                        })\n",
       "                };\n",
       "                });\n",
       "            </script>\n",
       "        </div>"
      ]
     },
     "metadata": {},
     "output_type": "display_data"
    }
   ],
   "source": [
    "company = df.groupby(['company_name'])['ID'].count().sort_values(ascending=False)\n",
    "fig = px.bar(df, x=company.index.values, y=company, \n",
    "             title=\"count jobs per company\",\n",
    "            labels={'x':'company_name','y':'count'})\n",
    "fig.show()"
   ]
  },
  {
   "cell_type": "code",
   "execution_count": 153,
   "metadata": {},
   "outputs": [
    {
     "data": {
      "application/vnd.plotly.v1+json": {
       "config": {
        "plotlyServerURL": "https://plot.ly"
       },
       "data": [
        {
         "alignmentgroup": "True",
         "hovertemplate": "seniority_level=%{x}<br>count=%{y}<extra></extra>",
         "legendgroup": "",
         "marker": {
          "color": "#636efa"
         },
         "name": "",
         "offsetgroup": "",
         "orientation": "v",
         "showlegend": false,
         "textposition": "auto",
         "type": "bar",
         "x": [
          "Berufseinstieg",
          "Berufserfahren",
          "Management (mit/ohne Personalverantwortung)",
          "Studium/Ausbildung/Praktikum",
          "Direktor/in (Abteilungsleitung, VP etc.)",
          "Geschäftsführung"
         ],
         "xaxis": "x",
         "y": [
          387,
          320,
          190,
          19,
          7,
          3
         ],
         "yaxis": "y"
        }
       ],
       "layout": {
        "barmode": "relative",
        "legend": {
         "tracegroupgap": 0
        },
        "template": {
         "data": {
          "bar": [
           {
            "error_x": {
             "color": "#2a3f5f"
            },
            "error_y": {
             "color": "#2a3f5f"
            },
            "marker": {
             "line": {
              "color": "#E5ECF6",
              "width": 0.5
             }
            },
            "type": "bar"
           }
          ],
          "barpolar": [
           {
            "marker": {
             "line": {
              "color": "#E5ECF6",
              "width": 0.5
             }
            },
            "type": "barpolar"
           }
          ],
          "carpet": [
           {
            "aaxis": {
             "endlinecolor": "#2a3f5f",
             "gridcolor": "white",
             "linecolor": "white",
             "minorgridcolor": "white",
             "startlinecolor": "#2a3f5f"
            },
            "baxis": {
             "endlinecolor": "#2a3f5f",
             "gridcolor": "white",
             "linecolor": "white",
             "minorgridcolor": "white",
             "startlinecolor": "#2a3f5f"
            },
            "type": "carpet"
           }
          ],
          "choropleth": [
           {
            "colorbar": {
             "outlinewidth": 0,
             "ticks": ""
            },
            "type": "choropleth"
           }
          ],
          "contour": [
           {
            "colorbar": {
             "outlinewidth": 0,
             "ticks": ""
            },
            "colorscale": [
             [
              0,
              "#0d0887"
             ],
             [
              0.1111111111111111,
              "#46039f"
             ],
             [
              0.2222222222222222,
              "#7201a8"
             ],
             [
              0.3333333333333333,
              "#9c179e"
             ],
             [
              0.4444444444444444,
              "#bd3786"
             ],
             [
              0.5555555555555556,
              "#d8576b"
             ],
             [
              0.6666666666666666,
              "#ed7953"
             ],
             [
              0.7777777777777778,
              "#fb9f3a"
             ],
             [
              0.8888888888888888,
              "#fdca26"
             ],
             [
              1,
              "#f0f921"
             ]
            ],
            "type": "contour"
           }
          ],
          "contourcarpet": [
           {
            "colorbar": {
             "outlinewidth": 0,
             "ticks": ""
            },
            "type": "contourcarpet"
           }
          ],
          "heatmap": [
           {
            "colorbar": {
             "outlinewidth": 0,
             "ticks": ""
            },
            "colorscale": [
             [
              0,
              "#0d0887"
             ],
             [
              0.1111111111111111,
              "#46039f"
             ],
             [
              0.2222222222222222,
              "#7201a8"
             ],
             [
              0.3333333333333333,
              "#9c179e"
             ],
             [
              0.4444444444444444,
              "#bd3786"
             ],
             [
              0.5555555555555556,
              "#d8576b"
             ],
             [
              0.6666666666666666,
              "#ed7953"
             ],
             [
              0.7777777777777778,
              "#fb9f3a"
             ],
             [
              0.8888888888888888,
              "#fdca26"
             ],
             [
              1,
              "#f0f921"
             ]
            ],
            "type": "heatmap"
           }
          ],
          "heatmapgl": [
           {
            "colorbar": {
             "outlinewidth": 0,
             "ticks": ""
            },
            "colorscale": [
             [
              0,
              "#0d0887"
             ],
             [
              0.1111111111111111,
              "#46039f"
             ],
             [
              0.2222222222222222,
              "#7201a8"
             ],
             [
              0.3333333333333333,
              "#9c179e"
             ],
             [
              0.4444444444444444,
              "#bd3786"
             ],
             [
              0.5555555555555556,
              "#d8576b"
             ],
             [
              0.6666666666666666,
              "#ed7953"
             ],
             [
              0.7777777777777778,
              "#fb9f3a"
             ],
             [
              0.8888888888888888,
              "#fdca26"
             ],
             [
              1,
              "#f0f921"
             ]
            ],
            "type": "heatmapgl"
           }
          ],
          "histogram": [
           {
            "marker": {
             "colorbar": {
              "outlinewidth": 0,
              "ticks": ""
             }
            },
            "type": "histogram"
           }
          ],
          "histogram2d": [
           {
            "colorbar": {
             "outlinewidth": 0,
             "ticks": ""
            },
            "colorscale": [
             [
              0,
              "#0d0887"
             ],
             [
              0.1111111111111111,
              "#46039f"
             ],
             [
              0.2222222222222222,
              "#7201a8"
             ],
             [
              0.3333333333333333,
              "#9c179e"
             ],
             [
              0.4444444444444444,
              "#bd3786"
             ],
             [
              0.5555555555555556,
              "#d8576b"
             ],
             [
              0.6666666666666666,
              "#ed7953"
             ],
             [
              0.7777777777777778,
              "#fb9f3a"
             ],
             [
              0.8888888888888888,
              "#fdca26"
             ],
             [
              1,
              "#f0f921"
             ]
            ],
            "type": "histogram2d"
           }
          ],
          "histogram2dcontour": [
           {
            "colorbar": {
             "outlinewidth": 0,
             "ticks": ""
            },
            "colorscale": [
             [
              0,
              "#0d0887"
             ],
             [
              0.1111111111111111,
              "#46039f"
             ],
             [
              0.2222222222222222,
              "#7201a8"
             ],
             [
              0.3333333333333333,
              "#9c179e"
             ],
             [
              0.4444444444444444,
              "#bd3786"
             ],
             [
              0.5555555555555556,
              "#d8576b"
             ],
             [
              0.6666666666666666,
              "#ed7953"
             ],
             [
              0.7777777777777778,
              "#fb9f3a"
             ],
             [
              0.8888888888888888,
              "#fdca26"
             ],
             [
              1,
              "#f0f921"
             ]
            ],
            "type": "histogram2dcontour"
           }
          ],
          "mesh3d": [
           {
            "colorbar": {
             "outlinewidth": 0,
             "ticks": ""
            },
            "type": "mesh3d"
           }
          ],
          "parcoords": [
           {
            "line": {
             "colorbar": {
              "outlinewidth": 0,
              "ticks": ""
             }
            },
            "type": "parcoords"
           }
          ],
          "pie": [
           {
            "automargin": true,
            "type": "pie"
           }
          ],
          "scatter": [
           {
            "marker": {
             "colorbar": {
              "outlinewidth": 0,
              "ticks": ""
             }
            },
            "type": "scatter"
           }
          ],
          "scatter3d": [
           {
            "line": {
             "colorbar": {
              "outlinewidth": 0,
              "ticks": ""
             }
            },
            "marker": {
             "colorbar": {
              "outlinewidth": 0,
              "ticks": ""
             }
            },
            "type": "scatter3d"
           }
          ],
          "scattercarpet": [
           {
            "marker": {
             "colorbar": {
              "outlinewidth": 0,
              "ticks": ""
             }
            },
            "type": "scattercarpet"
           }
          ],
          "scattergeo": [
           {
            "marker": {
             "colorbar": {
              "outlinewidth": 0,
              "ticks": ""
             }
            },
            "type": "scattergeo"
           }
          ],
          "scattergl": [
           {
            "marker": {
             "colorbar": {
              "outlinewidth": 0,
              "ticks": ""
             }
            },
            "type": "scattergl"
           }
          ],
          "scattermapbox": [
           {
            "marker": {
             "colorbar": {
              "outlinewidth": 0,
              "ticks": ""
             }
            },
            "type": "scattermapbox"
           }
          ],
          "scatterpolar": [
           {
            "marker": {
             "colorbar": {
              "outlinewidth": 0,
              "ticks": ""
             }
            },
            "type": "scatterpolar"
           }
          ],
          "scatterpolargl": [
           {
            "marker": {
             "colorbar": {
              "outlinewidth": 0,
              "ticks": ""
             }
            },
            "type": "scatterpolargl"
           }
          ],
          "scatterternary": [
           {
            "marker": {
             "colorbar": {
              "outlinewidth": 0,
              "ticks": ""
             }
            },
            "type": "scatterternary"
           }
          ],
          "surface": [
           {
            "colorbar": {
             "outlinewidth": 0,
             "ticks": ""
            },
            "colorscale": [
             [
              0,
              "#0d0887"
             ],
             [
              0.1111111111111111,
              "#46039f"
             ],
             [
              0.2222222222222222,
              "#7201a8"
             ],
             [
              0.3333333333333333,
              "#9c179e"
             ],
             [
              0.4444444444444444,
              "#bd3786"
             ],
             [
              0.5555555555555556,
              "#d8576b"
             ],
             [
              0.6666666666666666,
              "#ed7953"
             ],
             [
              0.7777777777777778,
              "#fb9f3a"
             ],
             [
              0.8888888888888888,
              "#fdca26"
             ],
             [
              1,
              "#f0f921"
             ]
            ],
            "type": "surface"
           }
          ],
          "table": [
           {
            "cells": {
             "fill": {
              "color": "#EBF0F8"
             },
             "line": {
              "color": "white"
             }
            },
            "header": {
             "fill": {
              "color": "#C8D4E3"
             },
             "line": {
              "color": "white"
             }
            },
            "type": "table"
           }
          ]
         },
         "layout": {
          "annotationdefaults": {
           "arrowcolor": "#2a3f5f",
           "arrowhead": 0,
           "arrowwidth": 1
          },
          "coloraxis": {
           "colorbar": {
            "outlinewidth": 0,
            "ticks": ""
           }
          },
          "colorscale": {
           "diverging": [
            [
             0,
             "#8e0152"
            ],
            [
             0.1,
             "#c51b7d"
            ],
            [
             0.2,
             "#de77ae"
            ],
            [
             0.3,
             "#f1b6da"
            ],
            [
             0.4,
             "#fde0ef"
            ],
            [
             0.5,
             "#f7f7f7"
            ],
            [
             0.6,
             "#e6f5d0"
            ],
            [
             0.7,
             "#b8e186"
            ],
            [
             0.8,
             "#7fbc41"
            ],
            [
             0.9,
             "#4d9221"
            ],
            [
             1,
             "#276419"
            ]
           ],
           "sequential": [
            [
             0,
             "#0d0887"
            ],
            [
             0.1111111111111111,
             "#46039f"
            ],
            [
             0.2222222222222222,
             "#7201a8"
            ],
            [
             0.3333333333333333,
             "#9c179e"
            ],
            [
             0.4444444444444444,
             "#bd3786"
            ],
            [
             0.5555555555555556,
             "#d8576b"
            ],
            [
             0.6666666666666666,
             "#ed7953"
            ],
            [
             0.7777777777777778,
             "#fb9f3a"
            ],
            [
             0.8888888888888888,
             "#fdca26"
            ],
            [
             1,
             "#f0f921"
            ]
           ],
           "sequentialminus": [
            [
             0,
             "#0d0887"
            ],
            [
             0.1111111111111111,
             "#46039f"
            ],
            [
             0.2222222222222222,
             "#7201a8"
            ],
            [
             0.3333333333333333,
             "#9c179e"
            ],
            [
             0.4444444444444444,
             "#bd3786"
            ],
            [
             0.5555555555555556,
             "#d8576b"
            ],
            [
             0.6666666666666666,
             "#ed7953"
            ],
            [
             0.7777777777777778,
             "#fb9f3a"
            ],
            [
             0.8888888888888888,
             "#fdca26"
            ],
            [
             1,
             "#f0f921"
            ]
           ]
          },
          "colorway": [
           "#636efa",
           "#EF553B",
           "#00cc96",
           "#ab63fa",
           "#FFA15A",
           "#19d3f3",
           "#FF6692",
           "#B6E880",
           "#FF97FF",
           "#FECB52"
          ],
          "font": {
           "color": "#2a3f5f"
          },
          "geo": {
           "bgcolor": "white",
           "lakecolor": "white",
           "landcolor": "#E5ECF6",
           "showlakes": true,
           "showland": true,
           "subunitcolor": "white"
          },
          "hoverlabel": {
           "align": "left"
          },
          "hovermode": "closest",
          "mapbox": {
           "style": "light"
          },
          "paper_bgcolor": "white",
          "plot_bgcolor": "#E5ECF6",
          "polar": {
           "angularaxis": {
            "gridcolor": "white",
            "linecolor": "white",
            "ticks": ""
           },
           "bgcolor": "#E5ECF6",
           "radialaxis": {
            "gridcolor": "white",
            "linecolor": "white",
            "ticks": ""
           }
          },
          "scene": {
           "xaxis": {
            "backgroundcolor": "#E5ECF6",
            "gridcolor": "white",
            "gridwidth": 2,
            "linecolor": "white",
            "showbackground": true,
            "ticks": "",
            "zerolinecolor": "white"
           },
           "yaxis": {
            "backgroundcolor": "#E5ECF6",
            "gridcolor": "white",
            "gridwidth": 2,
            "linecolor": "white",
            "showbackground": true,
            "ticks": "",
            "zerolinecolor": "white"
           },
           "zaxis": {
            "backgroundcolor": "#E5ECF6",
            "gridcolor": "white",
            "gridwidth": 2,
            "linecolor": "white",
            "showbackground": true,
            "ticks": "",
            "zerolinecolor": "white"
           }
          },
          "shapedefaults": {
           "line": {
            "color": "#2a3f5f"
           }
          },
          "ternary": {
           "aaxis": {
            "gridcolor": "white",
            "linecolor": "white",
            "ticks": ""
           },
           "baxis": {
            "gridcolor": "white",
            "linecolor": "white",
            "ticks": ""
           },
           "bgcolor": "#E5ECF6",
           "caxis": {
            "gridcolor": "white",
            "linecolor": "white",
            "ticks": ""
           }
          },
          "title": {
           "x": 0.05
          },
          "xaxis": {
           "automargin": true,
           "gridcolor": "white",
           "linecolor": "white",
           "ticks": "",
           "title": {
            "standoff": 15
           },
           "zerolinecolor": "white",
           "zerolinewidth": 2
          },
          "yaxis": {
           "automargin": true,
           "gridcolor": "white",
           "linecolor": "white",
           "ticks": "",
           "title": {
            "standoff": 15
           },
           "zerolinecolor": "white",
           "zerolinewidth": 2
          }
         }
        },
        "title": {
         "text": "count jobs per seniority_level"
        },
        "xaxis": {
         "anchor": "y",
         "domain": [
          0,
          1
         ],
         "title": {
          "text": "seniority_level"
         }
        },
        "yaxis": {
         "anchor": "x",
         "domain": [
          0,
          1
         ],
         "title": {
          "text": "count"
         }
        }
       }
      },
      "text/html": [
       "<div>\n",
       "        \n",
       "        \n",
       "            <div id=\"bd5d812a-4c69-4aae-a7b2-63d18c972aff\" class=\"plotly-graph-div\" style=\"height:525px; width:100%;\"></div>\n",
       "            <script type=\"text/javascript\">\n",
       "                require([\"plotly\"], function(Plotly) {\n",
       "                    window.PLOTLYENV=window.PLOTLYENV || {};\n",
       "                    \n",
       "                if (document.getElementById(\"bd5d812a-4c69-4aae-a7b2-63d18c972aff\")) {\n",
       "                    Plotly.newPlot(\n",
       "                        'bd5d812a-4c69-4aae-a7b2-63d18c972aff',\n",
       "                        [{\"alignmentgroup\": \"True\", \"hovertemplate\": \"seniority_level=%{x}<br>count=%{y}<extra></extra>\", \"legendgroup\": \"\", \"marker\": {\"color\": \"#636efa\"}, \"name\": \"\", \"offsetgroup\": \"\", \"orientation\": \"v\", \"showlegend\": false, \"textposition\": \"auto\", \"type\": \"bar\", \"x\": [\"Berufseinstieg\", \"Berufserfahren\", \"Management (mit/ohne Personalverantwortung)\", \"Studium/Ausbildung/Praktikum\", \"Direktor/in (Abteilungsleitung, VP etc.)\", \"Gesch\\u00e4ftsf\\u00fchrung\"], \"xaxis\": \"x\", \"y\": [387, 320, 190, 19, 7, 3], \"yaxis\": \"y\"}],\n",
       "                        {\"barmode\": \"relative\", \"legend\": {\"tracegroupgap\": 0}, \"template\": {\"data\": {\"bar\": [{\"error_x\": {\"color\": \"#2a3f5f\"}, \"error_y\": {\"color\": \"#2a3f5f\"}, \"marker\": {\"line\": {\"color\": \"#E5ECF6\", \"width\": 0.5}}, \"type\": \"bar\"}], \"barpolar\": [{\"marker\": {\"line\": {\"color\": \"#E5ECF6\", \"width\": 0.5}}, \"type\": \"barpolar\"}], \"carpet\": [{\"aaxis\": {\"endlinecolor\": \"#2a3f5f\", \"gridcolor\": \"white\", \"linecolor\": \"white\", \"minorgridcolor\": \"white\", \"startlinecolor\": \"#2a3f5f\"}, \"baxis\": {\"endlinecolor\": \"#2a3f5f\", \"gridcolor\": \"white\", \"linecolor\": \"white\", \"minorgridcolor\": \"white\", \"startlinecolor\": \"#2a3f5f\"}, \"type\": \"carpet\"}], \"choropleth\": [{\"colorbar\": {\"outlinewidth\": 0, \"ticks\": \"\"}, \"type\": \"choropleth\"}], \"contour\": [{\"colorbar\": {\"outlinewidth\": 0, \"ticks\": \"\"}, \"colorscale\": [[0.0, \"#0d0887\"], [0.1111111111111111, \"#46039f\"], [0.2222222222222222, \"#7201a8\"], [0.3333333333333333, \"#9c179e\"], [0.4444444444444444, \"#bd3786\"], [0.5555555555555556, \"#d8576b\"], [0.6666666666666666, \"#ed7953\"], [0.7777777777777778, \"#fb9f3a\"], [0.8888888888888888, \"#fdca26\"], [1.0, \"#f0f921\"]], \"type\": \"contour\"}], \"contourcarpet\": [{\"colorbar\": {\"outlinewidth\": 0, \"ticks\": \"\"}, \"type\": \"contourcarpet\"}], \"heatmap\": [{\"colorbar\": {\"outlinewidth\": 0, \"ticks\": \"\"}, \"colorscale\": [[0.0, \"#0d0887\"], [0.1111111111111111, \"#46039f\"], [0.2222222222222222, \"#7201a8\"], [0.3333333333333333, \"#9c179e\"], [0.4444444444444444, \"#bd3786\"], [0.5555555555555556, \"#d8576b\"], [0.6666666666666666, \"#ed7953\"], [0.7777777777777778, \"#fb9f3a\"], [0.8888888888888888, \"#fdca26\"], [1.0, \"#f0f921\"]], \"type\": \"heatmap\"}], \"heatmapgl\": [{\"colorbar\": {\"outlinewidth\": 0, \"ticks\": \"\"}, \"colorscale\": [[0.0, \"#0d0887\"], [0.1111111111111111, \"#46039f\"], [0.2222222222222222, \"#7201a8\"], [0.3333333333333333, \"#9c179e\"], [0.4444444444444444, \"#bd3786\"], [0.5555555555555556, \"#d8576b\"], [0.6666666666666666, \"#ed7953\"], [0.7777777777777778, \"#fb9f3a\"], [0.8888888888888888, \"#fdca26\"], [1.0, \"#f0f921\"]], \"type\": \"heatmapgl\"}], \"histogram\": [{\"marker\": {\"colorbar\": {\"outlinewidth\": 0, \"ticks\": \"\"}}, \"type\": \"histogram\"}], \"histogram2d\": [{\"colorbar\": {\"outlinewidth\": 0, \"ticks\": \"\"}, \"colorscale\": [[0.0, \"#0d0887\"], [0.1111111111111111, \"#46039f\"], [0.2222222222222222, \"#7201a8\"], [0.3333333333333333, \"#9c179e\"], [0.4444444444444444, \"#bd3786\"], [0.5555555555555556, \"#d8576b\"], [0.6666666666666666, \"#ed7953\"], [0.7777777777777778, \"#fb9f3a\"], [0.8888888888888888, \"#fdca26\"], [1.0, \"#f0f921\"]], \"type\": \"histogram2d\"}], \"histogram2dcontour\": [{\"colorbar\": {\"outlinewidth\": 0, \"ticks\": \"\"}, \"colorscale\": [[0.0, \"#0d0887\"], [0.1111111111111111, \"#46039f\"], [0.2222222222222222, \"#7201a8\"], [0.3333333333333333, \"#9c179e\"], [0.4444444444444444, \"#bd3786\"], [0.5555555555555556, \"#d8576b\"], [0.6666666666666666, \"#ed7953\"], [0.7777777777777778, \"#fb9f3a\"], [0.8888888888888888, \"#fdca26\"], [1.0, \"#f0f921\"]], \"type\": \"histogram2dcontour\"}], \"mesh3d\": [{\"colorbar\": {\"outlinewidth\": 0, \"ticks\": \"\"}, \"type\": \"mesh3d\"}], \"parcoords\": [{\"line\": {\"colorbar\": {\"outlinewidth\": 0, \"ticks\": \"\"}}, \"type\": \"parcoords\"}], \"pie\": [{\"automargin\": true, \"type\": \"pie\"}], \"scatter\": [{\"marker\": {\"colorbar\": {\"outlinewidth\": 0, \"ticks\": \"\"}}, \"type\": \"scatter\"}], \"scatter3d\": [{\"line\": {\"colorbar\": {\"outlinewidth\": 0, \"ticks\": \"\"}}, \"marker\": {\"colorbar\": {\"outlinewidth\": 0, \"ticks\": \"\"}}, \"type\": \"scatter3d\"}], \"scattercarpet\": [{\"marker\": {\"colorbar\": {\"outlinewidth\": 0, \"ticks\": \"\"}}, \"type\": \"scattercarpet\"}], \"scattergeo\": [{\"marker\": {\"colorbar\": {\"outlinewidth\": 0, \"ticks\": \"\"}}, \"type\": \"scattergeo\"}], \"scattergl\": [{\"marker\": {\"colorbar\": {\"outlinewidth\": 0, \"ticks\": \"\"}}, \"type\": \"scattergl\"}], \"scattermapbox\": [{\"marker\": {\"colorbar\": {\"outlinewidth\": 0, \"ticks\": \"\"}}, \"type\": \"scattermapbox\"}], \"scatterpolar\": [{\"marker\": {\"colorbar\": {\"outlinewidth\": 0, \"ticks\": \"\"}}, \"type\": \"scatterpolar\"}], \"scatterpolargl\": [{\"marker\": {\"colorbar\": {\"outlinewidth\": 0, \"ticks\": \"\"}}, \"type\": \"scatterpolargl\"}], \"scatterternary\": [{\"marker\": {\"colorbar\": {\"outlinewidth\": 0, \"ticks\": \"\"}}, \"type\": \"scatterternary\"}], \"surface\": [{\"colorbar\": {\"outlinewidth\": 0, \"ticks\": \"\"}, \"colorscale\": [[0.0, \"#0d0887\"], [0.1111111111111111, \"#46039f\"], [0.2222222222222222, \"#7201a8\"], [0.3333333333333333, \"#9c179e\"], [0.4444444444444444, \"#bd3786\"], [0.5555555555555556, \"#d8576b\"], [0.6666666666666666, \"#ed7953\"], [0.7777777777777778, \"#fb9f3a\"], [0.8888888888888888, \"#fdca26\"], [1.0, \"#f0f921\"]], \"type\": \"surface\"}], \"table\": [{\"cells\": {\"fill\": {\"color\": \"#EBF0F8\"}, \"line\": {\"color\": \"white\"}}, \"header\": {\"fill\": {\"color\": \"#C8D4E3\"}, \"line\": {\"color\": \"white\"}}, \"type\": \"table\"}]}, \"layout\": {\"annotationdefaults\": {\"arrowcolor\": \"#2a3f5f\", \"arrowhead\": 0, \"arrowwidth\": 1}, \"coloraxis\": {\"colorbar\": {\"outlinewidth\": 0, \"ticks\": \"\"}}, \"colorscale\": {\"diverging\": [[0, \"#8e0152\"], [0.1, \"#c51b7d\"], [0.2, \"#de77ae\"], [0.3, \"#f1b6da\"], [0.4, \"#fde0ef\"], [0.5, \"#f7f7f7\"], [0.6, \"#e6f5d0\"], [0.7, \"#b8e186\"], [0.8, \"#7fbc41\"], [0.9, \"#4d9221\"], [1, \"#276419\"]], \"sequential\": [[0.0, \"#0d0887\"], [0.1111111111111111, \"#46039f\"], [0.2222222222222222, \"#7201a8\"], [0.3333333333333333, \"#9c179e\"], [0.4444444444444444, \"#bd3786\"], [0.5555555555555556, \"#d8576b\"], [0.6666666666666666, \"#ed7953\"], [0.7777777777777778, \"#fb9f3a\"], [0.8888888888888888, \"#fdca26\"], [1.0, \"#f0f921\"]], \"sequentialminus\": [[0.0, \"#0d0887\"], [0.1111111111111111, \"#46039f\"], [0.2222222222222222, \"#7201a8\"], [0.3333333333333333, \"#9c179e\"], [0.4444444444444444, \"#bd3786\"], [0.5555555555555556, \"#d8576b\"], [0.6666666666666666, \"#ed7953\"], [0.7777777777777778, \"#fb9f3a\"], [0.8888888888888888, \"#fdca26\"], [1.0, \"#f0f921\"]]}, \"colorway\": [\"#636efa\", \"#EF553B\", \"#00cc96\", \"#ab63fa\", \"#FFA15A\", \"#19d3f3\", \"#FF6692\", \"#B6E880\", \"#FF97FF\", \"#FECB52\"], \"font\": {\"color\": \"#2a3f5f\"}, \"geo\": {\"bgcolor\": \"white\", \"lakecolor\": \"white\", \"landcolor\": \"#E5ECF6\", \"showlakes\": true, \"showland\": true, \"subunitcolor\": \"white\"}, \"hoverlabel\": {\"align\": \"left\"}, \"hovermode\": \"closest\", \"mapbox\": {\"style\": \"light\"}, \"paper_bgcolor\": \"white\", \"plot_bgcolor\": \"#E5ECF6\", \"polar\": {\"angularaxis\": {\"gridcolor\": \"white\", \"linecolor\": \"white\", \"ticks\": \"\"}, \"bgcolor\": \"#E5ECF6\", \"radialaxis\": {\"gridcolor\": \"white\", \"linecolor\": \"white\", \"ticks\": \"\"}}, \"scene\": {\"xaxis\": {\"backgroundcolor\": \"#E5ECF6\", \"gridcolor\": \"white\", \"gridwidth\": 2, \"linecolor\": \"white\", \"showbackground\": true, \"ticks\": \"\", \"zerolinecolor\": \"white\"}, \"yaxis\": {\"backgroundcolor\": \"#E5ECF6\", \"gridcolor\": \"white\", \"gridwidth\": 2, \"linecolor\": \"white\", \"showbackground\": true, \"ticks\": \"\", \"zerolinecolor\": \"white\"}, \"zaxis\": {\"backgroundcolor\": \"#E5ECF6\", \"gridcolor\": \"white\", \"gridwidth\": 2, \"linecolor\": \"white\", \"showbackground\": true, \"ticks\": \"\", \"zerolinecolor\": \"white\"}}, \"shapedefaults\": {\"line\": {\"color\": \"#2a3f5f\"}}, \"ternary\": {\"aaxis\": {\"gridcolor\": \"white\", \"linecolor\": \"white\", \"ticks\": \"\"}, \"baxis\": {\"gridcolor\": \"white\", \"linecolor\": \"white\", \"ticks\": \"\"}, \"bgcolor\": \"#E5ECF6\", \"caxis\": {\"gridcolor\": \"white\", \"linecolor\": \"white\", \"ticks\": \"\"}}, \"title\": {\"x\": 0.05}, \"xaxis\": {\"automargin\": true, \"gridcolor\": \"white\", \"linecolor\": \"white\", \"ticks\": \"\", \"title\": {\"standoff\": 15}, \"zerolinecolor\": \"white\", \"zerolinewidth\": 2}, \"yaxis\": {\"automargin\": true, \"gridcolor\": \"white\", \"linecolor\": \"white\", \"ticks\": \"\", \"title\": {\"standoff\": 15}, \"zerolinecolor\": \"white\", \"zerolinewidth\": 2}}}, \"title\": {\"text\": \"count jobs per seniority_level\"}, \"xaxis\": {\"anchor\": \"y\", \"domain\": [0.0, 1.0], \"title\": {\"text\": \"seniority_level\"}}, \"yaxis\": {\"anchor\": \"x\", \"domain\": [0.0, 1.0], \"title\": {\"text\": \"count\"}}},\n",
       "                        {\"responsive\": true}\n",
       "                    ).then(function(){\n",
       "                            \n",
       "var gd = document.getElementById('bd5d812a-4c69-4aae-a7b2-63d18c972aff');\n",
       "var x = new MutationObserver(function (mutations, observer) {{\n",
       "        var display = window.getComputedStyle(gd).display;\n",
       "        if (!display || display === 'none') {{\n",
       "            console.log([gd, 'removed!']);\n",
       "            Plotly.purge(gd);\n",
       "            observer.disconnect();\n",
       "        }}\n",
       "}});\n",
       "\n",
       "// Listen for the removal of the full notebook cells\n",
       "var notebookContainer = gd.closest('#notebook-container');\n",
       "if (notebookContainer) {{\n",
       "    x.observe(notebookContainer, {childList: true});\n",
       "}}\n",
       "\n",
       "// Listen for the clearing of the current output cell\n",
       "var outputEl = gd.closest('.output');\n",
       "if (outputEl) {{\n",
       "    x.observe(outputEl, {childList: true});\n",
       "}}\n",
       "\n",
       "                        })\n",
       "                };\n",
       "                });\n",
       "            </script>\n",
       "        </div>"
      ]
     },
     "metadata": {},
     "output_type": "display_data"
    }
   ],
   "source": [
    "seniority = df.groupby(['seniority_level'])['ID'].count().sort_values(ascending=False)\n",
    "seniority = seniority.drop(index='Keine Angabe')\n",
    "fig = px.bar(df, x=seniority.index.values, y=seniority, \n",
    "             title=\"count jobs per seniority_level\",\n",
    "            labels={'x':'seniority_level','y':'count'})\n",
    "fig.show()"
   ]
  },
  {
   "cell_type": "markdown",
   "metadata": {},
   "source": [
    "### Train-test split the data set"
   ]
  },
  {
   "cell_type": "code",
   "execution_count": 154,
   "metadata": {},
   "outputs": [],
   "source": [
    "# Generating Labels (Y)\n",
    "# 0= Data Analyst, 1= Data Engineer, 2= Data Scientist\n",
    "encoder = LabelEncoder()\n",
    "y = encoder.fit_transform(df.job_class)\n",
    "y_labels= pd.DataFrame(y)\n",
    "df = pd.concat([df, y_labels], axis=1, sort=False)\n",
    "df.rename(columns={0:'y_labels'}, inplace=True)\n"
   ]
  },
  {
   "cell_type": "code",
   "execution_count": 155,
   "metadata": {},
   "outputs": [],
   "source": [
    "# train test split\n",
    "x_train, x_test, y_train, y_test = train_test_split(df.loc[:, df.columns != 'y_labels'], df.y_labels, test_size=0.3, random_state=43)\n"
   ]
  },
  {
   "cell_type": "code",
   "execution_count": 156,
   "metadata": {},
   "outputs": [
    {
     "data": {
      "text/plain": [
       "((678, 29), (291, 29), (678,), (291,))"
      ]
     },
     "execution_count": 156,
     "metadata": {},
     "output_type": "execute_result"
    }
   ],
   "source": [
    "x_train.shape, x_test.shape, y_train.shape, y_test.shape"
   ]
  },
  {
   "cell_type": "markdown",
   "metadata": {},
   "source": [
    "## 1) Analyse word clusters in job title and job text based on distinct job_class"
   ]
  },
  {
   "cell_type": "code",
   "execution_count": 157,
   "metadata": {},
   "outputs": [],
   "source": [
    "# Generating Feature Vectors (X) with tfidf\n",
    "# max features is the number of words from the text field that will be used to tfidf\n",
    "v = TfidfVectorizer(max_features=200)\n",
    "x = df['text_merge']\n",
    "x1 = x_train['text_merge']\n",
    "x2 = x_test['text_merge']\n",
    "v.fit(x)\n",
    "v.fit(x1)\n",
    "v.fit(x2)\n",
    "# this is the tfidf vector for data analysis\n",
    "x_tfidf = v.transform(x)\n",
    "# these are the x data, to use in the machine learning\n",
    "x_train_tfidf = v.transform(x1) \n",
    "x_test_tfidf = v.transform(x2) "
   ]
  },
  {
   "cell_type": "code",
   "execution_count": 158,
   "metadata": {},
   "outputs": [
    {
     "data": {
      "text/plain": [
       "(<969x200 sparse matrix of type '<class 'numpy.float64'>'\n",
       " \twith 60718 stored elements in Compressed Sparse Row format>,\n",
       " <678x200 sparse matrix of type '<class 'numpy.float64'>'\n",
       " \twith 42688 stored elements in Compressed Sparse Row format>,\n",
       " <291x200 sparse matrix of type '<class 'numpy.float64'>'\n",
       " \twith 18030 stored elements in Compressed Sparse Row format>)"
      ]
     },
     "execution_count": 158,
     "metadata": {},
     "output_type": "execute_result"
    }
   ],
   "source": [
    "x_tfidf, x_train_tfidf, x_test_tfidf\n"
   ]
  },
  {
   "cell_type": "code",
   "execution_count": 159,
   "metadata": {},
   "outputs": [
    {
     "data": {
      "text/html": [
       "<div>\n",
       "<style scoped>\n",
       "    .dataframe tbody tr th:only-of-type {\n",
       "        vertical-align: middle;\n",
       "    }\n",
       "\n",
       "    .dataframe tbody tr th {\n",
       "        vertical-align: top;\n",
       "    }\n",
       "\n",
       "    .dataframe thead th {\n",
       "        text-align: right;\n",
       "    }\n",
       "</style>\n",
       "<table border=\"1\" class=\"dataframe\">\n",
       "  <thead>\n",
       "    <tr style=\"text-align: right;\">\n",
       "      <th></th>\n",
       "      <th>Data Analyst</th>\n",
       "      <th>Data Scientist</th>\n",
       "      <th>Data Engineer</th>\n",
       "    </tr>\n",
       "  </thead>\n",
       "  <tbody>\n",
       "    <tr>\n",
       "      <th>way</th>\n",
       "      <td>0.931485</td>\n",
       "      <td>0.358719</td>\n",
       "      <td>0.493379</td>\n",
       "    </tr>\n",
       "    <tr>\n",
       "      <th>research</th>\n",
       "      <td>0.908782</td>\n",
       "      <td>0.855875</td>\n",
       "      <td>0.935725</td>\n",
       "    </tr>\n",
       "    <tr>\n",
       "      <th>environment</th>\n",
       "      <td>0.854450</td>\n",
       "      <td>0.589220</td>\n",
       "      <td>0.591956</td>\n",
       "    </tr>\n",
       "    <tr>\n",
       "      <th>group</th>\n",
       "      <td>0.758280</td>\n",
       "      <td>0.438935</td>\n",
       "      <td>0.514594</td>\n",
       "    </tr>\n",
       "    <tr>\n",
       "      <th>hours</th>\n",
       "      <td>0.738461</td>\n",
       "      <td>0.713296</td>\n",
       "      <td>0.767743</td>\n",
       "    </tr>\n",
       "    <tr>\n",
       "      <th>germany</th>\n",
       "      <td>0.719507</td>\n",
       "      <td>0.647022</td>\n",
       "      <td>0.698158</td>\n",
       "    </tr>\n",
       "    <tr>\n",
       "      <th>programming</th>\n",
       "      <td>0.716849</td>\n",
       "      <td>0.675096</td>\n",
       "      <td>0.484595</td>\n",
       "    </tr>\n",
       "    <tr>\n",
       "      <th>und</th>\n",
       "      <td>0.691034</td>\n",
       "      <td>0.256071</td>\n",
       "      <td>0.393112</td>\n",
       "    </tr>\n",
       "    <tr>\n",
       "      <th>training</th>\n",
       "      <td>0.676827</td>\n",
       "      <td>0.481941</td>\n",
       "      <td>0.564165</td>\n",
       "    </tr>\n",
       "    <tr>\n",
       "      <th>exciting</th>\n",
       "      <td>0.664455</td>\n",
       "      <td>0.093370</td>\n",
       "      <td>0.144944</td>\n",
       "    </tr>\n",
       "    <tr>\n",
       "      <th>technical</th>\n",
       "      <td>0.634285</td>\n",
       "      <td>0.454086</td>\n",
       "      <td>0.541225</td>\n",
       "    </tr>\n",
       "    <tr>\n",
       "      <th>well</th>\n",
       "      <td>0.612083</td>\n",
       "      <td>0.303944</td>\n",
       "      <td>0.611992</td>\n",
       "    </tr>\n",
       "    <tr>\n",
       "      <th>technologies</th>\n",
       "      <td>0.585152</td>\n",
       "      <td>0.426663</td>\n",
       "      <td>0.498611</td>\n",
       "    </tr>\n",
       "    <tr>\n",
       "      <th>infrastructure</th>\n",
       "      <td>0.576544</td>\n",
       "      <td>0.149876</td>\n",
       "      <td>0.735323</td>\n",
       "    </tr>\n",
       "    <tr>\n",
       "      <th>great</th>\n",
       "      <td>0.567554</td>\n",
       "      <td>0.400098</td>\n",
       "      <td>0.391071</td>\n",
       "    </tr>\n",
       "    <tr>\n",
       "      <th>world</th>\n",
       "      <td>0.540892</td>\n",
       "      <td>0.306351</td>\n",
       "      <td>0.337814</td>\n",
       "    </tr>\n",
       "    <tr>\n",
       "      <th>implementation</th>\n",
       "      <td>0.530075</td>\n",
       "      <td>0.377845</td>\n",
       "      <td>0.537728</td>\n",
       "    </tr>\n",
       "    <tr>\n",
       "      <th>processing</th>\n",
       "      <td>0.513622</td>\n",
       "      <td>0.175767</td>\n",
       "      <td>0.345984</td>\n",
       "    </tr>\n",
       "    <tr>\n",
       "      <th>years</th>\n",
       "      <td>0.502750</td>\n",
       "      <td>0.140554</td>\n",
       "      <td>0.239854</td>\n",
       "    </tr>\n",
       "    <tr>\n",
       "      <th>part</th>\n",
       "      <td>0.483565</td>\n",
       "      <td>0.291687</td>\n",
       "      <td>0.404731</td>\n",
       "    </tr>\n",
       "    <tr>\n",
       "      <th>knowledge</th>\n",
       "      <td>0.470951</td>\n",
       "      <td>0.423394</td>\n",
       "      <td>0.434658</td>\n",
       "    </tr>\n",
       "    <tr>\n",
       "      <th>area</th>\n",
       "      <td>0.470053</td>\n",
       "      <td>0.137465</td>\n",
       "      <td>0.372101</td>\n",
       "    </tr>\n",
       "    <tr>\n",
       "      <th>develop</th>\n",
       "      <td>0.464286</td>\n",
       "      <td>0.348715</td>\n",
       "      <td>0.449822</td>\n",
       "    </tr>\n",
       "    <tr>\n",
       "      <th>flexible</th>\n",
       "      <td>0.464265</td>\n",
       "      <td>0.538813</td>\n",
       "      <td>0.375788</td>\n",
       "    </tr>\n",
       "    <tr>\n",
       "      <th>digital</th>\n",
       "      <td>0.447507</td>\n",
       "      <td>0.183843</td>\n",
       "      <td>0.307078</td>\n",
       "    </tr>\n",
       "    <tr>\n",
       "      <th>different</th>\n",
       "      <td>0.446143</td>\n",
       "      <td>0.233687</td>\n",
       "      <td>0.426331</td>\n",
       "    </tr>\n",
       "    <tr>\n",
       "      <th>system</th>\n",
       "      <td>0.444938</td>\n",
       "      <td>0.212889</td>\n",
       "      <td>0.212573</td>\n",
       "    </tr>\n",
       "    <tr>\n",
       "      <th>server</th>\n",
       "      <td>0.444500</td>\n",
       "      <td>0.374794</td>\n",
       "      <td>0.246425</td>\n",
       "    </tr>\n",
       "    <tr>\n",
       "      <th>companies</th>\n",
       "      <td>0.444361</td>\n",
       "      <td>0.144992</td>\n",
       "      <td>0.505618</td>\n",
       "    </tr>\n",
       "    <tr>\n",
       "      <th>show</th>\n",
       "      <td>0.438085</td>\n",
       "      <td>0.267140</td>\n",
       "      <td>0.415320</td>\n",
       "    </tr>\n",
       "    <tr>\n",
       "      <th>language</th>\n",
       "      <td>0.432622</td>\n",
       "      <td>0.176592</td>\n",
       "      <td>0.344859</td>\n",
       "    </tr>\n",
       "    <tr>\n",
       "      <th>free</th>\n",
       "      <td>0.423365</td>\n",
       "      <td>0.237973</td>\n",
       "      <td>0.240931</td>\n",
       "    </tr>\n",
       "    <tr>\n",
       "      <th>want</th>\n",
       "      <td>0.423180</td>\n",
       "      <td>0.349973</td>\n",
       "      <td>0.486261</td>\n",
       "    </tr>\n",
       "    <tr>\n",
       "      <th>driven</th>\n",
       "      <td>0.411602</td>\n",
       "      <td>0.234472</td>\n",
       "      <td>0.424919</td>\n",
       "    </tr>\n",
       "    <tr>\n",
       "      <th>engineering</th>\n",
       "      <td>0.405828</td>\n",
       "      <td>0.347508</td>\n",
       "      <td>0.280997</td>\n",
       "    </tr>\n",
       "    <tr>\n",
       "      <th>events</th>\n",
       "      <td>0.402921</td>\n",
       "      <td>0.200852</td>\n",
       "      <td>0.329092</td>\n",
       "    </tr>\n",
       "    <tr>\n",
       "      <th>marketing</th>\n",
       "      <td>0.401527</td>\n",
       "      <td>0.363022</td>\n",
       "      <td>0.601059</td>\n",
       "    </tr>\n",
       "    <tr>\n",
       "      <th>customers</th>\n",
       "      <td>0.400086</td>\n",
       "      <td>0.424130</td>\n",
       "      <td>0.338822</td>\n",
       "    </tr>\n",
       "    <tr>\n",
       "      <th>methods</th>\n",
       "      <td>0.386020</td>\n",
       "      <td>0.250250</td>\n",
       "      <td>0.417984</td>\n",
       "    </tr>\n",
       "    <tr>\n",
       "      <th>oriented</th>\n",
       "      <td>0.385106</td>\n",
       "      <td>0.208454</td>\n",
       "      <td>0.254281</td>\n",
       "    </tr>\n",
       "    <tr>\n",
       "      <th>eg</th>\n",
       "      <td>0.382607</td>\n",
       "      <td>0.524159</td>\n",
       "      <td>0.487060</td>\n",
       "    </tr>\n",
       "    <tr>\n",
       "      <th>ability</th>\n",
       "      <td>0.377727</td>\n",
       "      <td>0.419490</td>\n",
       "      <td>0.376066</td>\n",
       "    </tr>\n",
       "    <tr>\n",
       "      <th>user</th>\n",
       "      <td>0.376582</td>\n",
       "      <td>0.309196</td>\n",
       "      <td>0.236847</td>\n",
       "    </tr>\n",
       "    <tr>\n",
       "      <th>based</th>\n",
       "      <td>0.373811</td>\n",
       "      <td>0.244951</td>\n",
       "      <td>0.398049</td>\n",
       "    </tr>\n",
       "    <tr>\n",
       "      <th>degree</th>\n",
       "      <td>0.364037</td>\n",
       "      <td>0.279988</td>\n",
       "      <td>0.178400</td>\n",
       "    </tr>\n",
       "    <tr>\n",
       "      <th>requirements</th>\n",
       "      <td>0.361670</td>\n",
       "      <td>0.300154</td>\n",
       "      <td>0.278755</td>\n",
       "    </tr>\n",
       "    <tr>\n",
       "      <th>building</th>\n",
       "      <td>0.359860</td>\n",
       "      <td>0.269745</td>\n",
       "      <td>0.345383</td>\n",
       "    </tr>\n",
       "    <tr>\n",
       "      <th>security</th>\n",
       "      <td>0.358476</td>\n",
       "      <td>0.204228</td>\n",
       "      <td>0.248250</td>\n",
       "    </tr>\n",
       "    <tr>\n",
       "      <th>working</th>\n",
       "      <td>0.356254</td>\n",
       "      <td>0.316399</td>\n",
       "      <td>0.384437</td>\n",
       "    </tr>\n",
       "    <tr>\n",
       "      <th>employees</th>\n",
       "      <td>0.351507</td>\n",
       "      <td>0.180985</td>\n",
       "      <td>0.336188</td>\n",
       "    </tr>\n",
       "  </tbody>\n",
       "</table>\n",
       "</div>"
      ],
      "text/plain": [
       "                Data Analyst  Data Scientist  Data Engineer\n",
       "way                 0.931485        0.358719       0.493379\n",
       "research            0.908782        0.855875       0.935725\n",
       "environment         0.854450        0.589220       0.591956\n",
       "group               0.758280        0.438935       0.514594\n",
       "hours               0.738461        0.713296       0.767743\n",
       "germany             0.719507        0.647022       0.698158\n",
       "programming         0.716849        0.675096       0.484595\n",
       "und                 0.691034        0.256071       0.393112\n",
       "training            0.676827        0.481941       0.564165\n",
       "exciting            0.664455        0.093370       0.144944\n",
       "technical           0.634285        0.454086       0.541225\n",
       "well                0.612083        0.303944       0.611992\n",
       "technologies        0.585152        0.426663       0.498611\n",
       "infrastructure      0.576544        0.149876       0.735323\n",
       "great               0.567554        0.400098       0.391071\n",
       "world               0.540892        0.306351       0.337814\n",
       "implementation      0.530075        0.377845       0.537728\n",
       "processing          0.513622        0.175767       0.345984\n",
       "years               0.502750        0.140554       0.239854\n",
       "part                0.483565        0.291687       0.404731\n",
       "knowledge           0.470951        0.423394       0.434658\n",
       "area                0.470053        0.137465       0.372101\n",
       "develop             0.464286        0.348715       0.449822\n",
       "flexible            0.464265        0.538813       0.375788\n",
       "digital             0.447507        0.183843       0.307078\n",
       "different           0.446143        0.233687       0.426331\n",
       "system              0.444938        0.212889       0.212573\n",
       "server              0.444500        0.374794       0.246425\n",
       "companies           0.444361        0.144992       0.505618\n",
       "show                0.438085        0.267140       0.415320\n",
       "language            0.432622        0.176592       0.344859\n",
       "free                0.423365        0.237973       0.240931\n",
       "want                0.423180        0.349973       0.486261\n",
       "driven              0.411602        0.234472       0.424919\n",
       "engineering         0.405828        0.347508       0.280997\n",
       "events              0.402921        0.200852       0.329092\n",
       "marketing           0.401527        0.363022       0.601059\n",
       "customers           0.400086        0.424130       0.338822\n",
       "methods             0.386020        0.250250       0.417984\n",
       "oriented            0.385106        0.208454       0.254281\n",
       "eg                  0.382607        0.524159       0.487060\n",
       "ability             0.377727        0.419490       0.376066\n",
       "user                0.376582        0.309196       0.236847\n",
       "based               0.373811        0.244951       0.398049\n",
       "degree              0.364037        0.279988       0.178400\n",
       "requirements        0.361670        0.300154       0.278755\n",
       "building            0.359860        0.269745       0.345383\n",
       "security            0.358476        0.204228       0.248250\n",
       "working             0.356254        0.316399       0.384437\n",
       "employees           0.351507        0.180985       0.336188"
      ]
     },
     "execution_count": 159,
     "metadata": {},
     "output_type": "execute_result"
    }
   ],
   "source": [
    "# create tfidf dataframe for all job_classes\n",
    "tfidf_analysis_job_class = pd.DataFrame(x_tfidf.todense(), columns=v.vocabulary_, index=df.job_class).groupby('job_class').max()\n",
    "tfidf_analysis_job_class\n",
    "# most important words for Data Analyst\n",
    "tfidf_analyst=tfidf_analysis_job_class.loc['Data Analyst'].sort_values(ascending=False)\n",
    "# most important words for Data Scientist\n",
    "tfidf_scientist=tfidf_analysis_job_class.loc['Data Scientist'].sort_values(ascending=False)\n",
    "# most important words for Data Engineer\n",
    "tfidf_engineer=tfidf_analysis_job_class.loc['Data Engineer'].sort_values(ascending=False)\n",
    "# concat all 3 data frames\n",
    "tfidf_analysis = pd.concat([tfidf_analyst, tfidf_scientist,tfidf_engineer], axis=1, sort=False)\n",
    "tfidf_analysis.head(50)"
   ]
  },
  {
   "cell_type": "code",
   "execution_count": 179,
   "metadata": {},
   "outputs": [
    {
     "data": {
      "application/vnd.plotly.v1+json": {
       "config": {
        "plotlyServerURL": "https://plot.ly"
       },
       "data": [
        {
         "name": "Data Analyst",
         "type": "bar",
         "x": [
          "way",
          "research",
          "environment",
          "group",
          "hours",
          "germany",
          "programming",
          "und",
          "training",
          "exciting",
          "technical",
          "well",
          "technologies",
          "infrastructure",
          "great",
          "world",
          "implementation",
          "processing",
          "years",
          "part"
         ],
         "y": [
          0.9314854310162306,
          0.9087824050958643,
          0.8544500434206305,
          0.7582804093328256,
          0.7384607014518044,
          0.7195074070407328,
          0.7168487451067078,
          0.6910342589422962,
          0.6768270917588244,
          0.6644552973216671,
          0.6342850238255523,
          0.6120833670584436,
          0.585152059964329,
          0.5765444085116677,
          0.5675537864717565,
          0.5408921392083439,
          0.5300749790495302,
          0.5136216545341222,
          0.5027499363304564,
          0.4835649331754275,
          0.4709509820512995,
          0.47005341687673036,
          0.4642857908224003,
          0.46426501643795537,
          0.4475065332190635,
          0.44614251772832747,
          0.444937668397278,
          0.4445002574460916,
          0.44436078277601926,
          0.4380848147578732,
          0.43262222577225695,
          0.42336521889928574,
          0.42318019117743405,
          0.41160222911070077,
          0.4058283652313939,
          0.4029214664739495,
          0.40152665981106367,
          0.4000858967305722,
          0.3860199418870789,
          0.38510570984872855,
          0.3826067926558442,
          0.3777272118795257,
          0.376582353944063,
          0.37381075134253017,
          0.3640370016675131,
          0.36166958422013334,
          0.35985984988321595,
          0.3584759948990031,
          0.3562535528358574,
          0.351506685573237,
          0.3474312437830622,
          0.3428484387879766,
          0.34229186800273914,
          0.34103467727617637,
          0.3365975937465923,
          0.3267750713363214,
          0.3240986950644027,
          0.32208010267345755,
          0.32021634198521615,
          0.3161700056549067,
          0.3120849360560088,
          0.31079842230088156,
          0.3059584995673293,
          0.30397696210956093,
          0.303253366498137,
          0.30213994987757065,
          0.30205167035465685,
          0.30099008950303074,
          0.2976067089089869,
          0.29663905867475016,
          0.2953391732795433,
          0.2948470968726996,
          0.2947841446479046,
          0.29384047731302204,
          0.2934868234230083,
          0.2927072612574577,
          0.2924101721433422,
          0.29003814201578265,
          0.28677224117363737,
          0.28608111817254117,
          0.28491157841010967,
          0.2833579057373013,
          0.27916333554187384,
          0.27902358955852335,
          0.278372260038148,
          0.2782230207746639,
          0.2778690804614028,
          0.27669799153910013,
          0.2752840280754223,
          0.2719729657481947,
          0.2704427292053271,
          0.27013927479650224,
          0.26881318177183045,
          0.26798466549322575,
          0.2676095577955041,
          0.26588592109766734,
          0.26352094321696573,
          0.25993303939890416,
          0.25950199545865565,
          0.2588171268875644,
          0.25664876614205373,
          0.25582811522133886,
          0.254932686175545,
          0.25396327396978763,
          0.2535806407673281,
          0.2526439581329627,
          0.2521819984149532,
          0.24983634299019944,
          0.2488522169525049,
          0.24799036558557613,
          0.24771903229290232,
          0.24658740880211208,
          0.24455912519823597,
          0.24154892943619616,
          0.24083213810445,
          0.23968882518795015,
          0.23947298736151068,
          0.23798821804923964,
          0.23785762792772744,
          0.2366690144342464,
          0.23359850146594058,
          0.23303999056972013,
          0.23244136977124558,
          0.23079275169131075,
          0.23025569356473682,
          0.22624329586073447,
          0.22607966165489682,
          0.22367900786959924,
          0.2229863868403994,
          0.21980672551120992,
          0.21978811436177254,
          0.21847327505599984,
          0.2183729500444926,
          0.21684610192385223,
          0.21558077023442587,
          0.2153678012914794,
          0.21528647380555457,
          0.21472077312134685,
          0.21389669910914758,
          0.21377927466766944,
          0.21377594090076232,
          0.21225899344787422,
          0.2122128428579272,
          0.21032937469539303,
          0.20931316080211443,
          0.20876138840897085,
          0.2082889485189593,
          0.20762596194376157,
          0.20636029710195747,
          0.20607548330210218,
          0.2058740649436058,
          0.20564368168383954,
          0.20235026451387914,
          0.2016405367449592,
          0.2005798416426084,
          0.19894164334547396,
          0.19739272832777915,
          0.19697356900818486,
          0.1947446142214894,
          0.19342789425117377,
          0.19333043313137013,
          0.19318146526345573,
          0.19300518398832425,
          0.1929802703543327,
          0.18997289029013564,
          0.18992408715330925,
          0.1895853118169105,
          0.18944949880023115,
          0.18522674829609678,
          0.18479181160439329,
          0.18307285588176206,
          0.1824137049040884,
          0.18062072684860825,
          0.1805117609406468,
          0.1796654736203097,
          0.17965264848250873,
          0.17830805602673572,
          0.17789840569742027,
          0.17764098943507145,
          0.17721293043495145,
          0.176394233525594,
          0.17620654144264086,
          0.1753401230168085,
          0.1752581593108674,
          0.1734451571271163,
          0.1714450806183202,
          0.16709880407443706,
          0.16707633116346088,
          0.1647851684540367,
          0.16183919360550408,
          0.1476257241603214,
          0.14311610166202934,
          0.1369873417517599,
          0.1327283833860646,
          0.12808653679408646,
          0.12599468465755084,
          0.11595449663600482,
          0.11320667814465014,
          0.11200648888159323,
          0.10130515484322303
         ]
        },
        {
         "name": "Data Scientist",
         "type": "bar",
         "x": [
          "way",
          "research",
          "environment",
          "group",
          "hours",
          "germany",
          "programming",
          "und",
          "training",
          "exciting",
          "technical",
          "well",
          "technologies",
          "infrastructure",
          "great",
          "world",
          "implementation",
          "processing",
          "years",
          "part"
         ],
         "y": [
          0.3587189243787728,
          0.8558748580252851,
          0.5892200258077914,
          0.43893542088883175,
          0.7132960197890318,
          0.6470223344682545,
          0.6750956242289864,
          0.2560706754269954,
          0.48194107999792873,
          0.09336982349008792,
          0.45408640495523517,
          0.30394430927628907,
          0.42666299221605836,
          0.14987642430314904,
          0.40009764782637103,
          0.3063514491142987,
          0.377844919155021,
          0.1757670556901348,
          0.14055360928484387,
          0.2916867096207652,
          0.4233935593382449,
          0.13746510912054613,
          0.3487149954536099,
          0.5388134212246756,
          0.18384345306989366,
          0.2336865664462058,
          0.21288884443558562,
          0.37479448785692726,
          0.14499163710862634,
          0.2671399472175544,
          0.17659180093707488,
          0.2379729179455942,
          0.349972786113916,
          0.23447246460188745,
          0.34750762040416544,
          0.20085236740495258,
          0.3630215895396542,
          0.4241304880547801,
          0.2502496381195845,
          0.20845410411531765,
          0.5241586275501507,
          0.41948967243024,
          0.3091962088659399,
          0.24495092162181378,
          0.2799884263984311,
          0.3001542325867639,
          0.2697448465166541,
          0.20422775679514507,
          0.31639885129112605,
          0.18098516270888182,
          0.2719303270166392,
          0.1743869100370261,
          0.17953810981374754,
          0.29032025933419997,
          0.15252455252201783,
          0.2208441671206697,
          0.415925625927296,
          0.37479448785692726,
          0.530540786802681,
          0.3340466617502662,
          0.19599844433867122,
          0.144919305380333,
          0.2356496554573266,
          0.3582323431794888,
          0.16152022678297762,
          0.1609271936136033,
          0.25948863566289976,
          0.3334654765791875,
          0.2104902896288675,
          0.24260423251624913,
          0.2729520147873253,
          0.29763515565639914,
          0.32245797501232015,
          0.20103750386611244,
          0.2862979433264245,
          0.3568758579099208,
          0.29068144792384726,
          0.24272614893458133,
          0.1871063447293824,
          0.24766093048682727,
          0.336964496530024,
          0.19247853561613817,
          0.31805111094920197,
          0.6030294879128005,
          0.33666665709781785,
          0.2306358962167545,
          0.37056364884409304,
          0.20480061958835424,
          0.16049942183163818,
          0.21298703099980731,
          0.34165921601096,
          0.28061772469160906,
          0.20511300509716862,
          0.36635221543785734,
          0.24587992245355805,
          0.12974675810222433,
          0.4977184480966348,
          0.22824358579392254,
          0.1292366377476974,
          0.14146751623514367,
          0.2921322242102345,
          0.41154053513642047,
          0.45306734647021607,
          0.1623100574626818,
          0.1689515732620789,
          0.22069376821072642,
          0.23232077659481196,
          0.3470835358215024,
          0.13649861025761664,
          0.24547519432857487,
          0.2180143102584623,
          0.1527959403505586,
          0.34809764071743626,
          0.2332591100624533,
          0.26274652403444726,
          0.20357130804574955,
          0.17335085608853562,
          0.29462851689637776,
          0.18371084561278703,
          0.20052844033137562,
          0.26618285144882153,
          0.2780268173965229,
          0.1949176331597358,
          0.4205557893047061,
          0.17290824427664908,
          0.3308823497887415,
          0.21404668958851586,
          0.20504390414259321,
          0.17004491686754614,
          0.3193289367396121,
          0.16349442680342458,
          0.3956119856247371,
          0.35930289723953696,
          0.30622540301693135,
          0.18476922534827697,
          0.24564152301025513,
          0.34284278421841097,
          0.1426942267505836,
          0.22960123868559348,
          0.21556875928106164,
          0.20318996362881048,
          0.25817224706217223,
          0.24493512266001544,
          0.19567473016960898,
          0.13646049116030612,
          0.19798777333067213,
          0.3250686741964404,
          0.17496768602467863,
          0.13787792345125188,
          0.19347962759473925,
          0.2342911228572384,
          0.34891283635623066,
          0.7051820858209465,
          0.18135099710303143,
          0.29024249203072117,
          0.1381007540386646,
          0.30331028080010325,
          0.2597419906984168,
          0.3769535292694362,
          0.3783133686365984,
          0.41738166089162104,
          0.25802416804282285,
          0.22558332323807884,
          0.22596463494668392,
          0.2365441288234248,
          0.37199964392866436,
          0.15656555207494408,
          0.2429874683083621,
          0.23542628260199538,
          0.26756691979458286,
          0.25390036181726705,
          0.25877801326236743,
          0.3908638790053665,
          0.30712735676158526,
          0.23873177504651,
          0.20759862234864604,
          0.12754299317557513,
          0.1655289062779506,
          0.20807790355498842,
          0.16454170493255701,
          0.2908042494804778,
          0.3322118880074943,
          0.38272291430859895,
          0.13095575239760118,
          0.4356997485273993,
          0.3334908716374518,
          0.30618073644828503,
          0.23024132551784762,
          0.22322463508805668,
          0.2739274515680112,
          0.26704003538841836,
          0.2990894849909733,
          0.18075305226296962,
          0.20954530893528947,
          0.1749061413063993,
          0.5422034044861849,
          0.1190933636360985,
          0.18036514820060853,
          0.25068024749052475,
          0.28341767044337746
         ]
        },
        {
         "name": "Data Engineer",
         "type": "bar",
         "x": [
          "way",
          "research",
          "environment",
          "group",
          "hours",
          "germany",
          "programming",
          "und",
          "training",
          "exciting",
          "technical",
          "well",
          "technologies",
          "infrastructure",
          "great",
          "world",
          "implementation",
          "processing",
          "years",
          "part"
         ],
         "y": [
          0.4933794297516128,
          0.9357254489714533,
          0.5919556075042178,
          0.5145944957129609,
          0.767742502341571,
          0.6981580150889037,
          0.4845948702184493,
          0.3931121177117082,
          0.5641649089288435,
          0.14494356710331616,
          0.5412249583072984,
          0.6119916738999879,
          0.4986106773744748,
          0.735322621564163,
          0.391071170055561,
          0.3378139528245215,
          0.5377281629471815,
          0.3459839166022049,
          0.23985367171289826,
          0.4047310171673076,
          0.4346579436212028,
          0.3721009599264305,
          0.4498217337304466,
          0.37578796806906545,
          0.30707814228420593,
          0.42633080830242304,
          0.21257341635429666,
          0.24642518733121158,
          0.5056178284034032,
          0.41532012027502474,
          0.34485862740008744,
          0.24093062398814247,
          0.4862608692336002,
          0.4249188540183079,
          0.28099686328525997,
          0.32909184654009505,
          0.6010589972155458,
          0.3388221526692728,
          0.4179839513752085,
          0.25428062130161133,
          0.48706044384944264,
          0.3760660316766735,
          0.23684660419450115,
          0.39804901704922,
          0.1784001016320602,
          0.2787548835148026,
          0.34538271300970047,
          0.24824991088863144,
          0.38443715597531847,
          0.33618780673921733,
          0.41837259373377916,
          0.2976806660436636,
          0.26914500344241393,
          0.44984689351632107,
          0.2306613634202417,
          0.30592200850728757,
          0.354627480286498,
          0.23706540857360242,
          0.514581291908678,
          0.3494131324558735,
          0.2374567201088026,
          0.27937860722834634,
          0.3684569036110612,
          0.44930743249147503,
          0.2812021316148467,
          0.28016967769456813,
          0.2697567575135246,
          0.3080926463083982,
          0.2621865328932813,
          0.2850822159583966,
          0.29081531153477447,
          0.404316270800221,
          0.3227561198020765,
          0.4587037145263049,
          0.34439068805274187,
          0.3497671401801663,
          0.2593597179654714,
          0.37532051641883035,
          0.23610155782544817,
          0.2393042883836858,
          0.2628023043860218,
          0.2728817649059095,
          0.3364453162283942,
          0.4737157010393713,
          0.4603699479908522,
          0.42903617212054335,
          0.46176039817323694,
          0.34382640434918665,
          0.19680036391076314,
          0.2720283325597566,
          0.5750472963823947,
          0.3044356685249286,
          0.27591599755163193,
          0.3909520943629524,
          0.35463471921507833,
          0.5533885314754831,
          0.3398653334321735,
          0.2353054082000578,
          0.3789337860684197,
          0.15354961985130552,
          0.477807641514397,
          0.49735196480703164,
          0.462248714012833,
          0.1983956312802924,
          0.21673240466444618,
          0.34436393452009023,
          0.2418982361339012,
          0.32670170851621466,
          0.41598530125294225,
          0.24288212491303088,
          0.26886866566155826,
          0.3208005689184748,
          0.3300093193337558,
          0.2567930446941379,
          0.4904044989226911,
          0.21741262184120996,
          0.34866371509957633,
          0.2158525635984444,
          0.29445188462045174,
          0.3701923540440186,
          0.5310293975173365,
          0.9021997731916537,
          0.34445079563452563,
          0.31328067662273856,
          0.5284955311717595,
          0.23652121776092913,
          0.2875933898754961,
          0.36022618246423416,
          0.21839319174593524,
          0.7736779534245659,
          0.20926846293980195,
          0.484262627123906,
          0.3587876679288617,
          0.605359806411606,
          0.33527974014988216,
          0.20811729183736216,
          0.19532705347705742,
          0.2379897363302238,
          0.26758181151553,
          0.41552713469889213,
          0.31658541367682197,
          0.5125357716450563,
          0.5095009827280251,
          0.33804543821460953,
          0.42245954195140306,
          0.2690916683621833,
          0.366657154658091,
          0.41904960821960213,
          0.3714802550757948,
          0.3248982655744288,
          0.3434816309591605,
          0.5923659667690335,
          0.5704155386991379,
          0.23540507292895593,
          0.5452600150541902,
          0.24488833356593995,
          0.2310826228472212,
          0.2718574211788388,
          0.25370244433248273,
          0.2976772172082867,
          0.2783760139854521,
          0.3008609240818733,
          0.24819955061084634,
          0.45091370674899595,
          0.32743786053293145,
          0.40003289145035537,
          0.5643700502829389,
          0.31182149514145785,
          0.2806396201400457,
          0.2351961235506235,
          0.40958394019961597,
          0.3716020704171861,
          0.434882531007391,
          0.4474953071240966,
          0.3501556703564906,
          0.3590486883884454,
          0.22357012130109574,
          0.22736005265922274,
          0.2975347449356417,
          0.35116952742626256,
          0.4294710877936725,
          0.6650931602843065,
          0.34194442945668047,
          0.35255085243546797,
          0.6350027946367219,
          0.3277421674102602,
          0.3025460972631069,
          0.2349476970627771,
          0.2113370550764701,
          0.48533512566823556,
          0.7331532506748981,
          0.3867360893414161,
          0.2696611942389149,
          0.29913509885303874,
          0.3821290887705286,
          0.11945719388222983,
          0.2089113365240868,
          0.24423809646153122,
          0.540061820322538,
          0.4697261582275665
         ]
        }
       ],
       "layout": {
        "barmode": "group",
        "template": {
         "data": {
          "bar": [
           {
            "error_x": {
             "color": "#2a3f5f"
            },
            "error_y": {
             "color": "#2a3f5f"
            },
            "marker": {
             "line": {
              "color": "#E5ECF6",
              "width": 0.5
             }
            },
            "type": "bar"
           }
          ],
          "barpolar": [
           {
            "marker": {
             "line": {
              "color": "#E5ECF6",
              "width": 0.5
             }
            },
            "type": "barpolar"
           }
          ],
          "carpet": [
           {
            "aaxis": {
             "endlinecolor": "#2a3f5f",
             "gridcolor": "white",
             "linecolor": "white",
             "minorgridcolor": "white",
             "startlinecolor": "#2a3f5f"
            },
            "baxis": {
             "endlinecolor": "#2a3f5f",
             "gridcolor": "white",
             "linecolor": "white",
             "minorgridcolor": "white",
             "startlinecolor": "#2a3f5f"
            },
            "type": "carpet"
           }
          ],
          "choropleth": [
           {
            "colorbar": {
             "outlinewidth": 0,
             "ticks": ""
            },
            "type": "choropleth"
           }
          ],
          "contour": [
           {
            "colorbar": {
             "outlinewidth": 0,
             "ticks": ""
            },
            "colorscale": [
             [
              0,
              "#0d0887"
             ],
             [
              0.1111111111111111,
              "#46039f"
             ],
             [
              0.2222222222222222,
              "#7201a8"
             ],
             [
              0.3333333333333333,
              "#9c179e"
             ],
             [
              0.4444444444444444,
              "#bd3786"
             ],
             [
              0.5555555555555556,
              "#d8576b"
             ],
             [
              0.6666666666666666,
              "#ed7953"
             ],
             [
              0.7777777777777778,
              "#fb9f3a"
             ],
             [
              0.8888888888888888,
              "#fdca26"
             ],
             [
              1,
              "#f0f921"
             ]
            ],
            "type": "contour"
           }
          ],
          "contourcarpet": [
           {
            "colorbar": {
             "outlinewidth": 0,
             "ticks": ""
            },
            "type": "contourcarpet"
           }
          ],
          "heatmap": [
           {
            "colorbar": {
             "outlinewidth": 0,
             "ticks": ""
            },
            "colorscale": [
             [
              0,
              "#0d0887"
             ],
             [
              0.1111111111111111,
              "#46039f"
             ],
             [
              0.2222222222222222,
              "#7201a8"
             ],
             [
              0.3333333333333333,
              "#9c179e"
             ],
             [
              0.4444444444444444,
              "#bd3786"
             ],
             [
              0.5555555555555556,
              "#d8576b"
             ],
             [
              0.6666666666666666,
              "#ed7953"
             ],
             [
              0.7777777777777778,
              "#fb9f3a"
             ],
             [
              0.8888888888888888,
              "#fdca26"
             ],
             [
              1,
              "#f0f921"
             ]
            ],
            "type": "heatmap"
           }
          ],
          "heatmapgl": [
           {
            "colorbar": {
             "outlinewidth": 0,
             "ticks": ""
            },
            "colorscale": [
             [
              0,
              "#0d0887"
             ],
             [
              0.1111111111111111,
              "#46039f"
             ],
             [
              0.2222222222222222,
              "#7201a8"
             ],
             [
              0.3333333333333333,
              "#9c179e"
             ],
             [
              0.4444444444444444,
              "#bd3786"
             ],
             [
              0.5555555555555556,
              "#d8576b"
             ],
             [
              0.6666666666666666,
              "#ed7953"
             ],
             [
              0.7777777777777778,
              "#fb9f3a"
             ],
             [
              0.8888888888888888,
              "#fdca26"
             ],
             [
              1,
              "#f0f921"
             ]
            ],
            "type": "heatmapgl"
           }
          ],
          "histogram": [
           {
            "marker": {
             "colorbar": {
              "outlinewidth": 0,
              "ticks": ""
             }
            },
            "type": "histogram"
           }
          ],
          "histogram2d": [
           {
            "colorbar": {
             "outlinewidth": 0,
             "ticks": ""
            },
            "colorscale": [
             [
              0,
              "#0d0887"
             ],
             [
              0.1111111111111111,
              "#46039f"
             ],
             [
              0.2222222222222222,
              "#7201a8"
             ],
             [
              0.3333333333333333,
              "#9c179e"
             ],
             [
              0.4444444444444444,
              "#bd3786"
             ],
             [
              0.5555555555555556,
              "#d8576b"
             ],
             [
              0.6666666666666666,
              "#ed7953"
             ],
             [
              0.7777777777777778,
              "#fb9f3a"
             ],
             [
              0.8888888888888888,
              "#fdca26"
             ],
             [
              1,
              "#f0f921"
             ]
            ],
            "type": "histogram2d"
           }
          ],
          "histogram2dcontour": [
           {
            "colorbar": {
             "outlinewidth": 0,
             "ticks": ""
            },
            "colorscale": [
             [
              0,
              "#0d0887"
             ],
             [
              0.1111111111111111,
              "#46039f"
             ],
             [
              0.2222222222222222,
              "#7201a8"
             ],
             [
              0.3333333333333333,
              "#9c179e"
             ],
             [
              0.4444444444444444,
              "#bd3786"
             ],
             [
              0.5555555555555556,
              "#d8576b"
             ],
             [
              0.6666666666666666,
              "#ed7953"
             ],
             [
              0.7777777777777778,
              "#fb9f3a"
             ],
             [
              0.8888888888888888,
              "#fdca26"
             ],
             [
              1,
              "#f0f921"
             ]
            ],
            "type": "histogram2dcontour"
           }
          ],
          "mesh3d": [
           {
            "colorbar": {
             "outlinewidth": 0,
             "ticks": ""
            },
            "type": "mesh3d"
           }
          ],
          "parcoords": [
           {
            "line": {
             "colorbar": {
              "outlinewidth": 0,
              "ticks": ""
             }
            },
            "type": "parcoords"
           }
          ],
          "pie": [
           {
            "automargin": true,
            "type": "pie"
           }
          ],
          "scatter": [
           {
            "marker": {
             "colorbar": {
              "outlinewidth": 0,
              "ticks": ""
             }
            },
            "type": "scatter"
           }
          ],
          "scatter3d": [
           {
            "line": {
             "colorbar": {
              "outlinewidth": 0,
              "ticks": ""
             }
            },
            "marker": {
             "colorbar": {
              "outlinewidth": 0,
              "ticks": ""
             }
            },
            "type": "scatter3d"
           }
          ],
          "scattercarpet": [
           {
            "marker": {
             "colorbar": {
              "outlinewidth": 0,
              "ticks": ""
             }
            },
            "type": "scattercarpet"
           }
          ],
          "scattergeo": [
           {
            "marker": {
             "colorbar": {
              "outlinewidth": 0,
              "ticks": ""
             }
            },
            "type": "scattergeo"
           }
          ],
          "scattergl": [
           {
            "marker": {
             "colorbar": {
              "outlinewidth": 0,
              "ticks": ""
             }
            },
            "type": "scattergl"
           }
          ],
          "scattermapbox": [
           {
            "marker": {
             "colorbar": {
              "outlinewidth": 0,
              "ticks": ""
             }
            },
            "type": "scattermapbox"
           }
          ],
          "scatterpolar": [
           {
            "marker": {
             "colorbar": {
              "outlinewidth": 0,
              "ticks": ""
             }
            },
            "type": "scatterpolar"
           }
          ],
          "scatterpolargl": [
           {
            "marker": {
             "colorbar": {
              "outlinewidth": 0,
              "ticks": ""
             }
            },
            "type": "scatterpolargl"
           }
          ],
          "scatterternary": [
           {
            "marker": {
             "colorbar": {
              "outlinewidth": 0,
              "ticks": ""
             }
            },
            "type": "scatterternary"
           }
          ],
          "surface": [
           {
            "colorbar": {
             "outlinewidth": 0,
             "ticks": ""
            },
            "colorscale": [
             [
              0,
              "#0d0887"
             ],
             [
              0.1111111111111111,
              "#46039f"
             ],
             [
              0.2222222222222222,
              "#7201a8"
             ],
             [
              0.3333333333333333,
              "#9c179e"
             ],
             [
              0.4444444444444444,
              "#bd3786"
             ],
             [
              0.5555555555555556,
              "#d8576b"
             ],
             [
              0.6666666666666666,
              "#ed7953"
             ],
             [
              0.7777777777777778,
              "#fb9f3a"
             ],
             [
              0.8888888888888888,
              "#fdca26"
             ],
             [
              1,
              "#f0f921"
             ]
            ],
            "type": "surface"
           }
          ],
          "table": [
           {
            "cells": {
             "fill": {
              "color": "#EBF0F8"
             },
             "line": {
              "color": "white"
             }
            },
            "header": {
             "fill": {
              "color": "#C8D4E3"
             },
             "line": {
              "color": "white"
             }
            },
            "type": "table"
           }
          ]
         },
         "layout": {
          "annotationdefaults": {
           "arrowcolor": "#2a3f5f",
           "arrowhead": 0,
           "arrowwidth": 1
          },
          "coloraxis": {
           "colorbar": {
            "outlinewidth": 0,
            "ticks": ""
           }
          },
          "colorscale": {
           "diverging": [
            [
             0,
             "#8e0152"
            ],
            [
             0.1,
             "#c51b7d"
            ],
            [
             0.2,
             "#de77ae"
            ],
            [
             0.3,
             "#f1b6da"
            ],
            [
             0.4,
             "#fde0ef"
            ],
            [
             0.5,
             "#f7f7f7"
            ],
            [
             0.6,
             "#e6f5d0"
            ],
            [
             0.7,
             "#b8e186"
            ],
            [
             0.8,
             "#7fbc41"
            ],
            [
             0.9,
             "#4d9221"
            ],
            [
             1,
             "#276419"
            ]
           ],
           "sequential": [
            [
             0,
             "#0d0887"
            ],
            [
             0.1111111111111111,
             "#46039f"
            ],
            [
             0.2222222222222222,
             "#7201a8"
            ],
            [
             0.3333333333333333,
             "#9c179e"
            ],
            [
             0.4444444444444444,
             "#bd3786"
            ],
            [
             0.5555555555555556,
             "#d8576b"
            ],
            [
             0.6666666666666666,
             "#ed7953"
            ],
            [
             0.7777777777777778,
             "#fb9f3a"
            ],
            [
             0.8888888888888888,
             "#fdca26"
            ],
            [
             1,
             "#f0f921"
            ]
           ],
           "sequentialminus": [
            [
             0,
             "#0d0887"
            ],
            [
             0.1111111111111111,
             "#46039f"
            ],
            [
             0.2222222222222222,
             "#7201a8"
            ],
            [
             0.3333333333333333,
             "#9c179e"
            ],
            [
             0.4444444444444444,
             "#bd3786"
            ],
            [
             0.5555555555555556,
             "#d8576b"
            ],
            [
             0.6666666666666666,
             "#ed7953"
            ],
            [
             0.7777777777777778,
             "#fb9f3a"
            ],
            [
             0.8888888888888888,
             "#fdca26"
            ],
            [
             1,
             "#f0f921"
            ]
           ]
          },
          "colorway": [
           "#636efa",
           "#EF553B",
           "#00cc96",
           "#ab63fa",
           "#FFA15A",
           "#19d3f3",
           "#FF6692",
           "#B6E880",
           "#FF97FF",
           "#FECB52"
          ],
          "font": {
           "color": "#2a3f5f"
          },
          "geo": {
           "bgcolor": "white",
           "lakecolor": "white",
           "landcolor": "#E5ECF6",
           "showlakes": true,
           "showland": true,
           "subunitcolor": "white"
          },
          "hoverlabel": {
           "align": "left"
          },
          "hovermode": "closest",
          "mapbox": {
           "style": "light"
          },
          "paper_bgcolor": "white",
          "plot_bgcolor": "#E5ECF6",
          "polar": {
           "angularaxis": {
            "gridcolor": "white",
            "linecolor": "white",
            "ticks": ""
           },
           "bgcolor": "#E5ECF6",
           "radialaxis": {
            "gridcolor": "white",
            "linecolor": "white",
            "ticks": ""
           }
          },
          "scene": {
           "xaxis": {
            "backgroundcolor": "#E5ECF6",
            "gridcolor": "white",
            "gridwidth": 2,
            "linecolor": "white",
            "showbackground": true,
            "ticks": "",
            "zerolinecolor": "white"
           },
           "yaxis": {
            "backgroundcolor": "#E5ECF6",
            "gridcolor": "white",
            "gridwidth": 2,
            "linecolor": "white",
            "showbackground": true,
            "ticks": "",
            "zerolinecolor": "white"
           },
           "zaxis": {
            "backgroundcolor": "#E5ECF6",
            "gridcolor": "white",
            "gridwidth": 2,
            "linecolor": "white",
            "showbackground": true,
            "ticks": "",
            "zerolinecolor": "white"
           }
          },
          "shapedefaults": {
           "line": {
            "color": "#2a3f5f"
           }
          },
          "ternary": {
           "aaxis": {
            "gridcolor": "white",
            "linecolor": "white",
            "ticks": ""
           },
           "baxis": {
            "gridcolor": "white",
            "linecolor": "white",
            "ticks": ""
           },
           "bgcolor": "#E5ECF6",
           "caxis": {
            "gridcolor": "white",
            "linecolor": "white",
            "ticks": ""
           }
          },
          "title": {
           "x": 0.05
          },
          "xaxis": {
           "automargin": true,
           "gridcolor": "white",
           "linecolor": "white",
           "ticks": "",
           "title": {
            "standoff": 15
           },
           "zerolinecolor": "white",
           "zerolinewidth": 2
          },
          "yaxis": {
           "automargin": true,
           "gridcolor": "white",
           "linecolor": "white",
           "ticks": "",
           "title": {
            "standoff": 15
           },
           "zerolinecolor": "white",
           "zerolinewidth": 2
          }
         }
        },
        "title": {
         "text": "tfidf score for 20 most common & unique words"
        }
       }
      },
      "text/html": [
       "<div>\n",
       "        \n",
       "        \n",
       "            <div id=\"90677b38-895f-4692-9ae5-f59f9d2d361d\" class=\"plotly-graph-div\" style=\"height:525px; width:100%;\"></div>\n",
       "            <script type=\"text/javascript\">\n",
       "                require([\"plotly\"], function(Plotly) {\n",
       "                    window.PLOTLYENV=window.PLOTLYENV || {};\n",
       "                    \n",
       "                if (document.getElementById(\"90677b38-895f-4692-9ae5-f59f9d2d361d\")) {\n",
       "                    Plotly.newPlot(\n",
       "                        '90677b38-895f-4692-9ae5-f59f9d2d361d',\n",
       "                        [{\"name\": \"Data Analyst\", \"type\": \"bar\", \"x\": [\"way\", \"research\", \"environment\", \"group\", \"hours\", \"germany\", \"programming\", \"und\", \"training\", \"exciting\", \"technical\", \"well\", \"technologies\", \"infrastructure\", \"great\", \"world\", \"implementation\", \"processing\", \"years\", \"part\"], \"y\": [0.9314854310162306, 0.9087824050958643, 0.8544500434206305, 0.7582804093328256, 0.7384607014518044, 0.7195074070407328, 0.7168487451067078, 0.6910342589422962, 0.6768270917588244, 0.6644552973216671, 0.6342850238255523, 0.6120833670584436, 0.585152059964329, 0.5765444085116677, 0.5675537864717565, 0.5408921392083439, 0.5300749790495302, 0.5136216545341222, 0.5027499363304564, 0.4835649331754275, 0.4709509820512995, 0.47005341687673036, 0.4642857908224003, 0.46426501643795537, 0.4475065332190635, 0.44614251772832747, 0.444937668397278, 0.4445002574460916, 0.44436078277601926, 0.4380848147578732, 0.43262222577225695, 0.42336521889928574, 0.42318019117743405, 0.41160222911070077, 0.4058283652313939, 0.4029214664739495, 0.40152665981106367, 0.4000858967305722, 0.3860199418870789, 0.38510570984872855, 0.3826067926558442, 0.3777272118795257, 0.376582353944063, 0.37381075134253017, 0.3640370016675131, 0.36166958422013334, 0.35985984988321595, 0.3584759948990031, 0.3562535528358574, 0.351506685573237, 0.3474312437830622, 0.3428484387879766, 0.34229186800273914, 0.34103467727617637, 0.3365975937465923, 0.3267750713363214, 0.3240986950644027, 0.32208010267345755, 0.32021634198521615, 0.3161700056549067, 0.3120849360560088, 0.31079842230088156, 0.3059584995673293, 0.30397696210956093, 0.303253366498137, 0.30213994987757065, 0.30205167035465685, 0.30099008950303074, 0.2976067089089869, 0.29663905867475016, 0.2953391732795433, 0.2948470968726996, 0.2947841446479046, 0.29384047731302204, 0.2934868234230083, 0.2927072612574577, 0.2924101721433422, 0.29003814201578265, 0.28677224117363737, 0.28608111817254117, 0.28491157841010967, 0.2833579057373013, 0.27916333554187384, 0.27902358955852335, 0.278372260038148, 0.2782230207746639, 0.2778690804614028, 0.27669799153910013, 0.2752840280754223, 0.2719729657481947, 0.2704427292053271, 0.27013927479650224, 0.26881318177183045, 0.26798466549322575, 0.2676095577955041, 0.26588592109766734, 0.26352094321696573, 0.25993303939890416, 0.25950199545865565, 0.2588171268875644, 0.25664876614205373, 0.25582811522133886, 0.254932686175545, 0.25396327396978763, 0.2535806407673281, 0.2526439581329627, 0.2521819984149532, 0.24983634299019944, 0.2488522169525049, 0.24799036558557613, 0.24771903229290232, 0.24658740880211208, 0.24455912519823597, 0.24154892943619616, 0.24083213810445, 0.23968882518795015, 0.23947298736151068, 0.23798821804923964, 0.23785762792772744, 0.2366690144342464, 0.23359850146594058, 0.23303999056972013, 0.23244136977124558, 0.23079275169131075, 0.23025569356473682, 0.22624329586073447, 0.22607966165489682, 0.22367900786959924, 0.2229863868403994, 0.21980672551120992, 0.21978811436177254, 0.21847327505599984, 0.2183729500444926, 0.21684610192385223, 0.21558077023442587, 0.2153678012914794, 0.21528647380555457, 0.21472077312134685, 0.21389669910914758, 0.21377927466766944, 0.21377594090076232, 0.21225899344787422, 0.2122128428579272, 0.21032937469539303, 0.20931316080211443, 0.20876138840897085, 0.2082889485189593, 0.20762596194376157, 0.20636029710195747, 0.20607548330210218, 0.2058740649436058, 0.20564368168383954, 0.20235026451387914, 0.2016405367449592, 0.2005798416426084, 0.19894164334547396, 0.19739272832777915, 0.19697356900818486, 0.1947446142214894, 0.19342789425117377, 0.19333043313137013, 0.19318146526345573, 0.19300518398832425, 0.1929802703543327, 0.18997289029013564, 0.18992408715330925, 0.1895853118169105, 0.18944949880023115, 0.18522674829609678, 0.18479181160439329, 0.18307285588176206, 0.1824137049040884, 0.18062072684860825, 0.1805117609406468, 0.1796654736203097, 0.17965264848250873, 0.17830805602673572, 0.17789840569742027, 0.17764098943507145, 0.17721293043495145, 0.176394233525594, 0.17620654144264086, 0.1753401230168085, 0.1752581593108674, 0.1734451571271163, 0.1714450806183202, 0.16709880407443706, 0.16707633116346088, 0.1647851684540367, 0.16183919360550408, 0.1476257241603214, 0.14311610166202934, 0.1369873417517599, 0.1327283833860646, 0.12808653679408646, 0.12599468465755084, 0.11595449663600482, 0.11320667814465014, 0.11200648888159323, 0.10130515484322303]}, {\"name\": \"Data Scientist\", \"type\": \"bar\", \"x\": [\"way\", \"research\", \"environment\", \"group\", \"hours\", \"germany\", \"programming\", \"und\", \"training\", \"exciting\", \"technical\", \"well\", \"technologies\", \"infrastructure\", \"great\", \"world\", \"implementation\", \"processing\", \"years\", \"part\"], \"y\": [0.3587189243787728, 0.8558748580252851, 0.5892200258077914, 0.43893542088883175, 0.7132960197890318, 0.6470223344682545, 0.6750956242289864, 0.2560706754269954, 0.48194107999792873, 0.09336982349008792, 0.45408640495523517, 0.30394430927628907, 0.42666299221605836, 0.14987642430314904, 0.40009764782637103, 0.3063514491142987, 0.377844919155021, 0.1757670556901348, 0.14055360928484387, 0.2916867096207652, 0.4233935593382449, 0.13746510912054613, 0.3487149954536099, 0.5388134212246756, 0.18384345306989366, 0.2336865664462058, 0.21288884443558562, 0.37479448785692726, 0.14499163710862634, 0.2671399472175544, 0.17659180093707488, 0.2379729179455942, 0.349972786113916, 0.23447246460188745, 0.34750762040416544, 0.20085236740495258, 0.3630215895396542, 0.4241304880547801, 0.2502496381195845, 0.20845410411531765, 0.5241586275501507, 0.41948967243024, 0.3091962088659399, 0.24495092162181378, 0.2799884263984311, 0.3001542325867639, 0.2697448465166541, 0.20422775679514507, 0.31639885129112605, 0.18098516270888182, 0.2719303270166392, 0.1743869100370261, 0.17953810981374754, 0.29032025933419997, 0.15252455252201783, 0.2208441671206697, 0.415925625927296, 0.37479448785692726, 0.530540786802681, 0.3340466617502662, 0.19599844433867122, 0.144919305380333, 0.2356496554573266, 0.3582323431794888, 0.16152022678297762, 0.1609271936136033, 0.25948863566289976, 0.3334654765791875, 0.2104902896288675, 0.24260423251624913, 0.2729520147873253, 0.29763515565639914, 0.32245797501232015, 0.20103750386611244, 0.2862979433264245, 0.3568758579099208, 0.29068144792384726, 0.24272614893458133, 0.1871063447293824, 0.24766093048682727, 0.336964496530024, 0.19247853561613817, 0.31805111094920197, 0.6030294879128005, 0.33666665709781785, 0.2306358962167545, 0.37056364884409304, 0.20480061958835424, 0.16049942183163818, 0.21298703099980731, 0.34165921601096, 0.28061772469160906, 0.20511300509716862, 0.36635221543785734, 0.24587992245355805, 0.12974675810222433, 0.4977184480966348, 0.22824358579392254, 0.1292366377476974, 0.14146751623514367, 0.2921322242102345, 0.41154053513642047, 0.45306734647021607, 0.1623100574626818, 0.1689515732620789, 0.22069376821072642, 0.23232077659481196, 0.3470835358215024, 0.13649861025761664, 0.24547519432857487, 0.2180143102584623, 0.1527959403505586, 0.34809764071743626, 0.2332591100624533, 0.26274652403444726, 0.20357130804574955, 0.17335085608853562, 0.29462851689637776, 0.18371084561278703, 0.20052844033137562, 0.26618285144882153, 0.2780268173965229, 0.1949176331597358, 0.4205557893047061, 0.17290824427664908, 0.3308823497887415, 0.21404668958851586, 0.20504390414259321, 0.17004491686754614, 0.3193289367396121, 0.16349442680342458, 0.3956119856247371, 0.35930289723953696, 0.30622540301693135, 0.18476922534827697, 0.24564152301025513, 0.34284278421841097, 0.1426942267505836, 0.22960123868559348, 0.21556875928106164, 0.20318996362881048, 0.25817224706217223, 0.24493512266001544, 0.19567473016960898, 0.13646049116030612, 0.19798777333067213, 0.3250686741964404, 0.17496768602467863, 0.13787792345125188, 0.19347962759473925, 0.2342911228572384, 0.34891283635623066, 0.7051820858209465, 0.18135099710303143, 0.29024249203072117, 0.1381007540386646, 0.30331028080010325, 0.2597419906984168, 0.3769535292694362, 0.3783133686365984, 0.41738166089162104, 0.25802416804282285, 0.22558332323807884, 0.22596463494668392, 0.2365441288234248, 0.37199964392866436, 0.15656555207494408, 0.2429874683083621, 0.23542628260199538, 0.26756691979458286, 0.25390036181726705, 0.25877801326236743, 0.3908638790053665, 0.30712735676158526, 0.23873177504651, 0.20759862234864604, 0.12754299317557513, 0.1655289062779506, 0.20807790355498842, 0.16454170493255701, 0.2908042494804778, 0.3322118880074943, 0.38272291430859895, 0.13095575239760118, 0.4356997485273993, 0.3334908716374518, 0.30618073644828503, 0.23024132551784762, 0.22322463508805668, 0.2739274515680112, 0.26704003538841836, 0.2990894849909733, 0.18075305226296962, 0.20954530893528947, 0.1749061413063993, 0.5422034044861849, 0.1190933636360985, 0.18036514820060853, 0.25068024749052475, 0.28341767044337746]}, {\"name\": \"Data Engineer\", \"type\": \"bar\", \"x\": [\"way\", \"research\", \"environment\", \"group\", \"hours\", \"germany\", \"programming\", \"und\", \"training\", \"exciting\", \"technical\", \"well\", \"technologies\", \"infrastructure\", \"great\", \"world\", \"implementation\", \"processing\", \"years\", \"part\"], \"y\": [0.4933794297516128, 0.9357254489714533, 0.5919556075042178, 0.5145944957129609, 0.767742502341571, 0.6981580150889037, 0.4845948702184493, 0.3931121177117082, 0.5641649089288435, 0.14494356710331616, 0.5412249583072984, 0.6119916738999879, 0.4986106773744748, 0.735322621564163, 0.391071170055561, 0.3378139528245215, 0.5377281629471815, 0.3459839166022049, 0.23985367171289826, 0.4047310171673076, 0.4346579436212028, 0.3721009599264305, 0.4498217337304466, 0.37578796806906545, 0.30707814228420593, 0.42633080830242304, 0.21257341635429666, 0.24642518733121158, 0.5056178284034032, 0.41532012027502474, 0.34485862740008744, 0.24093062398814247, 0.4862608692336002, 0.4249188540183079, 0.28099686328525997, 0.32909184654009505, 0.6010589972155458, 0.3388221526692728, 0.4179839513752085, 0.25428062130161133, 0.48706044384944264, 0.3760660316766735, 0.23684660419450115, 0.39804901704922, 0.1784001016320602, 0.2787548835148026, 0.34538271300970047, 0.24824991088863144, 0.38443715597531847, 0.33618780673921733, 0.41837259373377916, 0.2976806660436636, 0.26914500344241393, 0.44984689351632107, 0.2306613634202417, 0.30592200850728757, 0.354627480286498, 0.23706540857360242, 0.514581291908678, 0.3494131324558735, 0.2374567201088026, 0.27937860722834634, 0.3684569036110612, 0.44930743249147503, 0.2812021316148467, 0.28016967769456813, 0.2697567575135246, 0.3080926463083982, 0.2621865328932813, 0.2850822159583966, 0.29081531153477447, 0.404316270800221, 0.3227561198020765, 0.4587037145263049, 0.34439068805274187, 0.3497671401801663, 0.2593597179654714, 0.37532051641883035, 0.23610155782544817, 0.2393042883836858, 0.2628023043860218, 0.2728817649059095, 0.3364453162283942, 0.4737157010393713, 0.4603699479908522, 0.42903617212054335, 0.46176039817323694, 0.34382640434918665, 0.19680036391076314, 0.2720283325597566, 0.5750472963823947, 0.3044356685249286, 0.27591599755163193, 0.3909520943629524, 0.35463471921507833, 0.5533885314754831, 0.3398653334321735, 0.2353054082000578, 0.3789337860684197, 0.15354961985130552, 0.477807641514397, 0.49735196480703164, 0.462248714012833, 0.1983956312802924, 0.21673240466444618, 0.34436393452009023, 0.2418982361339012, 0.32670170851621466, 0.41598530125294225, 0.24288212491303088, 0.26886866566155826, 0.3208005689184748, 0.3300093193337558, 0.2567930446941379, 0.4904044989226911, 0.21741262184120996, 0.34866371509957633, 0.2158525635984444, 0.29445188462045174, 0.3701923540440186, 0.5310293975173365, 0.9021997731916537, 0.34445079563452563, 0.31328067662273856, 0.5284955311717595, 0.23652121776092913, 0.2875933898754961, 0.36022618246423416, 0.21839319174593524, 0.7736779534245659, 0.20926846293980195, 0.484262627123906, 0.3587876679288617, 0.605359806411606, 0.33527974014988216, 0.20811729183736216, 0.19532705347705742, 0.2379897363302238, 0.26758181151553, 0.41552713469889213, 0.31658541367682197, 0.5125357716450563, 0.5095009827280251, 0.33804543821460953, 0.42245954195140306, 0.2690916683621833, 0.366657154658091, 0.41904960821960213, 0.3714802550757948, 0.3248982655744288, 0.3434816309591605, 0.5923659667690335, 0.5704155386991379, 0.23540507292895593, 0.5452600150541902, 0.24488833356593995, 0.2310826228472212, 0.2718574211788388, 0.25370244433248273, 0.2976772172082867, 0.2783760139854521, 0.3008609240818733, 0.24819955061084634, 0.45091370674899595, 0.32743786053293145, 0.40003289145035537, 0.5643700502829389, 0.31182149514145785, 0.2806396201400457, 0.2351961235506235, 0.40958394019961597, 0.3716020704171861, 0.434882531007391, 0.4474953071240966, 0.3501556703564906, 0.3590486883884454, 0.22357012130109574, 0.22736005265922274, 0.2975347449356417, 0.35116952742626256, 0.4294710877936725, 0.6650931602843065, 0.34194442945668047, 0.35255085243546797, 0.6350027946367219, 0.3277421674102602, 0.3025460972631069, 0.2349476970627771, 0.2113370550764701, 0.48533512566823556, 0.7331532506748981, 0.3867360893414161, 0.2696611942389149, 0.29913509885303874, 0.3821290887705286, 0.11945719388222983, 0.2089113365240868, 0.24423809646153122, 0.540061820322538, 0.4697261582275665]}],\n",
       "                        {\"barmode\": \"group\", \"template\": {\"data\": {\"bar\": [{\"error_x\": {\"color\": \"#2a3f5f\"}, \"error_y\": {\"color\": \"#2a3f5f\"}, \"marker\": {\"line\": {\"color\": \"#E5ECF6\", \"width\": 0.5}}, \"type\": \"bar\"}], \"barpolar\": [{\"marker\": {\"line\": {\"color\": \"#E5ECF6\", \"width\": 0.5}}, \"type\": \"barpolar\"}], \"carpet\": [{\"aaxis\": {\"endlinecolor\": \"#2a3f5f\", \"gridcolor\": \"white\", \"linecolor\": \"white\", \"minorgridcolor\": \"white\", \"startlinecolor\": \"#2a3f5f\"}, \"baxis\": {\"endlinecolor\": \"#2a3f5f\", \"gridcolor\": \"white\", \"linecolor\": \"white\", \"minorgridcolor\": \"white\", \"startlinecolor\": \"#2a3f5f\"}, \"type\": \"carpet\"}], \"choropleth\": [{\"colorbar\": {\"outlinewidth\": 0, \"ticks\": \"\"}, \"type\": \"choropleth\"}], \"contour\": [{\"colorbar\": {\"outlinewidth\": 0, \"ticks\": \"\"}, \"colorscale\": [[0.0, \"#0d0887\"], [0.1111111111111111, \"#46039f\"], [0.2222222222222222, \"#7201a8\"], [0.3333333333333333, \"#9c179e\"], [0.4444444444444444, \"#bd3786\"], [0.5555555555555556, \"#d8576b\"], [0.6666666666666666, \"#ed7953\"], [0.7777777777777778, \"#fb9f3a\"], [0.8888888888888888, \"#fdca26\"], [1.0, \"#f0f921\"]], \"type\": \"contour\"}], \"contourcarpet\": [{\"colorbar\": {\"outlinewidth\": 0, \"ticks\": \"\"}, \"type\": \"contourcarpet\"}], \"heatmap\": [{\"colorbar\": {\"outlinewidth\": 0, \"ticks\": \"\"}, \"colorscale\": [[0.0, \"#0d0887\"], [0.1111111111111111, \"#46039f\"], [0.2222222222222222, \"#7201a8\"], [0.3333333333333333, \"#9c179e\"], [0.4444444444444444, \"#bd3786\"], [0.5555555555555556, \"#d8576b\"], [0.6666666666666666, \"#ed7953\"], [0.7777777777777778, \"#fb9f3a\"], [0.8888888888888888, \"#fdca26\"], [1.0, \"#f0f921\"]], \"type\": \"heatmap\"}], \"heatmapgl\": [{\"colorbar\": {\"outlinewidth\": 0, \"ticks\": \"\"}, \"colorscale\": [[0.0, \"#0d0887\"], [0.1111111111111111, \"#46039f\"], [0.2222222222222222, \"#7201a8\"], [0.3333333333333333, \"#9c179e\"], [0.4444444444444444, \"#bd3786\"], [0.5555555555555556, \"#d8576b\"], [0.6666666666666666, \"#ed7953\"], [0.7777777777777778, \"#fb9f3a\"], [0.8888888888888888, \"#fdca26\"], [1.0, \"#f0f921\"]], \"type\": \"heatmapgl\"}], \"histogram\": [{\"marker\": {\"colorbar\": {\"outlinewidth\": 0, \"ticks\": \"\"}}, \"type\": \"histogram\"}], \"histogram2d\": [{\"colorbar\": {\"outlinewidth\": 0, \"ticks\": \"\"}, \"colorscale\": [[0.0, \"#0d0887\"], [0.1111111111111111, \"#46039f\"], [0.2222222222222222, \"#7201a8\"], [0.3333333333333333, \"#9c179e\"], [0.4444444444444444, \"#bd3786\"], [0.5555555555555556, \"#d8576b\"], [0.6666666666666666, \"#ed7953\"], [0.7777777777777778, \"#fb9f3a\"], [0.8888888888888888, \"#fdca26\"], [1.0, \"#f0f921\"]], \"type\": \"histogram2d\"}], \"histogram2dcontour\": [{\"colorbar\": {\"outlinewidth\": 0, \"ticks\": \"\"}, \"colorscale\": [[0.0, \"#0d0887\"], [0.1111111111111111, \"#46039f\"], [0.2222222222222222, \"#7201a8\"], [0.3333333333333333, \"#9c179e\"], [0.4444444444444444, \"#bd3786\"], [0.5555555555555556, \"#d8576b\"], [0.6666666666666666, \"#ed7953\"], [0.7777777777777778, \"#fb9f3a\"], [0.8888888888888888, \"#fdca26\"], [1.0, \"#f0f921\"]], \"type\": \"histogram2dcontour\"}], \"mesh3d\": [{\"colorbar\": {\"outlinewidth\": 0, \"ticks\": \"\"}, \"type\": \"mesh3d\"}], \"parcoords\": [{\"line\": {\"colorbar\": {\"outlinewidth\": 0, \"ticks\": \"\"}}, \"type\": \"parcoords\"}], \"pie\": [{\"automargin\": true, \"type\": \"pie\"}], \"scatter\": [{\"marker\": {\"colorbar\": {\"outlinewidth\": 0, \"ticks\": \"\"}}, \"type\": \"scatter\"}], \"scatter3d\": [{\"line\": {\"colorbar\": {\"outlinewidth\": 0, \"ticks\": \"\"}}, \"marker\": {\"colorbar\": {\"outlinewidth\": 0, \"ticks\": \"\"}}, \"type\": \"scatter3d\"}], \"scattercarpet\": [{\"marker\": {\"colorbar\": {\"outlinewidth\": 0, \"ticks\": \"\"}}, \"type\": \"scattercarpet\"}], \"scattergeo\": [{\"marker\": {\"colorbar\": {\"outlinewidth\": 0, \"ticks\": \"\"}}, \"type\": \"scattergeo\"}], \"scattergl\": [{\"marker\": {\"colorbar\": {\"outlinewidth\": 0, \"ticks\": \"\"}}, \"type\": \"scattergl\"}], \"scattermapbox\": [{\"marker\": {\"colorbar\": {\"outlinewidth\": 0, \"ticks\": \"\"}}, \"type\": \"scattermapbox\"}], \"scatterpolar\": [{\"marker\": {\"colorbar\": {\"outlinewidth\": 0, \"ticks\": \"\"}}, \"type\": \"scatterpolar\"}], \"scatterpolargl\": [{\"marker\": {\"colorbar\": {\"outlinewidth\": 0, \"ticks\": \"\"}}, \"type\": \"scatterpolargl\"}], \"scatterternary\": [{\"marker\": {\"colorbar\": {\"outlinewidth\": 0, \"ticks\": \"\"}}, \"type\": \"scatterternary\"}], \"surface\": [{\"colorbar\": {\"outlinewidth\": 0, \"ticks\": \"\"}, \"colorscale\": [[0.0, \"#0d0887\"], [0.1111111111111111, \"#46039f\"], [0.2222222222222222, \"#7201a8\"], [0.3333333333333333, \"#9c179e\"], [0.4444444444444444, \"#bd3786\"], [0.5555555555555556, \"#d8576b\"], [0.6666666666666666, \"#ed7953\"], [0.7777777777777778, \"#fb9f3a\"], [0.8888888888888888, \"#fdca26\"], [1.0, \"#f0f921\"]], \"type\": \"surface\"}], \"table\": [{\"cells\": {\"fill\": {\"color\": \"#EBF0F8\"}, \"line\": {\"color\": \"white\"}}, \"header\": {\"fill\": {\"color\": \"#C8D4E3\"}, \"line\": {\"color\": \"white\"}}, \"type\": \"table\"}]}, \"layout\": {\"annotationdefaults\": {\"arrowcolor\": \"#2a3f5f\", \"arrowhead\": 0, \"arrowwidth\": 1}, \"coloraxis\": {\"colorbar\": {\"outlinewidth\": 0, \"ticks\": \"\"}}, \"colorscale\": {\"diverging\": [[0, \"#8e0152\"], [0.1, \"#c51b7d\"], [0.2, \"#de77ae\"], [0.3, \"#f1b6da\"], [0.4, \"#fde0ef\"], [0.5, \"#f7f7f7\"], [0.6, \"#e6f5d0\"], [0.7, \"#b8e186\"], [0.8, \"#7fbc41\"], [0.9, \"#4d9221\"], [1, \"#276419\"]], \"sequential\": [[0.0, \"#0d0887\"], [0.1111111111111111, \"#46039f\"], [0.2222222222222222, \"#7201a8\"], [0.3333333333333333, \"#9c179e\"], [0.4444444444444444, \"#bd3786\"], [0.5555555555555556, \"#d8576b\"], [0.6666666666666666, \"#ed7953\"], [0.7777777777777778, \"#fb9f3a\"], [0.8888888888888888, \"#fdca26\"], [1.0, \"#f0f921\"]], \"sequentialminus\": [[0.0, \"#0d0887\"], [0.1111111111111111, \"#46039f\"], [0.2222222222222222, \"#7201a8\"], [0.3333333333333333, \"#9c179e\"], [0.4444444444444444, \"#bd3786\"], [0.5555555555555556, \"#d8576b\"], [0.6666666666666666, \"#ed7953\"], [0.7777777777777778, \"#fb9f3a\"], [0.8888888888888888, \"#fdca26\"], [1.0, \"#f0f921\"]]}, \"colorway\": [\"#636efa\", \"#EF553B\", \"#00cc96\", \"#ab63fa\", \"#FFA15A\", \"#19d3f3\", \"#FF6692\", \"#B6E880\", \"#FF97FF\", \"#FECB52\"], \"font\": {\"color\": \"#2a3f5f\"}, \"geo\": {\"bgcolor\": \"white\", \"lakecolor\": \"white\", \"landcolor\": \"#E5ECF6\", \"showlakes\": true, \"showland\": true, \"subunitcolor\": \"white\"}, \"hoverlabel\": {\"align\": \"left\"}, \"hovermode\": \"closest\", \"mapbox\": {\"style\": \"light\"}, \"paper_bgcolor\": \"white\", \"plot_bgcolor\": \"#E5ECF6\", \"polar\": {\"angularaxis\": {\"gridcolor\": \"white\", \"linecolor\": \"white\", \"ticks\": \"\"}, \"bgcolor\": \"#E5ECF6\", \"radialaxis\": {\"gridcolor\": \"white\", \"linecolor\": \"white\", \"ticks\": \"\"}}, \"scene\": {\"xaxis\": {\"backgroundcolor\": \"#E5ECF6\", \"gridcolor\": \"white\", \"gridwidth\": 2, \"linecolor\": \"white\", \"showbackground\": true, \"ticks\": \"\", \"zerolinecolor\": \"white\"}, \"yaxis\": {\"backgroundcolor\": \"#E5ECF6\", \"gridcolor\": \"white\", \"gridwidth\": 2, \"linecolor\": \"white\", \"showbackground\": true, \"ticks\": \"\", \"zerolinecolor\": \"white\"}, \"zaxis\": {\"backgroundcolor\": \"#E5ECF6\", \"gridcolor\": \"white\", \"gridwidth\": 2, \"linecolor\": \"white\", \"showbackground\": true, \"ticks\": \"\", \"zerolinecolor\": \"white\"}}, \"shapedefaults\": {\"line\": {\"color\": \"#2a3f5f\"}}, \"ternary\": {\"aaxis\": {\"gridcolor\": \"white\", \"linecolor\": \"white\", \"ticks\": \"\"}, \"baxis\": {\"gridcolor\": \"white\", \"linecolor\": \"white\", \"ticks\": \"\"}, \"bgcolor\": \"#E5ECF6\", \"caxis\": {\"gridcolor\": \"white\", \"linecolor\": \"white\", \"ticks\": \"\"}}, \"title\": {\"x\": 0.05}, \"xaxis\": {\"automargin\": true, \"gridcolor\": \"white\", \"linecolor\": \"white\", \"ticks\": \"\", \"title\": {\"standoff\": 15}, \"zerolinecolor\": \"white\", \"zerolinewidth\": 2}, \"yaxis\": {\"automargin\": true, \"gridcolor\": \"white\", \"linecolor\": \"white\", \"ticks\": \"\", \"title\": {\"standoff\": 15}, \"zerolinecolor\": \"white\", \"zerolinewidth\": 2}}}, \"title\": {\"text\": \"tfidf score for 20 most common & unique words\"}},\n",
       "                        {\"responsive\": true}\n",
       "                    ).then(function(){\n",
       "                            \n",
       "var gd = document.getElementById('90677b38-895f-4692-9ae5-f59f9d2d361d');\n",
       "var x = new MutationObserver(function (mutations, observer) {{\n",
       "        var display = window.getComputedStyle(gd).display;\n",
       "        if (!display || display === 'none') {{\n",
       "            console.log([gd, 'removed!']);\n",
       "            Plotly.purge(gd);\n",
       "            observer.disconnect();\n",
       "        }}\n",
       "}});\n",
       "\n",
       "// Listen for the removal of the full notebook cells\n",
       "var notebookContainer = gd.closest('#notebook-container');\n",
       "if (notebookContainer) {{\n",
       "    x.observe(notebookContainer, {childList: true});\n",
       "}}\n",
       "\n",
       "// Listen for the clearing of the current output cell\n",
       "var outputEl = gd.closest('.output');\n",
       "if (outputEl) {{\n",
       "    x.observe(outputEl, {childList: true});\n",
       "}}\n",
       "\n",
       "                        })\n",
       "                };\n",
       "                });\n",
       "            </script>\n",
       "        </div>"
      ]
     },
     "metadata": {},
     "output_type": "display_data"
    }
   ],
   "source": [
    "# grouped bar chart\n",
    "fig = go.Figure(data=[\n",
    "    go.Bar(name='Data Analyst', x=tfidf_analysis.head(20).index.values, y=tfidf_analysis['Data Analyst']),\n",
    "    go.Bar(name='Data Scientist', x=tfidf_analysis.head(20).index.values, y=tfidf_analysis['Data Scientist']),\n",
    "    go.Bar(name='Data Engineer', x=tfidf_analysis.head(20).index.values, y=tfidf_analysis['Data Engineer'])\n",
    "])\n",
    "# Change the bar mode\n",
    "fig.update_layout(barmode='group',title=\"tfidf score for 20 most common & unique words\")\n",
    "fig.show()"
   ]
  },
  {
   "cell_type": "code",
   "execution_count": 161,
   "metadata": {},
   "outputs": [
    {
     "data": {
      "application/vnd.plotly.v1+json": {
       "config": {
        "plotlyServerURL": "https://plot.ly"
       },
       "data": [
        {
         "colorscale": [
          [
           0,
           "rgb(247,251,255)"
          ],
          [
           0.125,
           "rgb(222,235,247)"
          ],
          [
           0.25,
           "rgb(198,219,239)"
          ],
          [
           0.375,
           "rgb(158,202,225)"
          ],
          [
           0.5,
           "rgb(107,174,214)"
          ],
          [
           0.625,
           "rgb(66,146,198)"
          ],
          [
           0.75,
           "rgb(33,113,181)"
          ],
          [
           0.875,
           "rgb(8,81,156)"
          ],
          [
           1,
           "rgb(8,48,107)"
          ]
         ],
         "hoverongaps": false,
         "type": "heatmap",
         "x": [
          "way",
          "research",
          "environment",
          "group",
          "hours",
          "germany",
          "programming",
          "und",
          "training",
          "exciting",
          "technical",
          "well",
          "technologies",
          "infrastructure",
          "great",
          "world",
          "implementation",
          "processing",
          "years",
          "part"
         ],
         "y": [
          "Data Analyst",
          "Data Scientist",
          "Data Engineer"
         ],
         "z": [
          [
           0.9314854310162306,
           0.9087824050958643,
           0.8544500434206305,
           0.7582804093328256,
           0.7384607014518044,
           0.7195074070407328,
           0.7168487451067078,
           0.6910342589422962,
           0.6768270917588244,
           0.6644552973216671,
           0.6342850238255523,
           0.6120833670584436,
           0.585152059964329,
           0.5765444085116677,
           0.5675537864717565,
           0.5408921392083439,
           0.5300749790495302,
           0.5136216545341222,
           0.5027499363304564,
           0.4835649331754275,
           0.4709509820512995,
           0.47005341687673036,
           0.4642857908224003,
           0.46426501643795537,
           0.4475065332190635,
           0.44614251772832747,
           0.444937668397278,
           0.4445002574460916,
           0.44436078277601926,
           0.4380848147578732,
           0.43262222577225695,
           0.42336521889928574,
           0.42318019117743405,
           0.41160222911070077,
           0.4058283652313939,
           0.4029214664739495,
           0.40152665981106367,
           0.4000858967305722,
           0.3860199418870789,
           0.38510570984872855,
           0.3826067926558442,
           0.3777272118795257,
           0.376582353944063,
           0.37381075134253017,
           0.3640370016675131,
           0.36166958422013334,
           0.35985984988321595,
           0.3584759948990031,
           0.3562535528358574,
           0.351506685573237,
           0.3474312437830622,
           0.3428484387879766,
           0.34229186800273914,
           0.34103467727617637,
           0.3365975937465923,
           0.3267750713363214,
           0.3240986950644027,
           0.32208010267345755,
           0.32021634198521615,
           0.3161700056549067,
           0.3120849360560088,
           0.31079842230088156,
           0.3059584995673293,
           0.30397696210956093,
           0.303253366498137,
           0.30213994987757065,
           0.30205167035465685,
           0.30099008950303074,
           0.2976067089089869,
           0.29663905867475016,
           0.2953391732795433,
           0.2948470968726996,
           0.2947841446479046,
           0.29384047731302204,
           0.2934868234230083,
           0.2927072612574577,
           0.2924101721433422,
           0.29003814201578265,
           0.28677224117363737,
           0.28608111817254117,
           0.28491157841010967,
           0.2833579057373013,
           0.27916333554187384,
           0.27902358955852335,
           0.278372260038148,
           0.2782230207746639,
           0.2778690804614028,
           0.27669799153910013,
           0.2752840280754223,
           0.2719729657481947,
           0.2704427292053271,
           0.27013927479650224,
           0.26881318177183045,
           0.26798466549322575,
           0.2676095577955041,
           0.26588592109766734,
           0.26352094321696573,
           0.25993303939890416,
           0.25950199545865565,
           0.2588171268875644,
           0.25664876614205373,
           0.25582811522133886,
           0.254932686175545,
           0.25396327396978763,
           0.2535806407673281,
           0.2526439581329627,
           0.2521819984149532,
           0.24983634299019944,
           0.2488522169525049,
           0.24799036558557613,
           0.24771903229290232,
           0.24658740880211208,
           0.24455912519823597,
           0.24154892943619616,
           0.24083213810445,
           0.23968882518795015,
           0.23947298736151068,
           0.23798821804923964,
           0.23785762792772744,
           0.2366690144342464,
           0.23359850146594058,
           0.23303999056972013,
           0.23244136977124558,
           0.23079275169131075,
           0.23025569356473682,
           0.22624329586073447,
           0.22607966165489682,
           0.22367900786959924,
           0.2229863868403994,
           0.21980672551120992,
           0.21978811436177254,
           0.21847327505599984,
           0.2183729500444926,
           0.21684610192385223,
           0.21558077023442587,
           0.2153678012914794,
           0.21528647380555457,
           0.21472077312134685,
           0.21389669910914758,
           0.21377927466766944,
           0.21377594090076232,
           0.21225899344787422,
           0.2122128428579272,
           0.21032937469539303,
           0.20931316080211443,
           0.20876138840897085,
           0.2082889485189593,
           0.20762596194376157,
           0.20636029710195747,
           0.20607548330210218,
           0.2058740649436058,
           0.20564368168383954,
           0.20235026451387914,
           0.2016405367449592,
           0.2005798416426084,
           0.19894164334547396,
           0.19739272832777915,
           0.19697356900818486,
           0.1947446142214894,
           0.19342789425117377,
           0.19333043313137013,
           0.19318146526345573,
           0.19300518398832425,
           0.1929802703543327,
           0.18997289029013564,
           0.18992408715330925,
           0.1895853118169105,
           0.18944949880023115,
           0.18522674829609678,
           0.18479181160439329,
           0.18307285588176206,
           0.1824137049040884,
           0.18062072684860825,
           0.1805117609406468,
           0.1796654736203097,
           0.17965264848250873,
           0.17830805602673572,
           0.17789840569742027,
           0.17764098943507145,
           0.17721293043495145,
           0.176394233525594,
           0.17620654144264086,
           0.1753401230168085,
           0.1752581593108674,
           0.1734451571271163,
           0.1714450806183202,
           0.16709880407443706,
           0.16707633116346088,
           0.1647851684540367,
           0.16183919360550408,
           0.1476257241603214,
           0.14311610166202934,
           0.1369873417517599,
           0.1327283833860646,
           0.12808653679408646,
           0.12599468465755084,
           0.11595449663600482,
           0.11320667814465014,
           0.11200648888159323,
           0.10130515484322303
          ],
          [
           0.3587189243787728,
           0.8558748580252851,
           0.5892200258077914,
           0.43893542088883175,
           0.7132960197890318,
           0.6470223344682545,
           0.6750956242289864,
           0.2560706754269954,
           0.48194107999792873,
           0.09336982349008792,
           0.45408640495523517,
           0.30394430927628907,
           0.42666299221605836,
           0.14987642430314904,
           0.40009764782637103,
           0.3063514491142987,
           0.377844919155021,
           0.1757670556901348,
           0.14055360928484387,
           0.2916867096207652,
           0.4233935593382449,
           0.13746510912054613,
           0.3487149954536099,
           0.5388134212246756,
           0.18384345306989366,
           0.2336865664462058,
           0.21288884443558562,
           0.37479448785692726,
           0.14499163710862634,
           0.2671399472175544,
           0.17659180093707488,
           0.2379729179455942,
           0.349972786113916,
           0.23447246460188745,
           0.34750762040416544,
           0.20085236740495258,
           0.3630215895396542,
           0.4241304880547801,
           0.2502496381195845,
           0.20845410411531765,
           0.5241586275501507,
           0.41948967243024,
           0.3091962088659399,
           0.24495092162181378,
           0.2799884263984311,
           0.3001542325867639,
           0.2697448465166541,
           0.20422775679514507,
           0.31639885129112605,
           0.18098516270888182,
           0.2719303270166392,
           0.1743869100370261,
           0.17953810981374754,
           0.29032025933419997,
           0.15252455252201783,
           0.2208441671206697,
           0.415925625927296,
           0.37479448785692726,
           0.530540786802681,
           0.3340466617502662,
           0.19599844433867122,
           0.144919305380333,
           0.2356496554573266,
           0.3582323431794888,
           0.16152022678297762,
           0.1609271936136033,
           0.25948863566289976,
           0.3334654765791875,
           0.2104902896288675,
           0.24260423251624913,
           0.2729520147873253,
           0.29763515565639914,
           0.32245797501232015,
           0.20103750386611244,
           0.2862979433264245,
           0.3568758579099208,
           0.29068144792384726,
           0.24272614893458133,
           0.1871063447293824,
           0.24766093048682727,
           0.336964496530024,
           0.19247853561613817,
           0.31805111094920197,
           0.6030294879128005,
           0.33666665709781785,
           0.2306358962167545,
           0.37056364884409304,
           0.20480061958835424,
           0.16049942183163818,
           0.21298703099980731,
           0.34165921601096,
           0.28061772469160906,
           0.20511300509716862,
           0.36635221543785734,
           0.24587992245355805,
           0.12974675810222433,
           0.4977184480966348,
           0.22824358579392254,
           0.1292366377476974,
           0.14146751623514367,
           0.2921322242102345,
           0.41154053513642047,
           0.45306734647021607,
           0.1623100574626818,
           0.1689515732620789,
           0.22069376821072642,
           0.23232077659481196,
           0.3470835358215024,
           0.13649861025761664,
           0.24547519432857487,
           0.2180143102584623,
           0.1527959403505586,
           0.34809764071743626,
           0.2332591100624533,
           0.26274652403444726,
           0.20357130804574955,
           0.17335085608853562,
           0.29462851689637776,
           0.18371084561278703,
           0.20052844033137562,
           0.26618285144882153,
           0.2780268173965229,
           0.1949176331597358,
           0.4205557893047061,
           0.17290824427664908,
           0.3308823497887415,
           0.21404668958851586,
           0.20504390414259321,
           0.17004491686754614,
           0.3193289367396121,
           0.16349442680342458,
           0.3956119856247371,
           0.35930289723953696,
           0.30622540301693135,
           0.18476922534827697,
           0.24564152301025513,
           0.34284278421841097,
           0.1426942267505836,
           0.22960123868559348,
           0.21556875928106164,
           0.20318996362881048,
           0.25817224706217223,
           0.24493512266001544,
           0.19567473016960898,
           0.13646049116030612,
           0.19798777333067213,
           0.3250686741964404,
           0.17496768602467863,
           0.13787792345125188,
           0.19347962759473925,
           0.2342911228572384,
           0.34891283635623066,
           0.7051820858209465,
           0.18135099710303143,
           0.29024249203072117,
           0.1381007540386646,
           0.30331028080010325,
           0.2597419906984168,
           0.3769535292694362,
           0.3783133686365984,
           0.41738166089162104,
           0.25802416804282285,
           0.22558332323807884,
           0.22596463494668392,
           0.2365441288234248,
           0.37199964392866436,
           0.15656555207494408,
           0.2429874683083621,
           0.23542628260199538,
           0.26756691979458286,
           0.25390036181726705,
           0.25877801326236743,
           0.3908638790053665,
           0.30712735676158526,
           0.23873177504651,
           0.20759862234864604,
           0.12754299317557513,
           0.1655289062779506,
           0.20807790355498842,
           0.16454170493255701,
           0.2908042494804778,
           0.3322118880074943,
           0.38272291430859895,
           0.13095575239760118,
           0.4356997485273993,
           0.3334908716374518,
           0.30618073644828503,
           0.23024132551784762,
           0.22322463508805668,
           0.2739274515680112,
           0.26704003538841836,
           0.2990894849909733,
           0.18075305226296962,
           0.20954530893528947,
           0.1749061413063993,
           0.5422034044861849,
           0.1190933636360985,
           0.18036514820060853,
           0.25068024749052475,
           0.28341767044337746
          ],
          [
           0.4933794297516128,
           0.9357254489714533,
           0.5919556075042178,
           0.5145944957129609,
           0.767742502341571,
           0.6981580150889037,
           0.4845948702184493,
           0.3931121177117082,
           0.5641649089288435,
           0.14494356710331616,
           0.5412249583072984,
           0.6119916738999879,
           0.4986106773744748,
           0.735322621564163,
           0.391071170055561,
           0.3378139528245215,
           0.5377281629471815,
           0.3459839166022049,
           0.23985367171289826,
           0.4047310171673076,
           0.4346579436212028,
           0.3721009599264305,
           0.4498217337304466,
           0.37578796806906545,
           0.30707814228420593,
           0.42633080830242304,
           0.21257341635429666,
           0.24642518733121158,
           0.5056178284034032,
           0.41532012027502474,
           0.34485862740008744,
           0.24093062398814247,
           0.4862608692336002,
           0.4249188540183079,
           0.28099686328525997,
           0.32909184654009505,
           0.6010589972155458,
           0.3388221526692728,
           0.4179839513752085,
           0.25428062130161133,
           0.48706044384944264,
           0.3760660316766735,
           0.23684660419450115,
           0.39804901704922,
           0.1784001016320602,
           0.2787548835148026,
           0.34538271300970047,
           0.24824991088863144,
           0.38443715597531847,
           0.33618780673921733,
           0.41837259373377916,
           0.2976806660436636,
           0.26914500344241393,
           0.44984689351632107,
           0.2306613634202417,
           0.30592200850728757,
           0.354627480286498,
           0.23706540857360242,
           0.514581291908678,
           0.3494131324558735,
           0.2374567201088026,
           0.27937860722834634,
           0.3684569036110612,
           0.44930743249147503,
           0.2812021316148467,
           0.28016967769456813,
           0.2697567575135246,
           0.3080926463083982,
           0.2621865328932813,
           0.2850822159583966,
           0.29081531153477447,
           0.404316270800221,
           0.3227561198020765,
           0.4587037145263049,
           0.34439068805274187,
           0.3497671401801663,
           0.2593597179654714,
           0.37532051641883035,
           0.23610155782544817,
           0.2393042883836858,
           0.2628023043860218,
           0.2728817649059095,
           0.3364453162283942,
           0.4737157010393713,
           0.4603699479908522,
           0.42903617212054335,
           0.46176039817323694,
           0.34382640434918665,
           0.19680036391076314,
           0.2720283325597566,
           0.5750472963823947,
           0.3044356685249286,
           0.27591599755163193,
           0.3909520943629524,
           0.35463471921507833,
           0.5533885314754831,
           0.3398653334321735,
           0.2353054082000578,
           0.3789337860684197,
           0.15354961985130552,
           0.477807641514397,
           0.49735196480703164,
           0.462248714012833,
           0.1983956312802924,
           0.21673240466444618,
           0.34436393452009023,
           0.2418982361339012,
           0.32670170851621466,
           0.41598530125294225,
           0.24288212491303088,
           0.26886866566155826,
           0.3208005689184748,
           0.3300093193337558,
           0.2567930446941379,
           0.4904044989226911,
           0.21741262184120996,
           0.34866371509957633,
           0.2158525635984444,
           0.29445188462045174,
           0.3701923540440186,
           0.5310293975173365,
           0.9021997731916537,
           0.34445079563452563,
           0.31328067662273856,
           0.5284955311717595,
           0.23652121776092913,
           0.2875933898754961,
           0.36022618246423416,
           0.21839319174593524,
           0.7736779534245659,
           0.20926846293980195,
           0.484262627123906,
           0.3587876679288617,
           0.605359806411606,
           0.33527974014988216,
           0.20811729183736216,
           0.19532705347705742,
           0.2379897363302238,
           0.26758181151553,
           0.41552713469889213,
           0.31658541367682197,
           0.5125357716450563,
           0.5095009827280251,
           0.33804543821460953,
           0.42245954195140306,
           0.2690916683621833,
           0.366657154658091,
           0.41904960821960213,
           0.3714802550757948,
           0.3248982655744288,
           0.3434816309591605,
           0.5923659667690335,
           0.5704155386991379,
           0.23540507292895593,
           0.5452600150541902,
           0.24488833356593995,
           0.2310826228472212,
           0.2718574211788388,
           0.25370244433248273,
           0.2976772172082867,
           0.2783760139854521,
           0.3008609240818733,
           0.24819955061084634,
           0.45091370674899595,
           0.32743786053293145,
           0.40003289145035537,
           0.5643700502829389,
           0.31182149514145785,
           0.2806396201400457,
           0.2351961235506235,
           0.40958394019961597,
           0.3716020704171861,
           0.434882531007391,
           0.4474953071240966,
           0.3501556703564906,
           0.3590486883884454,
           0.22357012130109574,
           0.22736005265922274,
           0.2975347449356417,
           0.35116952742626256,
           0.4294710877936725,
           0.6650931602843065,
           0.34194442945668047,
           0.35255085243546797,
           0.6350027946367219,
           0.3277421674102602,
           0.3025460972631069,
           0.2349476970627771,
           0.2113370550764701,
           0.48533512566823556,
           0.7331532506748981,
           0.3867360893414161,
           0.2696611942389149,
           0.29913509885303874,
           0.3821290887705286,
           0.11945719388222983,
           0.2089113365240868,
           0.24423809646153122,
           0.540061820322538,
           0.4697261582275665
          ]
         ]
        }
       ],
       "layout": {
        "template": {
         "data": {
          "bar": [
           {
            "error_x": {
             "color": "#2a3f5f"
            },
            "error_y": {
             "color": "#2a3f5f"
            },
            "marker": {
             "line": {
              "color": "#E5ECF6",
              "width": 0.5
             }
            },
            "type": "bar"
           }
          ],
          "barpolar": [
           {
            "marker": {
             "line": {
              "color": "#E5ECF6",
              "width": 0.5
             }
            },
            "type": "barpolar"
           }
          ],
          "carpet": [
           {
            "aaxis": {
             "endlinecolor": "#2a3f5f",
             "gridcolor": "white",
             "linecolor": "white",
             "minorgridcolor": "white",
             "startlinecolor": "#2a3f5f"
            },
            "baxis": {
             "endlinecolor": "#2a3f5f",
             "gridcolor": "white",
             "linecolor": "white",
             "minorgridcolor": "white",
             "startlinecolor": "#2a3f5f"
            },
            "type": "carpet"
           }
          ],
          "choropleth": [
           {
            "colorbar": {
             "outlinewidth": 0,
             "ticks": ""
            },
            "type": "choropleth"
           }
          ],
          "contour": [
           {
            "colorbar": {
             "outlinewidth": 0,
             "ticks": ""
            },
            "colorscale": [
             [
              0,
              "#0d0887"
             ],
             [
              0.1111111111111111,
              "#46039f"
             ],
             [
              0.2222222222222222,
              "#7201a8"
             ],
             [
              0.3333333333333333,
              "#9c179e"
             ],
             [
              0.4444444444444444,
              "#bd3786"
             ],
             [
              0.5555555555555556,
              "#d8576b"
             ],
             [
              0.6666666666666666,
              "#ed7953"
             ],
             [
              0.7777777777777778,
              "#fb9f3a"
             ],
             [
              0.8888888888888888,
              "#fdca26"
             ],
             [
              1,
              "#f0f921"
             ]
            ],
            "type": "contour"
           }
          ],
          "contourcarpet": [
           {
            "colorbar": {
             "outlinewidth": 0,
             "ticks": ""
            },
            "type": "contourcarpet"
           }
          ],
          "heatmap": [
           {
            "colorbar": {
             "outlinewidth": 0,
             "ticks": ""
            },
            "colorscale": [
             [
              0,
              "#0d0887"
             ],
             [
              0.1111111111111111,
              "#46039f"
             ],
             [
              0.2222222222222222,
              "#7201a8"
             ],
             [
              0.3333333333333333,
              "#9c179e"
             ],
             [
              0.4444444444444444,
              "#bd3786"
             ],
             [
              0.5555555555555556,
              "#d8576b"
             ],
             [
              0.6666666666666666,
              "#ed7953"
             ],
             [
              0.7777777777777778,
              "#fb9f3a"
             ],
             [
              0.8888888888888888,
              "#fdca26"
             ],
             [
              1,
              "#f0f921"
             ]
            ],
            "type": "heatmap"
           }
          ],
          "heatmapgl": [
           {
            "colorbar": {
             "outlinewidth": 0,
             "ticks": ""
            },
            "colorscale": [
             [
              0,
              "#0d0887"
             ],
             [
              0.1111111111111111,
              "#46039f"
             ],
             [
              0.2222222222222222,
              "#7201a8"
             ],
             [
              0.3333333333333333,
              "#9c179e"
             ],
             [
              0.4444444444444444,
              "#bd3786"
             ],
             [
              0.5555555555555556,
              "#d8576b"
             ],
             [
              0.6666666666666666,
              "#ed7953"
             ],
             [
              0.7777777777777778,
              "#fb9f3a"
             ],
             [
              0.8888888888888888,
              "#fdca26"
             ],
             [
              1,
              "#f0f921"
             ]
            ],
            "type": "heatmapgl"
           }
          ],
          "histogram": [
           {
            "marker": {
             "colorbar": {
              "outlinewidth": 0,
              "ticks": ""
             }
            },
            "type": "histogram"
           }
          ],
          "histogram2d": [
           {
            "colorbar": {
             "outlinewidth": 0,
             "ticks": ""
            },
            "colorscale": [
             [
              0,
              "#0d0887"
             ],
             [
              0.1111111111111111,
              "#46039f"
             ],
             [
              0.2222222222222222,
              "#7201a8"
             ],
             [
              0.3333333333333333,
              "#9c179e"
             ],
             [
              0.4444444444444444,
              "#bd3786"
             ],
             [
              0.5555555555555556,
              "#d8576b"
             ],
             [
              0.6666666666666666,
              "#ed7953"
             ],
             [
              0.7777777777777778,
              "#fb9f3a"
             ],
             [
              0.8888888888888888,
              "#fdca26"
             ],
             [
              1,
              "#f0f921"
             ]
            ],
            "type": "histogram2d"
           }
          ],
          "histogram2dcontour": [
           {
            "colorbar": {
             "outlinewidth": 0,
             "ticks": ""
            },
            "colorscale": [
             [
              0,
              "#0d0887"
             ],
             [
              0.1111111111111111,
              "#46039f"
             ],
             [
              0.2222222222222222,
              "#7201a8"
             ],
             [
              0.3333333333333333,
              "#9c179e"
             ],
             [
              0.4444444444444444,
              "#bd3786"
             ],
             [
              0.5555555555555556,
              "#d8576b"
             ],
             [
              0.6666666666666666,
              "#ed7953"
             ],
             [
              0.7777777777777778,
              "#fb9f3a"
             ],
             [
              0.8888888888888888,
              "#fdca26"
             ],
             [
              1,
              "#f0f921"
             ]
            ],
            "type": "histogram2dcontour"
           }
          ],
          "mesh3d": [
           {
            "colorbar": {
             "outlinewidth": 0,
             "ticks": ""
            },
            "type": "mesh3d"
           }
          ],
          "parcoords": [
           {
            "line": {
             "colorbar": {
              "outlinewidth": 0,
              "ticks": ""
             }
            },
            "type": "parcoords"
           }
          ],
          "pie": [
           {
            "automargin": true,
            "type": "pie"
           }
          ],
          "scatter": [
           {
            "marker": {
             "colorbar": {
              "outlinewidth": 0,
              "ticks": ""
             }
            },
            "type": "scatter"
           }
          ],
          "scatter3d": [
           {
            "line": {
             "colorbar": {
              "outlinewidth": 0,
              "ticks": ""
             }
            },
            "marker": {
             "colorbar": {
              "outlinewidth": 0,
              "ticks": ""
             }
            },
            "type": "scatter3d"
           }
          ],
          "scattercarpet": [
           {
            "marker": {
             "colorbar": {
              "outlinewidth": 0,
              "ticks": ""
             }
            },
            "type": "scattercarpet"
           }
          ],
          "scattergeo": [
           {
            "marker": {
             "colorbar": {
              "outlinewidth": 0,
              "ticks": ""
             }
            },
            "type": "scattergeo"
           }
          ],
          "scattergl": [
           {
            "marker": {
             "colorbar": {
              "outlinewidth": 0,
              "ticks": ""
             }
            },
            "type": "scattergl"
           }
          ],
          "scattermapbox": [
           {
            "marker": {
             "colorbar": {
              "outlinewidth": 0,
              "ticks": ""
             }
            },
            "type": "scattermapbox"
           }
          ],
          "scatterpolar": [
           {
            "marker": {
             "colorbar": {
              "outlinewidth": 0,
              "ticks": ""
             }
            },
            "type": "scatterpolar"
           }
          ],
          "scatterpolargl": [
           {
            "marker": {
             "colorbar": {
              "outlinewidth": 0,
              "ticks": ""
             }
            },
            "type": "scatterpolargl"
           }
          ],
          "scatterternary": [
           {
            "marker": {
             "colorbar": {
              "outlinewidth": 0,
              "ticks": ""
             }
            },
            "type": "scatterternary"
           }
          ],
          "surface": [
           {
            "colorbar": {
             "outlinewidth": 0,
             "ticks": ""
            },
            "colorscale": [
             [
              0,
              "#0d0887"
             ],
             [
              0.1111111111111111,
              "#46039f"
             ],
             [
              0.2222222222222222,
              "#7201a8"
             ],
             [
              0.3333333333333333,
              "#9c179e"
             ],
             [
              0.4444444444444444,
              "#bd3786"
             ],
             [
              0.5555555555555556,
              "#d8576b"
             ],
             [
              0.6666666666666666,
              "#ed7953"
             ],
             [
              0.7777777777777778,
              "#fb9f3a"
             ],
             [
              0.8888888888888888,
              "#fdca26"
             ],
             [
              1,
              "#f0f921"
             ]
            ],
            "type": "surface"
           }
          ],
          "table": [
           {
            "cells": {
             "fill": {
              "color": "#EBF0F8"
             },
             "line": {
              "color": "white"
             }
            },
            "header": {
             "fill": {
              "color": "#C8D4E3"
             },
             "line": {
              "color": "white"
             }
            },
            "type": "table"
           }
          ]
         },
         "layout": {
          "annotationdefaults": {
           "arrowcolor": "#2a3f5f",
           "arrowhead": 0,
           "arrowwidth": 1
          },
          "coloraxis": {
           "colorbar": {
            "outlinewidth": 0,
            "ticks": ""
           }
          },
          "colorscale": {
           "diverging": [
            [
             0,
             "#8e0152"
            ],
            [
             0.1,
             "#c51b7d"
            ],
            [
             0.2,
             "#de77ae"
            ],
            [
             0.3,
             "#f1b6da"
            ],
            [
             0.4,
             "#fde0ef"
            ],
            [
             0.5,
             "#f7f7f7"
            ],
            [
             0.6,
             "#e6f5d0"
            ],
            [
             0.7,
             "#b8e186"
            ],
            [
             0.8,
             "#7fbc41"
            ],
            [
             0.9,
             "#4d9221"
            ],
            [
             1,
             "#276419"
            ]
           ],
           "sequential": [
            [
             0,
             "#0d0887"
            ],
            [
             0.1111111111111111,
             "#46039f"
            ],
            [
             0.2222222222222222,
             "#7201a8"
            ],
            [
             0.3333333333333333,
             "#9c179e"
            ],
            [
             0.4444444444444444,
             "#bd3786"
            ],
            [
             0.5555555555555556,
             "#d8576b"
            ],
            [
             0.6666666666666666,
             "#ed7953"
            ],
            [
             0.7777777777777778,
             "#fb9f3a"
            ],
            [
             0.8888888888888888,
             "#fdca26"
            ],
            [
             1,
             "#f0f921"
            ]
           ],
           "sequentialminus": [
            [
             0,
             "#0d0887"
            ],
            [
             0.1111111111111111,
             "#46039f"
            ],
            [
             0.2222222222222222,
             "#7201a8"
            ],
            [
             0.3333333333333333,
             "#9c179e"
            ],
            [
             0.4444444444444444,
             "#bd3786"
            ],
            [
             0.5555555555555556,
             "#d8576b"
            ],
            [
             0.6666666666666666,
             "#ed7953"
            ],
            [
             0.7777777777777778,
             "#fb9f3a"
            ],
            [
             0.8888888888888888,
             "#fdca26"
            ],
            [
             1,
             "#f0f921"
            ]
           ]
          },
          "colorway": [
           "#636efa",
           "#EF553B",
           "#00cc96",
           "#ab63fa",
           "#FFA15A",
           "#19d3f3",
           "#FF6692",
           "#B6E880",
           "#FF97FF",
           "#FECB52"
          ],
          "font": {
           "color": "#2a3f5f"
          },
          "geo": {
           "bgcolor": "white",
           "lakecolor": "white",
           "landcolor": "#E5ECF6",
           "showlakes": true,
           "showland": true,
           "subunitcolor": "white"
          },
          "hoverlabel": {
           "align": "left"
          },
          "hovermode": "closest",
          "mapbox": {
           "style": "light"
          },
          "paper_bgcolor": "white",
          "plot_bgcolor": "#E5ECF6",
          "polar": {
           "angularaxis": {
            "gridcolor": "white",
            "linecolor": "white",
            "ticks": ""
           },
           "bgcolor": "#E5ECF6",
           "radialaxis": {
            "gridcolor": "white",
            "linecolor": "white",
            "ticks": ""
           }
          },
          "scene": {
           "xaxis": {
            "backgroundcolor": "#E5ECF6",
            "gridcolor": "white",
            "gridwidth": 2,
            "linecolor": "white",
            "showbackground": true,
            "ticks": "",
            "zerolinecolor": "white"
           },
           "yaxis": {
            "backgroundcolor": "#E5ECF6",
            "gridcolor": "white",
            "gridwidth": 2,
            "linecolor": "white",
            "showbackground": true,
            "ticks": "",
            "zerolinecolor": "white"
           },
           "zaxis": {
            "backgroundcolor": "#E5ECF6",
            "gridcolor": "white",
            "gridwidth": 2,
            "linecolor": "white",
            "showbackground": true,
            "ticks": "",
            "zerolinecolor": "white"
           }
          },
          "shapedefaults": {
           "line": {
            "color": "#2a3f5f"
           }
          },
          "ternary": {
           "aaxis": {
            "gridcolor": "white",
            "linecolor": "white",
            "ticks": ""
           },
           "baxis": {
            "gridcolor": "white",
            "linecolor": "white",
            "ticks": ""
           },
           "bgcolor": "#E5ECF6",
           "caxis": {
            "gridcolor": "white",
            "linecolor": "white",
            "ticks": ""
           }
          },
          "title": {
           "x": 0.05
          },
          "xaxis": {
           "automargin": true,
           "gridcolor": "white",
           "linecolor": "white",
           "ticks": "",
           "title": {
            "standoff": 15
           },
           "zerolinecolor": "white",
           "zerolinewidth": 2
          },
          "yaxis": {
           "automargin": true,
           "gridcolor": "white",
           "linecolor": "white",
           "ticks": "",
           "title": {
            "standoff": 15
           },
           "zerolinecolor": "white",
           "zerolinewidth": 2
          }
         }
        },
        "title": {
         "text": "Most important words in TFIDF vector analysis per job_class"
        }
       }
      },
      "text/html": [
       "<div>\n",
       "        \n",
       "        \n",
       "            <div id=\"43c15d22-86b3-4abb-9704-b31858bfeef3\" class=\"plotly-graph-div\" style=\"height:525px; width:100%;\"></div>\n",
       "            <script type=\"text/javascript\">\n",
       "                require([\"plotly\"], function(Plotly) {\n",
       "                    window.PLOTLYENV=window.PLOTLYENV || {};\n",
       "                    \n",
       "                if (document.getElementById(\"43c15d22-86b3-4abb-9704-b31858bfeef3\")) {\n",
       "                    Plotly.newPlot(\n",
       "                        '43c15d22-86b3-4abb-9704-b31858bfeef3',\n",
       "                        [{\"colorscale\": [[0.0, \"rgb(247,251,255)\"], [0.125, \"rgb(222,235,247)\"], [0.25, \"rgb(198,219,239)\"], [0.375, \"rgb(158,202,225)\"], [0.5, \"rgb(107,174,214)\"], [0.625, \"rgb(66,146,198)\"], [0.75, \"rgb(33,113,181)\"], [0.875, \"rgb(8,81,156)\"], [1.0, \"rgb(8,48,107)\"]], \"hoverongaps\": false, \"type\": \"heatmap\", \"x\": [\"way\", \"research\", \"environment\", \"group\", \"hours\", \"germany\", \"programming\", \"und\", \"training\", \"exciting\", \"technical\", \"well\", \"technologies\", \"infrastructure\", \"great\", \"world\", \"implementation\", \"processing\", \"years\", \"part\"], \"y\": [\"Data Analyst\", \"Data Scientist\", \"Data Engineer\"], \"z\": [[0.9314854310162306, 0.9087824050958643, 0.8544500434206305, 0.7582804093328256, 0.7384607014518044, 0.7195074070407328, 0.7168487451067078, 0.6910342589422962, 0.6768270917588244, 0.6644552973216671, 0.6342850238255523, 0.6120833670584436, 0.585152059964329, 0.5765444085116677, 0.5675537864717565, 0.5408921392083439, 0.5300749790495302, 0.5136216545341222, 0.5027499363304564, 0.4835649331754275, 0.4709509820512995, 0.47005341687673036, 0.4642857908224003, 0.46426501643795537, 0.4475065332190635, 0.44614251772832747, 0.444937668397278, 0.4445002574460916, 0.44436078277601926, 0.4380848147578732, 0.43262222577225695, 0.42336521889928574, 0.42318019117743405, 0.41160222911070077, 0.4058283652313939, 0.4029214664739495, 0.40152665981106367, 0.4000858967305722, 0.3860199418870789, 0.38510570984872855, 0.3826067926558442, 0.3777272118795257, 0.376582353944063, 0.37381075134253017, 0.3640370016675131, 0.36166958422013334, 0.35985984988321595, 0.3584759948990031, 0.3562535528358574, 0.351506685573237, 0.3474312437830622, 0.3428484387879766, 0.34229186800273914, 0.34103467727617637, 0.3365975937465923, 0.3267750713363214, 0.3240986950644027, 0.32208010267345755, 0.32021634198521615, 0.3161700056549067, 0.3120849360560088, 0.31079842230088156, 0.3059584995673293, 0.30397696210956093, 0.303253366498137, 0.30213994987757065, 0.30205167035465685, 0.30099008950303074, 0.2976067089089869, 0.29663905867475016, 0.2953391732795433, 0.2948470968726996, 0.2947841446479046, 0.29384047731302204, 0.2934868234230083, 0.2927072612574577, 0.2924101721433422, 0.29003814201578265, 0.28677224117363737, 0.28608111817254117, 0.28491157841010967, 0.2833579057373013, 0.27916333554187384, 0.27902358955852335, 0.278372260038148, 0.2782230207746639, 0.2778690804614028, 0.27669799153910013, 0.2752840280754223, 0.2719729657481947, 0.2704427292053271, 0.27013927479650224, 0.26881318177183045, 0.26798466549322575, 0.2676095577955041, 0.26588592109766734, 0.26352094321696573, 0.25993303939890416, 0.25950199545865565, 0.2588171268875644, 0.25664876614205373, 0.25582811522133886, 0.254932686175545, 0.25396327396978763, 0.2535806407673281, 0.2526439581329627, 0.2521819984149532, 0.24983634299019944, 0.2488522169525049, 0.24799036558557613, 0.24771903229290232, 0.24658740880211208, 0.24455912519823597, 0.24154892943619616, 0.24083213810445, 0.23968882518795015, 0.23947298736151068, 0.23798821804923964, 0.23785762792772744, 0.2366690144342464, 0.23359850146594058, 0.23303999056972013, 0.23244136977124558, 0.23079275169131075, 0.23025569356473682, 0.22624329586073447, 0.22607966165489682, 0.22367900786959924, 0.2229863868403994, 0.21980672551120992, 0.21978811436177254, 0.21847327505599984, 0.2183729500444926, 0.21684610192385223, 0.21558077023442587, 0.2153678012914794, 0.21528647380555457, 0.21472077312134685, 0.21389669910914758, 0.21377927466766944, 0.21377594090076232, 0.21225899344787422, 0.2122128428579272, 0.21032937469539303, 0.20931316080211443, 0.20876138840897085, 0.2082889485189593, 0.20762596194376157, 0.20636029710195747, 0.20607548330210218, 0.2058740649436058, 0.20564368168383954, 0.20235026451387914, 0.2016405367449592, 0.2005798416426084, 0.19894164334547396, 0.19739272832777915, 0.19697356900818486, 0.1947446142214894, 0.19342789425117377, 0.19333043313137013, 0.19318146526345573, 0.19300518398832425, 0.1929802703543327, 0.18997289029013564, 0.18992408715330925, 0.1895853118169105, 0.18944949880023115, 0.18522674829609678, 0.18479181160439329, 0.18307285588176206, 0.1824137049040884, 0.18062072684860825, 0.1805117609406468, 0.1796654736203097, 0.17965264848250873, 0.17830805602673572, 0.17789840569742027, 0.17764098943507145, 0.17721293043495145, 0.176394233525594, 0.17620654144264086, 0.1753401230168085, 0.1752581593108674, 0.1734451571271163, 0.1714450806183202, 0.16709880407443706, 0.16707633116346088, 0.1647851684540367, 0.16183919360550408, 0.1476257241603214, 0.14311610166202934, 0.1369873417517599, 0.1327283833860646, 0.12808653679408646, 0.12599468465755084, 0.11595449663600482, 0.11320667814465014, 0.11200648888159323, 0.10130515484322303], [0.3587189243787728, 0.8558748580252851, 0.5892200258077914, 0.43893542088883175, 0.7132960197890318, 0.6470223344682545, 0.6750956242289864, 0.2560706754269954, 0.48194107999792873, 0.09336982349008792, 0.45408640495523517, 0.30394430927628907, 0.42666299221605836, 0.14987642430314904, 0.40009764782637103, 0.3063514491142987, 0.377844919155021, 0.1757670556901348, 0.14055360928484387, 0.2916867096207652, 0.4233935593382449, 0.13746510912054613, 0.3487149954536099, 0.5388134212246756, 0.18384345306989366, 0.2336865664462058, 0.21288884443558562, 0.37479448785692726, 0.14499163710862634, 0.2671399472175544, 0.17659180093707488, 0.2379729179455942, 0.349972786113916, 0.23447246460188745, 0.34750762040416544, 0.20085236740495258, 0.3630215895396542, 0.4241304880547801, 0.2502496381195845, 0.20845410411531765, 0.5241586275501507, 0.41948967243024, 0.3091962088659399, 0.24495092162181378, 0.2799884263984311, 0.3001542325867639, 0.2697448465166541, 0.20422775679514507, 0.31639885129112605, 0.18098516270888182, 0.2719303270166392, 0.1743869100370261, 0.17953810981374754, 0.29032025933419997, 0.15252455252201783, 0.2208441671206697, 0.415925625927296, 0.37479448785692726, 0.530540786802681, 0.3340466617502662, 0.19599844433867122, 0.144919305380333, 0.2356496554573266, 0.3582323431794888, 0.16152022678297762, 0.1609271936136033, 0.25948863566289976, 0.3334654765791875, 0.2104902896288675, 0.24260423251624913, 0.2729520147873253, 0.29763515565639914, 0.32245797501232015, 0.20103750386611244, 0.2862979433264245, 0.3568758579099208, 0.29068144792384726, 0.24272614893458133, 0.1871063447293824, 0.24766093048682727, 0.336964496530024, 0.19247853561613817, 0.31805111094920197, 0.6030294879128005, 0.33666665709781785, 0.2306358962167545, 0.37056364884409304, 0.20480061958835424, 0.16049942183163818, 0.21298703099980731, 0.34165921601096, 0.28061772469160906, 0.20511300509716862, 0.36635221543785734, 0.24587992245355805, 0.12974675810222433, 0.4977184480966348, 0.22824358579392254, 0.1292366377476974, 0.14146751623514367, 0.2921322242102345, 0.41154053513642047, 0.45306734647021607, 0.1623100574626818, 0.1689515732620789, 0.22069376821072642, 0.23232077659481196, 0.3470835358215024, 0.13649861025761664, 0.24547519432857487, 0.2180143102584623, 0.1527959403505586, 0.34809764071743626, 0.2332591100624533, 0.26274652403444726, 0.20357130804574955, 0.17335085608853562, 0.29462851689637776, 0.18371084561278703, 0.20052844033137562, 0.26618285144882153, 0.2780268173965229, 0.1949176331597358, 0.4205557893047061, 0.17290824427664908, 0.3308823497887415, 0.21404668958851586, 0.20504390414259321, 0.17004491686754614, 0.3193289367396121, 0.16349442680342458, 0.3956119856247371, 0.35930289723953696, 0.30622540301693135, 0.18476922534827697, 0.24564152301025513, 0.34284278421841097, 0.1426942267505836, 0.22960123868559348, 0.21556875928106164, 0.20318996362881048, 0.25817224706217223, 0.24493512266001544, 0.19567473016960898, 0.13646049116030612, 0.19798777333067213, 0.3250686741964404, 0.17496768602467863, 0.13787792345125188, 0.19347962759473925, 0.2342911228572384, 0.34891283635623066, 0.7051820858209465, 0.18135099710303143, 0.29024249203072117, 0.1381007540386646, 0.30331028080010325, 0.2597419906984168, 0.3769535292694362, 0.3783133686365984, 0.41738166089162104, 0.25802416804282285, 0.22558332323807884, 0.22596463494668392, 0.2365441288234248, 0.37199964392866436, 0.15656555207494408, 0.2429874683083621, 0.23542628260199538, 0.26756691979458286, 0.25390036181726705, 0.25877801326236743, 0.3908638790053665, 0.30712735676158526, 0.23873177504651, 0.20759862234864604, 0.12754299317557513, 0.1655289062779506, 0.20807790355498842, 0.16454170493255701, 0.2908042494804778, 0.3322118880074943, 0.38272291430859895, 0.13095575239760118, 0.4356997485273993, 0.3334908716374518, 0.30618073644828503, 0.23024132551784762, 0.22322463508805668, 0.2739274515680112, 0.26704003538841836, 0.2990894849909733, 0.18075305226296962, 0.20954530893528947, 0.1749061413063993, 0.5422034044861849, 0.1190933636360985, 0.18036514820060853, 0.25068024749052475, 0.28341767044337746], [0.4933794297516128, 0.9357254489714533, 0.5919556075042178, 0.5145944957129609, 0.767742502341571, 0.6981580150889037, 0.4845948702184493, 0.3931121177117082, 0.5641649089288435, 0.14494356710331616, 0.5412249583072984, 0.6119916738999879, 0.4986106773744748, 0.735322621564163, 0.391071170055561, 0.3378139528245215, 0.5377281629471815, 0.3459839166022049, 0.23985367171289826, 0.4047310171673076, 0.4346579436212028, 0.3721009599264305, 0.4498217337304466, 0.37578796806906545, 0.30707814228420593, 0.42633080830242304, 0.21257341635429666, 0.24642518733121158, 0.5056178284034032, 0.41532012027502474, 0.34485862740008744, 0.24093062398814247, 0.4862608692336002, 0.4249188540183079, 0.28099686328525997, 0.32909184654009505, 0.6010589972155458, 0.3388221526692728, 0.4179839513752085, 0.25428062130161133, 0.48706044384944264, 0.3760660316766735, 0.23684660419450115, 0.39804901704922, 0.1784001016320602, 0.2787548835148026, 0.34538271300970047, 0.24824991088863144, 0.38443715597531847, 0.33618780673921733, 0.41837259373377916, 0.2976806660436636, 0.26914500344241393, 0.44984689351632107, 0.2306613634202417, 0.30592200850728757, 0.354627480286498, 0.23706540857360242, 0.514581291908678, 0.3494131324558735, 0.2374567201088026, 0.27937860722834634, 0.3684569036110612, 0.44930743249147503, 0.2812021316148467, 0.28016967769456813, 0.2697567575135246, 0.3080926463083982, 0.2621865328932813, 0.2850822159583966, 0.29081531153477447, 0.404316270800221, 0.3227561198020765, 0.4587037145263049, 0.34439068805274187, 0.3497671401801663, 0.2593597179654714, 0.37532051641883035, 0.23610155782544817, 0.2393042883836858, 0.2628023043860218, 0.2728817649059095, 0.3364453162283942, 0.4737157010393713, 0.4603699479908522, 0.42903617212054335, 0.46176039817323694, 0.34382640434918665, 0.19680036391076314, 0.2720283325597566, 0.5750472963823947, 0.3044356685249286, 0.27591599755163193, 0.3909520943629524, 0.35463471921507833, 0.5533885314754831, 0.3398653334321735, 0.2353054082000578, 0.3789337860684197, 0.15354961985130552, 0.477807641514397, 0.49735196480703164, 0.462248714012833, 0.1983956312802924, 0.21673240466444618, 0.34436393452009023, 0.2418982361339012, 0.32670170851621466, 0.41598530125294225, 0.24288212491303088, 0.26886866566155826, 0.3208005689184748, 0.3300093193337558, 0.2567930446941379, 0.4904044989226911, 0.21741262184120996, 0.34866371509957633, 0.2158525635984444, 0.29445188462045174, 0.3701923540440186, 0.5310293975173365, 0.9021997731916537, 0.34445079563452563, 0.31328067662273856, 0.5284955311717595, 0.23652121776092913, 0.2875933898754961, 0.36022618246423416, 0.21839319174593524, 0.7736779534245659, 0.20926846293980195, 0.484262627123906, 0.3587876679288617, 0.605359806411606, 0.33527974014988216, 0.20811729183736216, 0.19532705347705742, 0.2379897363302238, 0.26758181151553, 0.41552713469889213, 0.31658541367682197, 0.5125357716450563, 0.5095009827280251, 0.33804543821460953, 0.42245954195140306, 0.2690916683621833, 0.366657154658091, 0.41904960821960213, 0.3714802550757948, 0.3248982655744288, 0.3434816309591605, 0.5923659667690335, 0.5704155386991379, 0.23540507292895593, 0.5452600150541902, 0.24488833356593995, 0.2310826228472212, 0.2718574211788388, 0.25370244433248273, 0.2976772172082867, 0.2783760139854521, 0.3008609240818733, 0.24819955061084634, 0.45091370674899595, 0.32743786053293145, 0.40003289145035537, 0.5643700502829389, 0.31182149514145785, 0.2806396201400457, 0.2351961235506235, 0.40958394019961597, 0.3716020704171861, 0.434882531007391, 0.4474953071240966, 0.3501556703564906, 0.3590486883884454, 0.22357012130109574, 0.22736005265922274, 0.2975347449356417, 0.35116952742626256, 0.4294710877936725, 0.6650931602843065, 0.34194442945668047, 0.35255085243546797, 0.6350027946367219, 0.3277421674102602, 0.3025460972631069, 0.2349476970627771, 0.2113370550764701, 0.48533512566823556, 0.7331532506748981, 0.3867360893414161, 0.2696611942389149, 0.29913509885303874, 0.3821290887705286, 0.11945719388222983, 0.2089113365240868, 0.24423809646153122, 0.540061820322538, 0.4697261582275665]]}],\n",
       "                        {\"template\": {\"data\": {\"bar\": [{\"error_x\": {\"color\": \"#2a3f5f\"}, \"error_y\": {\"color\": \"#2a3f5f\"}, \"marker\": {\"line\": {\"color\": \"#E5ECF6\", \"width\": 0.5}}, \"type\": \"bar\"}], \"barpolar\": [{\"marker\": {\"line\": {\"color\": \"#E5ECF6\", \"width\": 0.5}}, \"type\": \"barpolar\"}], \"carpet\": [{\"aaxis\": {\"endlinecolor\": \"#2a3f5f\", \"gridcolor\": \"white\", \"linecolor\": \"white\", \"minorgridcolor\": \"white\", \"startlinecolor\": \"#2a3f5f\"}, \"baxis\": {\"endlinecolor\": \"#2a3f5f\", \"gridcolor\": \"white\", \"linecolor\": \"white\", \"minorgridcolor\": \"white\", \"startlinecolor\": \"#2a3f5f\"}, \"type\": \"carpet\"}], \"choropleth\": [{\"colorbar\": {\"outlinewidth\": 0, \"ticks\": \"\"}, \"type\": \"choropleth\"}], \"contour\": [{\"colorbar\": {\"outlinewidth\": 0, \"ticks\": \"\"}, \"colorscale\": [[0.0, \"#0d0887\"], [0.1111111111111111, \"#46039f\"], [0.2222222222222222, \"#7201a8\"], [0.3333333333333333, \"#9c179e\"], [0.4444444444444444, \"#bd3786\"], [0.5555555555555556, \"#d8576b\"], [0.6666666666666666, \"#ed7953\"], [0.7777777777777778, \"#fb9f3a\"], [0.8888888888888888, \"#fdca26\"], [1.0, \"#f0f921\"]], \"type\": \"contour\"}], \"contourcarpet\": [{\"colorbar\": {\"outlinewidth\": 0, \"ticks\": \"\"}, \"type\": \"contourcarpet\"}], \"heatmap\": [{\"colorbar\": {\"outlinewidth\": 0, \"ticks\": \"\"}, \"colorscale\": [[0.0, \"#0d0887\"], [0.1111111111111111, \"#46039f\"], [0.2222222222222222, \"#7201a8\"], [0.3333333333333333, \"#9c179e\"], [0.4444444444444444, \"#bd3786\"], [0.5555555555555556, \"#d8576b\"], [0.6666666666666666, \"#ed7953\"], [0.7777777777777778, \"#fb9f3a\"], [0.8888888888888888, \"#fdca26\"], [1.0, \"#f0f921\"]], \"type\": \"heatmap\"}], \"heatmapgl\": [{\"colorbar\": {\"outlinewidth\": 0, \"ticks\": \"\"}, \"colorscale\": [[0.0, \"#0d0887\"], [0.1111111111111111, \"#46039f\"], [0.2222222222222222, \"#7201a8\"], [0.3333333333333333, \"#9c179e\"], [0.4444444444444444, \"#bd3786\"], [0.5555555555555556, \"#d8576b\"], [0.6666666666666666, \"#ed7953\"], [0.7777777777777778, \"#fb9f3a\"], [0.8888888888888888, \"#fdca26\"], [1.0, \"#f0f921\"]], \"type\": \"heatmapgl\"}], \"histogram\": [{\"marker\": {\"colorbar\": {\"outlinewidth\": 0, \"ticks\": \"\"}}, \"type\": \"histogram\"}], \"histogram2d\": [{\"colorbar\": {\"outlinewidth\": 0, \"ticks\": \"\"}, \"colorscale\": [[0.0, \"#0d0887\"], [0.1111111111111111, \"#46039f\"], [0.2222222222222222, \"#7201a8\"], [0.3333333333333333, \"#9c179e\"], [0.4444444444444444, \"#bd3786\"], [0.5555555555555556, \"#d8576b\"], [0.6666666666666666, \"#ed7953\"], [0.7777777777777778, \"#fb9f3a\"], [0.8888888888888888, \"#fdca26\"], [1.0, \"#f0f921\"]], \"type\": \"histogram2d\"}], \"histogram2dcontour\": [{\"colorbar\": {\"outlinewidth\": 0, \"ticks\": \"\"}, \"colorscale\": [[0.0, \"#0d0887\"], [0.1111111111111111, \"#46039f\"], [0.2222222222222222, \"#7201a8\"], [0.3333333333333333, \"#9c179e\"], [0.4444444444444444, \"#bd3786\"], [0.5555555555555556, \"#d8576b\"], [0.6666666666666666, \"#ed7953\"], [0.7777777777777778, \"#fb9f3a\"], [0.8888888888888888, \"#fdca26\"], [1.0, \"#f0f921\"]], \"type\": \"histogram2dcontour\"}], \"mesh3d\": [{\"colorbar\": {\"outlinewidth\": 0, \"ticks\": \"\"}, \"type\": \"mesh3d\"}], \"parcoords\": [{\"line\": {\"colorbar\": {\"outlinewidth\": 0, \"ticks\": \"\"}}, \"type\": \"parcoords\"}], \"pie\": [{\"automargin\": true, \"type\": \"pie\"}], \"scatter\": [{\"marker\": {\"colorbar\": {\"outlinewidth\": 0, \"ticks\": \"\"}}, \"type\": \"scatter\"}], \"scatter3d\": [{\"line\": {\"colorbar\": {\"outlinewidth\": 0, \"ticks\": \"\"}}, \"marker\": {\"colorbar\": {\"outlinewidth\": 0, \"ticks\": \"\"}}, \"type\": \"scatter3d\"}], \"scattercarpet\": [{\"marker\": {\"colorbar\": {\"outlinewidth\": 0, \"ticks\": \"\"}}, \"type\": \"scattercarpet\"}], \"scattergeo\": [{\"marker\": {\"colorbar\": {\"outlinewidth\": 0, \"ticks\": \"\"}}, \"type\": \"scattergeo\"}], \"scattergl\": [{\"marker\": {\"colorbar\": {\"outlinewidth\": 0, \"ticks\": \"\"}}, \"type\": \"scattergl\"}], \"scattermapbox\": [{\"marker\": {\"colorbar\": {\"outlinewidth\": 0, \"ticks\": \"\"}}, \"type\": \"scattermapbox\"}], \"scatterpolar\": [{\"marker\": {\"colorbar\": {\"outlinewidth\": 0, \"ticks\": \"\"}}, \"type\": \"scatterpolar\"}], \"scatterpolargl\": [{\"marker\": {\"colorbar\": {\"outlinewidth\": 0, \"ticks\": \"\"}}, \"type\": \"scatterpolargl\"}], \"scatterternary\": [{\"marker\": {\"colorbar\": {\"outlinewidth\": 0, \"ticks\": \"\"}}, \"type\": \"scatterternary\"}], \"surface\": [{\"colorbar\": {\"outlinewidth\": 0, \"ticks\": \"\"}, \"colorscale\": [[0.0, \"#0d0887\"], [0.1111111111111111, \"#46039f\"], [0.2222222222222222, \"#7201a8\"], [0.3333333333333333, \"#9c179e\"], [0.4444444444444444, \"#bd3786\"], [0.5555555555555556, \"#d8576b\"], [0.6666666666666666, \"#ed7953\"], [0.7777777777777778, \"#fb9f3a\"], [0.8888888888888888, \"#fdca26\"], [1.0, \"#f0f921\"]], \"type\": \"surface\"}], \"table\": [{\"cells\": {\"fill\": {\"color\": \"#EBF0F8\"}, \"line\": {\"color\": \"white\"}}, \"header\": {\"fill\": {\"color\": \"#C8D4E3\"}, \"line\": {\"color\": \"white\"}}, \"type\": \"table\"}]}, \"layout\": {\"annotationdefaults\": {\"arrowcolor\": \"#2a3f5f\", \"arrowhead\": 0, \"arrowwidth\": 1}, \"coloraxis\": {\"colorbar\": {\"outlinewidth\": 0, \"ticks\": \"\"}}, \"colorscale\": {\"diverging\": [[0, \"#8e0152\"], [0.1, \"#c51b7d\"], [0.2, \"#de77ae\"], [0.3, \"#f1b6da\"], [0.4, \"#fde0ef\"], [0.5, \"#f7f7f7\"], [0.6, \"#e6f5d0\"], [0.7, \"#b8e186\"], [0.8, \"#7fbc41\"], [0.9, \"#4d9221\"], [1, \"#276419\"]], \"sequential\": [[0.0, \"#0d0887\"], [0.1111111111111111, \"#46039f\"], [0.2222222222222222, \"#7201a8\"], [0.3333333333333333, \"#9c179e\"], [0.4444444444444444, \"#bd3786\"], [0.5555555555555556, \"#d8576b\"], [0.6666666666666666, \"#ed7953\"], [0.7777777777777778, \"#fb9f3a\"], [0.8888888888888888, \"#fdca26\"], [1.0, \"#f0f921\"]], \"sequentialminus\": [[0.0, \"#0d0887\"], [0.1111111111111111, \"#46039f\"], [0.2222222222222222, \"#7201a8\"], [0.3333333333333333, \"#9c179e\"], [0.4444444444444444, \"#bd3786\"], [0.5555555555555556, \"#d8576b\"], [0.6666666666666666, \"#ed7953\"], [0.7777777777777778, \"#fb9f3a\"], [0.8888888888888888, \"#fdca26\"], [1.0, \"#f0f921\"]]}, \"colorway\": [\"#636efa\", \"#EF553B\", \"#00cc96\", \"#ab63fa\", \"#FFA15A\", \"#19d3f3\", \"#FF6692\", \"#B6E880\", \"#FF97FF\", \"#FECB52\"], \"font\": {\"color\": \"#2a3f5f\"}, \"geo\": {\"bgcolor\": \"white\", \"lakecolor\": \"white\", \"landcolor\": \"#E5ECF6\", \"showlakes\": true, \"showland\": true, \"subunitcolor\": \"white\"}, \"hoverlabel\": {\"align\": \"left\"}, \"hovermode\": \"closest\", \"mapbox\": {\"style\": \"light\"}, \"paper_bgcolor\": \"white\", \"plot_bgcolor\": \"#E5ECF6\", \"polar\": {\"angularaxis\": {\"gridcolor\": \"white\", \"linecolor\": \"white\", \"ticks\": \"\"}, \"bgcolor\": \"#E5ECF6\", \"radialaxis\": {\"gridcolor\": \"white\", \"linecolor\": \"white\", \"ticks\": \"\"}}, \"scene\": {\"xaxis\": {\"backgroundcolor\": \"#E5ECF6\", \"gridcolor\": \"white\", \"gridwidth\": 2, \"linecolor\": \"white\", \"showbackground\": true, \"ticks\": \"\", \"zerolinecolor\": \"white\"}, \"yaxis\": {\"backgroundcolor\": \"#E5ECF6\", \"gridcolor\": \"white\", \"gridwidth\": 2, \"linecolor\": \"white\", \"showbackground\": true, \"ticks\": \"\", \"zerolinecolor\": \"white\"}, \"zaxis\": {\"backgroundcolor\": \"#E5ECF6\", \"gridcolor\": \"white\", \"gridwidth\": 2, \"linecolor\": \"white\", \"showbackground\": true, \"ticks\": \"\", \"zerolinecolor\": \"white\"}}, \"shapedefaults\": {\"line\": {\"color\": \"#2a3f5f\"}}, \"ternary\": {\"aaxis\": {\"gridcolor\": \"white\", \"linecolor\": \"white\", \"ticks\": \"\"}, \"baxis\": {\"gridcolor\": \"white\", \"linecolor\": \"white\", \"ticks\": \"\"}, \"bgcolor\": \"#E5ECF6\", \"caxis\": {\"gridcolor\": \"white\", \"linecolor\": \"white\", \"ticks\": \"\"}}, \"title\": {\"x\": 0.05}, \"xaxis\": {\"automargin\": true, \"gridcolor\": \"white\", \"linecolor\": \"white\", \"ticks\": \"\", \"title\": {\"standoff\": 15}, \"zerolinecolor\": \"white\", \"zerolinewidth\": 2}, \"yaxis\": {\"automargin\": true, \"gridcolor\": \"white\", \"linecolor\": \"white\", \"ticks\": \"\", \"title\": {\"standoff\": 15}, \"zerolinecolor\": \"white\", \"zerolinewidth\": 2}}}, \"title\": {\"text\": \"Most important words in TFIDF vector analysis per job_class\"}},\n",
       "                        {\"responsive\": true}\n",
       "                    ).then(function(){\n",
       "                            \n",
       "var gd = document.getElementById('43c15d22-86b3-4abb-9704-b31858bfeef3');\n",
       "var x = new MutationObserver(function (mutations, observer) {{\n",
       "        var display = window.getComputedStyle(gd).display;\n",
       "        if (!display || display === 'none') {{\n",
       "            console.log([gd, 'removed!']);\n",
       "            Plotly.purge(gd);\n",
       "            observer.disconnect();\n",
       "        }}\n",
       "}});\n",
       "\n",
       "// Listen for the removal of the full notebook cells\n",
       "var notebookContainer = gd.closest('#notebook-container');\n",
       "if (notebookContainer) {{\n",
       "    x.observe(notebookContainer, {childList: true});\n",
       "}}\n",
       "\n",
       "// Listen for the clearing of the current output cell\n",
       "var outputEl = gd.closest('.output');\n",
       "if (outputEl) {{\n",
       "    x.observe(outputEl, {childList: true});\n",
       "}}\n",
       "\n",
       "                        })\n",
       "                };\n",
       "                });\n",
       "            </script>\n",
       "        </div>"
      ]
     },
     "metadata": {},
     "output_type": "display_data"
    }
   ],
   "source": [
    "#heatmap\n",
    "fig = go.Figure(data=go.Heatmap(\n",
    "        z=[tfidf_analysis['Data Analyst'], tfidf_analysis['Data Scientist'], tfidf_analysis['Data Engineer']],\n",
    "        x=tfidf_analysis.head(20).index.values,\n",
    "        y=tfidf_analysis.columns,\n",
    "        colorscale='Blues',\n",
    "        hoverongaps = False))\n",
    "\n",
    "fig.update_layout(title='Most important words in TFIDF vector analysis per job_class')\n",
    "\n",
    "fig.show()"
   ]
  },
  {
   "cell_type": "code",
   "execution_count": 183,
   "metadata": {
    "scrolled": true
   },
   "outputs": [],
   "source": [
    "# feature extraction and filtering of words\n",
    "job_features = corpora.Dictionary(df.lemma_text) \n",
    "job_features.filter_extremes(no_below=3,no_above=0.5)\n",
    "#word count vector for each tweet for each of its words freq for the whole corpa \n",
    "bow_corpus=[job_features.doc2bow(doc) for doc in df.lemma_text]\n",
    "#increase the frequency weight of unique words compared to highly frequent non-unique words \n",
    "tfidf=models.TfidfModel(bow_corpus)\n",
    "tfidf_corpus=tfidf[bow_corpus]\n",
    "lda_model=models.ldamodel.LdaModel(corpus=tfidf_corpus, num_topics=5, \n",
    "                                   id2word=job_features, \n",
    "                                   passes=50, \n",
    "                                   alpha=1, \n",
    "                                   eta='auto')"
   ]
  },
  {
   "cell_type": "code",
   "execution_count": 184,
   "metadata": {},
   "outputs": [
    {
     "name": "stdout",
     "output_type": "stream",
     "text": [
      "Topic: 0 \n",
      "Words: 0.005*\"digit\" + 0.004*\"report\" + 0.004*\"analyt\" + 0.003*\"analysi\" + 0.003*\"market\" + 0.003*\"benefit\" + 0.003*\"depart\" + 0.003*\"analyst\" + 0.003*\"health\" + 0.003*\"method\"\n",
      "Topic: 1 \n",
      "Words: 0.007*\"train\" + 0.005*\"server\" + 0.005*\"administr\" + 0.005*\"cours\" + 0.004*\"concept\" + 0.004*\"project\" + 0.004*\"linux\" + 0.004*\"day\" + 0.004*\"bank\" + 0.004*\"task\"\n",
      "Topic: 2 \n",
      "Words: 0.003*\"build\" + 0.003*\"platform\" + 0.003*\"senior\" + 0.003*\"tech\" + 0.003*\"cloud\" + 0.003*\"join\" + 0.003*\"drive\" + 0.002*\"impact\" + 0.002*\"learn\" + 0.002*\"user\"\n",
      "Topic: 3 \n",
      "Words: 0.006*\"zalando\" + 0.006*\"fashion\" + 0.004*\"shop\" + 0.004*\"ein\" + 0.003*\"oder\" + 0.003*\"unser\" + 0.003*\"anzeigenwenig\" + 0.003*\"deutsch\" + 0.003*\"mehr\" + 0.003*\"sowi\"\n",
      "Topic: 4 \n",
      "Words: 0.005*\"bund\" + 0.005*\"machin\" + 0.004*\"learn\" + 0.004*\"frontend\" + 0.004*\"music\" + 0.003*\"transform\" + 0.003*\"imag\" + 0.003*\"placement\" + 0.003*\"record\" + 0.003*\"estat\"\n"
     ]
    },
    {
     "data": {
      "text/html": [
       "\n",
       "<link rel=\"stylesheet\" type=\"text/css\" href=\"https://cdn.rawgit.com/bmabey/pyLDAvis/files/ldavis.v1.0.0.css\">\n",
       "\n",
       "\n",
       "<div id=\"ldavis_el259671405298188968483263244827\"></div>\n",
       "<script type=\"text/javascript\">\n",
       "\n",
       "var ldavis_el259671405298188968483263244827_data = {\"mdsDat\": {\"x\": [0.18013089428085347, 0.05840555894267605, -0.1271300543467014, -0.09644872684894559, -0.014957672027882469], \"y\": [0.08848062356631815, -0.16114671606430064, -0.06328407359688314, 0.11116277484182252, 0.02478739125304307], \"topics\": [1, 2, 3, 4, 5], \"cluster\": [1, 1, 1, 1, 1], \"Freq\": [38.26302719116211, 24.741918563842773, 15.320125579833984, 10.900833129882812, 10.774096488952637]}, \"tinfo\": {\"Term\": [\"charit\\u00e9\", \"zalando\", \"bund\", \"learn\", \"medic\", \"content\", \"hero\", \"machin\", \"deliveri\", \"discount\", \"hardwar\", \"impact\", \"pipelin\", \"build\", \"amazon\", \"ein\", \"campusj\\u00e4g\", \"deutsch\", \"algorithm\", \"yara\", \"scale\", \"oder\", \"project\", \"hire\", \"bioinformat\", \"automot\", \"unser\", \"anzeigenwenig\", \"train\", \"emb\", \"train\", \"project\", \"good\", \"profession\", \"concept\", \"task\", \"cours\", \"day\", \"secur\", \"specialist\", \"area\", \"success\", \"independ\", \"open\", \"insur\", \"group\", \"document\", \"administr\", \"possibl\", \"consult\", \"orient\", \"advantag\", \"import\", \"benefit\", \"think\", \"individu\", \"hour\", \"forward\", \"travel\", \"exchang\", \"server\", \"digit\", \"ensur\", \"contact\", \"requir\", \"germani\", \"implement\", \"network\", \"report\", \"databas\", \"googl\", \"oper\", \"analyt\", \"analysi\", \"technic\", \"program\", \"zalando\", \"discount\", \"impact\", \"pipelin\", \"game\", \"shop\", \"scale\", \"fashion\", \"share\", \"price\", \"scalabl\", \"distribut\", \"scala\", \"assist\", \"pace\", \"million\", \"brand\", \"multipl\", \"stream\", \"mentor\", \"airflow\", \"perk\", \"kafka\", \"contain\", \"celebr\", \"inspir\", \"decid\", \"kubernet\", \"quantit\", \"logist\", \"tech\", \"featur\", \"build\", \"deliv\", \"maintain\", \"background\", \"senior\", \"levelmanag\", \"need\", \"deploy\", \"cloud\", \"platform\", \"partner\", \"machin\", \"real\", \"python\", \"intern\", \"learn\", \"infrastructur\", \"drive\", \"hero\", \"hamburg\", \"small\", \"music\", \"postgresql\", \"amaz\", \"local\", \"smartclip\", \"establish\", \"fintech\", \"founder\", \"find\", \"adapt\", \"academ\", \"tensorflow\", \"go\", \"uniqu\", \"dataset\", \"disrupt\", \"bachelor\", \"effort\", \"version\", \"solver\", \"librari\", \"part\", \"food\", \"conveni\", \"awesom\", \"session\", \"commiss\", \"deliveri\", \"hire\", \"access\", \"worldwid\", \"interview\", \"junior\", \"believ\", \"learn\", \"mission\", \"machin\", \"join\", \"market\", \"scientist\", \"global\", \"stack\", \"europ\", \"passion\", \"deep\", \"creat\", \"analyst\", \"charit\\u00e9\", \"bund\", \"ein\", \"oder\", \"unser\", \"anzeigenwenig\", \"deutsch\", \"sowi\", \"mehr\", \"funk\", \"dein\", \"kenntniss\", \"sind\", \"cheminformat\", \"\\u00fcber\", \"medicin\", \"gute\", \"dich\", \"bereich\", \"einem\", \"informatik\", \"clinic\", \"erfahrung\", \"hast\", \"bayer\", \"analys\", \"ihrer\", \"teach\", \"sehr\", \"jason\", \"heterogen\", \"medic\", \"patient\", \"women\", \"yara\", \"bioinformat\", \"safeti\", \"hardwar\", \"break\", \"autonom\", \"sensor\", \"text\", \"reduc\", \"voic\", \"campusj\\u00e4g\", \"debug\", \"farm\", \"farmer\", \"telemat\", \"align\", \"launch\", \"axel\", \"springer\", \"moder\", \"emiss\", \"border\", \"newli\", \"plista\", \"acceler\", \"caus\", \"conduct\", \"spatial\", \"biostatist\", \"agricultur\", \"enhanc\", \"emb\", \"automot\", \"content\", \"media\", \"amazon\", \"european\", \"nativ\", \"algorithm\", \"equival\", \"tier\", \"candid\", \"job\", \"video\", \"polici\"], \"Freq\": [6.0, 10.0, 5.0, 14.0, 6.0, 7.0, 6.0, 13.0, 7.0, 9.0, 5.0, 8.0, 8.0, 12.0, 6.0, 4.0, 4.0, 4.0, 7.0, 4.0, 8.0, 4.0, 14.0, 6.0, 4.0, 5.0, 4.0, 4.0, 12.0, 4.0, 12.21190071105957, 13.283464431762695, 9.68205451965332, 9.500994682312012, 8.746135711669922, 8.30471420288086, 7.853914260864258, 7.542782306671143, 8.009661674499512, 7.230255603790283, 9.052000999450684, 7.997368335723877, 8.310547828674316, 7.7661590576171875, 6.8231706619262695, 7.439970016479492, 7.215618133544922, 7.681678295135498, 6.924612998962402, 10.078628540039062, 7.0088324546813965, 6.19713830947876, 6.735119342803955, 6.919111251831055, 6.070833683013916, 6.46298885345459, 6.011417865753174, 7.091586589813232, 5.852940082550049, 5.90228271484375, 7.970027923583984, 13.12796401977539, 7.720872402191162, 6.739340782165527, 8.469526290893555, 7.069694995880127, 8.932796478271484, 7.930875778198242, 8.315183639526367, 7.989530563354492, 7.224597454071045, 8.05219554901123, 8.632318496704102, 7.761119365692139, 7.758128643035889, 7.359959125518799, 9.781841278076172, 8.70547866821289, 8.26764965057373, 8.101550102233887, 6.893248081207275, 6.420214653015137, 7.45068359375, 5.993511199951172, 6.4156622886657715, 4.539722919464111, 6.033260345458984, 5.95570182800293, 4.646340847015381, 4.218656063079834, 4.136917591094971, 6.026544570922852, 6.160039901733398, 4.492443084716797, 3.9478986263275146, 4.836924076080322, 3.79828143119812, 3.701388359069824, 3.83561110496521, 3.7717723846435547, 3.738213539123535, 3.7873611450195312, 3.547440767288208, 5.616030693054199, 4.585258483886719, 3.5344040393829346, 8.07133674621582, 5.098300457000732, 9.970718383789062, 5.6781744956970215, 6.233257293701172, 5.269028186798096, 8.000481605529785, 4.657561302185059, 6.3965067863464355, 4.999266147613525, 7.459131717681885, 7.060676574707031, 5.682593822479248, 7.136146068572998, 5.696388244628906, 5.736661911010742, 6.040838718414307, 6.715948581695557, 5.706670761108398, 5.834142208099365, 5.9341654777526855, 3.754171133041382, 3.83404803276062, 3.579773187637329, 3.438694477081299, 3.2825000286102295, 3.482633590698242, 2.9005258083343506, 3.217359781265259, 2.645719051361084, 2.5705835819244385, 2.615838050842285, 2.6870155334472656, 2.540745258331299, 2.7196574211120605, 2.661956548690796, 3.2998881340026855, 2.4181740283966064, 2.3256070613861084, 2.62693190574646, 2.233614683151245, 2.249069929122925, 2.166027069091797, 2.600721836090088, 2.144479751586914, 3.461530923843384, 2.4322245121002197, 2.048030376434326, 2.047504425048828, 2.05777645111084, 6.142177104949951, 4.965635776519775, 4.387115478515625, 2.910000801086426, 2.6453371047973633, 4.322352409362793, 3.194960832595825, 6.5201497077941895, 3.728935956954956, 5.428987503051758, 4.142951965332031, 4.311877250671387, 3.984297513961792, 3.588829517364502, 3.313673496246338, 3.425266742706299, 3.3700263500213623, 3.1353821754455566, 3.1946828365325928, 2.9548251628875732, 5.560372352600098, 5.153143882751465, 3.843181610107422, 3.6639277935028076, 3.5485849380493164, 3.530031442642212, 3.802849054336548, 2.920661449432373, 3.0117945671081543, 2.752358913421631, 2.436779737472534, 2.4188876152038574, 2.306899070739746, 2.2354068756103516, 2.212505340576172, 2.205120325088501, 2.158360481262207, 2.0816478729248047, 1.9164400100708008, 1.8437732458114624, 1.7129483222961426, 2.0862207412719727, 1.6132224798202515, 1.6152740716934204, 1.6083277463912964, 1.6135860681533813, 1.5014582872390747, 1.5560473203659058, 1.4673010110855103, 1.4697214365005493, 1.7042405605316162, 4.4625444412231445, 2.023181915283203, 1.6914153099060059, 3.6706387996673584, 3.5398752689361572, 3.2874722480773926, 4.28000545501709, 2.9486169815063477, 2.722045421600342, 2.511842966079712, 2.713437080383301, 2.333144187927246, 3.113226890563965, 3.8980088233947754, 2.2340447902679443, 2.1096584796905518, 2.008809804916382, 1.9424477815628052, 2.0036563873291016, 1.9405096769332886, 1.9323983192443848, 1.9321774244308472, 1.8657193183898926, 1.8473166227340698, 1.7985284328460693, 2.024380922317505, 1.7704018354415894, 1.940386176109314, 1.7490348815917969, 2.63560152053833, 1.6263259649276733, 1.6023858785629272, 1.632405161857605, 2.2922210693359375, 3.391526699066162, 3.312986373901367, 4.439565658569336, 3.1502833366394043, 3.562457323074341, 2.4131240844726562, 2.447585105895996, 3.5250120162963867, 2.555466413497925, 2.0756397247314453, 2.4910686016082764, 2.1719391345977783, 2.1922240257263184, 2.1373159885406494], \"Total\": [6.0, 10.0, 5.0, 14.0, 6.0, 7.0, 6.0, 13.0, 7.0, 9.0, 5.0, 8.0, 8.0, 12.0, 6.0, 4.0, 4.0, 4.0, 7.0, 4.0, 8.0, 4.0, 14.0, 6.0, 4.0, 5.0, 4.0, 4.0, 12.0, 4.0, 12.81191635131836, 14.020512580871582, 10.26327896118164, 10.113764762878418, 9.337459564208984, 8.909671783447266, 8.430691719055176, 8.108534812927246, 8.611830711364746, 7.795507907867432, 9.773329734802246, 8.636714935302734, 8.98728084564209, 8.401301383972168, 7.387381553649902, 8.060171127319336, 7.830620765686035, 8.35049819946289, 7.5294952392578125, 10.971620559692383, 7.648179531097412, 6.766049385070801, 7.3562211990356445, 7.575369834899902, 6.648838996887207, 7.083475112915039, 6.591168403625488, 7.7765655517578125, 6.419734001159668, 6.479105472564697, 8.786114692687988, 14.975796699523926, 8.622084617614746, 7.472952842712402, 9.682510375976562, 7.948480606079102, 10.926855087280273, 9.646652221679688, 10.476877212524414, 9.974832534790039, 8.33199691772461, 11.615758895874023, 14.407175064086914, 10.478665351867676, 10.739470481872559, 9.304000854492188, 10.33652400970459, 9.285209655761719, 8.874860763549805, 8.725680351257324, 7.499220848083496, 6.988938331604004, 8.12112045288086, 6.548819065093994, 7.163218021392822, 5.09946870803833, 6.803524017333984, 6.737978458404541, 5.271356582641602, 4.796025276184082, 4.704793453216553, 6.881597995758057, 7.040931701660156, 5.14061164855957, 4.5210957527160645, 5.552530765533447, 4.36400842666626, 4.260643005371094, 4.417731285095215, 4.344934940338135, 4.31597900390625, 4.3818135261535645, 4.104576587677002, 6.500116348266602, 5.310941696166992, 4.098878860473633, 9.577522277832031, 6.018897533416748, 12.412633895874023, 7.138854026794434, 8.039172172546387, 6.673253059387207, 11.61589241027832, 5.730763912200928, 8.999074935913086, 6.349759101867676, 11.988983154296875, 11.07071304321289, 8.003498077392578, 13.299116134643555, 8.493610382080078, 8.771407127380371, 9.93069076538086, 14.138995170593262, 9.262834548950195, 10.47754192352295, 6.493646621704102, 4.32619571685791, 4.430272102355957, 4.144054412841797, 4.010320663452148, 3.849642753601074, 4.093391418457031, 3.455580234527588, 3.877528190612793, 3.208749532699585, 3.13095760345459, 3.18851375579834, 3.276259183883667, 3.1089773178100586, 3.350666046142578, 3.284261703491211, 4.07947301864624, 2.992100715637207, 2.894683599472046, 3.270477294921875, 2.7992255687713623, 2.818635940551758, 2.7258236408233643, 3.2868757247924805, 2.711646795272827, 4.385061740875244, 3.098723888397217, 2.6116364002227783, 2.6111092567443848, 2.627042055130005, 7.953606605529785, 6.479435443878174, 5.7162861824035645, 3.75065279006958, 3.4343202114105225, 6.238422870635986, 4.504380226135254, 14.138995170593262, 6.097959995269775, 13.299116134643555, 9.285944938659668, 13.328593254089355, 11.152145385742188, 8.474059104919434, 6.970366477966309, 7.91379976272583, 7.833521366119385, 6.619963645935059, 10.200724601745605, 12.727893829345703, 6.11273193359375, 5.727697849273682, 4.392733573913574, 4.2155070304870605, 4.098787307739258, 4.101133823394775, 4.509214878082275, 3.470217227935791, 3.581045389175415, 3.348374366760254, 2.9863433837890625, 2.968532085418701, 2.8565754890441895, 2.7887895107269287, 2.762132167816162, 2.7620089054107666, 2.7080752849578857, 2.6312742233276367, 2.4669532775878906, 2.3934481143951416, 2.2712926864624023, 2.7857017517089844, 2.1628432273864746, 2.166598081588745, 2.1646900177001953, 2.175421953201294, 2.0515384674072266, 2.130950689315796, 2.0170066356658936, 2.025134325027466, 2.361370801925659, 6.553758144378662, 3.3647284507751465, 2.6105289459228516, 4.222831726074219, 4.099615097045898, 3.844449043273926, 5.042336463928223, 3.5103960037231445, 3.2903456687927246, 3.0704174041748047, 3.324584484100342, 2.903995990753174, 3.8775904178619385, 4.88747501373291, 2.805345058441162, 2.663574695587158, 2.561422824859619, 2.495173931121826, 2.5826921463012695, 2.5026586055755615, 2.492962121963501, 2.492957353591919, 2.420938491821289, 2.403347969055176, 2.3508880138397217, 2.6514036655426025, 2.3215270042419434, 2.5566518306732178, 2.315711259841919, 3.4982988834381104, 2.179360866546631, 2.155144214630127, 2.196117639541626, 3.1244561672210693, 4.71236515045166, 5.069148540496826, 7.204938888549805, 5.205406188964844, 6.25067138671875, 3.5972137451171875, 3.7215375900268555, 7.101835250854492, 4.270255088806152, 2.958871364593506, 5.143660545349121, 3.948671340942383, 4.214738845825195, 4.0944504737854], \"Category\": [\"Default\", \"Default\", \"Default\", \"Default\", \"Default\", \"Default\", \"Default\", \"Default\", \"Default\", \"Default\", \"Default\", \"Default\", \"Default\", \"Default\", \"Default\", \"Default\", \"Default\", \"Default\", \"Default\", \"Default\", \"Default\", \"Default\", \"Default\", \"Default\", \"Default\", \"Default\", \"Default\", \"Default\", \"Default\", \"Default\", \"Topic1\", \"Topic1\", \"Topic1\", \"Topic1\", \"Topic1\", \"Topic1\", \"Topic1\", \"Topic1\", \"Topic1\", \"Topic1\", \"Topic1\", \"Topic1\", \"Topic1\", \"Topic1\", \"Topic1\", \"Topic1\", \"Topic1\", \"Topic1\", \"Topic1\", \"Topic1\", \"Topic1\", \"Topic1\", \"Topic1\", \"Topic1\", \"Topic1\", \"Topic1\", \"Topic1\", \"Topic1\", \"Topic1\", \"Topic1\", \"Topic1\", \"Topic1\", \"Topic1\", \"Topic1\", \"Topic1\", \"Topic1\", \"Topic1\", \"Topic1\", \"Topic1\", \"Topic1\", \"Topic1\", \"Topic1\", \"Topic1\", \"Topic1\", \"Topic1\", \"Topic1\", \"Topic2\", \"Topic2\", \"Topic2\", \"Topic2\", \"Topic2\", \"Topic2\", \"Topic2\", \"Topic2\", \"Topic2\", \"Topic2\", \"Topic2\", \"Topic2\", \"Topic2\", \"Topic2\", \"Topic2\", \"Topic2\", \"Topic2\", \"Topic2\", \"Topic2\", \"Topic2\", \"Topic2\", \"Topic2\", \"Topic2\", \"Topic2\", \"Topic2\", \"Topic2\", \"Topic2\", \"Topic2\", \"Topic2\", \"Topic2\", \"Topic2\", \"Topic2\", \"Topic2\", \"Topic2\", \"Topic2\", \"Topic2\", \"Topic2\", \"Topic2\", \"Topic2\", \"Topic2\", \"Topic2\", \"Topic2\", \"Topic2\", \"Topic2\", \"Topic2\", \"Topic2\", \"Topic2\", \"Topic2\", \"Topic2\", \"Topic2\", \"Topic3\", \"Topic3\", \"Topic3\", \"Topic3\", \"Topic3\", \"Topic3\", \"Topic3\", \"Topic3\", \"Topic3\", \"Topic3\", \"Topic3\", \"Topic3\", \"Topic3\", \"Topic3\", \"Topic3\", \"Topic3\", \"Topic3\", \"Topic3\", \"Topic3\", \"Topic3\", \"Topic3\", \"Topic3\", \"Topic3\", \"Topic3\", \"Topic3\", \"Topic3\", \"Topic3\", \"Topic3\", \"Topic3\", \"Topic3\", \"Topic3\", \"Topic3\", \"Topic3\", \"Topic3\", \"Topic3\", \"Topic3\", \"Topic3\", \"Topic3\", \"Topic3\", \"Topic3\", \"Topic3\", \"Topic3\", \"Topic3\", \"Topic3\", \"Topic3\", \"Topic3\", \"Topic3\", \"Topic3\", \"Topic3\", \"Topic3\", \"Topic4\", \"Topic4\", \"Topic4\", \"Topic4\", \"Topic4\", \"Topic4\", \"Topic4\", \"Topic4\", \"Topic4\", \"Topic4\", \"Topic4\", \"Topic4\", \"Topic4\", \"Topic4\", \"Topic4\", \"Topic4\", \"Topic4\", \"Topic4\", \"Topic4\", \"Topic4\", \"Topic4\", \"Topic4\", \"Topic4\", \"Topic4\", \"Topic4\", \"Topic4\", \"Topic4\", \"Topic4\", \"Topic4\", \"Topic4\", \"Topic4\", \"Topic4\", \"Topic4\", \"Topic4\", \"Topic5\", \"Topic5\", \"Topic5\", \"Topic5\", \"Topic5\", \"Topic5\", \"Topic5\", \"Topic5\", \"Topic5\", \"Topic5\", \"Topic5\", \"Topic5\", \"Topic5\", \"Topic5\", \"Topic5\", \"Topic5\", \"Topic5\", \"Topic5\", \"Topic5\", \"Topic5\", \"Topic5\", \"Topic5\", \"Topic5\", \"Topic5\", \"Topic5\", \"Topic5\", \"Topic5\", \"Topic5\", \"Topic5\", \"Topic5\", \"Topic5\", \"Topic5\", \"Topic5\", \"Topic5\", \"Topic5\", \"Topic5\", \"Topic5\", \"Topic5\", \"Topic5\", \"Topic5\", \"Topic5\", \"Topic5\", \"Topic5\", \"Topic5\", \"Topic5\"], \"logprob\": [30.0, 29.0, 28.0, 27.0, 26.0, 25.0, 24.0, 23.0, 22.0, 21.0, 20.0, 19.0, 18.0, 17.0, 16.0, 15.0, 14.0, 13.0, 12.0, 11.0, 10.0, 9.0, 8.0, 7.0, 6.0, 5.0, 4.0, 3.0, 2.0, 1.0, -5.6570000648498535, -5.57289981842041, -5.889100074768066, -5.9079999923706055, -5.990799903869629, -6.042600154876709, -6.098400115966797, -6.138800144195557, -6.078800201416016, -6.181099891662598, -5.956399917602539, -6.0802998542785645, -6.041900157928467, -6.109600067138672, -6.239099979400635, -6.152500152587891, -6.183199882507324, -6.12060022354126, -6.224299907684326, -5.848999977111816, -6.212200164794922, -6.335299968719482, -6.252099990844727, -6.225100040435791, -6.355899810791016, -6.293300151824951, -6.365699768066406, -6.200500011444092, -6.392499923706055, -6.384099960327148, -6.083700180053711, -5.584700107574463, -6.115499973297119, -6.251399993896484, -6.022900104522705, -6.20359992980957, -5.969699859619141, -6.088600158691406, -6.041299819946289, -6.081299781799316, -6.1819000244140625, -6.073500156402588, -6.003900051116943, -6.110300064086914, -6.1107001304626465, -6.163300037384033, -5.44290018081665, -5.559500217437744, -5.611100196838379, -5.631400108337402, -5.792900085449219, -5.863999843597412, -5.715099811553955, -5.932700157165527, -5.864699840545654, -6.2104997634887695, -5.92609977722168, -5.9390997886657715, -6.187300205230713, -6.283899784088135, -6.303500175476074, -5.927199840545654, -5.905300140380859, -6.2210001945495605, -6.350200176239014, -6.14709997177124, -6.388899803161621, -6.414700031280518, -6.3790998458862305, -6.395899772644043, -6.404799938201904, -6.39169979095459, -6.457200050354004, -5.997799873352051, -6.2006001472473145, -6.460899829864502, -5.6350998878479, -6.0945000648498535, -5.423799991607666, -5.986800193786621, -5.893499851226807, -6.061600208282471, -5.643899917602539, -6.184899806976318, -5.867700099945068, -6.114099979400635, -5.714000225067139, -5.768899917602539, -5.986000061035156, -5.758200168609619, -5.98360013961792, -5.976500034332275, -5.924900054931641, -5.818900108337402, -5.981800079345703, -5.959700107574463, -5.463399887084961, -5.921199798583984, -5.900199890136719, -5.968800067901611, -6.008999824523926, -6.055500030517578, -5.996300220489502, -6.179200172424316, -6.075500011444092, -6.271100044250488, -6.299900054931641, -6.28249979019165, -6.25570011138916, -6.311600208282471, -6.243599891662598, -6.264999866485596, -6.05019998550415, -6.361100196838379, -6.400100231170654, -6.278299808502197, -6.440499782562256, -6.433599948883057, -6.471199989318848, -6.288300037384033, -6.481200218200684, -6.002399921417236, -6.355299949645996, -6.527200222015381, -6.527500152587891, -6.522500038146973, -5.428899765014648, -5.641499996185303, -5.765399932861328, -6.175899982452393, -6.271299839019775, -5.780300140380859, -6.082499980926514, -5.369200229644775, -5.927999973297119, -5.552299976348877, -5.822700023651123, -5.782700061798096, -5.861700057983398, -5.966300010681152, -6.046000003814697, -6.012899875640869, -6.029200077056885, -6.10129976272583, -6.082600116729736, -6.160600185394287, -5.1880998611450195, -5.264100074768066, -5.557499885559082, -5.605199813842773, -5.637199878692627, -5.642399787902832, -5.567999839782715, -5.831900119781494, -5.801199913024902, -5.891300201416016, -6.0131001472473145, -6.020400047302246, -6.067800045013428, -6.099299907684326, -6.109600067138672, -6.11299991607666, -6.134399890899658, -6.170599937438965, -6.253300189971924, -6.291900157928467, -6.365499973297119, -6.168399810791016, -6.42549991607666, -6.424200057983398, -6.428599834442139, -6.425300121307373, -6.497300148010254, -6.461599826812744, -6.520299911499023, -6.518700122833252, -6.37060022354126, -5.4079999923706055, -6.199100017547607, -6.378200054168701, -5.591700077056885, -5.627999782562256, -5.701900005340576, -5.4380998611450195, -5.810699939727783, -5.890699863433838, -5.9710001945495605, -5.893799781799316, -6.0447998046875, -5.756400108337402, -5.531599998474121, -6.088200092315674, -6.145500183105469, -6.194499969482422, -6.228099822998047, -6.1971001625061035, -6.229100227355957, -6.23330020904541, -6.233399868011475, -6.268400192260742, -6.278299808502197, -6.305099964141846, -6.186800003051758, -6.320899963378906, -6.2291998863220215, -6.333000183105469, -5.922900199890137, -6.405700206756592, -6.420599937438965, -6.4019999504089355, -6.0625, -5.67080020904541, -5.694200038909912, -5.401500225067139, -5.74459981918335, -5.621600151062012, -6.011099815368652, -5.997000217437744, -5.632199764251709, -5.953800201416016, -6.161799907684326, -5.979300022125244, -6.116399765014648, -6.107100009918213, -6.132500171661377], \"loglift\": [30.0, 29.0, 28.0, 27.0, 26.0, 25.0, 24.0, 23.0, 22.0, 21.0, 20.0, 19.0, 18.0, 17.0, 16.0, 15.0, 14.0, 13.0, 12.0, 11.0, 10.0, 9.0, 8.0, 7.0, 6.0, 5.0, 4.0, 3.0, 2.0, 1.0, 0.9126999974250793, 0.9067000150680542, 0.902400016784668, 0.8981999754905701, 0.8952999711036682, 0.8903999924659729, 0.8898000121116638, 0.8884000182151794, 0.8881999850273132, 0.8853999972343445, 0.8840000033378601, 0.8838000297546387, 0.8823999762535095, 0.882099986076355, 0.8812000155448914, 0.8805999755859375, 0.8788999915122986, 0.8772000074386597, 0.8769000172615051, 0.8758000135421753, 0.8733999729156494, 0.8729000091552734, 0.8725000023841858, 0.8701000213623047, 0.869700014591217, 0.8690000176429749, 0.8686000108718872, 0.8684999942779541, 0.8683000206947327, 0.8673999905586243, 0.8632000088691711, 0.8289999961853027, 0.8503000140190125, 0.8574000000953674, 0.8267999887466431, 0.843500018119812, 0.7591999769210815, 0.7648000121116638, 0.7296000123023987, 0.7387999892234802, 0.8180999755859375, 0.5942999720573425, 0.44850000739097595, 0.6604999899864197, 0.6355000138282776, 0.7263000011444092, 1.3415000438690186, 1.332200050354004, 1.3257999420166016, 1.3224999904632568, 1.312399983406067, 1.3118000030517578, 1.3105000257492065, 1.3080999851226807, 1.2864999771118164, 1.280400037765503, 1.2764999866485596, 1.273300051689148, 1.2704999446868896, 1.268399953842163, 1.2680000066757202, 1.2640000581741333, 1.2630000114440918, 1.2618999481201172, 1.2611000537872314, 1.2587000131607056, 1.2577999830245972, 1.25600004196167, 1.2553999423980713, 1.2552000284194946, 1.253000020980835, 1.2509000301361084, 1.2508000135421753, 1.250499963760376, 1.2496999502182007, 1.2484999895095825, 1.225600004196167, 1.2307000160217285, 1.1776000261306763, 1.1677000522613525, 1.142199993133545, 1.1604000329971313, 1.023800015449524, 1.1892999410629272, 1.055299997329712, 1.1575000286102295, 0.9221000075340271, 0.9469000101089478, 1.0542000532150269, 0.7741000056266785, 0.9972000122070312, 0.972100019454956, 0.8996000289916992, 0.6521999835968018, 0.9122999906539917, 0.8112000226974487, 1.7858999967575073, 1.7342000007629395, 1.7315000295639038, 1.729599952697754, 1.7222000360488892, 1.716599941253662, 1.714400053024292, 1.7008999586105347, 1.6893999576568604, 1.6830999851226807, 1.6787999868392944, 1.6779999732971191, 1.6777000427246094, 1.6742000579833984, 1.6672999858856201, 1.6658999919891357, 1.6639000177383423, 1.6629999876022339, 1.657099962234497, 1.6569000482559204, 1.6503000259399414, 1.6503000259399414, 1.6461000442504883, 1.6418999433517456, 1.6412999629974365, 1.6395000219345093, 1.6338000297546387, 1.6328999996185303, 1.6327999830245972, 1.6318000555038452, 1.6175999641418457, 1.6098999977111816, 1.6114000082015991, 1.6222000122070312, 1.6150000095367432, 1.5090999603271484, 1.5325000286102295, 1.1019999980926514, 1.3841999769210815, 0.9800999760627747, 1.0688999891281128, 0.7475000023841858, 0.8467000126838684, 1.016800045967102, 1.1324000358581543, 1.038599967956543, 1.0325000286102295, 1.1287000179290771, 0.7149999737739563, 0.4156000018119812, 2.1215999126434326, 2.110599994659424, 2.08270001411438, 2.0761001110076904, 2.072200059890747, 2.0664000511169434, 2.0460000038146973, 2.0439000129699707, 2.0432000160217285, 2.0202999114990234, 2.013000011444092, 2.0116000175476074, 2.0025999546051025, 1.9951000213623047, 1.9945000410079956, 1.9911999702453613, 1.989400029182434, 1.9819999933242798, 1.9637999534606934, 1.955399990081787, 1.9342000484466553, 1.9271999597549438, 1.9230999946594238, 1.922700047492981, 1.9191999435424805, 1.9176000356674194, 1.9041999578475952, 1.901900053024292, 1.8981000185012817, 1.895799994468689, 1.8902000188827515, 1.8320000171661377, 1.7077000141143799, 1.7822999954223633, 2.087899923324585, 2.081199884414673, 2.071500062942505, 2.0641000270843506, 2.0536000728607178, 2.0383999347686768, 2.0271999835968018, 2.024899959564209, 2.009200096130371, 2.008500099182129, 2.001800060272217, 2.0002999305725098, 1.9948999881744385, 1.9850000143051147, 1.9775999784469604, 1.9742000102996826, 1.9736000299453735, 1.9732999801635742, 1.9731999635696411, 1.9674999713897705, 1.964900016784668, 1.9601999521255493, 1.9581999778747559, 1.9570000171661377, 1.9522000551223755, 1.9473999738693237, 1.9449000358581543, 1.9352999925613403, 1.9316999912261963, 1.931399941444397, 1.9183000326156616, 1.8990999460220337, 1.8027000427246094, 1.7438000440597534, 1.7258000373840332, 1.6657999753952026, 1.8287999629974365, 1.809000015258789, 1.5276000499725342, 1.7145999670028687, 1.8734999895095825, 1.503000020980835, 1.6303000450134277, 1.5743999481201172, 1.5779000520706177]}, \"token.table\": {\"Topic\": [3, 5, 2, 3, 3, 1, 1, 5, 2, 2, 5, 5, 3, 3, 5, 4, 1, 3, 5, 1, 2, 3, 4, 1, 2, 3, 4, 1, 2, 1, 5, 5, 3, 5, 3, 2, 3, 4, 2, 3, 1, 4, 5, 5, 5, 2, 5, 1, 2, 3, 4, 4, 5, 2, 3, 5, 5, 2, 4, 4, 4, 1, 2, 5, 3, 1, 5, 1, 1, 2, 2, 5, 3, 1, 1, 2, 3, 5, 1, 2, 5, 3, 1, 5, 2, 1, 2, 3, 5, 4, 2, 3, 2, 3, 2, 3, 4, 4, 1, 2, 5, 2, 3, 2, 1, 1, 2, 3, 5, 3, 4, 4, 2, 5, 5, 5, 1, 1, 5, 4, 3, 1, 2, 3, 2, 5, 1, 5, 5, 2, 2, 3, 3, 3, 1, 3, 4, 2, 1, 2, 3, 5, 3, 1, 1, 2, 1, 4, 3, 5, 4, 3, 4, 2, 3, 1, 4, 2, 1, 2, 1, 1, 1, 4, 1, 2, 2, 1, 1, 2, 3, 4, 2, 5, 2, 3, 1, 3, 2, 4, 2, 5, 2, 3, 2, 3, 3, 2, 2, 3, 1, 2, 1, 2, 3, 3, 5, 1, 4, 4, 4, 2, 2, 1, 2, 3, 5, 2, 3, 2, 5, 1, 2, 1, 3, 5, 4, 1, 1, 2, 1, 2, 3, 2, 3, 1, 2, 3, 5, 1, 4, 2, 2, 1, 2, 3, 5, 2, 5, 1, 3, 2, 1, 1, 2, 1, 1, 2, 3, 5, 2, 2, 3, 5, 5, 1, 2, 1, 2, 5, 2, 2, 2, 1, 2, 3, 5, 1, 4, 1, 2, 3, 5, 1, 3, 2, 2, 4, 3, 3, 3, 4, 5, 1, 5, 1, 2, 3, 2, 1, 1, 4, 2, 3, 1, 2, 5, 3, 5, 1, 5, 1, 1, 3, 4, 3, 3, 5, 5, 1, 4, 3, 5, 2, 4], \"Freq\": [0.964947521686554, 0.7822731137275696, 0.17493875324726105, 0.6997550129890442, 0.9156784415245056, 0.958026647567749, 0.8867803812026978, 0.9106979966163635, 0.9165884852409363, 0.4224260151386261, 0.5632346868515015, 0.7743857502937317, 0.7792931199073792, 0.3199656307697296, 0.6399312615394592, 0.9193618893623352, 0.7634559869766235, 0.19086399674415588, 0.09543199837207794, 0.3928379714488983, 0.31427037715911865, 0.235702782869339, 0.07856759428977966, 0.6246887445449829, 0.2776394486427307, 0.06940986216068268, 0.9753400087356567, 0.9208734631538391, 0.8340239524841309, 0.19727179408073425, 0.5918153524398804, 0.911758303642273, 0.7658033967018127, 0.8022584915161133, 0.9172973036766052, 0.7492597699165344, 0.1498519480228424, 0.9239197969436646, 0.22200612723827362, 0.6660183668136597, 0.9240472912788391, 0.8107166290283203, 0.9757013320922852, 0.9280121326446533, 0.8507423400878906, 0.8521599769592285, 0.8546044230461121, 0.08056307584047318, 0.8056308031082153, 0.08056307584047318, 0.872951090335846, 0.2046046257019043, 0.8184185028076172, 0.19441407918930054, 0.19441407918930054, 0.3888281583786011, 0.8636655211448669, 0.9267885684967041, 0.9815578460693359, 0.7171570062637329, 0.7179519534111023, 0.33363965153694153, 0.5838693380355835, 0.08340991288423538, 0.7613125443458557, 0.9638596177101135, 0.8575596809387207, 0.9114423990249634, 0.9367113709449768, 0.9206121563911438, 0.277587354183197, 0.555174708366394, 0.6454269886016846, 0.9489138126373291, 0.29409676790237427, 0.29409676790237427, 0.29409676790237427, 0.09803225100040436, 0.8020184636116028, 0.10025230795145035, 0.10025230795145035, 0.6684266924858093, 0.9866147637367249, 0.7129247784614563, 0.9745219349861145, 0.15105822682380676, 0.15105822682380676, 0.4531746804714203, 0.3021164536476135, 0.6697153449058533, 0.8404710292816162, 0.14007849991321564, 0.12572912871837616, 0.7543747425079346, 0.7874314188957214, 0.15748628973960876, 0.8870723843574524, 0.7600880265235901, 0.8680673241615295, 0.0667744129896164, 0.0667744129896164, 0.9692834615707397, 0.6909217834472656, 0.890474796295166, 0.8939265608787537, 0.19088447093963623, 0.5726534128189087, 0.19088447093963623, 0.09544223546981812, 0.7144833207130432, 0.9105947017669678, 0.8356145024299622, 0.21220766007900238, 0.636622965335846, 0.8321724534034729, 0.6401113867759705, 0.9278498888015747, 0.23417805135250092, 0.7025341391563416, 0.9247087240219116, 0.773688793182373, 0.12636154890060425, 0.37908464670181274, 0.37908464670181274, 0.27799293398857117, 0.5559858679771423, 0.9260537624359131, 0.7508706450462341, 0.7808160185813904, 0.9161956906318665, 0.8307169079780579, 0.9408772587776184, 0.934943675994873, 0.6841408610343933, 0.9001402854919434, 0.9581733345985413, 0.8959571719169617, 0.9334303140640259, 0.8806714415550232, 0.47202879190444946, 0.47202879190444946, 0.11800719797611237, 0.9134473204612732, 0.9743474721908569, 0.8401347398757935, 0.12001924961805344, 0.8684679269790649, 0.7385318875312805, 0.9245998859405518, 0.7932830452919006, 0.9231061339378357, 0.9239800572395325, 0.8469656705856323, 0.1543344408273697, 0.7716721892356873, 0.9103090167045593, 0.9748781323432922, 0.9014226198196411, 0.8236587643623352, 0.18303528428077698, 0.951575517654419, 0.8901468515396118, 0.8470418453216553, 0.8805558085441589, 0.32387495040893555, 0.6477499008178711, 0.9128640294075012, 0.9475617408752441, 0.3020937740802765, 0.604187548160553, 0.8735353350639343, 0.49379441142082214, 0.25324973464012146, 0.5064994692802429, 0.430758535861969, 0.430758535861969, 0.16029693186283112, 0.6411877274513245, 0.9054421186447144, 0.673733651638031, 0.923060417175293, 0.7991501688957214, 0.495084673166275, 0.495084673166275, 0.872484028339386, 0.9127208590507507, 0.7328886389732361, 0.9758766293525696, 0.5263507962226868, 0.37596482038497925, 0.12439091503620148, 0.7463455200195312, 0.45016002655029297, 0.22508001327514648, 0.3001067042350769, 0.19210796058177948, 0.576323926448822, 0.30516842007637024, 0.6103368401527405, 0.7241106033325195, 0.8377441763877869, 0.9004902839660645, 0.8718904852867126, 0.16398927569389343, 0.32797855138778687, 0.6559571027755737, 0.8261259198188782, 0.7781175374984741, 0.9652382731437683, 0.26870614290237427, 0.5374122858047485, 0.22224506735801697, 0.6667351722717285, 0.8293032646179199, 0.10366290807723999, 0.7543174028396606, 0.9488775730133057, 0.9522334337234497, 0.6887195110321045, 0.2582698166370392, 0.9152504801750183, 0.8501967191696167, 0.7375591993331909, 0.7496721744537354, 0.24989072978496552, 0.1276565045118332, 0.38296952843666077, 0.38296952843666077, 0.1276565045118332, 0.2972007989883423, 0.5944015979766846, 0.9388254284858704, 0.9168339371681213, 0.18065683543682098, 0.6322989463806152, 0.09032841771841049, 0.861501932144165, 0.24423301219940186, 0.4884660243988037, 0.9296771883964539, 0.7480698823928833, 0.9804943203926086, 0.9887514710426331, 0.7523645162582397, 0.10748064517974854, 0.9272128939628601, 0.11400679498910904, 0.6840407848358154, 0.11400679498910904, 0.11400679498910904, 0.9414526224136353, 0.7064133882522583, 0.11773556470870972, 0.11773556470870972, 0.6887061595916748, 0.7635862827301025, 0.19089657068252563, 0.8262320160865784, 0.1032790020108223, 0.7803459167480469, 0.9485224485397339, 0.881895899772644, 0.8619500398635864, 0.17933769524097443, 0.35867539048194885, 0.35867539048194885, 0.08966884762048721, 0.9289546012878418, 0.495784193277359, 0.17217789590358734, 0.6887115836143494, 0.08608894795179367, 0.9770658612251282, 0.9105275869369507, 0.7659580111503601, 0.8376123905181885, 0.8584994673728943, 0.700139045715332, 0.9028790593147278, 0.8681610226631165, 0.7337231636047363, 0.8644992113113403, 0.9177002310752869, 0.8979530334472656, 0.8022600412368774, 0.14346447587013245, 0.43039342761039734, 0.43039342761039734, 0.8847412467002869, 0.9262781143188477, 0.8979006409645081, 0.93854820728302, 0.8352891206741333, 0.10441114008426666, 0.7449156641960144, 0.2793433666229248, 0.8015473484992981, 0.8953443765640259, 0.902368426322937, 0.9024131894111633, 0.6759334206581116, 0.9366280436515808, 0.9346181750297546, 0.7353891134262085, 0.9758983850479126, 0.7095630764961243, 0.47452524304389954, 0.47452524304389954, 0.773676335811615, 0.3830641210079193, 0.7661282420158386, 0.7998607754707336, 0.9472317099571228, 0.9674432277679443, 0.7240782976150513], \"Term\": [\"academ\", \"acceler\", \"access\", \"access\", \"adapt\", \"administr\", \"advantag\", \"agricultur\", \"airflow\", \"algorithm\", \"algorithm\", \"align\", \"amaz\", \"amazon\", \"amazon\", \"analys\", \"analysi\", \"analysi\", \"analysi\", \"analyst\", \"analyst\", \"analyst\", \"analyst\", \"analyt\", \"analyt\", \"analyt\", \"anzeigenwenig\", \"area\", \"assist\", \"automot\", \"automot\", \"autonom\", \"awesom\", \"axel\", \"bachelor\", \"background\", \"background\", \"bayer\", \"believ\", \"believ\", \"benefit\", \"bereich\", \"bioinformat\", \"biostatist\", \"border\", \"brand\", \"break\", \"build\", \"build\", \"build\", \"bund\", \"campusj\\u00e4g\", \"campusj\\u00e4g\", \"candid\", \"candid\", \"candid\", \"caus\", \"celebr\", \"charit\\u00e9\", \"cheminformat\", \"clinic\", \"cloud\", \"cloud\", \"cloud\", \"commiss\", \"concept\", \"conduct\", \"consult\", \"contact\", \"contain\", \"content\", \"content\", \"conveni\", \"cours\", \"creat\", \"creat\", \"creat\", \"creat\", \"databas\", \"databas\", \"databas\", \"dataset\", \"day\", \"debug\", \"decid\", \"deep\", \"deep\", \"deep\", \"deep\", \"dein\", \"deliv\", \"deliv\", \"deliveri\", \"deliveri\", \"deploy\", \"deploy\", \"deutsch\", \"dich\", \"digit\", \"digit\", \"digit\", \"discount\", \"disrupt\", \"distribut\", \"document\", \"drive\", \"drive\", \"drive\", \"drive\", \"effort\", \"ein\", \"einem\", \"emb\", \"emb\", \"emiss\", \"enhanc\", \"ensur\", \"equival\", \"equival\", \"erfahrung\", \"establish\", \"europ\", \"europ\", \"europ\", \"european\", \"european\", \"exchang\", \"farm\", \"farmer\", \"fashion\", \"featur\", \"find\", \"fintech\", \"food\", \"forward\", \"founder\", \"funk\", \"game\", \"germani\", \"global\", \"global\", \"global\", \"go\", \"good\", \"googl\", \"googl\", \"group\", \"gute\", \"hamburg\", \"hardwar\", \"hast\", \"hero\", \"heterogen\", \"hire\", \"hire\", \"hour\", \"ihrer\", \"impact\", \"implement\", \"implement\", \"import\", \"independ\", \"individu\", \"informatik\", \"infrastructur\", \"infrastructur\", \"inspir\", \"insur\", \"intern\", \"intern\", \"interview\", \"jason\", \"job\", \"job\", \"join\", \"join\", \"junior\", \"junior\", \"kafka\", \"kenntniss\", \"kubernet\", \"launch\", \"learn\", \"learn\", \"levelmanag\", \"librari\", \"local\", \"logist\", \"machin\", \"machin\", \"maintain\", \"maintain\", \"market\", \"market\", \"market\", \"media\", \"media\", \"medic\", \"medic\", \"medicin\", \"mehr\", \"mentor\", \"million\", \"mission\", \"mission\", \"mission\", \"moder\", \"multipl\", \"music\", \"nativ\", \"nativ\", \"need\", \"need\", \"network\", \"network\", \"newli\", \"oder\", \"open\", \"oper\", \"oper\", \"orient\", \"pace\", \"part\", \"partner\", \"partner\", \"passion\", \"passion\", \"passion\", \"passion\", \"patient\", \"patient\", \"perk\", \"pipelin\", \"platform\", \"platform\", \"platform\", \"plista\", \"polici\", \"polici\", \"possibl\", \"postgresql\", \"price\", \"profession\", \"program\", \"program\", \"project\", \"python\", \"python\", \"python\", \"python\", \"quantit\", \"real\", \"real\", \"real\", \"reduc\", \"report\", \"report\", \"requir\", \"requir\", \"safeti\", \"scala\", \"scalabl\", \"scale\", \"scientist\", \"scientist\", \"scientist\", \"scientist\", \"secur\", \"sehr\", \"senior\", \"senior\", \"senior\", \"sensor\", \"server\", \"session\", \"share\", \"shop\", \"sind\", \"small\", \"smartclip\", \"solver\", \"sowi\", \"spatial\", \"specialist\", \"springer\", \"stack\", \"stack\", \"stack\", \"stream\", \"success\", \"task\", \"teach\", \"tech\", \"tech\", \"technic\", \"technic\", \"telemat\", \"tensorflow\", \"text\", \"think\", \"tier\", \"train\", \"travel\", \"uniqu\", \"unser\", \"version\", \"video\", \"video\", \"voic\", \"women\", \"women\", \"worldwid\", \"yara\", \"zalando\", \"\\u00fcber\"]}, \"R\": 30, \"lambda.step\": 0.01, \"plot.opts\": {\"xlab\": \"PC1\", \"ylab\": \"PC2\"}, \"topic.order\": [3, 1, 2, 4, 5]};\n",
       "\n",
       "function LDAvis_load_lib(url, callback){\n",
       "  var s = document.createElement('script');\n",
       "  s.src = url;\n",
       "  s.async = true;\n",
       "  s.onreadystatechange = s.onload = callback;\n",
       "  s.onerror = function(){console.warn(\"failed to load library \" + url);};\n",
       "  document.getElementsByTagName(\"head\")[0].appendChild(s);\n",
       "}\n",
       "\n",
       "if(typeof(LDAvis) !== \"undefined\"){\n",
       "   // already loaded: just create the visualization\n",
       "   !function(LDAvis){\n",
       "       new LDAvis(\"#\" + \"ldavis_el259671405298188968483263244827\", ldavis_el259671405298188968483263244827_data);\n",
       "   }(LDAvis);\n",
       "}else if(typeof define === \"function\" && define.amd){\n",
       "   // require.js is available: use it to load d3/LDAvis\n",
       "   require.config({paths: {d3: \"https://cdnjs.cloudflare.com/ajax/libs/d3/3.5.5/d3.min\"}});\n",
       "   require([\"d3\"], function(d3){\n",
       "      window.d3 = d3;\n",
       "      LDAvis_load_lib(\"https://cdn.rawgit.com/bmabey/pyLDAvis/files/ldavis.v1.0.0.js\", function(){\n",
       "        new LDAvis(\"#\" + \"ldavis_el259671405298188968483263244827\", ldavis_el259671405298188968483263244827_data);\n",
       "      });\n",
       "    });\n",
       "}else{\n",
       "    // require.js not available: dynamically load d3 & LDAvis\n",
       "    LDAvis_load_lib(\"https://cdnjs.cloudflare.com/ajax/libs/d3/3.5.5/d3.min.js\", function(){\n",
       "         LDAvis_load_lib(\"https://cdn.rawgit.com/bmabey/pyLDAvis/files/ldavis.v1.0.0.js\", function(){\n",
       "                 new LDAvis(\"#\" + \"ldavis_el259671405298188968483263244827\", ldavis_el259671405298188968483263244827_data);\n",
       "            })\n",
       "         });\n",
       "}\n",
       "</script>"
      ],
      "text/plain": [
       "<IPython.core.display.HTML object>"
      ]
     },
     "execution_count": 184,
     "metadata": {},
     "output_type": "execute_result"
    }
   ],
   "source": [
    "#take a look at the different topics \n",
    "for idx, topic in lda_model.print_topics(-1):\n",
    "    print(f'Topic: {idx} \\nWords: {topic}')\n",
    "pyLDAvis.display(lda_data) #for notebook\n",
    "# pyLDAvis.show(lda_data) #for browser"
   ]
  },
  {
   "cell_type": "code",
   "execution_count": 185,
   "metadata": {},
   "outputs": [],
   "source": [
    "# define data frames for all 3 job_classes\n",
    "df_analyst = df.set_index('job_class').loc[['Data Analyst'],['lemma_text']]\n",
    "df_scientist = df.set_index('job_class').loc[['Data Scientist'],['lemma_text']]\n",
    "df_engineer = df.set_index('job_class').loc[['Data Engineer'],['lemma_text']]"
   ]
  },
  {
   "cell_type": "code",
   "execution_count": 186,
   "metadata": {},
   "outputs": [],
   "source": [
    "def LDA_topic_viz(data, job_title, num_topics):\n",
    "    # feature extraction and filtering of words\n",
    "    job_features = corpora.Dictionary(data)\n",
    "    job_features.filter_extremes(no_below=3,no_above=0.5)\n",
    "    #word count vector for each tweet for each of its words freq for the whole corpa \n",
    "    bow_corpus=[job_features.doc2bow(doc) for doc in df.lemma_text]\n",
    "    time.sleep(10)\n",
    "    #increase the frequency weight of unique words compared to highly frequent non-unique words \n",
    "    tfidf=models.TfidfModel(bow_corpus)\n",
    "    tfidf_corpus=tfidf[bow_corpus]\n",
    "    lda_model=models.ldamodel.LdaModel(corpus=tfidf_corpus, num_topics=num_topics, \n",
    "                                   id2word=job_features, \n",
    "                                   passes=50, \n",
    "                                   alpha=1, \n",
    "                                   eta='auto')\n",
    "    #take a look at the different topics \n",
    "    print(f'These are the {num_topics} for {job_title}')\n",
    "    for idx, topic in lda_model.print_topics(-1):\n",
    "        print(f'Topic: {idx} \\nWords: {topic}')"
   ]
  },
  {
   "cell_type": "code",
   "execution_count": 187,
   "metadata": {},
   "outputs": [
    {
     "name": "stdout",
     "output_type": "stream",
     "text": [
      "These are the 5 for data_analyst\n",
      "Topic: 0 \n",
      "Words: 0.006*\"product\" + 0.005*\"zalando\" + 0.005*\"softwar\" + 0.005*\"discount\" + 0.005*\"scale\" + 0.005*\"improv\" + 0.004*\"cloud\" + 0.004*\"code\" + 0.004*\"machin\" + 0.004*\"senior\"\n",
      "Topic: 1 \n",
      "Words: 0.008*\"train\" + 0.007*\"consult\" + 0.006*\"project\" + 0.006*\"server\" + 0.006*\"administr\" + 0.005*\"cours\" + 0.005*\"good\" + 0.005*\"microsoft\" + 0.005*\"day\" + 0.005*\"program\"\n",
      "Topic: 2 \n",
      "Words: 0.009*\"bund\" + 0.008*\"estat\" + 0.008*\"ein\" + 0.008*\"oder\" + 0.007*\"anzeigenwenig\" + 0.007*\"content\" + 0.007*\"deutsch\" + 0.007*\"unser\" + 0.006*\"mehr\" + 0.006*\"safeti\"\n",
      "Topic: 3 \n",
      "Words: 0.007*\"digit\" + 0.005*\"research\" + 0.005*\"medic\" + 0.005*\"group\" + 0.004*\"benefit\" + 0.004*\"complex\" + 0.004*\"scientist\" + 0.004*\"mobil\" + 0.004*\"method\" + 0.004*\"transform\"\n",
      "Topic: 4 \n",
      "Words: 0.006*\"join\" + 0.005*\"deliveri\" + 0.005*\"global\" + 0.005*\"learn\" + 0.005*\"valu\" + 0.005*\"grow\" + 0.004*\"heart\" + 0.004*\"mission\" + 0.004*\"platform\" + 0.004*\"hero\"\n"
     ]
    }
   ],
   "source": [
    "# call LDA function for 3 job_classes: Data Analyst\n",
    "LDA_topic_viz(df_analyst.lemma_text,'data_analyst', 5)"
   ]
  },
  {
   "cell_type": "code",
   "execution_count": 188,
   "metadata": {},
   "outputs": [
    {
     "name": "stdout",
     "output_type": "stream",
     "text": [
      "These are the 5 for data_scientist\n",
      "Topic: 0 \n",
      "Words: 0.009*\"zalando\" + 0.009*\"discount\" + 0.006*\"locat\" + 0.006*\"shop\" + 0.006*\"game\" + 0.006*\"central\" + 0.006*\"partner\" + 0.006*\"fashion\" + 0.006*\"brand\" + 0.005*\"expertis\"\n",
      "Topic: 1 \n",
      "Words: 0.008*\"market\" + 0.006*\"platform\" + 0.006*\"deliveri\" + 0.005*\"join\" + 0.005*\"global\" + 0.005*\"googl\" + 0.005*\"product\" + 0.005*\"digit\" + 0.004*\"warehous\" + 0.004*\"creat\"\n",
      "Topic: 2 \n",
      "Words: 0.008*\"bund\" + 0.008*\"ein\" + 0.008*\"unser\" + 0.008*\"oder\" + 0.007*\"deutsch\" + 0.007*\"anzeigenwenig\" + 0.007*\"hamburg\" + 0.006*\"mehr\" + 0.006*\"amount\" + 0.006*\"microsoft\"\n",
      "Topic: 3 \n",
      "Words: 0.007*\"train\" + 0.005*\"consult\" + 0.005*\"area\" + 0.005*\"good\" + 0.005*\"profession\" + 0.005*\"concept\" + 0.004*\"administr\" + 0.004*\"independ\" + 0.004*\"cours\" + 0.004*\"task\"\n",
      "Topic: 4 \n",
      "Words: 0.006*\"user\" + 0.005*\"build\" + 0.004*\"product\" + 0.004*\"strong\" + 0.004*\"insight\" + 0.004*\"analysi\" + 0.004*\"fast\" + 0.004*\"abil\" + 0.004*\"amazon\" + 0.004*\"challeng\"\n"
     ]
    }
   ],
   "source": [
    "# call LDA function for 3 job_classes: Data Scientist\n",
    "LDA_topic_viz(df_scientist.lemma_text,'data_scientist', 5)\n"
   ]
  },
  {
   "cell_type": "code",
   "execution_count": 189,
   "metadata": {},
   "outputs": [
    {
     "name": "stdout",
     "output_type": "stream",
     "text": [
      "These are the 5 for data_engineer\n",
      "Topic: 0 \n",
      "Words: 0.008*\"linux\" + 0.007*\"ein\" + 0.007*\"deutsch\" + 0.007*\"oder\" + 0.007*\"server\" + 0.007*\"campusjäg\" + 0.006*\"unser\" + 0.006*\"anzeigenwenig\" + 0.006*\"sowi\" + 0.005*\"instal\"\n",
      "Topic: 1 \n",
      "Words: 0.005*\"zalando\" + 0.004*\"discount\" + 0.004*\"tech\" + 0.004*\"impact\" + 0.004*\"machin\" + 0.004*\"need\" + 0.004*\"pipelin\" + 0.004*\"drive\" + 0.003*\"scale\" + 0.003*\"insight\"\n",
      "Topic: 2 \n",
      "Words: 0.004*\"forward\" + 0.004*\"learn\" + 0.004*\"report\" + 0.004*\"deliveri\" + 0.004*\"hero\" + 0.003*\"amazon\" + 0.003*\"individu\" + 0.003*\"gender\" + 0.003*\"friend\" + 0.003*\"exist\"\n",
      "Topic: 3 \n",
      "Words: 0.005*\"project\" + 0.005*\"digit\" + 0.005*\"train\" + 0.004*\"consult\" + 0.004*\"analysi\" + 0.004*\"profession\" + 0.004*\"research\" + 0.004*\"cours\" + 0.004*\"program\" + 0.003*\"ensur\"\n",
      "Topic: 4 \n",
      "Words: 0.008*\"bank\" + 0.005*\"senior\" + 0.005*\"monitor\" + 0.005*\"devop\" + 0.005*\"test\" + 0.005*\"kubernet\" + 0.004*\"modern\" + 0.004*\"energi\" + 0.004*\"invest\" + 0.004*\"databas\"\n"
     ]
    }
   ],
   "source": [
    "# call LDA function for 3 job_classes: Data Engineer\n",
    "LDA_topic_viz(df_engineer.lemma_text,'data_engineer', 5)\n"
   ]
  },
  {
   "cell_type": "code",
   "execution_count": null,
   "metadata": {},
   "outputs": [],
   "source": []
  },
  {
   "cell_type": "markdown",
   "metadata": {},
   "source": [
    "## 2) Train a SVM machine learning model to recognize distinct job titles"
   ]
  },
  {
   "cell_type": "code",
   "execution_count": 74,
   "metadata": {},
   "outputs": [],
   "source": [
    "s = svm.LinearSVC(C=1.0)"
   ]
  },
  {
   "cell_type": "code",
   "execution_count": 75,
   "metadata": {},
   "outputs": [
    {
     "data": {
      "text/plain": [
       "((678, 200), (291, 200), (678,), (291,))"
      ]
     },
     "execution_count": 75,
     "metadata": {},
     "output_type": "execute_result"
    }
   ],
   "source": [
    "x_train_tfidf.shape, x_test_tfidf.shape, y_train.shape, y_test.shape"
   ]
  },
  {
   "cell_type": "code",
   "execution_count": 76,
   "metadata": {},
   "outputs": [
    {
     "data": {
      "text/plain": [
       "LinearSVC()"
      ]
     },
     "execution_count": 76,
     "metadata": {},
     "output_type": "execute_result"
    }
   ],
   "source": [
    "# fit the training dataset on the classifier\n",
    "s.fit(x_train_tfidf, y_train)# predict the labels on validation dataset"
   ]
  },
  {
   "cell_type": "code",
   "execution_count": 77,
   "metadata": {},
   "outputs": [],
   "source": [
    "# make predictions using the trained model\n",
    "y_pred_train = s.predict(x_train_tfidf)\n",
    "y_pred_test = s.predict(x_test_tfidf)\n"
   ]
  },
  {
   "cell_type": "code",
   "execution_count": 80,
   "metadata": {},
   "outputs": [
    {
     "name": "stdout",
     "output_type": "stream",
     "text": [
      "SVM Train Accuracy Score ->  98.67256637168141 \n",
      " SVM Test Accuracy Score ->  95.1890034364261\n"
     ]
    }
   ],
   "source": [
    "# Use accuracy_score function to get the accuracy\n",
    "print(\"SVM Train Accuracy Score -> \",accuracy_score(y_pred_train, y_train)*100, \"\\n\",\n",
    "     \"SVM Test Accuracy Score -> \",accuracy_score(y_pred_test, y_test)*100)\n"
   ]
  },
  {
   "cell_type": "code",
   "execution_count": 88,
   "metadata": {},
   "outputs": [
    {
     "data": {
      "text/plain": [
       "Text(0.5, 1.05, 'Confusion_matrix for Training Data')"
      ]
     },
     "execution_count": 88,
     "metadata": {},
     "output_type": "execute_result"
    },
    {
     "data": {
      "image/png": "[encoded data removed]",
      "text/plain": [
       "<Figure size 432x288 with 2 Axes>"
      ]
     },
     "metadata": {
      "needs_background": "light"
     },
     "output_type": "display_data"
    }
   ],
   "source": [
    "# confusion matrix training data\n",
    "sns.heatmap(confusion_matrix(y_train,y_pred_train),annot=True,fmt='3.0f',cmap=sns.cubehelix_palette(8, start=.5, rot=-.75, as_cmap=True))\n",
    "plt.title('Confusion_matrix for Training Data', y=1.05, size=15)\n"
   ]
  },
  {
   "cell_type": "code",
   "execution_count": 89,
   "metadata": {},
   "outputs": [
    {
     "data": {
      "text/plain": [
       "Text(0.5, 1.05, 'Confusion_matrix for Test Data')"
      ]
     },
     "execution_count": 89,
     "metadata": {},
     "output_type": "execute_result"
    },
    {
     "data": {
      "image/png": "[encoded data removed]",
      "text/plain": [
       "<Figure size 432x288 with 2 Axes>"
      ]
     },
     "metadata": {
      "needs_background": "light"
     },
     "output_type": "display_data"
    }
   ],
   "source": [
    "# confusion matrix test data\n",
    "sns.heatmap(confusion_matrix(y_test,y_pred_test),annot=True,fmt='3.0f',cmap=sns.cubehelix_palette(8, start=.5, rot=-.75, as_cmap=True))\n",
    "plt.title('Confusion_matrix for Test Data', y=1.05, size=15)\n"
   ]
  },
  {
   "cell_type": "code",
   "execution_count": null,
   "metadata": {},
   "outputs": [],
   "source": []
  },
  {
   "cell_type": "markdown",
   "metadata": {},
   "source": [
    "## 3) Analyse and 3D visualisation using PCA and t-SNE"
   ]
  },
  {
   "cell_type": "code",
   "execution_count": 112,
   "metadata": {},
   "outputs": [],
   "source": [
    "# first reduce dimensionality with pca to 50 before feeding to t-sne\n",
    "\n",
    "pca = PCA(n_components= 50)\n",
    "x_train_pca = pca.fit_transform(x_train_tfidf.toarray()) # transform sparse to dense"
   ]
  },
  {
   "cell_type": "markdown",
   "metadata": {},
   "source": [
    "### 2D visualisation"
   ]
  },
  {
   "cell_type": "code",
   "execution_count": 196,
   "metadata": {},
   "outputs": [
    {
     "data": {
      "application/vnd.plotly.v1+json": {
       "config": {
        "plotlyServerURL": "https://plot.ly"
       },
       "data": [
        {
         "hovertemplate": "label_name=Data Analyst<br>PC1=%{x}<br>PC2=%{y}<extra></extra>",
         "legendgroup": "Data Analyst",
         "marker": {
          "color": "#636efa",
          "symbol": "circle"
         },
         "mode": "markers",
         "name": "Data Analyst",
         "showlegend": true,
         "type": "scatter",
         "x": [
          -4.45472526550293,
          3.279705286026001,
          -15.19734001159668,
          9.328524589538574,
          -2.729278564453125,
          -7.915408611297607,
          8.06129264831543,
          9.32033634185791,
          -9.696541786193848,
          22.809608459472656,
          -6.433531284332275,
          0.6002922654151917,
          17.029102325439453,
          11.12855339050293,
          -10.209954261779785,
          7.767358303070068,
          9.980470657348633,
          -4.6694841384887695,
          18.88444709777832,
          14.173282623291016,
          3.155564069747925,
          6.581617832183838,
          -2.7035610675811768,
          -23.86060333251953,
          -7.233710289001465,
          19.563867568969727,
          -10.386268615722656,
          -8.926499366760254,
          5.851597309112549,
          -1.010541319847107,
          -15.4595947265625,
          -5.371774673461914,
          -6.443467140197754,
          19.287012100219727,
          -4.919604301452637,
          -3.7015485763549805,
          6.155311107635498,
          12.813029289245605,
          0.8167496919631958,
          3.736091136932373,
          0.390123188495636,
          8.10666275024414,
          -9.403975486755371,
          -10.209222793579102,
          -11.814942359924316,
          -3.03916335105896,
          0.122417151927948,
          14.135637283325195,
          -23.73046875,
          -1.5347648859024048,
          -1.328758716583252,
          -8.798185348510742,
          -20.0544490814209,
          3.174747943878174,
          19.381990432739258,
          -6.189423084259033,
          3.0585145950317383,
          3.428913116455078,
          27.356409072875977,
          2.961030960083008,
          17.398733139038086,
          15.176685333251953,
          10.933035850524902,
          18.700061798095703,
          -9.876925468444824,
          9.667147636413574,
          4.877599239349365,
          6.355423927307129,
          -0.14444200694561005,
          6.224337100982666,
          4.577784061431885,
          -2.6315155029296875,
          19.806854248046875,
          27.281614303588867,
          24.239742279052734,
          5.983240604400635,
          -2.638914108276367,
          -3.7171831130981445,
          -4.09259033203125,
          27.246522903442383,
          2.2610080242156982,
          -2.518406867980957,
          -7.3647284507751465,
          15.905047416687012,
          -3.7226734161376953,
          7.980494499206543,
          14.581893920898438,
          15.904829025268555,
          0.30834364891052246,
          -4.276129245758057,
          9.71692943572998,
          -10.209952354431152,
          -10.166415214538574,
          10.996147155761719,
          -3.4678211212158203,
          -0.9895979166030884,
          18.412607192993164,
          15.853714942932129,
          -4.825989246368408,
          -3.0385987758636475,
          22.553234100341797,
          -2.586231231689453,
          7.940950393676758,
          28.04638671875,
          2.926708936691284,
          19.095230102539062,
          -12.12285041809082,
          -4.5448503494262695,
          15.108235359191895,
          10.980093002319336,
          -2.641035556793213,
          22.553007125854492,
          4.978547096252441,
          8.837654113769531,
          1.4263356924057007,
          -7.455257892608643,
          -3.858285665512085,
          -24.15500831604004,
          13.454071044921875,
          13.309767723083496,
          -3.4713094234466553,
          -24.6335506439209,
          -5.752266883850098,
          15.588371276855469,
          8.932876586914062,
          5.10898494720459,
          0.8503955006599426,
          0.557274580001831,
          15.588265419006348,
          5.333616256713867,
          -5.222766399383545,
          11.681841850280762,
          -11.073993682861328,
          3.063854694366455,
          -3.7041218280792236,
          10.544055938720703,
          -3.8930506706237793,
          18.889129638671875,
          -5.723144054412842,
          28.604589462280273,
          9.059408187866211,
          15.018521308898926,
          -7.471348762512207,
          -7.341830253601074,
          3.883740186691284,
          3.8827004432678223,
          28.034561157226562,
          14.619215965270996,
          13.017709732055664,
          7.788877487182617,
          -4.648566246032715,
          11.030348777770996,
          18.840709686279297,
          19.94341278076172,
          -24.923583984375,
          -4.674481391906738,
          -19.483972549438477,
          6.157402515411377,
          14.638216972351074,
          -3.6880078315734863,
          2.8614211082458496,
          12.900561332702637,
          -7.051053524017334,
          14.310279846191406,
          -12.343971252441406,
          -24.355159759521484,
          15.50582504272461,
          0.5554162859916687,
          -5.029549598693848,
          5.207698822021484,
          -4.0755205154418945,
          -3.6078457832336426,
          27.310707092285156,
          6.224337100982666,
          -4.604119300842285,
          22.553234100341797,
          4.9928483963012695
         ],
         "xaxis": "x",
         "y": [
          -14.907357215881348,
          28.34319305419922,
          -9.522916793823242,
          28.087921142578125,
          -4.795653343200684,
          -5.570547103881836,
          25.903648376464844,
          26.24962043762207,
          -2.8359267711639404,
          5.751995086669922,
          -13.243486404418945,
          -9.771413803100586,
          19.763614654541016,
          24.975818634033203,
          -16.33945655822754,
          24.621641159057617,
          27.8427677154541,
          -16.109643936157227,
          10.36385726928711,
          15.777485847473145,
          -6.83261251449585,
          16.336837768554688,
          -4.768935203552246,
          11.01501750946045,
          -47.24677276611328,
          19.268287658691406,
          -16.518583297729492,
          -27.37285614013672,
          26.020204544067383,
          -12.663951873779297,
          -9.654778480529785,
          -14.420647621154785,
          -46.86444854736328,
          22.05467414855957,
          -45.208499908447266,
          -12.692876815795898,
          16.67770767211914,
          16.624963760375977,
          28.4586181640625,
          20.81955337524414,
          13.245124816894531,
          13.096159934997559,
          -10.345568656921387,
          -2.1276650428771973,
          -11.42027473449707,
          -16.34405517578125,
          11.284050941467285,
          15.51769733428955,
          11.5589599609375,
          -8.04202938079834,
          -7.613024711608887,
          -27.38263511657715,
          1.3139724731445312,
          -6.901305198669434,
          18.846590042114258,
          -12.7268705368042,
          24.15895652770996,
          9.597394943237305,
          -8.84272575378418,
          24.03697395324707,
          20.492788314819336,
          18.31728744506836,
          11.406007766723633,
          19.507707595825195,
          -2.5548572540283203,
          24.11408042907715,
          21.11440086364746,
          15.987817764282227,
          11.746642112731934,
          14.08376407623291,
          13.554132461547852,
          26.683462142944336,
          22.155364990234375,
          -10.687392234802246,
          7.233129978179932,
          16.17645263671875,
          26.6892032623291,
          -8.771971702575684,
          -10.410213470458984,
          -8.766678810119629,
          11.758295059204102,
          -10.72435474395752,
          -11.613423347473145,
          12.342879295349121,
          -45.986732482910156,
          14.095513343811035,
          26.83417510986328,
          12.334507942199707,
          -9.291837692260742,
          -43.92042922973633,
          28.223644256591797,
          -16.33945655822754,
          -2.061889171600342,
          24.441242218017578,
          -18.238876342773438,
          -7.13888692855835,
          18.807788848876953,
          19.105680465698242,
          -2.942478656768799,
          -16.3386287689209,
          8.93891429901123,
          -20.247201919555664,
          26.250530242919922,
          -9.195621490478516,
          27.624435424804688,
          19.734054565429688,
          -18.223421096801758,
          -7.422305583953857,
          26.039600372314453,
          11.396477699279785,
          26.687740325927734,
          8.938942909240723,
          26.25071144104004,
          13.735295295715332,
          26.947053909301758,
          -11.139110565185547,
          -12.63700008392334,
          11.926608085632324,
          16.246845245361328,
          15.722609519958496,
          -15.477030754089355,
          11.743054389953613,
          -9.207161903381348,
          -5.747704982757568,
          26.487037658691406,
          10.407390594482422,
          28.39986801147461,
          -5.543887138366699,
          -5.752599239349365,
          21.55481719970703,
          12.913742065429688,
          12.592138290405273,
          -13.022984504699707,
          30.163158416748047,
          -12.403489112854004,
          25.579113006591797,
          -47.9777717590332,
          10.35733413696289,
          -11.000272750854492,
          -8.542505264282227,
          25.845382690429688,
          26.73432159423828,
          -7.089601993560791,
          -9.76193904876709,
          -29.51778793334961,
          -29.522743225097656,
          -9.524284362792969,
          17.887773513793945,
          15.213314056396484,
          15.355172157287598,
          -48.55096435546875,
          11.502218246459961,
          18.404682159423828,
          22.72540855407715,
          11.174344062805176,
          -46.112545013427734,
          3.7270102500915527,
          12.089049339294434,
          25.84417724609375,
          -44.590057373046875,
          -3.342451810836792,
          11.571920394897461,
          -8.621044158935547,
          26.49856185913086,
          -9.416078567504883,
          10.881680488586426,
          20.920005798339844,
          -5.543931484222412,
          -47.6776008605957,
          28.218624114990234,
          -10.410053253173828,
          -47.00611114501953,
          -10.648521423339844,
          14.08376407623291,
          -46.99515151977539,
          8.93891429901123,
          15.070270538330078
         ],
         "yaxis": "y"
        },
        {
         "hovertemplate": "label_name=Data Scientist<br>PC1=%{x}<br>PC2=%{y}<extra></extra>",
         "legendgroup": "Data Scientist",
         "marker": {
          "color": "#EF553B",
          "symbol": "circle"
         },
         "mode": "markers",
         "name": "Data Scientist",
         "showlegend": true,
         "type": "scatter",
         "x": [
          13.165875434875488,
          14.274748802185059,
          7.1516194343566895,
          -1.0527244806289673,
          -4.407971382141113,
          -18.43303680419922,
          -12.326498031616211,
          -20.67135238647461,
          -9.210979461669922,
          10.817792892456055,
          -16.578157424926758,
          9.078661918640137,
          -0.8185659050941467,
          13.780583381652832,
          -12.333861351013184,
          -1.4527838230133057,
          -4.593327045440674,
          -12.721390724182129,
          13.778584480285645,
          2.739694118499756,
          -11.163183212280273,
          -14.374720573425293,
          5.803321838378906,
          -21.456050872802734,
          -13.8285551071167,
          -23.92637825012207,
          -18.98360252380371,
          -0.5641872882843018,
          3.7436041831970215,
          0.8260781168937683,
          31.279773712158203,
          -0.263510525226593,
          6.3651862144470215,
          13.02110767364502,
          14.163289070129395,
          23.65361976623535,
          -3.5243632793426514,
          14.180269241333008,
          2.6240766048431396,
          -0.30528950691223145,
          -5.462226867675781,
          -14.512797355651855,
          -6.5426530838012695,
          1.2919809818267822,
          12.465113639831543,
          21.313264846801758,
          -9.50313663482666,
          -20.58269500732422,
          -21.45624351501465,
          -14.233396530151367,
          7.959466934204102,
          -6.608922004699707,
          -18.197044372558594,
          -17.709781646728516,
          -21.929115295410156,
          -21.39451026916504,
          13.517115592956543,
          17.79503059387207,
          6.386398792266846,
          -15.536072731018066,
          6.3651862144470215,
          -1.065711259841919,
          17.70196533203125,
          3.540356159210205,
          12.44017505645752,
          -0.7866776585578918,
          14.335076332092285,
          -16.187288284301758,
          -22.34862518310547,
          -17.452600479125977,
          -13.314915657043457,
          2.7248551845550537,
          -16.594675064086914,
          -21.89337730407715,
          -23.92657470703125,
          -21.549654006958008,
          10.806621551513672,
          -6.802494525909424,
          -11.275769233703613,
          -13.288610458374023,
          -22.775243759155273,
          -21.013479232788086,
          -21.349620819091797,
          1.4388537406921387,
          -1.9942392110824585,
          12.612510681152344,
          6.388320446014404,
          11.792167663574219,
          31.276336669921875,
          -5.825098514556885,
          -22.83514976501465,
          -24.20432472229004,
          24.259321212768555,
          -22.29821014404297,
          -9.487342834472656,
          1.0296257734298706,
          12.935096740722656,
          -16.163360595703125,
          -7.375388145446777,
          23.966150283813477,
          -20.88983154296875,
          -1.6079565286636353,
          23.995140075683594,
          -17.2849178314209,
          -18.265705108642578,
          2.7593445777893066,
          0.8089547753334045,
          -3.524245500564575,
          21.441688537597656,
          20.736074447631836,
          -17.684709548950195,
          19.019140243530273,
          7.151899337768555,
          -5.41831636428833,
          -15.608997344970703,
          -6.559065341949463,
          -0.5165528655052185,
          31.276336669921875,
          13.847123146057129,
          20.846538543701172,
          1.7382110357284546,
          0.6582579612731934,
          -10.642120361328125,
          -18.22699737548828,
          13.28828239440918,
          -10.640032768249512,
          -16.677082061767578,
          19.450279235839844,
          9.739338874816895
         ],
         "xaxis": "x",
         "y": [
          2.5327346324920654,
          -11.926859855651855,
          6.128922462463379,
          4.185004234313965,
          1.2658969163894653,
          -0.305402547121048,
          -9.356049537658691,
          0.43487125635147095,
          -13.559144020080566,
          21.19086456298828,
          -2.0963499546051025,
          3.9257118701934814,
          7.75990104675293,
          -3.709235668182373,
          -7.801174640655518,
          8.905363082885742,
          -7.4327569007873535,
          -5.575930118560791,
          -3.708099126815796,
          17.228134155273438,
          -5.271193504333496,
          10.968788146972656,
          2.172729015350342,
          -6.0947442054748535,
          10.273728370666504,
          -4.031139373779297,
          1.2782609462738037,
          18.7093505859375,
          4.078337669372559,
          10.175934791564941,
          0.2131679505109787,
          8.261552810668945,
          4.1164021492004395,
          21.4977970123291,
          7.478885173797607,
          3.6890926361083984,
          6.903245449066162,
          7.112260341644287,
          1.2102652788162231,
          9.374021530151367,
          -46.66259002685547,
          10.522406578063965,
          -4.930874347686768,
          13.724835395812988,
          2.4763214588165283,
          5.708040237426758,
          -6.185718059539795,
          1.0662567615509033,
          -6.094738960266113,
          10.183058738708496,
          1.7668712139129639,
          -47.872249603271484,
          3.6671314239501953,
          3.1028501987457275,
          19.820533752441406,
          -5.707657337188721,
          2.0416789054870605,
          0.5128850936889648,
          23.386260986328125,
          1.7932056188583374,
          4.1164021492004395,
          4.18130350112915,
          0.7362226247787476,
          4.207523822784424,
          1.9596028327941895,
          -21.61491584777832,
          -11.011419296264648,
          1.2574994564056396,
          -10.78833293914795,
          4.464832305908203,
          11.219398498535156,
          4.753602981567383,
          -2.1500556468963623,
          20.579341888427734,
          -4.031652927398682,
          19.668048858642578,
          20.607078552246094,
          11.528058052062988,
          -5.298831939697266,
          11.201138496398926,
          -11.243067741394043,
          20.42522621154785,
          20.67215347290039,
          -1.2647240161895752,
          7.919248104095459,
          1.4043790102005005,
          23.39345359802246,
          16.979555130004883,
          0.21916140615940094,
          -47.36196517944336,
          -10.884288787841797,
          -3.771456718444824,
          4.000252723693848,
          -11.182751655578613,
          -6.74507999420166,
          8.100390434265137,
          21.56483268737793,
          1.6189701557159424,
          -48.45731735229492,
          4.198199272155762,
          19.539140701293945,
          9.725985527038574,
          3.521833658218384,
          3.3238680362701416,
          4.455434799194336,
          23.794750213623047,
          3.0480055809020996,
          6.903218746185303,
          5.45047664642334,
          5.430035591125488,
          4.050225734710693,
          22.6235408782959,
          6.129162788391113,
          -49.191043853759766,
          1.2980468273162842,
          -49.100685119628906,
          5.896024227142334,
          0.21916139125823975,
          7.557245254516602,
          5.188175201416016,
          7.33262825012207,
          6.382774353027344,
          24.331871032714844,
          0.8175650238990784,
          1.4645239114761353,
          24.329410552978516,
          3.7390923500061035,
          23.100202560424805,
          2.3365182876586914
         ],
         "yaxis": "y"
        },
        {
         "hovertemplate": "label_name=Data Engineer<br>PC1=%{x}<br>PC2=%{y}<extra></extra>",
         "legendgroup": "Data Engineer",
         "marker": {
          "color": "#00cc96",
          "symbol": "circle"
         },
         "mode": "markers",
         "name": "Data Engineer",
         "showlegend": true,
         "type": "scatter",
         "x": [
          14.267233848571777,
          -4.926109313964844,
          13.599693298339844,
          -0.29231634736061096,
          27.189735412597656,
          -2.186171770095825,
          7.717712879180908,
          -1.8103485107421875,
          12.30467700958252,
          -6.971120834350586,
          -4.811388969421387,
          -10.586995124816895,
          4.1716742515563965,
          11.226946830749512,
          10.960744857788086,
          -4.288900375366211,
          -11.946062088012695,
          -7.499299049377441,
          10.954727172851562,
          14.10707950592041,
          0.16157308220863342,
          20.623533248901367,
          8.423746109008789,
          -1.1522564888000488,
          9.713274002075195,
          23.722782135009766,
          -1.8948758840560913,
          -12.984867095947266,
          12.506346702575684,
          -7.71245002746582,
          -13.197761535644531,
          3.4336977005004883,
          -2.8868110179901123,
          -4.872017860412598,
          23.722763061523438,
          -6.036940574645996,
          -3.558138608932495,
          20.80824089050293,
          -3.993563175201416,
          8.114789962768555,
          4.8818535804748535,
          1.3304160833358765,
          -1.6141245365142822,
          -10.675792694091797,
          11.267608642578125,
          -10.587165832519531,
          -9.602086067199707,
          -3.598928689956665,
          -17.657703399658203,
          -0.10746154189109802,
          -3.6702258586883545,
          -2.318535804748535,
          -4.198572158813477,
          -0.4647955596446991,
          16.300216674804688,
          13.138483047485352,
          -8.12912654876709,
          -13.169589042663574,
          -3.9191558361053467,
          -15.408576965332031,
          -14.347057342529297,
          -0.46478891372680664,
          14.443743705749512,
          16.053565979003906,
          11.464740753173828,
          -8.110583305358887,
          -6.981509208679199,
          9.893760681152344,
          8.812114715576172,
          -2.86623215675354,
          -3.2192373275756836,
          13.185383796691895,
          8.678706169128418,
          -9.79776382446289,
          -8.015229225158691,
          -11.931726455688477,
          -5.72178316116333,
          0.4466721713542938,
          -16.241619110107422,
          -18.36840057373047,
          -7.180729389190674,
          -2.1193277835845947,
          3.0523571968078613,
          10.02669906616211,
          0.4144882559776306,
          -14.169844627380371,
          -2.265798330307007,
          11.497519493103027,
          -16.837100982666016,
          -17.57164764404297,
          5.761297702789307,
          9.000176429748535,
          18.110227584838867,
          -0.660069465637207,
          -18.10197639465332,
          1.9890269041061401,
          -8.853687286376953,
          7.353659152984619,
          -3.110098123550415,
          -3.6772031784057617,
          2.7040374279022217,
          -19.51419448852539,
          -1.700821876525879,
          -9.787955284118652,
          -6.171895980834961,
          0.1732499748468399,
          2.6032748222351074,
          -5.849148750305176,
          3.94700026512146,
          5.780677318572998,
          7.534636497497559,
          8.353754997253418,
          3.1056761741638184,
          6.892699241638184,
          14.248114585876465,
          15.656991004943848,
          -0.5374216437339783,
          -9.787955284118652,
          -3.8363959789276123,
          -2.114272356033325,
          27.18975067138672,
          2.151796817779541,
          10.892803192138672,
          1.8470394611358643,
          9.025415420532227,
          -6.326045989990234,
          11.381342887878418,
          18.001161575317383,
          15.942748069763184,
          11.295489311218262,
          -6.243669033050537,
          -0.7394604086875916,
          -11.61775016784668,
          -8.176187515258789,
          11.497456550598145,
          4.717339515686035,
          -11.782639503479004,
          11.226984977722168,
          -20.144922256469727,
          -13.25159740447998,
          -6.554258823394775,
          -15.557562828063965,
          -12.683488845825195,
          18.405393600463867,
          -13.611937522888184,
          6.728078365325928,
          -8.679168701171875,
          9.509638786315918,
          6.767749786376953,
          25.730484008789062,
          -5.152751922607422,
          -15.7857084274292,
          -13.40832233428955,
          -14.849981307983398,
          -14.28308391571045,
          -5.475498199462891,
          -5.527317047119141,
          0.4464282691478729,
          -1.1289606094360352,
          -2.6836495399475098,
          5.133537292480469,
          2.2605485916137695,
          6.933688640594482,
          4.448422908782959,
          4.327800750732422,
          -3.342804193496704,
          13.60263729095459,
          5.613360404968262,
          -1.452020287513733,
          5.317481517791748,
          -19.546674728393555,
          10.466704368591309,
          7.723074913024902,
          7.753248691558838,
          9.732181549072266,
          3.631237268447876,
          -18.1019229888916,
          -12.315055847167969,
          3.374149799346924,
          -2.9542713165283203,
          -2.2275359630584717,
          -14.543514251708984,
          7.95385217666626,
          -6.914632320404053,
          18.38616180419922,
          -7.161844253540039,
          14.156061172485352,
          3.362814426422119,
          -12.935240745544434,
          -14.346498489379883,
          -9.872967720031738,
          10.971339225769043,
          9.23023796081543,
          -15.758872985839844,
          -12.957828521728516,
          -6.440896034240723,
          21.886293411254883,
          -6.768700122833252,
          -7.965540885925293,
          4.118092060089111,
          2.41843581199646,
          -11.138833999633789,
          -7.002784729003906,
          10.414338111877441,
          -7.218799591064453,
          -14.833978652954102,
          9.573871612548828,
          8.615335464477539,
          3.0266494750976562,
          -1.0548732280731201,
          15.882526397705078,
          -8.730792999267578,
          10.840529441833496,
          3.129910469055176,
          10.852344512939453,
          -7.370999813079834,
          -10.91849136352539,
          -2.5957388877868652,
          -4.398893356323242,
          11.27166748046875,
          -5.587778091430664,
          9.88778305053711,
          -7.161363124847412,
          3.052323341369629,
          -2.022585868835449,
          -15.76171588897705,
          9.747532844543457,
          -16.68764877319336,
          -14.523775100708008,
          16.61486053466797,
          5.061711311340332,
          -5.096995830535889,
          -8.330827713012695,
          14.015979766845703,
          22.23349380493164,
          -15.36118221282959,
          -13.563945770263672,
          -8.945164680480957,
          -10.91849136352539,
          -9.915995597839355,
          -2.5581541061401367,
          5.148314476013184,
          -9.385041236877441,
          -5.830507278442383,
          4.990954875946045,
          -10.333081245422363,
          0.19434955716133118,
          21.386287689208984,
          0.19435051083564758,
          -16.194873809814453,
          6.87453031539917,
          12.534830093383789,
          5.641611099243164,
          11.125493049621582,
          -14.084884643554688,
          5.481050491333008,
          -2.6020965576171875,
          18.122760772705078,
          -4.215640544891357,
          2.64998459815979,
          -4.836341857910156,
          9.588228225708008,
          -2.8121187686920166,
          -15.24363899230957,
          -10.507466316223145,
          -7.1387248039245605,
          -10.731186866760254,
          9.323131561279297,
          11.219537734985352,
          -6.206310749053955,
          9.265848159790039,
          -0.5367222428321838,
          -15.7857084274292,
          -8.065996170043945,
          -8.268932342529297,
          -5.2562665939331055,
          14.706732749938965,
          -3.055124044418335,
          -15.890827178955078,
          8.616327285766602,
          -6.0751190185546875,
          10.735334396362305,
          -1.9541518688201904,
          -6.239889621734619,
          8.003058433532715,
          -6.8207597732543945,
          -14.561516761779785,
          -8.285054206848145,
          -11.139634132385254,
          1.8927899599075317,
          6.8651509284973145,
          -11.277398109436035,
          -10.851625442504883,
          8.279561996459961,
          -4.825019836425781,
          -14.826415061950684,
          14.73371696472168,
          -0.9123725891113281,
          -8.929128646850586,
          -5.529925346374512,
          27.18975067138672,
          1.5688427686691284,
          -0.7766848206520081,
          -4.364227294921875,
          2.533581018447876,
          -13.232873916625977,
          -10.784342765808105,
          20.669004440307617,
          13.72518253326416,
          -8.215023040771484,
          -13.611275672912598,
          -5.546154499053955,
          3.7572991847991943,
          -11.088900566101074,
          -16.33297348022461,
          -6.829111576080322,
          11.483480453491211,
          -17.657703399658203,
          -3.8295035362243652,
          7.479598522186279,
          -16.288589477539062,
          16.3054256439209,
          -7.218635559082031,
          4.0889506340026855,
          13.199434280395508,
          10.875826835632324,
          8.489275932312012,
          -15.523895263671875,
          -1.3938575983047485,
          8.786249160766602,
          -14.562458992004395,
          -2.92201566696167,
          -6.5906171798706055,
          7.428518772125244,
          14.663127899169922,
          -2.03239369392395,
          -9.054282188415527,
          16.742652893066406,
          -7.3722991943359375,
          7.500804901123047,
          -14.24654769897461,
          -11.058756828308105,
          -5.764308452606201,
          7.533182621002197,
          19.54180335998535,
          -3.268704891204834,
          -4.827094554901123,
          7.770901203155518,
          7.8412604331970215,
          19.60638999938965,
          -7.259129524230957,
          17.171733856201172,
          11.183844566345215,
          -13.680562019348145,
          -13.97378921508789,
          15.00267219543457,
          22.240264892578125,
          15.899910926818848,
          -6.972407817840576,
          -6.935928821563721,
          -13.222147941589355,
          11.38979721069336,
          4.944988250732422,
          25.73016357421875,
          -2.335084915161133,
          -20.142131805419922,
          -16.84113883972168,
          -5.08321475982666,
          -5.431631088256836,
          11.383255958557129,
          12.808367729187012,
          21.843637466430664
         ],
         "xaxis": "x",
         "y": [
          -9.611433029174805,
          21.856637954711914,
          7.065770149230957,
          14.538719177246094,
          7.896213531494141,
          -1.40947425365448,
          9.708303451538086,
          14.165321350097656,
          4.072423458099365,
          -17.640920639038086,
          -2.9403984546661377,
          17.989585876464844,
          -17.059673309326172,
          -24.283069610595703,
          19.497411727905273,
          27.646522521972656,
          -20.00833511352539,
          9.256171226501465,
          -8.408036231994629,
          -13.906578063964844,
          20.67061996459961,
          -10.597613334655762,
          -3.4844179153442383,
          17.60525894165039,
          -12.206299781799316,
          -1.7820945978164673,
          14.359293937683105,
          -23.84978675842285,
          -12.981451988220215,
          17.345170974731445,
          -25.1236572265625,
          11.857682228088379,
          -25.100826263427734,
          16.857166290283203,
          -1.7821038961410522,
          -6.154042720794678,
          -21.32762336730957,
          -10.435822486877441,
          15.42048168182373,
          -21.009761810302734,
          -12.748071670532227,
          12.256014823913574,
          -24.0859375,
          4.954405307769775,
          -19.451000213623047,
          17.989503860473633,
          8.63797664642334,
          -21.26792335510254,
          -26.700016021728516,
          1.0483813285827637,
          2.090960741043091,
          18.893203735351562,
          17.081510543823242,
          -1.3660050630569458,
          -16.68433380126953,
          -7.13392972946167,
          -47.68867492675781,
          -20.30662727355957,
          11.936137199401855,
          -16.249361038208008,
          -19.604883193969727,
          -2.7369329929351807,
          -9.44153881072998,
          -15.681106567382812,
          -12.371376991271973,
          -22.285442352294922,
          -45.425479888916016,
          -15.349992752075195,
          -15.532565116882324,
          11.369000434875488,
          -21.388874053955078,
          -11.822677612304688,
          -2.951146125793457,
          16.691879272460938,
          -45.4940071105957,
          -21.304555892944336,
          -43.966514587402344,
          -15.263930320739746,
          -10.103788375854492,
          12.975029945373535,
          -44.480003356933594,
          -24.684566497802734,
          14.910441398620605,
          0.8740735650062561,
          -11.517152786254883,
          -23.157880783081055,
          21.93075180053711,
          -5.402058124542236,
          -5.309815406799316,
          -26.717056274414062,
          -18.832624435424805,
          22.680105209350586,
          -7.234077453613281,
          0.8286572098731995,
          13.351799964904785,
          10.299933433532715,
          -11.847156524658203,
          -16.95954132080078,
          20.803483963012695,
          2.097198247909546,
          20.72854995727539,
          -23.749958038330078,
          12.022329330444336,
          -18.695682525634766,
          22.485122680664062,
          20.68407440185547,
          20.970779418945312,
          13.881357192993164,
          7.306674957275391,
          -16.152320861816406,
          -10.496597290039062,
          -20.745412826538086,
          -19.32771873474121,
          -5.803754806518555,
          -20.303462982177734,
          -10.13208293914795,
          18.698606491088867,
          -18.695682525634766,
          10.076157569885254,
          -25.604066848754883,
          7.896213531494141,
          17.61235809326172,
          17.08967399597168,
          -11.630572319030762,
          -13.955367088317871,
          -46.073944091796875,
          -15.201851844787598,
          -2.0391764640808105,
          -19.984683990478516,
          -24.35549545288086,
          29.11642837524414,
          10.107988357543945,
          -22.63570785522461,
          8.352766990661621,
          -5.402204990386963,
          -12.580154418945312,
          -24.36896514892578,
          -24.320619583129883,
          -16.822898864746094,
          -26.200620651245117,
          26.34003257751465,
          -23.35637855529785,
          -17.18224334716797,
          -1.740422010421753,
          -29.32286262512207,
          -5.824358940124512,
          -25.323097229003906,
          2.7682604789733887,
          6.435105323791504,
          15.207225799560547,
          10.728538513183594,
          26.792116165161133,
          -19.417724609375,
          20.72078514099121,
          16.975563049316406,
          9.298200607299805,
          11.744481086730957,
          -15.263975143432617,
          -22.095155715942383,
          10.334080696105957,
          11.658124923706055,
          17.529090881347656,
          -14.751312255859375,
          -15.03115177154541,
          -23.8570556640625,
          -19.7199649810791,
          -20.462955474853516,
          -1.068637728691101,
          -25.74516487121582,
          -9.465394020080566,
          -23.76235008239746,
          -11.532278060913086,
          9.703522682189941,
          -16.8898983001709,
          6.4253129959106445,
          11.54821491241455,
          13.351753234863281,
          -25.36089515686035,
          12.973950386047363,
          16.74741554260254,
          12.838431358337402,
          16.73649024963379,
          1.6938000917434692,
          11.185994148254395,
          -1.7487431764602661,
          13.835165023803711,
          -18.47697639465332,
          -9.970337867736816,
          -14.680609703063965,
          -21.320077896118164,
          -20.92869758605957,
          -8.430791854858398,
          -9.7608642578125,
          26.767105102539062,
          -14.461735725402832,
          22.38035011291504,
          -18.94240951538086,
          -17.957332611083984,
          -19.930376052856445,
          -8.510627746582031,
          2.036529064178467,
          14.795498847961426,
          27.136749267578125,
          -15.161558151245117,
          15.86601448059082,
          20.70209503173828,
          -12.835057258605957,
          -5.658833026885986,
          -19.32829475402832,
          15.626468658447266,
          -25.069355010986328,
          19.632822036743164,
          -11.055791854858398,
          -9.242265701293945,
          -0.36068716645240784,
          2.3247950077056885,
          20.241796493530273,
          18.612760543823242,
          14.06893539428711,
          -19.480480194091797,
          -45.79710006713867,
          -16.726613998413086,
          13.835145950317383,
          14.910276412963867,
          22.186046600341797,
          -17.721027374267578,
          6.431212902069092,
          -21.09906768798828,
          -19.614784240722656,
          -12.342595100402832,
          7.604856014251709,
          15.91330337524414,
          11.762883186340332,
          -14.057721138000488,
          -17.81928253173828,
          -21.516929626464844,
          -17.342578887939453,
          14.120229721069336,
          20.241796493530273,
          12.415852546691895,
          -20.252517700195312,
          7.625922203063965,
          -10.021442413330078,
          -48.25395202636719,
          -3.114109754562378,
          5.070008277893066,
          16.222448348999023,
          -18.786577224731445,
          16.222675323486328,
          -23.215770721435547,
          -5.440625190734863,
          -10.705057144165039,
          -1.0953117609024048,
          -9.32712173461914,
          -25.17824935913086,
          -10.578728675842285,
          16.098690032958984,
          -7.2258620262146,
          21.182254791259766,
          -11.774394035339355,
          19.11241340637207,
          -14.105378150939941,
          -24.199644088745117,
          4.994222640991211,
          5.553159236907959,
          13.914175033569336,
          -22.911100387573242,
          -10.702899932861328,
          18.11115264892578,
          29.063261032104492,
          -18.41862678527832,
          13.469067573547363,
          26.792112350463867,
          -22.22357749938965,
          -46.57384490966797,
          14.612676620483398,
          -22.03511619567871,
          15.036802291870117,
          -18.04071617126465,
          -20.6186466217041,
          -45.0062370300293,
          24.128257751464844,
          3.8363046646118164,
          19.094987869262695,
          -12.841131210327148,
          6.685129642486572,
          16.711204528808594,
          9.230937957763672,
          14.79548454284668,
          27.072044372558594,
          -12.543386459350586,
          -25.390399932861328,
          5.443474292755127,
          -7.649245262145996,
          4.3998494148254395,
          20.709259033203125,
          -16.762798309326172,
          -24.128555297851562,
          -13.877130508422852,
          9.278924942016602,
          7.896213531494141,
          29.76580238342285,
          -24.977476119995117,
          6.325503826141357,
          0.7763909101486206,
          -14.57252025604248,
          20.15315818786621,
          -10.572514533996582,
          -13.945548057556152,
          13.043472290039062,
          -29.323240280151367,
          -1.428840160369873,
          -16.630735397338867,
          -26.461503982543945,
          -20.956586837768555,
          26.217758178710938,
          -13.58984661102295,
          -26.70001792907715,
          9.97580623626709,
          -6.002488136291504,
          -20.71769142150879,
          -16.6826114654541,
          15.866276741027832,
          12.488672256469727,
          -16.909265518188477,
          -0.3718346059322357,
          0.5172134041786194,
          -16.040590286254883,
          -24.86250877380371,
          -1.3454711437225342,
          -24.94632339477539,
          12.736566543579102,
          17.573402404785156,
          -10.55726432800293,
          -21.793704986572266,
          -23.082624435424805,
          -8.321244239807129,
          -12.365740776062012,
          2.3439321517944336,
          -8.512855529785156,
          15.655966758728027,
          -20.363710403442383,
          26.82631492614746,
          -14.300225257873535,
          -14.529687881469727,
          13.66098403930664,
          19.11091423034668,
          -14.149091720581055,
          -18.395259857177734,
          -14.513751983642578,
          -46.337364196777344,
          -19.737991333007812,
          1.7375359535217285,
          -18.257118225097656,
          -23.131195068359375,
          -8.446447372436523,
          -17.894214630126953,
          -25.09592056274414,
          17.566179275512695,
          5.877842903137207,
          -21.565887451171875,
          -16.529048919677734,
          -16.236215591430664,
          15.207716941833496,
          18.8864803314209,
          -16.824541091918945,
          -5.302657604217529,
          8.20357608795166,
          -1.9239050149917603,
          -16.51880645751953,
          -15.035103797912598,
          -18.73918914794922
         ],
         "yaxis": "y"
        }
       ],
       "layout": {
        "legend": {
         "title": {
          "text": "label_name"
         },
         "tracegroupgap": 0
        },
        "margin": {
         "t": 60
        },
        "template": {
         "data": {
          "bar": [
           {
            "error_x": {
             "color": "#2a3f5f"
            },
            "error_y": {
             "color": "#2a3f5f"
            },
            "marker": {
             "line": {
              "color": "#E5ECF6",
              "width": 0.5
             }
            },
            "type": "bar"
           }
          ],
          "barpolar": [
           {
            "marker": {
             "line": {
              "color": "#E5ECF6",
              "width": 0.5
             }
            },
            "type": "barpolar"
           }
          ],
          "carpet": [
           {
            "aaxis": {
             "endlinecolor": "#2a3f5f",
             "gridcolor": "white",
             "linecolor": "white",
             "minorgridcolor": "white",
             "startlinecolor": "#2a3f5f"
            },
            "baxis": {
             "endlinecolor": "#2a3f5f",
             "gridcolor": "white",
             "linecolor": "white",
             "minorgridcolor": "white",
             "startlinecolor": "#2a3f5f"
            },
            "type": "carpet"
           }
          ],
          "choropleth": [
           {
            "colorbar": {
             "outlinewidth": 0,
             "ticks": ""
            },
            "type": "choropleth"
           }
          ],
          "contour": [
           {
            "colorbar": {
             "outlinewidth": 0,
             "ticks": ""
            },
            "colorscale": [
             [
              0,
              "#0d0887"
             ],
             [
              0.1111111111111111,
              "#46039f"
             ],
             [
              0.2222222222222222,
              "#7201a8"
             ],
             [
              0.3333333333333333,
              "#9c179e"
             ],
             [
              0.4444444444444444,
              "#bd3786"
             ],
             [
              0.5555555555555556,
              "#d8576b"
             ],
             [
              0.6666666666666666,
              "#ed7953"
             ],
             [
              0.7777777777777778,
              "#fb9f3a"
             ],
             [
              0.8888888888888888,
              "#fdca26"
             ],
             [
              1,
              "#f0f921"
             ]
            ],
            "type": "contour"
           }
          ],
          "contourcarpet": [
           {
            "colorbar": {
             "outlinewidth": 0,
             "ticks": ""
            },
            "type": "contourcarpet"
           }
          ],
          "heatmap": [
           {
            "colorbar": {
             "outlinewidth": 0,
             "ticks": ""
            },
            "colorscale": [
             [
              0,
              "#0d0887"
             ],
             [
              0.1111111111111111,
              "#46039f"
             ],
             [
              0.2222222222222222,
              "#7201a8"
             ],
             [
              0.3333333333333333,
              "#9c179e"
             ],
             [
              0.4444444444444444,
              "#bd3786"
             ],
             [
              0.5555555555555556,
              "#d8576b"
             ],
             [
              0.6666666666666666,
              "#ed7953"
             ],
             [
              0.7777777777777778,
              "#fb9f3a"
             ],
             [
              0.8888888888888888,
              "#fdca26"
             ],
             [
              1,
              "#f0f921"
             ]
            ],
            "type": "heatmap"
           }
          ],
          "heatmapgl": [
           {
            "colorbar": {
             "outlinewidth": 0,
             "ticks": ""
            },
            "colorscale": [
             [
              0,
              "#0d0887"
             ],
             [
              0.1111111111111111,
              "#46039f"
             ],
             [
              0.2222222222222222,
              "#7201a8"
             ],
             [
              0.3333333333333333,
              "#9c179e"
             ],
             [
              0.4444444444444444,
              "#bd3786"
             ],
             [
              0.5555555555555556,
              "#d8576b"
             ],
             [
              0.6666666666666666,
              "#ed7953"
             ],
             [
              0.7777777777777778,
              "#fb9f3a"
             ],
             [
              0.8888888888888888,
              "#fdca26"
             ],
             [
              1,
              "#f0f921"
             ]
            ],
            "type": "heatmapgl"
           }
          ],
          "histogram": [
           {
            "marker": {
             "colorbar": {
              "outlinewidth": 0,
              "ticks": ""
             }
            },
            "type": "histogram"
           }
          ],
          "histogram2d": [
           {
            "colorbar": {
             "outlinewidth": 0,
             "ticks": ""
            },
            "colorscale": [
             [
              0,
              "#0d0887"
             ],
             [
              0.1111111111111111,
              "#46039f"
             ],
             [
              0.2222222222222222,
              "#7201a8"
             ],
             [
              0.3333333333333333,
              "#9c179e"
             ],
             [
              0.4444444444444444,
              "#bd3786"
             ],
             [
              0.5555555555555556,
              "#d8576b"
             ],
             [
              0.6666666666666666,
              "#ed7953"
             ],
             [
              0.7777777777777778,
              "#fb9f3a"
             ],
             [
              0.8888888888888888,
              "#fdca26"
             ],
             [
              1,
              "#f0f921"
             ]
            ],
            "type": "histogram2d"
           }
          ],
          "histogram2dcontour": [
           {
            "colorbar": {
             "outlinewidth": 0,
             "ticks": ""
            },
            "colorscale": [
             [
              0,
              "#0d0887"
             ],
             [
              0.1111111111111111,
              "#46039f"
             ],
             [
              0.2222222222222222,
              "#7201a8"
             ],
             [
              0.3333333333333333,
              "#9c179e"
             ],
             [
              0.4444444444444444,
              "#bd3786"
             ],
             [
              0.5555555555555556,
              "#d8576b"
             ],
             [
              0.6666666666666666,
              "#ed7953"
             ],
             [
              0.7777777777777778,
              "#fb9f3a"
             ],
             [
              0.8888888888888888,
              "#fdca26"
             ],
             [
              1,
              "#f0f921"
             ]
            ],
            "type": "histogram2dcontour"
           }
          ],
          "mesh3d": [
           {
            "colorbar": {
             "outlinewidth": 0,
             "ticks": ""
            },
            "type": "mesh3d"
           }
          ],
          "parcoords": [
           {
            "line": {
             "colorbar": {
              "outlinewidth": 0,
              "ticks": ""
             }
            },
            "type": "parcoords"
           }
          ],
          "pie": [
           {
            "automargin": true,
            "type": "pie"
           }
          ],
          "scatter": [
           {
            "marker": {
             "colorbar": {
              "outlinewidth": 0,
              "ticks": ""
             }
            },
            "type": "scatter"
           }
          ],
          "scatter3d": [
           {
            "line": {
             "colorbar": {
              "outlinewidth": 0,
              "ticks": ""
             }
            },
            "marker": {
             "colorbar": {
              "outlinewidth": 0,
              "ticks": ""
             }
            },
            "type": "scatter3d"
           }
          ],
          "scattercarpet": [
           {
            "marker": {
             "colorbar": {
              "outlinewidth": 0,
              "ticks": ""
             }
            },
            "type": "scattercarpet"
           }
          ],
          "scattergeo": [
           {
            "marker": {
             "colorbar": {
              "outlinewidth": 0,
              "ticks": ""
             }
            },
            "type": "scattergeo"
           }
          ],
          "scattergl": [
           {
            "marker": {
             "colorbar": {
              "outlinewidth": 0,
              "ticks": ""
             }
            },
            "type": "scattergl"
           }
          ],
          "scattermapbox": [
           {
            "marker": {
             "colorbar": {
              "outlinewidth": 0,
              "ticks": ""
             }
            },
            "type": "scattermapbox"
           }
          ],
          "scatterpolar": [
           {
            "marker": {
             "colorbar": {
              "outlinewidth": 0,
              "ticks": ""
             }
            },
            "type": "scatterpolar"
           }
          ],
          "scatterpolargl": [
           {
            "marker": {
             "colorbar": {
              "outlinewidth": 0,
              "ticks": ""
             }
            },
            "type": "scatterpolargl"
           }
          ],
          "scatterternary": [
           {
            "marker": {
             "colorbar": {
              "outlinewidth": 0,
              "ticks": ""
             }
            },
            "type": "scatterternary"
           }
          ],
          "surface": [
           {
            "colorbar": {
             "outlinewidth": 0,
             "ticks": ""
            },
            "colorscale": [
             [
              0,
              "#0d0887"
             ],
             [
              0.1111111111111111,
              "#46039f"
             ],
             [
              0.2222222222222222,
              "#7201a8"
             ],
             [
              0.3333333333333333,
              "#9c179e"
             ],
             [
              0.4444444444444444,
              "#bd3786"
             ],
             [
              0.5555555555555556,
              "#d8576b"
             ],
             [
              0.6666666666666666,
              "#ed7953"
             ],
             [
              0.7777777777777778,
              "#fb9f3a"
             ],
             [
              0.8888888888888888,
              "#fdca26"
             ],
             [
              1,
              "#f0f921"
             ]
            ],
            "type": "surface"
           }
          ],
          "table": [
           {
            "cells": {
             "fill": {
              "color": "#EBF0F8"
             },
             "line": {
              "color": "white"
             }
            },
            "header": {
             "fill": {
              "color": "#C8D4E3"
             },
             "line": {
              "color": "white"
             }
            },
            "type": "table"
           }
          ]
         },
         "layout": {
          "annotationdefaults": {
           "arrowcolor": "#2a3f5f",
           "arrowhead": 0,
           "arrowwidth": 1
          },
          "coloraxis": {
           "colorbar": {
            "outlinewidth": 0,
            "ticks": ""
           }
          },
          "colorscale": {
           "diverging": [
            [
             0,
             "#8e0152"
            ],
            [
             0.1,
             "#c51b7d"
            ],
            [
             0.2,
             "#de77ae"
            ],
            [
             0.3,
             "#f1b6da"
            ],
            [
             0.4,
             "#fde0ef"
            ],
            [
             0.5,
             "#f7f7f7"
            ],
            [
             0.6,
             "#e6f5d0"
            ],
            [
             0.7,
             "#b8e186"
            ],
            [
             0.8,
             "#7fbc41"
            ],
            [
             0.9,
             "#4d9221"
            ],
            [
             1,
             "#276419"
            ]
           ],
           "sequential": [
            [
             0,
             "#0d0887"
            ],
            [
             0.1111111111111111,
             "#46039f"
            ],
            [
             0.2222222222222222,
             "#7201a8"
            ],
            [
             0.3333333333333333,
             "#9c179e"
            ],
            [
             0.4444444444444444,
             "#bd3786"
            ],
            [
             0.5555555555555556,
             "#d8576b"
            ],
            [
             0.6666666666666666,
             "#ed7953"
            ],
            [
             0.7777777777777778,
             "#fb9f3a"
            ],
            [
             0.8888888888888888,
             "#fdca26"
            ],
            [
             1,
             "#f0f921"
            ]
           ],
           "sequentialminus": [
            [
             0,
             "#0d0887"
            ],
            [
             0.1111111111111111,
             "#46039f"
            ],
            [
             0.2222222222222222,
             "#7201a8"
            ],
            [
             0.3333333333333333,
             "#9c179e"
            ],
            [
             0.4444444444444444,
             "#bd3786"
            ],
            [
             0.5555555555555556,
             "#d8576b"
            ],
            [
             0.6666666666666666,
             "#ed7953"
            ],
            [
             0.7777777777777778,
             "#fb9f3a"
            ],
            [
             0.8888888888888888,
             "#fdca26"
            ],
            [
             1,
             "#f0f921"
            ]
           ]
          },
          "colorway": [
           "#636efa",
           "#EF553B",
           "#00cc96",
           "#ab63fa",
           "#FFA15A",
           "#19d3f3",
           "#FF6692",
           "#B6E880",
           "#FF97FF",
           "#FECB52"
          ],
          "font": {
           "color": "#2a3f5f"
          },
          "geo": {
           "bgcolor": "white",
           "lakecolor": "white",
           "landcolor": "#E5ECF6",
           "showlakes": true,
           "showland": true,
           "subunitcolor": "white"
          },
          "hoverlabel": {
           "align": "left"
          },
          "hovermode": "closest",
          "mapbox": {
           "style": "light"
          },
          "paper_bgcolor": "white",
          "plot_bgcolor": "#E5ECF6",
          "polar": {
           "angularaxis": {
            "gridcolor": "white",
            "linecolor": "white",
            "ticks": ""
           },
           "bgcolor": "#E5ECF6",
           "radialaxis": {
            "gridcolor": "white",
            "linecolor": "white",
            "ticks": ""
           }
          },
          "scene": {
           "xaxis": {
            "backgroundcolor": "#E5ECF6",
            "gridcolor": "white",
            "gridwidth": 2,
            "linecolor": "white",
            "showbackground": true,
            "ticks": "",
            "zerolinecolor": "white"
           },
           "yaxis": {
            "backgroundcolor": "#E5ECF6",
            "gridcolor": "white",
            "gridwidth": 2,
            "linecolor": "white",
            "showbackground": true,
            "ticks": "",
            "zerolinecolor": "white"
           },
           "zaxis": {
            "backgroundcolor": "#E5ECF6",
            "gridcolor": "white",
            "gridwidth": 2,
            "linecolor": "white",
            "showbackground": true,
            "ticks": "",
            "zerolinecolor": "white"
           }
          },
          "shapedefaults": {
           "line": {
            "color": "#2a3f5f"
           }
          },
          "ternary": {
           "aaxis": {
            "gridcolor": "white",
            "linecolor": "white",
            "ticks": ""
           },
           "baxis": {
            "gridcolor": "white",
            "linecolor": "white",
            "ticks": ""
           },
           "bgcolor": "#E5ECF6",
           "caxis": {
            "gridcolor": "white",
            "linecolor": "white",
            "ticks": ""
           }
          },
          "title": {
           "x": 0.05
          },
          "xaxis": {
           "automargin": true,
           "gridcolor": "white",
           "linecolor": "white",
           "ticks": "",
           "title": {
            "standoff": 15
           },
           "zerolinecolor": "white",
           "zerolinewidth": 2
          },
          "yaxis": {
           "automargin": true,
           "gridcolor": "white",
           "linecolor": "white",
           "ticks": "",
           "title": {
            "standoff": 15
           },
           "zerolinecolor": "white",
           "zerolinewidth": 2
          }
         }
        },
        "title": {
         "text": "t-SNE decomposition"
        },
        "xaxis": {
         "anchor": "y",
         "domain": [
          0,
          1
         ],
         "title": {
          "text": "PC1"
         },
         "zeroline": false
        },
        "yaxis": {
         "anchor": "x",
         "domain": [
          0,
          1
         ],
         "title": {
          "text": "PC2"
         },
         "zeroline": false
        }
       }
      },
      "text/html": [
       "<div>\n",
       "        \n",
       "        \n",
       "            <div id=\"0a51bbb2-5eb0-49b3-9ba4-5fe636c095ab\" class=\"plotly-graph-div\" style=\"height:525px; width:100%;\"></div>\n",
       "            <script type=\"text/javascript\">\n",
       "                require([\"plotly\"], function(Plotly) {\n",
       "                    window.PLOTLYENV=window.PLOTLYENV || {};\n",
       "                    \n",
       "                if (document.getElementById(\"0a51bbb2-5eb0-49b3-9ba4-5fe636c095ab\")) {\n",
       "                    Plotly.newPlot(\n",
       "                        '0a51bbb2-5eb0-49b3-9ba4-5fe636c095ab',\n",
       "                        [{\"hovertemplate\": \"label_name=Data Analyst<br>PC1=%{x}<br>PC2=%{y}<extra></extra>\", \"legendgroup\": \"Data Analyst\", \"marker\": {\"color\": \"#636efa\", \"symbol\": \"circle\"}, \"mode\": \"markers\", \"name\": \"Data Analyst\", \"showlegend\": true, \"type\": \"scatter\", \"x\": [-4.45472526550293, 3.279705286026001, -15.19734001159668, 9.328524589538574, -2.729278564453125, -7.915408611297607, 8.06129264831543, 9.32033634185791, -9.696541786193848, 22.809608459472656, -6.433531284332275, 0.6002922654151917, 17.029102325439453, 11.12855339050293, -10.209954261779785, 7.767358303070068, 9.980470657348633, -4.6694841384887695, 18.88444709777832, 14.173282623291016, 3.155564069747925, 6.581617832183838, -2.7035610675811768, -23.86060333251953, -7.233710289001465, 19.563867568969727, -10.386268615722656, -8.926499366760254, 5.851597309112549, -1.010541319847107, -15.4595947265625, -5.371774673461914, -6.443467140197754, 19.287012100219727, -4.919604301452637, -3.7015485763549805, 6.155311107635498, 12.813029289245605, 0.8167496919631958, 3.736091136932373, 0.390123188495636, 8.10666275024414, -9.403975486755371, -10.209222793579102, -11.814942359924316, -3.03916335105896, 0.122417151927948, 14.135637283325195, -23.73046875, -1.5347648859024048, -1.328758716583252, -8.798185348510742, -20.0544490814209, 3.174747943878174, 19.381990432739258, -6.189423084259033, 3.0585145950317383, 3.428913116455078, 27.356409072875977, 2.961030960083008, 17.398733139038086, 15.176685333251953, 10.933035850524902, 18.700061798095703, -9.876925468444824, 9.667147636413574, 4.877599239349365, 6.355423927307129, -0.14444200694561005, 6.224337100982666, 4.577784061431885, -2.6315155029296875, 19.806854248046875, 27.281614303588867, 24.239742279052734, 5.983240604400635, -2.638914108276367, -3.7171831130981445, -4.09259033203125, 27.246522903442383, 2.2610080242156982, -2.518406867980957, -7.3647284507751465, 15.905047416687012, -3.7226734161376953, 7.980494499206543, 14.581893920898438, 15.904829025268555, 0.30834364891052246, -4.276129245758057, 9.71692943572998, -10.209952354431152, -10.166415214538574, 10.996147155761719, -3.4678211212158203, -0.9895979166030884, 18.412607192993164, 15.853714942932129, -4.825989246368408, -3.0385987758636475, 22.553234100341797, -2.586231231689453, 7.940950393676758, 28.04638671875, 2.926708936691284, 19.095230102539062, -12.12285041809082, -4.5448503494262695, 15.108235359191895, 10.980093002319336, -2.641035556793213, 22.553007125854492, 4.978547096252441, 8.837654113769531, 1.4263356924057007, -7.455257892608643, -3.858285665512085, -24.15500831604004, 13.454071044921875, 13.309767723083496, -3.4713094234466553, -24.6335506439209, -5.752266883850098, 15.588371276855469, 8.932876586914062, 5.10898494720459, 0.8503955006599426, 0.557274580001831, 15.588265419006348, 5.333616256713867, -5.222766399383545, 11.681841850280762, -11.073993682861328, 3.063854694366455, -3.7041218280792236, 10.544055938720703, -3.8930506706237793, 18.889129638671875, -5.723144054412842, 28.604589462280273, 9.059408187866211, 15.018521308898926, -7.471348762512207, -7.341830253601074, 3.883740186691284, 3.8827004432678223, 28.034561157226562, 14.619215965270996, 13.017709732055664, 7.788877487182617, -4.648566246032715, 11.030348777770996, 18.840709686279297, 19.94341278076172, -24.923583984375, -4.674481391906738, -19.483972549438477, 6.157402515411377, 14.638216972351074, -3.6880078315734863, 2.8614211082458496, 12.900561332702637, -7.051053524017334, 14.310279846191406, -12.343971252441406, -24.355159759521484, 15.50582504272461, 0.5554162859916687, -5.029549598693848, 5.207698822021484, -4.0755205154418945, -3.6078457832336426, 27.310707092285156, 6.224337100982666, -4.604119300842285, 22.553234100341797, 4.9928483963012695], \"xaxis\": \"x\", \"y\": [-14.907357215881348, 28.34319305419922, -9.522916793823242, 28.087921142578125, -4.795653343200684, -5.570547103881836, 25.903648376464844, 26.24962043762207, -2.8359267711639404, 5.751995086669922, -13.243486404418945, -9.771413803100586, 19.763614654541016, 24.975818634033203, -16.33945655822754, 24.621641159057617, 27.8427677154541, -16.109643936157227, 10.36385726928711, 15.777485847473145, -6.83261251449585, 16.336837768554688, -4.768935203552246, 11.01501750946045, -47.24677276611328, 19.268287658691406, -16.518583297729492, -27.37285614013672, 26.020204544067383, -12.663951873779297, -9.654778480529785, -14.420647621154785, -46.86444854736328, 22.05467414855957, -45.208499908447266, -12.692876815795898, 16.67770767211914, 16.624963760375977, 28.4586181640625, 20.81955337524414, 13.245124816894531, 13.096159934997559, -10.345568656921387, -2.1276650428771973, -11.42027473449707, -16.34405517578125, 11.284050941467285, 15.51769733428955, 11.5589599609375, -8.04202938079834, -7.613024711608887, -27.38263511657715, 1.3139724731445312, -6.901305198669434, 18.846590042114258, -12.7268705368042, 24.15895652770996, 9.597394943237305, -8.84272575378418, 24.03697395324707, 20.492788314819336, 18.31728744506836, 11.406007766723633, 19.507707595825195, -2.5548572540283203, 24.11408042907715, 21.11440086364746, 15.987817764282227, 11.746642112731934, 14.08376407623291, 13.554132461547852, 26.683462142944336, 22.155364990234375, -10.687392234802246, 7.233129978179932, 16.17645263671875, 26.6892032623291, -8.771971702575684, -10.410213470458984, -8.766678810119629, 11.758295059204102, -10.72435474395752, -11.613423347473145, 12.342879295349121, -45.986732482910156, 14.095513343811035, 26.83417510986328, 12.334507942199707, -9.291837692260742, -43.92042922973633, 28.223644256591797, -16.33945655822754, -2.061889171600342, 24.441242218017578, -18.238876342773438, -7.13888692855835, 18.807788848876953, 19.105680465698242, -2.942478656768799, -16.3386287689209, 8.93891429901123, -20.247201919555664, 26.250530242919922, -9.195621490478516, 27.624435424804688, 19.734054565429688, -18.223421096801758, -7.422305583953857, 26.039600372314453, 11.396477699279785, 26.687740325927734, 8.938942909240723, 26.25071144104004, 13.735295295715332, 26.947053909301758, -11.139110565185547, -12.63700008392334, 11.926608085632324, 16.246845245361328, 15.722609519958496, -15.477030754089355, 11.743054389953613, -9.207161903381348, -5.747704982757568, 26.487037658691406, 10.407390594482422, 28.39986801147461, -5.543887138366699, -5.752599239349365, 21.55481719970703, 12.913742065429688, 12.592138290405273, -13.022984504699707, 30.163158416748047, -12.403489112854004, 25.579113006591797, -47.9777717590332, 10.35733413696289, -11.000272750854492, -8.542505264282227, 25.845382690429688, 26.73432159423828, -7.089601993560791, -9.76193904876709, -29.51778793334961, -29.522743225097656, -9.524284362792969, 17.887773513793945, 15.213314056396484, 15.355172157287598, -48.55096435546875, 11.502218246459961, 18.404682159423828, 22.72540855407715, 11.174344062805176, -46.112545013427734, 3.7270102500915527, 12.089049339294434, 25.84417724609375, -44.590057373046875, -3.342451810836792, 11.571920394897461, -8.621044158935547, 26.49856185913086, -9.416078567504883, 10.881680488586426, 20.920005798339844, -5.543931484222412, -47.6776008605957, 28.218624114990234, -10.410053253173828, -47.00611114501953, -10.648521423339844, 14.08376407623291, -46.99515151977539, 8.93891429901123, 15.070270538330078], \"yaxis\": \"y\"}, {\"hovertemplate\": \"label_name=Data Scientist<br>PC1=%{x}<br>PC2=%{y}<extra></extra>\", \"legendgroup\": \"Data Scientist\", \"marker\": {\"color\": \"#EF553B\", \"symbol\": \"circle\"}, \"mode\": \"markers\", \"name\": \"Data Scientist\", \"showlegend\": true, \"type\": \"scatter\", \"x\": [13.165875434875488, 14.274748802185059, 7.1516194343566895, -1.0527244806289673, -4.407971382141113, -18.43303680419922, -12.326498031616211, -20.67135238647461, -9.210979461669922, 10.817792892456055, -16.578157424926758, 9.078661918640137, -0.8185659050941467, 13.780583381652832, -12.333861351013184, -1.4527838230133057, -4.593327045440674, -12.721390724182129, 13.778584480285645, 2.739694118499756, -11.163183212280273, -14.374720573425293, 5.803321838378906, -21.456050872802734, -13.8285551071167, -23.92637825012207, -18.98360252380371, -0.5641872882843018, 3.7436041831970215, 0.8260781168937683, 31.279773712158203, -0.263510525226593, 6.3651862144470215, 13.02110767364502, 14.163289070129395, 23.65361976623535, -3.5243632793426514, 14.180269241333008, 2.6240766048431396, -0.30528950691223145, -5.462226867675781, -14.512797355651855, -6.5426530838012695, 1.2919809818267822, 12.465113639831543, 21.313264846801758, -9.50313663482666, -20.58269500732422, -21.45624351501465, -14.233396530151367, 7.959466934204102, -6.608922004699707, -18.197044372558594, -17.709781646728516, -21.929115295410156, -21.39451026916504, 13.517115592956543, 17.79503059387207, 6.386398792266846, -15.536072731018066, 6.3651862144470215, -1.065711259841919, 17.70196533203125, 3.540356159210205, 12.44017505645752, -0.7866776585578918, 14.335076332092285, -16.187288284301758, -22.34862518310547, -17.452600479125977, -13.314915657043457, 2.7248551845550537, -16.594675064086914, -21.89337730407715, -23.92657470703125, -21.549654006958008, 10.806621551513672, -6.802494525909424, -11.275769233703613, -13.288610458374023, -22.775243759155273, -21.013479232788086, -21.349620819091797, 1.4388537406921387, -1.9942392110824585, 12.612510681152344, 6.388320446014404, 11.792167663574219, 31.276336669921875, -5.825098514556885, -22.83514976501465, -24.20432472229004, 24.259321212768555, -22.29821014404297, -9.487342834472656, 1.0296257734298706, 12.935096740722656, -16.163360595703125, -7.375388145446777, 23.966150283813477, -20.88983154296875, -1.6079565286636353, 23.995140075683594, -17.2849178314209, -18.265705108642578, 2.7593445777893066, 0.8089547753334045, -3.524245500564575, 21.441688537597656, 20.736074447631836, -17.684709548950195, 19.019140243530273, 7.151899337768555, -5.41831636428833, -15.608997344970703, -6.559065341949463, -0.5165528655052185, 31.276336669921875, 13.847123146057129, 20.846538543701172, 1.7382110357284546, 0.6582579612731934, -10.642120361328125, -18.22699737548828, 13.28828239440918, -10.640032768249512, -16.677082061767578, 19.450279235839844, 9.739338874816895], \"xaxis\": \"x\", \"y\": [2.5327346324920654, -11.926859855651855, 6.128922462463379, 4.185004234313965, 1.2658969163894653, -0.305402547121048, -9.356049537658691, 0.43487125635147095, -13.559144020080566, 21.19086456298828, -2.0963499546051025, 3.9257118701934814, 7.75990104675293, -3.709235668182373, -7.801174640655518, 8.905363082885742, -7.4327569007873535, -5.575930118560791, -3.708099126815796, 17.228134155273438, -5.271193504333496, 10.968788146972656, 2.172729015350342, -6.0947442054748535, 10.273728370666504, -4.031139373779297, 1.2782609462738037, 18.7093505859375, 4.078337669372559, 10.175934791564941, 0.2131679505109787, 8.261552810668945, 4.1164021492004395, 21.4977970123291, 7.478885173797607, 3.6890926361083984, 6.903245449066162, 7.112260341644287, 1.2102652788162231, 9.374021530151367, -46.66259002685547, 10.522406578063965, -4.930874347686768, 13.724835395812988, 2.4763214588165283, 5.708040237426758, -6.185718059539795, 1.0662567615509033, -6.094738960266113, 10.183058738708496, 1.7668712139129639, -47.872249603271484, 3.6671314239501953, 3.1028501987457275, 19.820533752441406, -5.707657337188721, 2.0416789054870605, 0.5128850936889648, 23.386260986328125, 1.7932056188583374, 4.1164021492004395, 4.18130350112915, 0.7362226247787476, 4.207523822784424, 1.9596028327941895, -21.61491584777832, -11.011419296264648, 1.2574994564056396, -10.78833293914795, 4.464832305908203, 11.219398498535156, 4.753602981567383, -2.1500556468963623, 20.579341888427734, -4.031652927398682, 19.668048858642578, 20.607078552246094, 11.528058052062988, -5.298831939697266, 11.201138496398926, -11.243067741394043, 20.42522621154785, 20.67215347290039, -1.2647240161895752, 7.919248104095459, 1.4043790102005005, 23.39345359802246, 16.979555130004883, 0.21916140615940094, -47.36196517944336, -10.884288787841797, -3.771456718444824, 4.000252723693848, -11.182751655578613, -6.74507999420166, 8.100390434265137, 21.56483268737793, 1.6189701557159424, -48.45731735229492, 4.198199272155762, 19.539140701293945, 9.725985527038574, 3.521833658218384, 3.3238680362701416, 4.455434799194336, 23.794750213623047, 3.0480055809020996, 6.903218746185303, 5.45047664642334, 5.430035591125488, 4.050225734710693, 22.6235408782959, 6.129162788391113, -49.191043853759766, 1.2980468273162842, -49.100685119628906, 5.896024227142334, 0.21916139125823975, 7.557245254516602, 5.188175201416016, 7.33262825012207, 6.382774353027344, 24.331871032714844, 0.8175650238990784, 1.4645239114761353, 24.329410552978516, 3.7390923500061035, 23.100202560424805, 2.3365182876586914], \"yaxis\": \"y\"}, {\"hovertemplate\": \"label_name=Data Engineer<br>PC1=%{x}<br>PC2=%{y}<extra></extra>\", \"legendgroup\": \"Data Engineer\", \"marker\": {\"color\": \"#00cc96\", \"symbol\": \"circle\"}, \"mode\": \"markers\", \"name\": \"Data Engineer\", \"showlegend\": true, \"type\": \"scatter\", \"x\": [14.267233848571777, -4.926109313964844, 13.599693298339844, -0.29231634736061096, 27.189735412597656, -2.186171770095825, 7.717712879180908, -1.8103485107421875, 12.30467700958252, -6.971120834350586, -4.811388969421387, -10.586995124816895, 4.1716742515563965, 11.226946830749512, 10.960744857788086, -4.288900375366211, -11.946062088012695, -7.499299049377441, 10.954727172851562, 14.10707950592041, 0.16157308220863342, 20.623533248901367, 8.423746109008789, -1.1522564888000488, 9.713274002075195, 23.722782135009766, -1.8948758840560913, -12.984867095947266, 12.506346702575684, -7.71245002746582, -13.197761535644531, 3.4336977005004883, -2.8868110179901123, -4.872017860412598, 23.722763061523438, -6.036940574645996, -3.558138608932495, 20.80824089050293, -3.993563175201416, 8.114789962768555, 4.8818535804748535, 1.3304160833358765, -1.6141245365142822, -10.675792694091797, 11.267608642578125, -10.587165832519531, -9.602086067199707, -3.598928689956665, -17.657703399658203, -0.10746154189109802, -3.6702258586883545, -2.318535804748535, -4.198572158813477, -0.4647955596446991, 16.300216674804688, 13.138483047485352, -8.12912654876709, -13.169589042663574, -3.9191558361053467, -15.408576965332031, -14.347057342529297, -0.46478891372680664, 14.443743705749512, 16.053565979003906, 11.464740753173828, -8.110583305358887, -6.981509208679199, 9.893760681152344, 8.812114715576172, -2.86623215675354, -3.2192373275756836, 13.185383796691895, 8.678706169128418, -9.79776382446289, -8.015229225158691, -11.931726455688477, -5.72178316116333, 0.4466721713542938, -16.241619110107422, -18.36840057373047, -7.180729389190674, -2.1193277835845947, 3.0523571968078613, 10.02669906616211, 0.4144882559776306, -14.169844627380371, -2.265798330307007, 11.497519493103027, -16.837100982666016, -17.57164764404297, 5.761297702789307, 9.000176429748535, 18.110227584838867, -0.660069465637207, -18.10197639465332, 1.9890269041061401, -8.853687286376953, 7.353659152984619, -3.110098123550415, -3.6772031784057617, 2.7040374279022217, -19.51419448852539, -1.700821876525879, -9.787955284118652, -6.171895980834961, 0.1732499748468399, 2.6032748222351074, -5.849148750305176, 3.94700026512146, 5.780677318572998, 7.534636497497559, 8.353754997253418, 3.1056761741638184, 6.892699241638184, 14.248114585876465, 15.656991004943848, -0.5374216437339783, -9.787955284118652, -3.8363959789276123, -2.114272356033325, 27.18975067138672, 2.151796817779541, 10.892803192138672, 1.8470394611358643, 9.025415420532227, -6.326045989990234, 11.381342887878418, 18.001161575317383, 15.942748069763184, 11.295489311218262, -6.243669033050537, -0.7394604086875916, -11.61775016784668, -8.176187515258789, 11.497456550598145, 4.717339515686035, -11.782639503479004, 11.226984977722168, -20.144922256469727, -13.25159740447998, -6.554258823394775, -15.557562828063965, -12.683488845825195, 18.405393600463867, -13.611937522888184, 6.728078365325928, -8.679168701171875, 9.509638786315918, 6.767749786376953, 25.730484008789062, -5.152751922607422, -15.7857084274292, -13.40832233428955, -14.849981307983398, -14.28308391571045, -5.475498199462891, -5.527317047119141, 0.4464282691478729, -1.1289606094360352, -2.6836495399475098, 5.133537292480469, 2.2605485916137695, 6.933688640594482, 4.448422908782959, 4.327800750732422, -3.342804193496704, 13.60263729095459, 5.613360404968262, -1.452020287513733, 5.317481517791748, -19.546674728393555, 10.466704368591309, 7.723074913024902, 7.753248691558838, 9.732181549072266, 3.631237268447876, -18.1019229888916, -12.315055847167969, 3.374149799346924, -2.9542713165283203, -2.2275359630584717, -14.543514251708984, 7.95385217666626, -6.914632320404053, 18.38616180419922, -7.161844253540039, 14.156061172485352, 3.362814426422119, -12.935240745544434, -14.346498489379883, -9.872967720031738, 10.971339225769043, 9.23023796081543, -15.758872985839844, -12.957828521728516, -6.440896034240723, 21.886293411254883, -6.768700122833252, -7.965540885925293, 4.118092060089111, 2.41843581199646, -11.138833999633789, -7.002784729003906, 10.414338111877441, -7.218799591064453, -14.833978652954102, 9.573871612548828, 8.615335464477539, 3.0266494750976562, -1.0548732280731201, 15.882526397705078, -8.730792999267578, 10.840529441833496, 3.129910469055176, 10.852344512939453, -7.370999813079834, -10.91849136352539, -2.5957388877868652, -4.398893356323242, 11.27166748046875, -5.587778091430664, 9.88778305053711, -7.161363124847412, 3.052323341369629, -2.022585868835449, -15.76171588897705, 9.747532844543457, -16.68764877319336, -14.523775100708008, 16.61486053466797, 5.061711311340332, -5.096995830535889, -8.330827713012695, 14.015979766845703, 22.23349380493164, -15.36118221282959, -13.563945770263672, -8.945164680480957, -10.91849136352539, -9.915995597839355, -2.5581541061401367, 5.148314476013184, -9.385041236877441, -5.830507278442383, 4.990954875946045, -10.333081245422363, 0.19434955716133118, 21.386287689208984, 0.19435051083564758, -16.194873809814453, 6.87453031539917, 12.534830093383789, 5.641611099243164, 11.125493049621582, -14.084884643554688, 5.481050491333008, -2.6020965576171875, 18.122760772705078, -4.215640544891357, 2.64998459815979, -4.836341857910156, 9.588228225708008, -2.8121187686920166, -15.24363899230957, -10.507466316223145, -7.1387248039245605, -10.731186866760254, 9.323131561279297, 11.219537734985352, -6.206310749053955, 9.265848159790039, -0.5367222428321838, -15.7857084274292, -8.065996170043945, -8.268932342529297, -5.2562665939331055, 14.706732749938965, -3.055124044418335, -15.890827178955078, 8.616327285766602, -6.0751190185546875, 10.735334396362305, -1.9541518688201904, -6.239889621734619, 8.003058433532715, -6.8207597732543945, -14.561516761779785, -8.285054206848145, -11.139634132385254, 1.8927899599075317, 6.8651509284973145, -11.277398109436035, -10.851625442504883, 8.279561996459961, -4.825019836425781, -14.826415061950684, 14.73371696472168, -0.9123725891113281, -8.929128646850586, -5.529925346374512, 27.18975067138672, 1.5688427686691284, -0.7766848206520081, -4.364227294921875, 2.533581018447876, -13.232873916625977, -10.784342765808105, 20.669004440307617, 13.72518253326416, -8.215023040771484, -13.611275672912598, -5.546154499053955, 3.7572991847991943, -11.088900566101074, -16.33297348022461, -6.829111576080322, 11.483480453491211, -17.657703399658203, -3.8295035362243652, 7.479598522186279, -16.288589477539062, 16.3054256439209, -7.218635559082031, 4.0889506340026855, 13.199434280395508, 10.875826835632324, 8.489275932312012, -15.523895263671875, -1.3938575983047485, 8.786249160766602, -14.562458992004395, -2.92201566696167, -6.5906171798706055, 7.428518772125244, 14.663127899169922, -2.03239369392395, -9.054282188415527, 16.742652893066406, -7.3722991943359375, 7.500804901123047, -14.24654769897461, -11.058756828308105, -5.764308452606201, 7.533182621002197, 19.54180335998535, -3.268704891204834, -4.827094554901123, 7.770901203155518, 7.8412604331970215, 19.60638999938965, -7.259129524230957, 17.171733856201172, 11.183844566345215, -13.680562019348145, -13.97378921508789, 15.00267219543457, 22.240264892578125, 15.899910926818848, -6.972407817840576, -6.935928821563721, -13.222147941589355, 11.38979721069336, 4.944988250732422, 25.73016357421875, -2.335084915161133, -20.142131805419922, -16.84113883972168, -5.08321475982666, -5.431631088256836, 11.383255958557129, 12.808367729187012, 21.843637466430664], \"xaxis\": \"x\", \"y\": [-9.611433029174805, 21.856637954711914, 7.065770149230957, 14.538719177246094, 7.896213531494141, -1.40947425365448, 9.708303451538086, 14.165321350097656, 4.072423458099365, -17.640920639038086, -2.9403984546661377, 17.989585876464844, -17.059673309326172, -24.283069610595703, 19.497411727905273, 27.646522521972656, -20.00833511352539, 9.256171226501465, -8.408036231994629, -13.906578063964844, 20.67061996459961, -10.597613334655762, -3.4844179153442383, 17.60525894165039, -12.206299781799316, -1.7820945978164673, 14.359293937683105, -23.84978675842285, -12.981451988220215, 17.345170974731445, -25.1236572265625, 11.857682228088379, -25.100826263427734, 16.857166290283203, -1.7821038961410522, -6.154042720794678, -21.32762336730957, -10.435822486877441, 15.42048168182373, -21.009761810302734, -12.748071670532227, 12.256014823913574, -24.0859375, 4.954405307769775, -19.451000213623047, 17.989503860473633, 8.63797664642334, -21.26792335510254, -26.700016021728516, 1.0483813285827637, 2.090960741043091, 18.893203735351562, 17.081510543823242, -1.3660050630569458, -16.68433380126953, -7.13392972946167, -47.68867492675781, -20.30662727355957, 11.936137199401855, -16.249361038208008, -19.604883193969727, -2.7369329929351807, -9.44153881072998, -15.681106567382812, -12.371376991271973, -22.285442352294922, -45.425479888916016, -15.349992752075195, -15.532565116882324, 11.369000434875488, -21.388874053955078, -11.822677612304688, -2.951146125793457, 16.691879272460938, -45.4940071105957, -21.304555892944336, -43.966514587402344, -15.263930320739746, -10.103788375854492, 12.975029945373535, -44.480003356933594, -24.684566497802734, 14.910441398620605, 0.8740735650062561, -11.517152786254883, -23.157880783081055, 21.93075180053711, -5.402058124542236, -5.309815406799316, -26.717056274414062, -18.832624435424805, 22.680105209350586, -7.234077453613281, 0.8286572098731995, 13.351799964904785, 10.299933433532715, -11.847156524658203, -16.95954132080078, 20.803483963012695, 2.097198247909546, 20.72854995727539, -23.749958038330078, 12.022329330444336, -18.695682525634766, 22.485122680664062, 20.68407440185547, 20.970779418945312, 13.881357192993164, 7.306674957275391, -16.152320861816406, -10.496597290039062, -20.745412826538086, -19.32771873474121, -5.803754806518555, -20.303462982177734, -10.13208293914795, 18.698606491088867, -18.695682525634766, 10.076157569885254, -25.604066848754883, 7.896213531494141, 17.61235809326172, 17.08967399597168, -11.630572319030762, -13.955367088317871, -46.073944091796875, -15.201851844787598, -2.0391764640808105, -19.984683990478516, -24.35549545288086, 29.11642837524414, 10.107988357543945, -22.63570785522461, 8.352766990661621, -5.402204990386963, -12.580154418945312, -24.36896514892578, -24.320619583129883, -16.822898864746094, -26.200620651245117, 26.34003257751465, -23.35637855529785, -17.18224334716797, -1.740422010421753, -29.32286262512207, -5.824358940124512, -25.323097229003906, 2.7682604789733887, 6.435105323791504, 15.207225799560547, 10.728538513183594, 26.792116165161133, -19.417724609375, 20.72078514099121, 16.975563049316406, 9.298200607299805, 11.744481086730957, -15.263975143432617, -22.095155715942383, 10.334080696105957, 11.658124923706055, 17.529090881347656, -14.751312255859375, -15.03115177154541, -23.8570556640625, -19.7199649810791, -20.462955474853516, -1.068637728691101, -25.74516487121582, -9.465394020080566, -23.76235008239746, -11.532278060913086, 9.703522682189941, -16.8898983001709, 6.4253129959106445, 11.54821491241455, 13.351753234863281, -25.36089515686035, 12.973950386047363, 16.74741554260254, 12.838431358337402, 16.73649024963379, 1.6938000917434692, 11.185994148254395, -1.7487431764602661, 13.835165023803711, -18.47697639465332, -9.970337867736816, -14.680609703063965, -21.320077896118164, -20.92869758605957, -8.430791854858398, -9.7608642578125, 26.767105102539062, -14.461735725402832, 22.38035011291504, -18.94240951538086, -17.957332611083984, -19.930376052856445, -8.510627746582031, 2.036529064178467, 14.795498847961426, 27.136749267578125, -15.161558151245117, 15.86601448059082, 20.70209503173828, -12.835057258605957, -5.658833026885986, -19.32829475402832, 15.626468658447266, -25.069355010986328, 19.632822036743164, -11.055791854858398, -9.242265701293945, -0.36068716645240784, 2.3247950077056885, 20.241796493530273, 18.612760543823242, 14.06893539428711, -19.480480194091797, -45.79710006713867, -16.726613998413086, 13.835145950317383, 14.910276412963867, 22.186046600341797, -17.721027374267578, 6.431212902069092, -21.09906768798828, -19.614784240722656, -12.342595100402832, 7.604856014251709, 15.91330337524414, 11.762883186340332, -14.057721138000488, -17.81928253173828, -21.516929626464844, -17.342578887939453, 14.120229721069336, 20.241796493530273, 12.415852546691895, -20.252517700195312, 7.625922203063965, -10.021442413330078, -48.25395202636719, -3.114109754562378, 5.070008277893066, 16.222448348999023, -18.786577224731445, 16.222675323486328, -23.215770721435547, -5.440625190734863, -10.705057144165039, -1.0953117609024048, -9.32712173461914, -25.17824935913086, -10.578728675842285, 16.098690032958984, -7.2258620262146, 21.182254791259766, -11.774394035339355, 19.11241340637207, -14.105378150939941, -24.199644088745117, 4.994222640991211, 5.553159236907959, 13.914175033569336, -22.911100387573242, -10.702899932861328, 18.11115264892578, 29.063261032104492, -18.41862678527832, 13.469067573547363, 26.792112350463867, -22.22357749938965, -46.57384490966797, 14.612676620483398, -22.03511619567871, 15.036802291870117, -18.04071617126465, -20.6186466217041, -45.0062370300293, 24.128257751464844, 3.8363046646118164, 19.094987869262695, -12.841131210327148, 6.685129642486572, 16.711204528808594, 9.230937957763672, 14.79548454284668, 27.072044372558594, -12.543386459350586, -25.390399932861328, 5.443474292755127, -7.649245262145996, 4.3998494148254395, 20.709259033203125, -16.762798309326172, -24.128555297851562, -13.877130508422852, 9.278924942016602, 7.896213531494141, 29.76580238342285, -24.977476119995117, 6.325503826141357, 0.7763909101486206, -14.57252025604248, 20.15315818786621, -10.572514533996582, -13.945548057556152, 13.043472290039062, -29.323240280151367, -1.428840160369873, -16.630735397338867, -26.461503982543945, -20.956586837768555, 26.217758178710938, -13.58984661102295, -26.70001792907715, 9.97580623626709, -6.002488136291504, -20.71769142150879, -16.6826114654541, 15.866276741027832, 12.488672256469727, -16.909265518188477, -0.3718346059322357, 0.5172134041786194, -16.040590286254883, -24.86250877380371, -1.3454711437225342, -24.94632339477539, 12.736566543579102, 17.573402404785156, -10.55726432800293, -21.793704986572266, -23.082624435424805, -8.321244239807129, -12.365740776062012, 2.3439321517944336, -8.512855529785156, 15.655966758728027, -20.363710403442383, 26.82631492614746, -14.300225257873535, -14.529687881469727, 13.66098403930664, 19.11091423034668, -14.149091720581055, -18.395259857177734, -14.513751983642578, -46.337364196777344, -19.737991333007812, 1.7375359535217285, -18.257118225097656, -23.131195068359375, -8.446447372436523, -17.894214630126953, -25.09592056274414, 17.566179275512695, 5.877842903137207, -21.565887451171875, -16.529048919677734, -16.236215591430664, 15.207716941833496, 18.8864803314209, -16.824541091918945, -5.302657604217529, 8.20357608795166, -1.9239050149917603, -16.51880645751953, -15.035103797912598, -18.73918914794922], \"yaxis\": \"y\"}],\n",
       "                        {\"legend\": {\"title\": {\"text\": \"label_name\"}, \"tracegroupgap\": 0}, \"margin\": {\"t\": 60}, \"template\": {\"data\": {\"bar\": [{\"error_x\": {\"color\": \"#2a3f5f\"}, \"error_y\": {\"color\": \"#2a3f5f\"}, \"marker\": {\"line\": {\"color\": \"#E5ECF6\", \"width\": 0.5}}, \"type\": \"bar\"}], \"barpolar\": [{\"marker\": {\"line\": {\"color\": \"#E5ECF6\", \"width\": 0.5}}, \"type\": \"barpolar\"}], \"carpet\": [{\"aaxis\": {\"endlinecolor\": \"#2a3f5f\", \"gridcolor\": \"white\", \"linecolor\": \"white\", \"minorgridcolor\": \"white\", \"startlinecolor\": \"#2a3f5f\"}, \"baxis\": {\"endlinecolor\": \"#2a3f5f\", \"gridcolor\": \"white\", \"linecolor\": \"white\", \"minorgridcolor\": \"white\", \"startlinecolor\": \"#2a3f5f\"}, \"type\": \"carpet\"}], \"choropleth\": [{\"colorbar\": {\"outlinewidth\": 0, \"ticks\": \"\"}, \"type\": \"choropleth\"}], \"contour\": [{\"colorbar\": {\"outlinewidth\": 0, \"ticks\": \"\"}, \"colorscale\": [[0.0, \"#0d0887\"], [0.1111111111111111, \"#46039f\"], [0.2222222222222222, \"#7201a8\"], [0.3333333333333333, \"#9c179e\"], [0.4444444444444444, \"#bd3786\"], [0.5555555555555556, \"#d8576b\"], [0.6666666666666666, \"#ed7953\"], [0.7777777777777778, \"#fb9f3a\"], [0.8888888888888888, \"#fdca26\"], [1.0, \"#f0f921\"]], \"type\": \"contour\"}], \"contourcarpet\": [{\"colorbar\": {\"outlinewidth\": 0, \"ticks\": \"\"}, \"type\": \"contourcarpet\"}], \"heatmap\": [{\"colorbar\": {\"outlinewidth\": 0, \"ticks\": \"\"}, \"colorscale\": [[0.0, \"#0d0887\"], [0.1111111111111111, \"#46039f\"], [0.2222222222222222, \"#7201a8\"], [0.3333333333333333, \"#9c179e\"], [0.4444444444444444, \"#bd3786\"], [0.5555555555555556, \"#d8576b\"], [0.6666666666666666, \"#ed7953\"], [0.7777777777777778, \"#fb9f3a\"], [0.8888888888888888, \"#fdca26\"], [1.0, \"#f0f921\"]], \"type\": \"heatmap\"}], \"heatmapgl\": [{\"colorbar\": {\"outlinewidth\": 0, \"ticks\": \"\"}, \"colorscale\": [[0.0, \"#0d0887\"], [0.1111111111111111, \"#46039f\"], [0.2222222222222222, \"#7201a8\"], [0.3333333333333333, \"#9c179e\"], [0.4444444444444444, \"#bd3786\"], [0.5555555555555556, \"#d8576b\"], [0.6666666666666666, \"#ed7953\"], [0.7777777777777778, \"#fb9f3a\"], [0.8888888888888888, \"#fdca26\"], [1.0, \"#f0f921\"]], \"type\": \"heatmapgl\"}], \"histogram\": [{\"marker\": {\"colorbar\": {\"outlinewidth\": 0, \"ticks\": \"\"}}, \"type\": \"histogram\"}], \"histogram2d\": [{\"colorbar\": {\"outlinewidth\": 0, \"ticks\": \"\"}, \"colorscale\": [[0.0, \"#0d0887\"], [0.1111111111111111, \"#46039f\"], [0.2222222222222222, \"#7201a8\"], [0.3333333333333333, \"#9c179e\"], [0.4444444444444444, \"#bd3786\"], [0.5555555555555556, \"#d8576b\"], [0.6666666666666666, \"#ed7953\"], [0.7777777777777778, \"#fb9f3a\"], [0.8888888888888888, \"#fdca26\"], [1.0, \"#f0f921\"]], \"type\": \"histogram2d\"}], \"histogram2dcontour\": [{\"colorbar\": {\"outlinewidth\": 0, \"ticks\": \"\"}, \"colorscale\": [[0.0, \"#0d0887\"], [0.1111111111111111, \"#46039f\"], [0.2222222222222222, \"#7201a8\"], [0.3333333333333333, \"#9c179e\"], [0.4444444444444444, \"#bd3786\"], [0.5555555555555556, \"#d8576b\"], [0.6666666666666666, \"#ed7953\"], [0.7777777777777778, \"#fb9f3a\"], [0.8888888888888888, \"#fdca26\"], [1.0, \"#f0f921\"]], \"type\": \"histogram2dcontour\"}], \"mesh3d\": [{\"colorbar\": {\"outlinewidth\": 0, \"ticks\": \"\"}, \"type\": \"mesh3d\"}], \"parcoords\": [{\"line\": {\"colorbar\": {\"outlinewidth\": 0, \"ticks\": \"\"}}, \"type\": \"parcoords\"}], \"pie\": [{\"automargin\": true, \"type\": \"pie\"}], \"scatter\": [{\"marker\": {\"colorbar\": {\"outlinewidth\": 0, \"ticks\": \"\"}}, \"type\": \"scatter\"}], \"scatter3d\": [{\"line\": {\"colorbar\": {\"outlinewidth\": 0, \"ticks\": \"\"}}, \"marker\": {\"colorbar\": {\"outlinewidth\": 0, \"ticks\": \"\"}}, \"type\": \"scatter3d\"}], \"scattercarpet\": [{\"marker\": {\"colorbar\": {\"outlinewidth\": 0, \"ticks\": \"\"}}, \"type\": \"scattercarpet\"}], \"scattergeo\": [{\"marker\": {\"colorbar\": {\"outlinewidth\": 0, \"ticks\": \"\"}}, \"type\": \"scattergeo\"}], \"scattergl\": [{\"marker\": {\"colorbar\": {\"outlinewidth\": 0, \"ticks\": \"\"}}, \"type\": \"scattergl\"}], \"scattermapbox\": [{\"marker\": {\"colorbar\": {\"outlinewidth\": 0, \"ticks\": \"\"}}, \"type\": \"scattermapbox\"}], \"scatterpolar\": [{\"marker\": {\"colorbar\": {\"outlinewidth\": 0, \"ticks\": \"\"}}, \"type\": \"scatterpolar\"}], \"scatterpolargl\": [{\"marker\": {\"colorbar\": {\"outlinewidth\": 0, \"ticks\": \"\"}}, \"type\": \"scatterpolargl\"}], \"scatterternary\": [{\"marker\": {\"colorbar\": {\"outlinewidth\": 0, \"ticks\": \"\"}}, \"type\": \"scatterternary\"}], \"surface\": [{\"colorbar\": {\"outlinewidth\": 0, \"ticks\": \"\"}, \"colorscale\": [[0.0, \"#0d0887\"], [0.1111111111111111, \"#46039f\"], [0.2222222222222222, \"#7201a8\"], [0.3333333333333333, \"#9c179e\"], [0.4444444444444444, \"#bd3786\"], [0.5555555555555556, \"#d8576b\"], [0.6666666666666666, \"#ed7953\"], [0.7777777777777778, \"#fb9f3a\"], [0.8888888888888888, \"#fdca26\"], [1.0, \"#f0f921\"]], \"type\": \"surface\"}], \"table\": [{\"cells\": {\"fill\": {\"color\": \"#EBF0F8\"}, \"line\": {\"color\": \"white\"}}, \"header\": {\"fill\": {\"color\": \"#C8D4E3\"}, \"line\": {\"color\": \"white\"}}, \"type\": \"table\"}]}, \"layout\": {\"annotationdefaults\": {\"arrowcolor\": \"#2a3f5f\", \"arrowhead\": 0, \"arrowwidth\": 1}, \"coloraxis\": {\"colorbar\": {\"outlinewidth\": 0, \"ticks\": \"\"}}, \"colorscale\": {\"diverging\": [[0, \"#8e0152\"], [0.1, \"#c51b7d\"], [0.2, \"#de77ae\"], [0.3, \"#f1b6da\"], [0.4, \"#fde0ef\"], [0.5, \"#f7f7f7\"], [0.6, \"#e6f5d0\"], [0.7, \"#b8e186\"], [0.8, \"#7fbc41\"], [0.9, \"#4d9221\"], [1, \"#276419\"]], \"sequential\": [[0.0, \"#0d0887\"], [0.1111111111111111, \"#46039f\"], [0.2222222222222222, \"#7201a8\"], [0.3333333333333333, \"#9c179e\"], [0.4444444444444444, \"#bd3786\"], [0.5555555555555556, \"#d8576b\"], [0.6666666666666666, \"#ed7953\"], [0.7777777777777778, \"#fb9f3a\"], [0.8888888888888888, \"#fdca26\"], [1.0, \"#f0f921\"]], \"sequentialminus\": [[0.0, \"#0d0887\"], [0.1111111111111111, \"#46039f\"], [0.2222222222222222, \"#7201a8\"], [0.3333333333333333, \"#9c179e\"], [0.4444444444444444, \"#bd3786\"], [0.5555555555555556, \"#d8576b\"], [0.6666666666666666, \"#ed7953\"], [0.7777777777777778, \"#fb9f3a\"], [0.8888888888888888, \"#fdca26\"], [1.0, \"#f0f921\"]]}, \"colorway\": [\"#636efa\", \"#EF553B\", \"#00cc96\", \"#ab63fa\", \"#FFA15A\", \"#19d3f3\", \"#FF6692\", \"#B6E880\", \"#FF97FF\", \"#FECB52\"], \"font\": {\"color\": \"#2a3f5f\"}, \"geo\": {\"bgcolor\": \"white\", \"lakecolor\": \"white\", \"landcolor\": \"#E5ECF6\", \"showlakes\": true, \"showland\": true, \"subunitcolor\": \"white\"}, \"hoverlabel\": {\"align\": \"left\"}, \"hovermode\": \"closest\", \"mapbox\": {\"style\": \"light\"}, \"paper_bgcolor\": \"white\", \"plot_bgcolor\": \"#E5ECF6\", \"polar\": {\"angularaxis\": {\"gridcolor\": \"white\", \"linecolor\": \"white\", \"ticks\": \"\"}, \"bgcolor\": \"#E5ECF6\", \"radialaxis\": {\"gridcolor\": \"white\", \"linecolor\": \"white\", \"ticks\": \"\"}}, \"scene\": {\"xaxis\": {\"backgroundcolor\": \"#E5ECF6\", \"gridcolor\": \"white\", \"gridwidth\": 2, \"linecolor\": \"white\", \"showbackground\": true, \"ticks\": \"\", \"zerolinecolor\": \"white\"}, \"yaxis\": {\"backgroundcolor\": \"#E5ECF6\", \"gridcolor\": \"white\", \"gridwidth\": 2, \"linecolor\": \"white\", \"showbackground\": true, \"ticks\": \"\", \"zerolinecolor\": \"white\"}, \"zaxis\": {\"backgroundcolor\": \"#E5ECF6\", \"gridcolor\": \"white\", \"gridwidth\": 2, \"linecolor\": \"white\", \"showbackground\": true, \"ticks\": \"\", \"zerolinecolor\": \"white\"}}, \"shapedefaults\": {\"line\": {\"color\": \"#2a3f5f\"}}, \"ternary\": {\"aaxis\": {\"gridcolor\": \"white\", \"linecolor\": \"white\", \"ticks\": \"\"}, \"baxis\": {\"gridcolor\": \"white\", \"linecolor\": \"white\", \"ticks\": \"\"}, \"bgcolor\": \"#E5ECF6\", \"caxis\": {\"gridcolor\": \"white\", \"linecolor\": \"white\", \"ticks\": \"\"}}, \"title\": {\"x\": 0.05}, \"xaxis\": {\"automargin\": true, \"gridcolor\": \"white\", \"linecolor\": \"white\", \"ticks\": \"\", \"title\": {\"standoff\": 15}, \"zerolinecolor\": \"white\", \"zerolinewidth\": 2}, \"yaxis\": {\"automargin\": true, \"gridcolor\": \"white\", \"linecolor\": \"white\", \"ticks\": \"\", \"title\": {\"standoff\": 15}, \"zerolinecolor\": \"white\", \"zerolinewidth\": 2}}}, \"title\": {\"text\": \"t-SNE decomposition\"}, \"xaxis\": {\"anchor\": \"y\", \"domain\": [0.0, 1.0], \"title\": {\"text\": \"PC1\"}, \"zeroline\": false}, \"yaxis\": {\"anchor\": \"x\", \"domain\": [0.0, 1.0], \"title\": {\"text\": \"PC2\"}, \"zeroline\": false}},\n",
       "                        {\"responsive\": true}\n",
       "                    ).then(function(){\n",
       "                            \n",
       "var gd = document.getElementById('0a51bbb2-5eb0-49b3-9ba4-5fe636c095ab');\n",
       "var x = new MutationObserver(function (mutations, observer) {{\n",
       "        var display = window.getComputedStyle(gd).display;\n",
       "        if (!display || display === 'none') {{\n",
       "            console.log([gd, 'removed!']);\n",
       "            Plotly.purge(gd);\n",
       "            observer.disconnect();\n",
       "        }}\n",
       "}});\n",
       "\n",
       "// Listen for the removal of the full notebook cells\n",
       "var notebookContainer = gd.closest('#notebook-container');\n",
       "if (notebookContainer) {{\n",
       "    x.observe(notebookContainer, {childList: true});\n",
       "}}\n",
       "\n",
       "// Listen for the clearing of the current output cell\n",
       "var outputEl = gd.closest('.output');\n",
       "if (outputEl) {{\n",
       "    x.observe(outputEl, {childList: true});\n",
       "}}\n",
       "\n",
       "                        })\n",
       "                };\n",
       "                });\n",
       "            </script>\n",
       "        </div>"
      ]
     },
     "metadata": {},
     "output_type": "display_data"
    },
    {
     "data": {
      "text/plain": [
       "<Figure size 720x720 with 0 Axes>"
      ]
     },
     "metadata": {},
     "output_type": "display_data"
    }
   ],
   "source": [
    "mod = TSNE(n_components=2, verbose=0, perplexity=50, n_iter=5000, learning_rate=250)\n",
    "title = \"t-SNE decomposition\" \n",
    "        \n",
    "# Fit and transform the features\n",
    "principal_components = mod.fit_transform(x_train_pca)\n",
    "    \n",
    "# Put them into a dataframe\n",
    "df_features = pd.DataFrame(data=principal_components, columns=['PC1', 'PC2'])\n",
    "    \n",
    "# Now we have to paste each row's label and its meaning\n",
    "# Convert labels array to df\n",
    "df_labels = pd.DataFrame(data=y_train).rename(columns={'y_labels':'label'}).reset_index()\n",
    "    \n",
    "df_full = pd.concat([df_features, df_labels], axis=1)\n",
    "df_full['label'] = df_full['label'].astype(str)\n",
    "\n",
    "# Get labels name\n",
    "category_names = {\"0\": 'Data Analyst',\"1\": 'Data Engineer',\"2\": 'Data Scientist'}\n",
    "\n",
    " # And map labels\n",
    "df_full['label_name'] = df_full['label']\n",
    "df_full = df_full.replace({'label_name':category_names})\n",
    "\n",
    "# Plot\n",
    "plt.figure(figsize=(10,10))\n",
    "    \n",
    "# 2D visualisation\n",
    "fig = px.scatter(df_full, x=\"PC1\", y=\"PC2\", color='label_name')\n",
    "fig.update_layout(title=title,\n",
    "                  yaxis_zeroline=False, xaxis_zeroline=False)\n",
    "fig.show()"
   ]
  },
  {
   "cell_type": "code",
   "execution_count": null,
   "metadata": {},
   "outputs": [],
   "source": []
  },
  {
   "cell_type": "markdown",
   "metadata": {},
   "source": [
    "### 3D visualisation"
   ]
  },
  {
   "cell_type": "code",
   "execution_count": 121,
   "metadata": {},
   "outputs": [],
   "source": [
    "mod = TSNE(n_components=3, verbose=0, perplexity=50, n_iter=5000, learning_rate=250)\n",
    "title = \"t-SNE decomposition\" \n",
    "        \n",
    "# Fit and transform the features\n",
    "principal_components = mod.fit_transform(x_train_pca)\n",
    "    \n",
    "# Put them into a dataframe\n",
    "df_features = pd.DataFrame(data=principal_components, columns=['PC1', 'PC2', 'PC3'])\n",
    "    \n",
    "# Now we have to paste each row's label and its meaning\n",
    "# Convert labels array to df\n",
    "df_labels = pd.DataFrame(data=y_train).rename(columns={'y_labels':'label'}).reset_index()\n",
    "    \n",
    "df_full = pd.concat([df_features, df_labels], axis=1)\n",
    "df_full['label'] = df_full['label'].astype(str)\n",
    "\n",
    "# Get labels name\n",
    "category_names = {\"0\": 'Data Analyst',\"1\": 'Data Engineer',\"2\": 'Data Scientist'}\n",
    "\n",
    " # And map labels\n",
    "df_full['label_name'] = df_full['label']\n",
    "df_full = df_full.replace({'label_name':category_names})"
   ]
  },
  {
   "cell_type": "code",
   "execution_count": 194,
   "metadata": {},
   "outputs": [
    {
     "data": {
      "application/vnd.plotly.v1+json": {
       "config": {
        "plotlyServerURL": "https://plot.ly"
       },
       "data": [
        {
         "hovertemplate": "label_name=Data Analyst<br>PC1=%{x}<br>PC2=%{y}<br>PC3=%{z}<extra></extra>",
         "legendgroup": "Data Analyst",
         "marker": {
          "color": "#636efa",
          "symbol": "circle"
         },
         "mode": "markers",
         "name": "Data Analyst",
         "scene": "scene",
         "showlegend": true,
         "type": "scatter3d",
         "x": [
          11.420391082763672,
          -136.79966735839844,
          268.84136962890625,
          -274.35296630859375,
          133.63119506835938,
          67.91653442382812,
          -225.03176879882812,
          -199.44400024414062,
          -155.32481384277344,
          -239.11807250976562,
          42.71538543701172,
          193.26829528808594,
          -211.81161499023438,
          -193.97021484375,
          18.762107849121094,
          -268.1074523925781,
          -230.64730834960938,
          181.06797790527344,
          -96.63848114013672,
          62.715328216552734,
          319.5650634765625,
          -96.33270263671875,
          95.97354125976562,
          -237.90087890625,
          343.92425537109375,
          -245.1768035888672,
          19.249425888061523,
          239.58721923828125,
          -231.55796813964844,
          81.96060943603516,
          280.8445739746094,
          59.130226135253906,
          332.90966796875,
          -297.9033508300781,
          381.2269287109375,
          66.56512451171875,
          -90.6482925415039,
          44.88882827758789,
          -148.9535675048828,
          -197.17759704589844,
          -60.48788833618164,
          -116.73363494873047,
          111.75350952148438,
          -148.49838256835938,
          65.54669189453125,
          -61.98762512207031,
          -43.276676177978516,
          82.82740020751953,
          -164.9471435546875,
          59.57796096801758,
          22.719228744506836,
          228.485595703125,
          100.309814453125,
          340.5386047363281,
          -266.02496337890625,
          66.4564437866211,
          -175.16604614257812,
          -54.25673294067383,
          131.4300994873047,
          162.59486389160156,
          -260.6164855957031,
          58.47718048095703,
          -367.3283996582031,
          -235.89053344726562,
          -186.91946411132812,
          -231.35743713378906,
          -234.14476013183594,
          -83.85172271728516,
          -76.6396484375,
          -64.36414337158203,
          -138.97181701660156,
          -114.70830535888672,
          -336.6119689941406,
          210.197021484375,
          -280.9317321777344,
          -129.2014923095703,
          -73.21736907958984,
          112.75300598144531,
          81.30233001708984,
          161.12921142578125,
          -283.44720458984375,
          -89.24888610839844,
          -248.0483856201172,
          -113.02664947509766,
          449.7249755859375,
          158.69931030273438,
          -337.27496337890625,
          -81.19711303710938,
          35.68098449707031,
          422.3861999511719,
          -240.3097686767578,
          -18.68138313293457,
          -179.89903259277344,
          -237.13809204101562,
          -1.8120530843734741,
          -113.49600982666016,
          -251.325439453125,
          -203.9741973876953,
          -56.654109954833984,
          -23.638769149780273,
          -266.70538330078125,
          -79.75590515136719,
          -263.67352294921875,
          123.39679718017578,
          -144.87168884277344,
          -281.9901428222656,
          94.89273834228516,
          -253.9153289794922,
          -297.510009765625,
          -395.92431640625,
          -108.10623931884766,
          -284.9651184082031,
          -203.7766876220703,
          -166.38780212402344,
          -139.66371154785156,
          -25.01678466796875,
          33.25933074951172,
          -194.73277282714844,
          12.101157188415527,
          36.894168853759766,
          -36.88032150268555,
          -203.3313751220703,
          94.22673797607422,
          111.49967956542969,
          -244.17926025390625,
          -46.59890365600586,
          -173.61068725585938,
          114.79998779296875,
          104.49739074707031,
          -246.4371795654297,
          -155.81761169433594,
          -337.1914978027344,
          80.20433044433594,
          -78.36274719238281,
          71.671875,
          -183.57762145996094,
          332.29449462890625,
          -78.37274932861328,
          17.053773880004883,
          169.47193908691406,
          -208.00938415527344,
          -311.06634521484375,
          26.964269638061523,
          3.894109010696411,
          167.8190155029297,
          132.8411407470703,
          151.83509826660156,
          21.442527770996094,
          43.63216018676758,
          -152.93038940429688,
          291.5723571777344,
          -370.7305908203125,
          -215.29359436035156,
          -330.8512878417969,
          -208.39207458496094,
          437.93060302734375,
          46.114776611328125,
          -45.50259780883789,
          -288.43511962890625,
          370.05517578125,
          39.27188491821289,
          23.893423080444336,
          110.79409790039062,
          -339.5097961425781,
          29.35267448425293,
          -199.4685821533203,
          -137.92446899414062,
          87.34927368164062,
          387.8525695800781,
          -186.98202514648438,
          96.14739990234375,
          378.8566589355469,
          187.5204315185547,
          -97.48171997070312,
          377.1513671875,
          -244.45553588867188,
          -121.1456527709961
         ],
         "y": [
          132.539306640625,
          63.88780975341797,
          111.75592041015625,
          -17.171829223632812,
          174.69192504882812,
          31.669706344604492,
          -7.705874919891357,
          -50.53956604003906,
          358.7189025878906,
          249.61924743652344,
          43.84099578857422,
          72.20347595214844,
          -187.6328582763672,
          -118.8271713256836,
          268.9530944824219,
          -42.62778854370117,
          -29.127775192260742,
          120.53942108154297,
          39.643367767333984,
          -218.2088623046875,
          -126.6886978149414,
          -173.22198486328125,
          173.13560485839844,
          -300.3087463378906,
          155.17433166503906,
          -157.7294464111328,
          265.1486511230469,
          210.96156311035156,
          55.60716247558594,
          37.27706527709961,
          88.62557983398438,
          129.9381103515625,
          37.77193832397461,
          -202.440673828125,
          90.22112274169922,
          197.8596649169922,
          -220.5833282470703,
          -191.8289337158203,
          138.38973999023438,
          85.15946197509766,
          -112.9288330078125,
          -34.269264221191406,
          124.74750518798828,
          312.7969970703125,
          130.4069061279297,
          152.56153869628906,
          -171.7489013671875,
          -177.80801391601562,
          -310.4232482910156,
          -259.9043273925781,
          -277.0781555175781,
          180.47280883789062,
          222.9822998046875,
          -113.43866729736328,
          -117.55589294433594,
          75.40401458740234,
          21.4137020111084,
          -56.973819732666016,
          14.88599967956543,
          -363.2586364746094,
          -190.94859313964844,
          -278.8055725097656,
          -30.66071128845215,
          -128.51817321777344,
          343.38311767578125,
          -106.45423889160156,
          102.34849548339844,
          -184.4378662109375,
          -59.76092529296875,
          -121.6814956665039,
          -78.80955505371094,
          -131.900634765625,
          -171.0518798828125,
          30.6038761138916,
          220.2567596435547,
          -194.1884002685547,
          -116.87753295898438,
          75.43062591552734,
          82.89149475097656,
          39.42805480957031,
          17.139781951904297,
          -217.2097625732422,
          -201.1871337890625,
          89.01420593261719,
          89.11678314208984,
          -269.7790832519531,
          -102.48179626464844,
          72.41358947753906,
          92.97079467773438,
          37.59563446044922,
          16.641454696655273,
          274.4271545410156,
          309.8297424316406,
          -106.12727355957031,
          195.53897094726562,
          -7.106744766235352,
          -85.08599853515625,
          -193.95228576660156,
          194.5313262939453,
          153.22483825683594,
          147.4484100341797,
          243.10118103027344,
          -1.3469524383544922,
          64.68131256103516,
          38.29701614379883,
          -129.46929931640625,
          216.72911071777344,
          -247.66188049316406,
          -128.011474609375,
          -60.28966522216797,
          -88.31790924072266,
          163.79869079589844,
          66.28181457519531,
          -56.82003402709961,
          111.74022674560547,
          122.71383666992188,
          178.0258026123047,
          -287.09796142578125,
          -197.7476043701172,
          -154.53553771972656,
          130.0774383544922,
          -336.96533203125,
          -15.344523429870605,
          -118.6043701171875,
          -48.867103576660156,
          6.336587905883789,
          117.02786254882812,
          -316.5872802734375,
          -152.94644165039062,
          73.13278198242188,
          -4.59735107421875,
          -81.22003173828125,
          184.31932067871094,
          52.92086410522461,
          156.49771118164062,
          -67.31342315673828,
          91.97478485107422,
          13.892061233520508,
          167.2549285888672,
          91.29207611083984,
          -14.653277397155762,
          -124.61817169189453,
          42.52596664428711,
          81.97077941894531,
          48.76560592651367,
          63.52214431762695,
          46.15896987915039,
          -253.22882080078125,
          -183.71453857421875,
          -141.8527069091797,
          91.48212432861328,
          -33.92634201049805,
          -115.1333236694336,
          -219.9619598388672,
          -324.84771728515625,
          144.05384826660156,
          264.2065124511719,
          -61.649967193603516,
          -164.98324584960938,
          34.3002815246582,
          -18.654577255249023,
          -97.0220947265625,
          152.84059143066406,
          -152.4649200439453,
          67.28182983398438,
          -274.252197265625,
          94.05248260498047,
          -318.8404541015625,
          56.54301452636719,
          115.59203338623047,
          48.309242248535156,
          35.24109649658203,
          -2.7151427268981934,
          -101.5006103515625,
          128.84274291992188,
          176.73939514160156,
          -138.24087524414062
         ],
         "z": [
          -121.57566833496094,
          -237.2456817626953,
          89.14811706542969,
          -313.4721984863281,
          -241.00473022460938,
          34.13113021850586,
          -219.06698608398438,
          -236.89906311035156,
          -41.38236999511719,
          24.89581298828125,
          -100.28578186035156,
          -138.30224609375,
          -141.72244262695312,
          -274.0671081542969,
          67.30802917480469,
          -196.8372344970703,
          -334.2187805175781,
          44.5145263671875,
          -153.5162353515625,
          98.41252136230469,
          217.69741821289062,
          -143.29959106445312,
          -248.47984313964844,
          -114.99764251708984,
          -173.3292999267578,
          -97.52876281738281,
          22.943220138549805,
          -97.72676849365234,
          -251.22882080078125,
          -157.9708251953125,
          116.94965362548828,
          -106.27715301513672,
          -122.94041442871094,
          -92.29936981201172,
          -44.556278228759766,
          73.27825927734375,
          -130.2932586669922,
          146.40611267089844,
          -257.9239501953125,
          -63.66006088256836,
          21.82036018371582,
          -121.15979766845703,
          -91.38833618164062,
          -15.102147102355957,
          -183.30099487304688,
          -170.87301635742188,
          40.09595489501953,
          108.45684051513672,
          -105.70071411132812,
          16.129161834716797,
          28.682844161987305,
          -120.19551086425781,
          280.2015075683594,
          188.478759765625,
          -75.6400375366211,
          -119.16161346435547,
          -166.08522033691406,
          -193.1706085205078,
          -333.8276062011719,
          103.39527893066406,
          -156.41592407226562,
          146.63255310058594,
          -117.99003601074219,
          -143.4728240966797,
          -11.157066345214844,
          -233.5410919189453,
          -91.96099090576172,
          -96.47111511230469,
          25.38784408569336,
          -117.73145294189453,
          -78.63589477539062,
          -217.6918182373047,
          -114.56649017333984,
          -310.0272521972656,
          -19.25548553466797,
          -112.41893768310547,
          -211.6484375,
          9.753764152526855,
          -48.73551940917969,
          -356.3485107421875,
          34.62627029418945,
          -324.35888671875,
          224.42074584960938,
          -96.78468322753906,
          -55.8171272277832,
          -15.503092765808105,
          -230.54922485351562,
          -85.84255981445312,
          280.6161804199219,
          -21.852556228637695,
          -319.76092529296875,
          44.53752136230469,
          -46.68092727661133,
          -299.07879638671875,
          -128.44027709960938,
          -235.92037963867188,
          -115.95109558105469,
          -199.73092651367188,
          9.174996376037598,
          -178.5003204345703,
          -41.78020477294922,
          -88.77725982666016,
          -245.8301544189453,
          -324.77374267578125,
          -281.05810546875,
          -124.45375061035156,
          -81.60139465332031,
          -9.660140037536621,
          -211.30023193359375,
          -99.79995727539062,
          -212.39320373535156,
          -79.1504135131836,
          -210.7274169921875,
          -142.4634552001953,
          -334.8887634277344,
          -27.9173583984375,
          92.9373779296875,
          -142.6082763671875,
          101.7997055053711,
          102.10407257080078,
          -128.78070068359375,
          -128.99928283691406,
          -7.218567371368408,
          -217.75587463378906,
          -262.74786376953125,
          -91.68741607666016,
          -278.31884765625,
          39.63243865966797,
          -231.34457397460938,
          -124.7033920288086,
          124.32373809814453,
          -91.14454650878906,
          -146.2942657470703,
          -278.4835205078125,
          89.60549926757812,
          -295.0336608886719,
          -160.24278259277344,
          -172.56082153320312,
          -62.895938873291016,
          -326.970458984375,
          -271.4120178222656,
          -265.8753356933594,
          -16.247180938720703,
          -54.9046516418457,
          75.34474182128906,
          87.27457427978516,
          -293.88494873046875,
          135.25291442871094,
          60.628116607666016,
          -145.76736450195312,
          -110.38275909423828,
          -73.3306884765625,
          -95.23209381103516,
          -126.68173217773438,
          -76.75129699707031,
          -92.30342102050781,
          281.0908508300781,
          -117.74283599853516,
          -241.78057861328125,
          -9.34762191772461,
          -71.46406555175781,
          35.57845687866211,
          24.635095596313477,
          -233.739990234375,
          -214.4959259033203,
          -91.50770568847656,
          -195.4354705810547,
          65.74873352050781,
          -144.1002960205078,
          -163.1100311279297,
          -53.1455192565918,
          -79.97158813476562,
          -302.721435546875,
          -129.4194793701172,
          -129.43316650390625,
          -66.6680679321289,
          -84.65868377685547
         ]
        },
        {
         "hovertemplate": "label_name=Data Scientist<br>PC1=%{x}<br>PC2=%{y}<br>PC3=%{z}<extra></extra>",
         "legendgroup": "Data Scientist",
         "marker": {
          "color": "#EF553B",
          "symbol": "circle"
         },
         "mode": "markers",
         "name": "Data Scientist",
         "scene": "scene",
         "showlegend": true,
         "type": "scatter3d",
         "x": [
          107.87336730957031,
          -368.9361572265625,
          -62.576351165771484,
          -3.8954102993011475,
          68.9648208618164,
          87.05467987060547,
          18.646148681640625,
          137.20896911621094,
          39.51087188720703,
          -30.610889434814453,
          104.82819366455078,
          -185.13792419433594,
          -33.68839645385742,
          51.79206085205078,
          -9.936887741088867,
          199.1699676513672,
          70.19187927246094,
          -25.74658966064453,
          17.01848793029785,
          -82.15152740478516,
          -87.81649017333984,
          -192.05142211914062,
          45.52362060546875,
          72.94530487060547,
          -160.8453826904297,
          122.05477142333984,
          63.67689895629883,
          -108.63812255859375,
          -137.766845703125,
          -161.08985900878906,
          -255.90753173828125,
          -13.132865905761719,
          1.0439943075180054,
          61.55345916748047,
          -173.81898498535156,
          -129.52157592773438,
          -34.51924133300781,
          -138.30006408691406,
          -117.59468078613281,
          -15.708935737609863,
          405.89849853515625,
          -146.9558563232422,
          113.52104949951172,
          0.35904255509376526,
          159.69407653808594,
          -200.2864990234375,
          -100.46084594726562,
          128.4474334716797,
          98.60089111328125,
          -190.6824188232422,
          47.99020767211914,
          324.0301818847656,
          -45.26349639892578,
          -36.84794998168945,
          32.27772903442383,
          114.89005279541016,
          128.9386444091797,
          -278.55462646484375,
          -279.3302001953125,
          26.6538143157959,
          -24.09229850769043,
          268.4024353027344,
          -288.86309814453125,
          -105.95701599121094,
          139.76885986328125,
          -78.92656707763672,
          60.712345123291016,
          26.743267059326172,
          164.6926727294922,
          -12.84417724609375,
          -169.77651977539062,
          -89.2125473022461,
          124.7767105102539,
          -14.955127716064453,
          155.7812042236328,
          20.762035369873047,
          -47.63422393798828,
          -170.53494262695312,
          -57.347652435302734,
          -208.7056121826172,
          180.34201049804688,
          -5.606643199920654,
          -20.070711135864258,
          98.67374420166016,
          -24.918365478515625,
          105.49137115478516,
          -259.2473449707031,
          6.9995012283325195,
          -291.9052734375,
          349.74517822265625,
          206.8439483642578,
          117.84719848632812,
          -157.67019653320312,
          201.206298828125,
          -0.13773155212402344,
          -38.63214111328125,
          54.204769134521484,
          -16.965368270874023,
          318.97442626953125,
          -178.12037658691406,
          30.642906188964844,
          -99.49272155761719,
          -163.85494995117188,
          3.3303122520446777,
          10.722464561462402,
          -177.87637329101562,
          -25.75054931640625,
          -243.1041717529297,
          -239.63290405273438,
          -196.5994873046875,
          -12.42352294921875,
          -327.5380554199219,
          -81.64789581298828,
          364.35577392578125,
          6.982454299926758,
          317.55084228515625,
          58.14870834350586,
          -257.833984375,
          -130.47943115234375,
          -221.39930725097656,
          -2.7417898178100586,
          39.4388542175293,
          30.904693603515625,
          72.2852554321289,
          162.14547729492188,
          -5.220616340637207,
          -45.612152099609375,
          -351.447509765625,
          52.437015533447266
         ],
         "y": [
          -165.8286590576172,
          62.64548110961914,
          -263.2925720214844,
          20.62835693359375,
          121.08568572998047,
          147.8860626220703,
          89.65290069580078,
          207.78660583496094,
          201.5663604736328,
          -256.79608154296875,
          83.86647033691406,
          153.7438507080078,
          -31.734779357910156,
          -145.53248596191406,
          51.850521087646484,
          -302.13629150390625,
          97.41288757324219,
          132.80712890625,
          -156.22206115722656,
          75.85372924804688,
          174.3576202392578,
          -172.03076171875,
          -78.4171142578125,
          -111.5584716796875,
          -112.70921325683594,
          -35.47993469238281,
          191.3867645263672,
          -251.48910522460938,
          125.74983978271484,
          94.58464050292969,
          291.7159729003906,
          106.58185577392578,
          -179.9850311279297,
          -210.46385192871094,
          -306.4835205078125,
          277.2330017089844,
          169.50128173828125,
          -276.6858215332031,
          11.221463203430176,
          -57.21133804321289,
          92.05305480957031,
          -150.71502685546875,
          -17.206632614135742,
          53.411041259765625,
          -155.02980041503906,
          203.98374938964844,
          -218.975830078125,
          184.56222534179688,
          -79.94353485107422,
          -123.5042724609375,
          -84.11432647705078,
          60.07607650756836,
          217.637939453125,
          252.64772033691406,
          -140.7721710205078,
          -116.66703796386719,
          -121.87810516357422,
          -3.6250195503234863,
          36.57871627807617,
          237.2144317626953,
          -21.38058853149414,
          -256.8077392578125,
          29.542081832885742,
          104.07356262207031,
          -199.2795867919922,
          315.5563049316406,
          -91.7587890625,
          253.77606201171875,
          99.36705017089844,
          258.1177978515625,
          -162.8587646484375,
          104.6376724243164,
          96.50222778320312,
          -144.8583984375,
          -13.742627143859863,
          -180.69190979003906,
          -220.18374633789062,
          44.77962112426758,
          183.82424926757812,
          -138.5745391845703,
          134.78575134277344,
          -154.92259216308594,
          -192.33267211914062,
          -303.2594299316406,
          108.42599487304688,
          -164.84828186035156,
          13.555279731750488,
          -159.00697326660156,
          266.0462646484375,
          91.04917907714844,
          123.1261215209961,
          4.335976600646973,
          236.75027465820312,
          90.57960510253906,
          151.32484436035156,
          39.78712844848633,
          -244.7250213623047,
          250.1912841796875,
          124.06504821777344,
          278.7776184082031,
          -192.79647827148438,
          -12.751901626586914,
          268.47607421875,
          221.0664520263672,
          214.7834014892578,
          21.80939292907715,
          -9.826557159423828,
          92.32840728759766,
          181.12603759765625,
          168.17369079589844,
          179.0006561279297,
          -171.5930633544922,
          -224.28640747070312,
          155.7469940185547,
          206.81785583496094,
          147.05050659179688,
          0.5800284743309021,
          254.0897674560547,
          -311.3099670410156,
          203.49322509765625,
          18.53484344482422,
          -35.540382385253906,
          -338.6634216308594,
          202.19329833984375,
          -157.91720581054688,
          -340.4693908691406,
          201.2012176513672,
          -213.1499786376953,
          -128.55337524414062
         ],
         "z": [
          348.39605712890625,
          4.416453838348389,
          174.88978576660156,
          38.358360290527344,
          172.52752685546875,
          236.2820281982422,
          -184.39247131347656,
          240.07330322265625,
          -5.737196922302246,
          276.9010009765625,
          231.20907592773438,
          156.55227661132812,
          62.623069763183594,
          -164.80267333984375,
          -151.28793334960938,
          -96.63041687011719,
          52.89795684814453,
          107.68252563476562,
          -174.4536590576172,
          149.03562927246094,
          84.57242584228516,
          348.8542175292969,
          141.13052368164062,
          -366.72943115234375,
          324.2436218261719,
          147.0581817626953,
          261.43994140625,
          -22.845537185668945,
          -6.128642559051514,
          84.23092651367188,
          148.74215698242188,
          -259.77911376953125,
          334.36724853515625,
          250.607666015625,
          219.1310577392578,
          87.02983856201172,
          -302.8731994628906,
          231.99659729003906,
          -54.123817443847656,
          106.77760314941406,
          -95.5162124633789,
          352.8558044433594,
          60.97078323364258,
          233.0686798095703,
          289.29864501953125,
          19.472293853759766,
          -225.55091857910156,
          284.3797912597656,
          -370.16253662109375,
          361.9684143066406,
          325.2823791503906,
          -57.14444351196289,
          292.6831970214844,
          247.81051635742188,
          -49.71159744262695,
          -345.9800720214844,
          323.6791687011719,
          -67.68059539794922,
          -180.10728454589844,
          152.46768188476562,
          -389.3377685546875,
          -147.9232177734375,
          -46.77227783203125,
          -8.640252113342285,
          315.3723449707031,
          -83.40023040771484,
          -103.18887329101562,
          199.3347930908203,
          163.62940979003906,
          294.5104675292969,
          297.9403076171875,
          36.819236755371094,
          261.04632568359375,
          -67.40301513671875,
          151.8057861328125,
          -79.59913635253906,
          260.71875,
          148.31944274902344,
          106.00238037109375,
          305.9358215332031,
          193.99282836914062,
          -18.71645164489746,
          -48.47903823852539,
          -222.81207275390625,
          177.19480895996094,
          296.23138427734375,
          -157.18321228027344,
          162.10757446289062,
          146.8017578125,
          -99.0713119506836,
          156.8668670654297,
          170.5686492919922,
          94.01278686523438,
          192.70761108398438,
          31.81659507751465,
          138.27073669433594,
          269.9476318359375,
          177.14813232421875,
          -57.57850646972656,
          101.47731018066406,
          -29.175657272338867,
          84.69202423095703,
          56.00980758666992,
          254.0070037841797,
          311.65594482421875,
          -120.47898864746094,
          -11.57011604309082,
          154.23370361328125,
          28.04945182800293,
          52.855979919433594,
          281.4563293457031,
          -64.1243896484375,
          174.44638061523438,
          -13.153166770935059,
          184.87364196777344,
          -116.03337097167969,
          111.15824127197266,
          172.0992889404297,
          199.12789916992188,
          68.108642578125,
          111.07488250732422,
          73.64875793457031,
          223.59912109375,
          212.20787048339844,
          343.1955261230469,
          213.28855895996094,
          237.32757568359375,
          -80.63871002197266,
          279.0713806152344
         ]
        },
        {
         "hovertemplate": "label_name=Data Engineer<br>PC1=%{x}<br>PC2=%{y}<br>PC3=%{z}<extra></extra>",
         "legendgroup": "Data Engineer",
         "marker": {
          "color": "#00cc96",
          "symbol": "circle"
         },
         "mode": "markers",
         "name": "Data Engineer",
         "scene": "scene",
         "showlegend": true,
         "type": "scatter3d",
         "x": [
          162.55662536621094,
          -293.9707946777344,
          -159.244140625,
          -195.29360961914062,
          -339.7169189453125,
          216.5149688720703,
          -119.51449584960938,
          -108.80374908447266,
          130.3547821044922,
          205.99392700195312,
          -71.65518951416016,
          -306.41796875,
          194.0385284423828,
          -198.03236389160156,
          -12.907539367675781,
          149.03317260742188,
          68.74958038330078,
          -69.73907470703125,
          193.026123046875,
          -183.99462890625,
          -226.54861450195312,
          341.36602783203125,
          5.707612991333008,
          -75.13728332519531,
          208.90220642089844,
          -333.01214599609375,
          -114.92318725585938,
          201.30177307128906,
          283.2477111816406,
          -269.5209655761719,
          252.01498413085938,
          -112.03860473632812,
          10.972675323486328,
          -228.8314208984375,
          -305.6213073730469,
          -391.259033203125,
          -107.72428131103516,
          351.25433349609375,
          -165.0553436279297,
          382.4798889160156,
          272.4428405761719,
          26.30036163330078,
          12.366609573364258,
          -304.0773620605469,
          204.83213806152344,
          -266.5075378417969,
          290.19427490234375,
          -69.95571899414062,
          55.63331604003906,
          9.259798049926758,
          64.0745620727539,
          -137.0284881591797,
          -195.0093536376953,
          5.617794513702393,
          302.5256042480469,
          259.4273986816406,
          423.22637939453125,
          -82.210205078125,
          -101.82085418701172,
          111.76747131347656,
          66.23237609863281,
          55.365211486816406,
          -342.15771484375,
          341.7274169921875,
          -136.6058807373047,
          163.9359588623047,
          336.689208984375,
          -356.790283203125,
          247.63063049316406,
          -101.87995147705078,
          -107.30291748046875,
          312.51568603515625,
          17.86086654663086,
          -288.8614501953125,
          364.6628723144531,
          74.82112884521484,
          406.0420227050781,
          -167.63238525390625,
          263.64984130859375,
          79.4309310913086,
          333.99761962890625,
          -50.37628173828125,
          -157.34335327148438,
          76.28667449951172,
          135.64805603027344,
          192.1656036376953,
          -219.5443572998047,
          167.27764892578125,
          -84.13330841064453,
          32.3214225769043,
          239.4629669189453,
          -237.15472412109375,
          239.369873046875,
          198.00234985351562,
          36.85667419433594,
          -111.86601257324219,
          79.52892303466797,
          219.47169494628906,
          -210.97706604003906,
          -44.34379577636719,
          -208.6956024169922,
          308.4245910644531,
          -64.26537322998047,
          -15.918903350830078,
          -323.2823486328125,
          -80.30348205566406,
          -218.97174072265625,
          -197.66845703125,
          -142.6645050048828,
          253.2509765625,
          217.2567138671875,
          346.4411926269531,
          266.61749267578125,
          162.52899169921875,
          124.35828399658203,
          293.8860168457031,
          -103.29419708251953,
          -5.951339244842529,
          -82.39532470703125,
          5.832874774932861,
          -356.0289306640625,
          -125.39147186279297,
          -28.81894302368164,
          138.9748992919922,
          183.13832092285156,
          417.9188232421875,
          158.1979522705078,
          17.90964126586914,
          44.33763885498047,
          -205.4086151123047,
          224.5137481689453,
          -56.237850189208984,
          151.12677001953125,
          27.677854537963867,
          205.03330993652344,
          244.8101806640625,
          193.50048828125,
          -230.669189453125,
          8.835867881774902,
          296.84613037109375,
          195.00387573242188,
          212.8870391845703,
          113.45747375488281,
          50.05931091308594,
          230.86032104492188,
          186.84463500976562,
          224.69598388671875,
          13.41981029510498,
          -64.01836395263672,
          22.384241104125977,
          -86.12737274169922,
          22.927352905273438,
          72.6682357788086,
          -231.08889770507812,
          -29.6112117767334,
          -44.1270866394043,
          -73.63507843017578,
          -156.97372436523438,
          -71.90776062011719,
          -52.78059005737305,
          -59.13139343261719,
          -108.9120101928711,
          183.7383270263672,
          164.84161376953125,
          -267.027099609375,
          -57.587982177734375,
          86.07383728027344,
          107.30738830566406,
          -31.7602596282959,
          96.49806213378906,
          333.0707092285156,
          236.72962951660156,
          -94.34317016601562,
          237.46908569335938,
          -54.8265266418457,
          255.9936981201172,
          52.25550079345703,
          248.54698181152344,
          -137.53451538085938,
          -192.3258056640625,
          -109.53168487548828,
          -6.524474143981934,
          60.04988098144531,
          -193.5813751220703,
          13.772711753845215,
          -106.46925354003906,
          255.13088989257812,
          143.35948181152344,
          99.37960815429688,
          124.85567474365234,
          155.03477478027344,
          179.6542205810547,
          151.3595733642578,
          -20.041946411132812,
          121.54773712158203,
          -299.7333984375,
          1.3962290287017822,
          227.5222625732422,
          142.17909240722656,
          107.21347045898438,
          -75.74961853027344,
          -130.7895965576172,
          189.71768188476562,
          -239.06210327148438,
          -239.55807495117188,
          -214.79627990722656,
          217.45962524414062,
          24.942007064819336,
          249.02525329589844,
          -158.0229034423828,
          149.59414672851562,
          -201.34800720214844,
          242.01087951660156,
          114.6900405883789,
          133.62794494628906,
          -1.4699375629425049,
          -289.7173767089844,
          -165.12689208984375,
          -145.02029418945312,
          201.33607482910156,
          442.9605407714844,
          272.0323486328125,
          -229.52061462402344,
          -185.62721252441406,
          -223.6540069580078,
          149.79124450683594,
          -42.616966247558594,
          165.9581298828125,
          89.7968521118164,
          272.816162109375,
          -344.8692626953125,
          -29.641586303710938,
          -271.74505615234375,
          -152.60302734375,
          -47.61539077758789,
          141.70248413085938,
          379.47943115234375,
          -233.91229248046875,
          -260.8467712402344,
          -302.6783752441406,
          -38.50368118286133,
          -85.2319107055664,
          49.361724853515625,
          392.569580078125,
          202.90333557128906,
          -332.74053955078125,
          -202.3291473388672,
          -12.981804847717285,
          -167.84913635253906,
          185.5067138671875,
          195.15170288085938,
          165.6283721923828,
          113.578857421875,
          208.63943481445312,
          238.48143005371094,
          125.30526733398438,
          -174.91201782226562,
          232.15570068359375,
          -257.4370422363281,
          212.16773986816406,
          -140.256591796875,
          135.1203155517578,
          -39.72770309448242,
          -20.843830108642578,
          -338.96649169921875,
          -246.48052978515625,
          143.0248260498047,
          180.04934692382812,
          -5.100543975830078,
          212.57232666015625,
          320.0837097167969,
          -60.71701431274414,
          8.468585968017578,
          155.1218719482422,
          403.2768859863281,
          -176.13845825195312,
          159.7918701171875,
          -147.95120239257812,
          135.04061889648438,
          364.0091857910156,
          375.1575622558594,
          -200.02462768554688,
          0.13799721002578735,
          -160.9726104736328,
          182.82717895507812,
          -105.85826110839844,
          -19.29377555847168,
          -65.10411071777344,
          -159.66722106933594,
          -148.8047637939453,
          102.00804138183594,
          223.93820190429688,
          -351.6552734375,
          112.87495422363281,
          64.44728088378906,
          -192.27139282226562,
          285.84722900390625,
          -20.323955535888672,
          12.675618171691895,
          -48.59415817260742,
          -347.2511901855469,
          -97.91975402832031,
          -35.391448974609375,
          -266.3634948730469,
          -139.47018432617188,
          119.72958374023438,
          -302.2306213378906,
          319.1103820800781,
          -143.38409423828125,
          -267.8978271484375,
          222.3448486328125,
          -113.90882873535156,
          179.10159301757812,
          268.85577392578125,
          124.6915512084961,
          215.94696044921875,
          338.7271728515625,
          28.30592155456543,
          -90.66121673583984,
          149.64906311035156,
          125.35865020751953,
          298.09564208984375,
          -215.0144500732422,
          -85.1257553100586,
          240.18617248535156,
          118.26797485351562,
          85.34765625,
          133.18580627441406,
          -80.33026123046875,
          67.27227020263672,
          262.6942443847656,
          -27.618379592895508,
          -207.52639770507812,
          217.70654296875,
          146.6745147705078,
          -20.189393997192383,
          -8.081825256347656,
          287.3238830566406,
          -32.43917465209961,
          79.86986541748047,
          26.908395767211914,
          60.768192291259766,
          147.64129638671875,
          163.80413818359375,
          84.82678985595703,
          -224.85693359375,
          -143.55906677246094,
          92.59298706054688,
          294.358642578125,
          80.47941589355469,
          436.96124267578125,
          58.614723205566406,
          119.8022689819336,
          129.82440185546875,
          258.5940246582031,
          134.13336181640625,
          -69.12532043457031,
          123.4250717163086,
          -226.98834228515625,
          -114.85037994384766,
          201.1774139404297,
          131.74554443359375,
          217.14508056640625,
          15.254396438598633,
          -156.77761840820312,
          -8.360706329345703,
          -72.58152770996094,
          -65.69537353515625,
          -74.31131744384766,
          165.41734313964844,
          198.1642303466797,
          -27.158897399902344
         ],
         "y": [
          -70.47819519042969,
          -82.64807891845703,
          -272.32171630859375,
          -60.00514221191406,
          166.2896270751953,
          6.391078472137451,
          -355.6368103027344,
          -133.63397216796875,
          -204.2848358154297,
          187.57376098632812,
          186.99636840820312,
          -161.9276580810547,
          60.125022888183594,
          238.050048828125,
          -226.32492065429688,
          -260.4173278808594,
          285.8209228515625,
          -71.86322021484375,
          -97.76716613769531,
          214.4508819580078,
          -120.8327407836914,
          0.32326382398605347,
          -19.0981502532959,
          -248.23963928222656,
          -189.3854217529297,
          132.47344970703125,
          -154.05760192871094,
          258.3607177734375,
          -163.21177673339844,
          2.981476306915283,
          249.52149963378906,
          -55.22870635986328,
          309.9944152832031,
          -86.18380737304688,
          154.53311157226562,
          -36.034080505371094,
          210.7307891845703,
          17.091552734375,
          -91.1953125,
          -77.13973236083984,
          -248.88906860351562,
          42.01481246948242,
          255.4070587158203,
          -110.86215209960938,
          -127.87895202636719,
          -162.3547821044922,
          -24.857330322265625,
          231.33416748046875,
          394.9112548828125,
          -63.107757568359375,
          82.9566879272461,
          -230.25462341308594,
          -131.02960205078125,
          -64.34341430664062,
          -112.6598892211914,
          9.290693283081055,
          141.98472595214844,
          -328.2998352050781,
          -137.21188354492188,
          297.2729187011719,
          323.28460693359375,
          -48.24647903442383,
          103.9802474975586,
          -119.9986343383789,
          150.34738159179688,
          193.0101318359375,
          98.9913558959961,
          86.94739532470703,
          -101.00680541992188,
          -61.55891418457031,
          257.64825439453125,
          -171.93963623046875,
          -25.014162063598633,
          -106.58393096923828,
          191.33604431152344,
          291.0993347167969,
          96.60595703125,
          206.46376037597656,
          45.241844177246094,
          -329.1244812011719,
          186.77369689941406,
          251.03355407714844,
          -159.67982482910156,
          -116.7932357788086,
          66.45668029785156,
          307.78619384765625,
          4.282302379608154,
          94.17194366455078,
          372.82476806640625,
          383.5743408203125,
          105.6238021850586,
          -187.501953125,
          -82.00501251220703,
          -263.7977600097656,
          -344.540771484375,
          56.79264450073242,
          157.9120635986328,
          -40.567657470703125,
          -24.359254837036133,
          -47.217227935791016,
          73.30030822753906,
          13.856359481811523,
          -96.74614715576172,
          331.27569580078125,
          -121.50153350830078,
          -127.36227416992188,
          89.4095458984375,
          -38.78142547607422,
          18.274551391601562,
          13.625174522399902,
          -44.93282699584961,
          -101.66679382324219,
          19.961328506469727,
          -11.388437271118164,
          -184.45492553710938,
          -70.43318176269531,
          -209.77293395996094,
          304.3132629394531,
          -59.45006561279297,
          264.9699401855469,
          189.07125854492188,
          97.4740219116211,
          -162.810791015625,
          167.16439819335938,
          -97.2645492553711,
          166.67349243164062,
          -146.7911376953125,
          -187.96405029296875,
          -99.0367431640625,
          229.05262756347656,
          -242.80487060546875,
          -29.863910675048828,
          277.5983581542969,
          -238.00604248046875,
          95.59856414794922,
          -277.0621337890625,
          235.4824676513672,
          210.53506469726562,
          411.0481262207031,
          256.88775634765625,
          -235.46624755859375,
          316.517822265625,
          244.4955596923828,
          -204.9381561279297,
          278.9034729003906,
          23.798940658569336,
          146.00563049316406,
          -107.02043151855469,
          -241.1267852783203,
          16.119510650634766,
          38.980228424072266,
          -385.80010986328125,
          270.3631591796875,
          -332.7701110839844,
          -302.06500244140625,
          7.6580424308776855,
          90.91983032226562,
          171.49070739746094,
          315.0770263671875,
          -99.0078353881836,
          -57.54107666015625,
          112.14862060546875,
          -1.201148509979248,
          24.28288459777832,
          94.46257781982422,
          195.6807403564453,
          -215.5258026123047,
          -86.83744049072266,
          304.41876220703125,
          -55.39105987548828,
          -5.000538349151611,
          -169.17315673828125,
          -369.9789123535156,
          -48.41487503051758,
          -120.59593200683594,
          139.02285766601562,
          -365.2406311035156,
          232.1550750732422,
          -101.7056655883789,
          -168.45187377929688,
          -77.3039321899414,
          -326.0963134765625,
          150.48097229003906,
          47.39137268066406,
          -189.23843383789062,
          -289.2535095214844,
          -55.25689697265625,
          20.076047897338867,
          263.0718688964844,
          317.0992126464844,
          211.34715270996094,
          -133.1192169189453,
          -198.27883911132812,
          -377.39447021484375,
          264.9704284667969,
          -154.20664978027344,
          47.52022171020508,
          217.6151885986328,
          130.71890258789062,
          -29.13039779663086,
          18.1558895111084,
          -163.70806884765625,
          -200.1942138671875,
          243.59951782226562,
          -43.52478790283203,
          -314.08367919921875,
          -140.21128845214844,
          -78.78070831298828,
          47.75445556640625,
          -65.5400619506836,
          -355.5727233886719,
          -211.49044799804688,
          -218.62388610839844,
          24.682552337646484,
          -99.993408203125,
          -287.82781982421875,
          -231.9911651611328,
          -208.0073699951172,
          -53.321659088134766,
          -163.63125610351562,
          100.562744140625,
          -91.936279296875,
          9.981675148010254,
          -182.36927795410156,
          5.786338806152344,
          340.8740539550781,
          -102.9775619506836,
          386.2120056152344,
          327.7245788574219,
          -138.69384765625,
          -50.531002044677734,
          -155.24679565429688,
          19.80736541748047,
          242.31297302246094,
          71.46781921386719,
          325.3798522949219,
          -89.6686782836914,
          48.082496643066406,
          -243.15823364257812,
          37.97126388549805,
          245.9674835205078,
          -193.61216735839844,
          124.36566925048828,
          106.2105941772461,
          -215.9415740966797,
          -87.02991485595703,
          -106.75589752197266,
          26.809547424316406,
          -95.01756286621094,
          336.3556823730469,
          -19.91156768798828,
          -111.99119567871094,
          -119.14036560058594,
          -132.95603942871094,
          289.4224548339844,
          -16.226465225219727,
          -120.31285095214844,
          -110.64398956298828,
          -50.57161331176758,
          -157.58163452148438,
          -30.402482986450195,
          -120.23091888427734,
          330.1368713378906,
          140.85845947265625,
          -80.43719482421875,
          -16.934612274169922,
          230.90638732910156,
          -156.86343383789062,
          -208.75917053222656,
          -270.11322021484375,
          -58.09186935424805,
          78.5679931640625,
          -391.405517578125,
          185.08705139160156,
          194.44882202148438,
          -40.471736907958984,
          -245.14492797851562,
          -153.36737060546875,
          363.25360107421875,
          -106.7789535522461,
          141.32852172851562,
          -111.7928466796875,
          68.72899627685547,
          28.081552505493164,
          -49.558834075927734,
          -3.891927719116211,
          -286.24932861328125,
          -46.745445251464844,
          -179.4533233642578,
          70.38545227050781,
          -40.706939697265625,
          189.42153930664062,
          -122.50885772705078,
          -244.45582580566406,
          6.039509296417236,
          -312.45263671875,
          -106.38665008544922,
          222.9485321044922,
          219.0745086669922,
          -3.217435836791992,
          209.76687622070312,
          114.00324249267578,
          271.9165344238281,
          95.8335952758789,
          38.08513641357422,
          302.20330810546875,
          -229.72906494140625,
          -12.693049430847168,
          223.48077392578125,
          -34.120052337646484,
          250.51034545898438,
          229.14407348632812,
          78.38256072998047,
          171.5426483154297,
          381.97100830078125,
          -200.22850036621094,
          -194.70301818847656,
          359.5429992675781,
          -96.54080963134766,
          0.5181217789649963,
          380.51531982421875,
          -147.74169921875,
          -19.373106002807617,
          -105.67719268798828,
          -98.64580535888672,
          -131.50555419921875,
          -64.14309692382812,
          262.9655456542969,
          287.1319580078125,
          -64.26736450195312,
          309.06988525390625,
          -45.3108024597168,
          -3.517301321029663,
          -19.897247314453125,
          -224.3609619140625,
          299.3033447265625,
          96.50154113769531,
          -175.36973571777344,
          -277.87005615234375,
          -294.032958984375,
          -280.825927734375,
          338.593994140625,
          -234.3480224609375,
          -29.10968780517578,
          -163.08815002441406,
          -86.54144287109375,
          -17.341625213623047,
          29.373584747314453,
          -46.05057907104492,
          -176.70909118652344,
          41.17227554321289,
          -47.34079360961914,
          -119.32527923583984,
          272.517333984375,
          296.3542785644531,
          -215.06857299804688,
          33.871055603027344,
          -378.1863098144531,
          24.986600875854492,
          72.62836456298828,
          362.63897705078125,
          -93.66565704345703,
          37.694190979003906,
          39.719520568847656,
          -253.1121368408203,
          416.82879638671875,
          356.9638977050781,
          34.66651153564453,
          241.71759033203125,
          -87.33954620361328,
          -9.096747398376465,
          11.353078842163086
         ],
         "z": [
          -113.82916259765625,
          21.954570770263672,
          186.19656372070312,
          -24.295869827270508,
          15.711699485778809,
          176.89962768554688,
          -7.156359672546387,
          77.69252014160156,
          242.10336303710938,
          82.7498550415039,
          -26.214479446411133,
          116.55402374267578,
          -11.505282402038574,
          -208.64341735839844,
          226.91648864746094,
          127.062255859375,
          -25.97246742248535,
          258.0269470214844,
          94.01800537109375,
          233.31138610839844,
          1.3681448698043823,
          114.92084503173828,
          -203.86898803710938,
          22.52228355407715,
          -24.92064094543457,
          149.64894104003906,
          39.01976776123047,
          -47.79828643798828,
          -28.789461135864258,
          265.13958740234375,
          -27.265361785888672,
          -31.69532585144043,
          -204.49046325683594,
          151.91531372070312,
          136.70530700683594,
          24.020618438720703,
          -135.22940063476562,
          156.7307891845703,
          113.64266204833984,
          -11.624775886535645,
          15.698824882507324,
          174.3384246826172,
          -179.50144958496094,
          226.20733642578125,
          -230.06414794921875,
          114.9029312133789,
          269.02789306640625,
          -150.48524475097656,
          104.08406829833984,
          255.630126953125,
          131.23007202148438,
          60.791500091552734,
          149.60301208496094,
          -27.08138084411621,
          -202.8009796142578,
          -189.3599395751953,
          -31.51983070373535,
          -168.1688232421875,
          147.177490234375,
          112.54070281982422,
          -80.28810119628906,
          18.891101837158203,
          -146.2251739501953,
          -162.45745849609375,
          245.73348999023438,
          -65.06851959228516,
          -3.198942184448242,
          -53.06766128540039,
          10.675737380981445,
          137.55665588378906,
          -139.2624969482422,
          -90.13424682617188,
          -161.3312530517578,
          120.29564666748047,
          -119.54651641845703,
          36.0733528137207,
          13.611651420593262,
          -73.53636932373047,
          120.81806945800781,
          -133.6538848876953,
          -63.532814025878906,
          -246.37893676757812,
          -29.96537971496582,
          225.28988647460938,
          -128.22738647460938,
          -15.157657623291016,
          -2.1786577701568604,
          -207.45130920410156,
          92.661865234375,
          67.37088012695312,
          -24.096044540405273,
          51.7632942199707,
          170.1468505859375,
          -226.0529022216797,
          -148.85116577148438,
          94.64078521728516,
          -38.743282318115234,
          -71.76480865478516,
          37.50935745239258,
          -283.8091125488281,
          -21.059236526489258,
          -273.74365234375,
          86.77986907958984,
          -15.202608108520508,
          37.27207565307617,
          -300.16400146484375,
          18.723508834838867,
          131.810791015625,
          35.17215347290039,
          -80.99024200439453,
          50.522674560546875,
          -11.908764839172363,
          9.099292755126953,
          308.6307678222656,
          -140.6392822265625,
          74.71632385253906,
          -9.048044204711914,
          -40.2680778503418,
          193.59848022460938,
          -240.4346923828125,
          -18.819807052612305,
          171.66143798828125,
          197.94239807128906,
          121.05732727050781,
          -57.197654724121094,
          -147.194091796875,
          6.117414951324463,
          -258.1401062011719,
          -263.88543701171875,
          -251.71612548828125,
          117.38471221923828,
          116.97915649414062,
          36.052059173583984,
          -153.9731903076172,
          -209.2373809814453,
          28.958341598510742,
          3.9750282764434814,
          -220.0203399658203,
          -100.98991394042969,
          1.6656708717346191,
          205.20193481445312,
          -72.49584197998047,
          -5.589470863342285,
          -290.1632080078125,
          -165.1950225830078,
          289.88916015625,
          -61.29570770263672,
          257.53363037109375,
          135.0502471923828,
          -300.6381530761719,
          214.24537658691406,
          104.36824798583984,
          -95.37248229980469,
          95.96082305908203,
          -85.74565124511719,
          201.89453125,
          233.83628845214844,
          -81.31864929199219,
          -127.74945831298828,
          155.85174560546875,
          -67.72126770019531,
          138.103271484375,
          1.8675323724746704,
          -78.91020202636719,
          64.89846801757812,
          -95.16738891601562,
          -150.48085021972656,
          77.1585922241211,
          -245.99266052246094,
          -153.69149780273438,
          -250.02926635742188,
          -88.55946350097656,
          18.282697677612305,
          -34.0550422668457,
          305.3269348144531,
          239.73216247558594,
          -117.80955505371094,
          25.184986114501953,
          -20.57772445678711,
          88.47184753417969,
          77.88121032714844,
          -52.795013427734375,
          -331.51165771484375,
          189.07986450195312,
          -305.5182800292969,
          84.58944702148438,
          -168.8745574951172,
          -178.5451202392578,
          -168.15367126464844,
          -0.5380083322525024,
          -131.1896514892578,
          100.6090316772461,
          -71.58269500732422,
          95.49945831298828,
          -207.7095184326172,
          44.494686126708984,
          386.1228332519531,
          108.05955505371094,
          -40.869441986083984,
          -212.09976196289062,
          -27.178476333618164,
          213.68258666992188,
          160.99696350097656,
          -126.84553527832031,
          225.04922485351562,
          59.95637130737305,
          -29.124645233154297,
          -180.30471801757812,
          29.811038970947266,
          177.31655883789062,
          -58.9914436340332,
          129.98397827148438,
          -68.05476379394531,
          -216.65155029296875,
          198.4544677734375,
          -244.18931579589844,
          138.33291625976562,
          32.06501007080078,
          24.158733367919922,
          -241.5868682861328,
          -140.57504272460938,
          -56.525177001953125,
          127.83711242675781,
          -43.75873947143555,
          -43.215702056884766,
          98.5073471069336,
          337.7696838378906,
          -39.95702362060547,
          -113.90452575683594,
          102.84355926513672,
          97.62638854980469,
          123.20661163330078,
          181.65077209472656,
          252.5876007080078,
          372.7091369628906,
          -56.91852569580078,
          89.84532928466797,
          79.6290512084961,
          106.11872100830078,
          118.51679229736328,
          -102.0322494506836,
          102.30294799804688,
          -8.803509712219238,
          -181.85264587402344,
          72.00755310058594,
          256.1568603515625,
          220.75436401367188,
          345.49505615234375,
          232.20880126953125,
          -104.17726135253906,
          274.32196044921875,
          -155.2537384033203,
          56.96591567993164,
          53.673648834228516,
          11.729345321655273,
          -138.1371307373047,
          57.53977584838867,
          192.92337036132812,
          24.801952362060547,
          -153.23606872558594,
          262.227783203125,
          -80.28567504882812,
          -192.6742706298828,
          226.52499389648438,
          207.58721923828125,
          96.77350616455078,
          51.9299430847168,
          -91.12847900390625,
          179.94326782226562,
          142.69044494628906,
          -73.19905090332031,
          -202.3760986328125,
          63.932682037353516,
          -28.596179962158203,
          -67.7880630493164,
          75.55204772949219,
          -146.05535888671875,
          110.57941436767578,
          64.97389221191406,
          -51.24186325073242,
          -73.87542724609375,
          -328.7798767089844,
          62.584537506103516,
          261.55499267578125,
          -197.66616821289062,
          168.762939453125,
          -42.817543029785156,
          303.29931640625,
          194.99948120117188,
          -321.12823486328125,
          -69.78634643554688,
          3.098590850830078,
          226.73606872558594,
          -72.97330474853516,
          241.4231414794922,
          98.71398162841797,
          -141.98968505859375,
          -208.66217041015625,
          -33.513275146484375,
          238.7115020751953,
          19.45172119140625,
          -289.4945983886719,
          -194.47006225585938,
          207.6977081298828,
          -30.039430618286133,
          -179.77230834960938,
          94.47286224365234,
          149.1658172607422,
          213.33041381835938,
          150.0465087890625,
          -189.45709228515625,
          0.6537794470787048,
          -51.264808654785156,
          27.781818389892578,
          -61.22985076904297,
          205.98092651367188,
          11.925830841064453,
          105.47623443603516,
          202.72006225585938,
          259.8551025390625,
          -16.44122314453125,
          -187.01988220214844,
          207.95236206054688,
          -36.66470718383789,
          -112.68948364257812,
          181.17796325683594,
          278.9991455078125,
          117.31778717041016,
          -213.53428649902344,
          203.44947814941406,
          -26.277240753173828,
          166.26837158203125,
          300.1755676269531,
          79.46717834472656,
          -178.6952362060547,
          -143.27908325195312,
          21.227001190185547,
          100.63716888427734,
          -225.9497528076172,
          -61.83366012573242,
          -74.9916000366211,
          -8.214310646057129,
          189.1598358154297,
          -29.9726619720459,
          -16.368715286254883,
          82.23055267333984,
          226.57110595703125,
          316.5179138183594,
          -8.54943561553955,
          -55.13119888305664,
          -103.1764144897461,
          -280.4929504394531,
          262.2750244140625,
          -74.2179946899414,
          60.18525695800781,
          31.452123641967773,
          366.3868408203125,
          -44.293216705322266,
          274.84527587890625,
          305.8965759277344,
          20.904504776000977,
          -14.856532096862793,
          -58.7630500793457,
          -328.4732360839844,
          29.525136947631836,
          -68.26815032958984,
          60.63031005859375,
          55.354774475097656,
          -10.339200973510742,
          4.598598957061768,
          -129.10958862304688,
          389.2381591796875
         ]
        }
       ],
       "layout": {
        "legend": {
         "title": {
          "text": "label_name"
         },
         "tracegroupgap": 0
        },
        "scene": {
         "domain": {
          "x": [
           0,
           1
          ],
          "y": [
           0,
           1
          ]
         },
         "xaxis": {
          "title": {
           "text": "PC1"
          }
         },
         "yaxis": {
          "title": {
           "text": "PC2"
          }
         },
         "zaxis": {
          "title": {
           "text": "PC3"
          }
         }
        },
        "template": {
         "data": {
          "bar": [
           {
            "error_x": {
             "color": "#2a3f5f"
            },
            "error_y": {
             "color": "#2a3f5f"
            },
            "marker": {
             "line": {
              "color": "#E5ECF6",
              "width": 0.5
             }
            },
            "type": "bar"
           }
          ],
          "barpolar": [
           {
            "marker": {
             "line": {
              "color": "#E5ECF6",
              "width": 0.5
             }
            },
            "type": "barpolar"
           }
          ],
          "carpet": [
           {
            "aaxis": {
             "endlinecolor": "#2a3f5f",
             "gridcolor": "white",
             "linecolor": "white",
             "minorgridcolor": "white",
             "startlinecolor": "#2a3f5f"
            },
            "baxis": {
             "endlinecolor": "#2a3f5f",
             "gridcolor": "white",
             "linecolor": "white",
             "minorgridcolor": "white",
             "startlinecolor": "#2a3f5f"
            },
            "type": "carpet"
           }
          ],
          "choropleth": [
           {
            "colorbar": {
             "outlinewidth": 0,
             "ticks": ""
            },
            "type": "choropleth"
           }
          ],
          "contour": [
           {
            "colorbar": {
             "outlinewidth": 0,
             "ticks": ""
            },
            "colorscale": [
             [
              0,
              "#0d0887"
             ],
             [
              0.1111111111111111,
              "#46039f"
             ],
             [
              0.2222222222222222,
              "#7201a8"
             ],
             [
              0.3333333333333333,
              "#9c179e"
             ],
             [
              0.4444444444444444,
              "#bd3786"
             ],
             [
              0.5555555555555556,
              "#d8576b"
             ],
             [
              0.6666666666666666,
              "#ed7953"
             ],
             [
              0.7777777777777778,
              "#fb9f3a"
             ],
             [
              0.8888888888888888,
              "#fdca26"
             ],
             [
              1,
              "#f0f921"
             ]
            ],
            "type": "contour"
           }
          ],
          "contourcarpet": [
           {
            "colorbar": {
             "outlinewidth": 0,
             "ticks": ""
            },
            "type": "contourcarpet"
           }
          ],
          "heatmap": [
           {
            "colorbar": {
             "outlinewidth": 0,
             "ticks": ""
            },
            "colorscale": [
             [
              0,
              "#0d0887"
             ],
             [
              0.1111111111111111,
              "#46039f"
             ],
             [
              0.2222222222222222,
              "#7201a8"
             ],
             [
              0.3333333333333333,
              "#9c179e"
             ],
             [
              0.4444444444444444,
              "#bd3786"
             ],
             [
              0.5555555555555556,
              "#d8576b"
             ],
             [
              0.6666666666666666,
              "#ed7953"
             ],
             [
              0.7777777777777778,
              "#fb9f3a"
             ],
             [
              0.8888888888888888,
              "#fdca26"
             ],
             [
              1,
              "#f0f921"
             ]
            ],
            "type": "heatmap"
           }
          ],
          "heatmapgl": [
           {
            "colorbar": {
             "outlinewidth": 0,
             "ticks": ""
            },
            "colorscale": [
             [
              0,
              "#0d0887"
             ],
             [
              0.1111111111111111,
              "#46039f"
             ],
             [
              0.2222222222222222,
              "#7201a8"
             ],
             [
              0.3333333333333333,
              "#9c179e"
             ],
             [
              0.4444444444444444,
              "#bd3786"
             ],
             [
              0.5555555555555556,
              "#d8576b"
             ],
             [
              0.6666666666666666,
              "#ed7953"
             ],
             [
              0.7777777777777778,
              "#fb9f3a"
             ],
             [
              0.8888888888888888,
              "#fdca26"
             ],
             [
              1,
              "#f0f921"
             ]
            ],
            "type": "heatmapgl"
           }
          ],
          "histogram": [
           {
            "marker": {
             "colorbar": {
              "outlinewidth": 0,
              "ticks": ""
             }
            },
            "type": "histogram"
           }
          ],
          "histogram2d": [
           {
            "colorbar": {
             "outlinewidth": 0,
             "ticks": ""
            },
            "colorscale": [
             [
              0,
              "#0d0887"
             ],
             [
              0.1111111111111111,
              "#46039f"
             ],
             [
              0.2222222222222222,
              "#7201a8"
             ],
             [
              0.3333333333333333,
              "#9c179e"
             ],
             [
              0.4444444444444444,
              "#bd3786"
             ],
             [
              0.5555555555555556,
              "#d8576b"
             ],
             [
              0.6666666666666666,
              "#ed7953"
             ],
             [
              0.7777777777777778,
              "#fb9f3a"
             ],
             [
              0.8888888888888888,
              "#fdca26"
             ],
             [
              1,
              "#f0f921"
             ]
            ],
            "type": "histogram2d"
           }
          ],
          "histogram2dcontour": [
           {
            "colorbar": {
             "outlinewidth": 0,
             "ticks": ""
            },
            "colorscale": [
             [
              0,
              "#0d0887"
             ],
             [
              0.1111111111111111,
              "#46039f"
             ],
             [
              0.2222222222222222,
              "#7201a8"
             ],
             [
              0.3333333333333333,
              "#9c179e"
             ],
             [
              0.4444444444444444,
              "#bd3786"
             ],
             [
              0.5555555555555556,
              "#d8576b"
             ],
             [
              0.6666666666666666,
              "#ed7953"
             ],
             [
              0.7777777777777778,
              "#fb9f3a"
             ],
             [
              0.8888888888888888,
              "#fdca26"
             ],
             [
              1,
              "#f0f921"
             ]
            ],
            "type": "histogram2dcontour"
           }
          ],
          "mesh3d": [
           {
            "colorbar": {
             "outlinewidth": 0,
             "ticks": ""
            },
            "type": "mesh3d"
           }
          ],
          "parcoords": [
           {
            "line": {
             "colorbar": {
              "outlinewidth": 0,
              "ticks": ""
             }
            },
            "type": "parcoords"
           }
          ],
          "pie": [
           {
            "automargin": true,
            "type": "pie"
           }
          ],
          "scatter": [
           {
            "marker": {
             "colorbar": {
              "outlinewidth": 0,
              "ticks": ""
             }
            },
            "type": "scatter"
           }
          ],
          "scatter3d": [
           {
            "line": {
             "colorbar": {
              "outlinewidth": 0,
              "ticks": ""
             }
            },
            "marker": {
             "colorbar": {
              "outlinewidth": 0,
              "ticks": ""
             }
            },
            "type": "scatter3d"
           }
          ],
          "scattercarpet": [
           {
            "marker": {
             "colorbar": {
              "outlinewidth": 0,
              "ticks": ""
             }
            },
            "type": "scattercarpet"
           }
          ],
          "scattergeo": [
           {
            "marker": {
             "colorbar": {
              "outlinewidth": 0,
              "ticks": ""
             }
            },
            "type": "scattergeo"
           }
          ],
          "scattergl": [
           {
            "marker": {
             "colorbar": {
              "outlinewidth": 0,
              "ticks": ""
             }
            },
            "type": "scattergl"
           }
          ],
          "scattermapbox": [
           {
            "marker": {
             "colorbar": {
              "outlinewidth": 0,
              "ticks": ""
             }
            },
            "type": "scattermapbox"
           }
          ],
          "scatterpolar": [
           {
            "marker": {
             "colorbar": {
              "outlinewidth": 0,
              "ticks": ""
             }
            },
            "type": "scatterpolar"
           }
          ],
          "scatterpolargl": [
           {
            "marker": {
             "colorbar": {
              "outlinewidth": 0,
              "ticks": ""
             }
            },
            "type": "scatterpolargl"
           }
          ],
          "scatterternary": [
           {
            "marker": {
             "colorbar": {
              "outlinewidth": 0,
              "ticks": ""
             }
            },
            "type": "scatterternary"
           }
          ],
          "surface": [
           {
            "colorbar": {
             "outlinewidth": 0,
             "ticks": ""
            },
            "colorscale": [
             [
              0,
              "#0d0887"
             ],
             [
              0.1111111111111111,
              "#46039f"
             ],
             [
              0.2222222222222222,
              "#7201a8"
             ],
             [
              0.3333333333333333,
              "#9c179e"
             ],
             [
              0.4444444444444444,
              "#bd3786"
             ],
             [
              0.5555555555555556,
              "#d8576b"
             ],
             [
              0.6666666666666666,
              "#ed7953"
             ],
             [
              0.7777777777777778,
              "#fb9f3a"
             ],
             [
              0.8888888888888888,
              "#fdca26"
             ],
             [
              1,
              "#f0f921"
             ]
            ],
            "type": "surface"
           }
          ],
          "table": [
           {
            "cells": {
             "fill": {
              "color": "#EBF0F8"
             },
             "line": {
              "color": "white"
             }
            },
            "header": {
             "fill": {
              "color": "#C8D4E3"
             },
             "line": {
              "color": "white"
             }
            },
            "type": "table"
           }
          ]
         },
         "layout": {
          "annotationdefaults": {
           "arrowcolor": "#2a3f5f",
           "arrowhead": 0,
           "arrowwidth": 1
          },
          "coloraxis": {
           "colorbar": {
            "outlinewidth": 0,
            "ticks": ""
           }
          },
          "colorscale": {
           "diverging": [
            [
             0,
             "#8e0152"
            ],
            [
             0.1,
             "#c51b7d"
            ],
            [
             0.2,
             "#de77ae"
            ],
            [
             0.3,
             "#f1b6da"
            ],
            [
             0.4,
             "#fde0ef"
            ],
            [
             0.5,
             "#f7f7f7"
            ],
            [
             0.6,
             "#e6f5d0"
            ],
            [
             0.7,
             "#b8e186"
            ],
            [
             0.8,
             "#7fbc41"
            ],
            [
             0.9,
             "#4d9221"
            ],
            [
             1,
             "#276419"
            ]
           ],
           "sequential": [
            [
             0,
             "#0d0887"
            ],
            [
             0.1111111111111111,
             "#46039f"
            ],
            [
             0.2222222222222222,
             "#7201a8"
            ],
            [
             0.3333333333333333,
             "#9c179e"
            ],
            [
             0.4444444444444444,
             "#bd3786"
            ],
            [
             0.5555555555555556,
             "#d8576b"
            ],
            [
             0.6666666666666666,
             "#ed7953"
            ],
            [
             0.7777777777777778,
             "#fb9f3a"
            ],
            [
             0.8888888888888888,
             "#fdca26"
            ],
            [
             1,
             "#f0f921"
            ]
           ],
           "sequentialminus": [
            [
             0,
             "#0d0887"
            ],
            [
             0.1111111111111111,
             "#46039f"
            ],
            [
             0.2222222222222222,
             "#7201a8"
            ],
            [
             0.3333333333333333,
             "#9c179e"
            ],
            [
             0.4444444444444444,
             "#bd3786"
            ],
            [
             0.5555555555555556,
             "#d8576b"
            ],
            [
             0.6666666666666666,
             "#ed7953"
            ],
            [
             0.7777777777777778,
             "#fb9f3a"
            ],
            [
             0.8888888888888888,
             "#fdca26"
            ],
            [
             1,
             "#f0f921"
            ]
           ]
          },
          "colorway": [
           "#636efa",
           "#EF553B",
           "#00cc96",
           "#ab63fa",
           "#FFA15A",
           "#19d3f3",
           "#FF6692",
           "#B6E880",
           "#FF97FF",
           "#FECB52"
          ],
          "font": {
           "color": "#2a3f5f"
          },
          "geo": {
           "bgcolor": "white",
           "lakecolor": "white",
           "landcolor": "#E5ECF6",
           "showlakes": true,
           "showland": true,
           "subunitcolor": "white"
          },
          "hoverlabel": {
           "align": "left"
          },
          "hovermode": "closest",
          "mapbox": {
           "style": "light"
          },
          "paper_bgcolor": "white",
          "plot_bgcolor": "#E5ECF6",
          "polar": {
           "angularaxis": {
            "gridcolor": "white",
            "linecolor": "white",
            "ticks": ""
           },
           "bgcolor": "#E5ECF6",
           "radialaxis": {
            "gridcolor": "white",
            "linecolor": "white",
            "ticks": ""
           }
          },
          "scene": {
           "xaxis": {
            "backgroundcolor": "#E5ECF6",
            "gridcolor": "white",
            "gridwidth": 2,
            "linecolor": "white",
            "showbackground": true,
            "ticks": "",
            "zerolinecolor": "white"
           },
           "yaxis": {
            "backgroundcolor": "#E5ECF6",
            "gridcolor": "white",
            "gridwidth": 2,
            "linecolor": "white",
            "showbackground": true,
            "ticks": "",
            "zerolinecolor": "white"
           },
           "zaxis": {
            "backgroundcolor": "#E5ECF6",
            "gridcolor": "white",
            "gridwidth": 2,
            "linecolor": "white",
            "showbackground": true,
            "ticks": "",
            "zerolinecolor": "white"
           }
          },
          "shapedefaults": {
           "line": {
            "color": "#2a3f5f"
           }
          },
          "ternary": {
           "aaxis": {
            "gridcolor": "white",
            "linecolor": "white",
            "ticks": ""
           },
           "baxis": {
            "gridcolor": "white",
            "linecolor": "white",
            "ticks": ""
           },
           "bgcolor": "#E5ECF6",
           "caxis": {
            "gridcolor": "white",
            "linecolor": "white",
            "ticks": ""
           }
          },
          "title": {
           "x": 0.05
          },
          "xaxis": {
           "automargin": true,
           "gridcolor": "white",
           "linecolor": "white",
           "ticks": "",
           "title": {
            "standoff": 15
           },
           "zerolinecolor": "white",
           "zerolinewidth": 2
          },
          "yaxis": {
           "automargin": true,
           "gridcolor": "white",
           "linecolor": "white",
           "ticks": "",
           "title": {
            "standoff": 15
           },
           "zerolinecolor": "white",
           "zerolinewidth": 2
          }
         }
        },
        "title": {
         "text": "t-SNE decomposition"
        }
       }
      },
      "text/html": [
       "<div>\n",
       "        \n",
       "        \n",
       "            <div id=\"47b0ea2e-2f4f-412a-93be-c21bd107db63\" class=\"plotly-graph-div\" style=\"height:525px; width:100%;\"></div>\n",
       "            <script type=\"text/javascript\">\n",
       "                require([\"plotly\"], function(Plotly) {\n",
       "                    window.PLOTLYENV=window.PLOTLYENV || {};\n",
       "                    \n",
       "                if (document.getElementById(\"47b0ea2e-2f4f-412a-93be-c21bd107db63\")) {\n",
       "                    Plotly.newPlot(\n",
       "                        '47b0ea2e-2f4f-412a-93be-c21bd107db63',\n",
       "                        [{\"hovertemplate\": \"label_name=Data Analyst<br>PC1=%{x}<br>PC2=%{y}<br>PC3=%{z}<extra></extra>\", \"legendgroup\": \"Data Analyst\", \"marker\": {\"color\": \"#636efa\", \"symbol\": \"circle\"}, \"mode\": \"markers\", \"name\": \"Data Analyst\", \"scene\": \"scene\", \"showlegend\": true, \"type\": \"scatter3d\", \"x\": [11.420391082763672, -136.79966735839844, 268.84136962890625, -274.35296630859375, 133.63119506835938, 67.91653442382812, -225.03176879882812, -199.44400024414062, -155.32481384277344, -239.11807250976562, 42.71538543701172, 193.26829528808594, -211.81161499023438, -193.97021484375, 18.762107849121094, -268.1074523925781, -230.64730834960938, 181.06797790527344, -96.63848114013672, 62.715328216552734, 319.5650634765625, -96.33270263671875, 95.97354125976562, -237.90087890625, 343.92425537109375, -245.1768035888672, 19.249425888061523, 239.58721923828125, -231.55796813964844, 81.96060943603516, 280.8445739746094, 59.130226135253906, 332.90966796875, -297.9033508300781, 381.2269287109375, 66.56512451171875, -90.6482925415039, 44.88882827758789, -148.9535675048828, -197.17759704589844, -60.48788833618164, -116.73363494873047, 111.75350952148438, -148.49838256835938, 65.54669189453125, -61.98762512207031, -43.276676177978516, 82.82740020751953, -164.9471435546875, 59.57796096801758, 22.719228744506836, 228.485595703125, 100.309814453125, 340.5386047363281, -266.02496337890625, 66.4564437866211, -175.16604614257812, -54.25673294067383, 131.4300994873047, 162.59486389160156, -260.6164855957031, 58.47718048095703, -367.3283996582031, -235.89053344726562, -186.91946411132812, -231.35743713378906, -234.14476013183594, -83.85172271728516, -76.6396484375, -64.36414337158203, -138.97181701660156, -114.70830535888672, -336.6119689941406, 210.197021484375, -280.9317321777344, -129.2014923095703, -73.21736907958984, 112.75300598144531, 81.30233001708984, 161.12921142578125, -283.44720458984375, -89.24888610839844, -248.0483856201172, -113.02664947509766, 449.7249755859375, 158.69931030273438, -337.27496337890625, -81.19711303710938, 35.68098449707031, 422.3861999511719, -240.3097686767578, -18.68138313293457, -179.89903259277344, -237.13809204101562, -1.8120530843734741, -113.49600982666016, -251.325439453125, -203.9741973876953, -56.654109954833984, -23.638769149780273, -266.70538330078125, -79.75590515136719, -263.67352294921875, 123.39679718017578, -144.87168884277344, -281.9901428222656, 94.89273834228516, -253.9153289794922, -297.510009765625, -395.92431640625, -108.10623931884766, -284.9651184082031, -203.7766876220703, -166.38780212402344, -139.66371154785156, -25.01678466796875, 33.25933074951172, -194.73277282714844, 12.101157188415527, 36.894168853759766, -36.88032150268555, -203.3313751220703, 94.22673797607422, 111.49967956542969, -244.17926025390625, -46.59890365600586, -173.61068725585938, 114.79998779296875, 104.49739074707031, -246.4371795654297, -155.81761169433594, -337.1914978027344, 80.20433044433594, -78.36274719238281, 71.671875, -183.57762145996094, 332.29449462890625, -78.37274932861328, 17.053773880004883, 169.47193908691406, -208.00938415527344, -311.06634521484375, 26.964269638061523, 3.894109010696411, 167.8190155029297, 132.8411407470703, 151.83509826660156, 21.442527770996094, 43.63216018676758, -152.93038940429688, 291.5723571777344, -370.7305908203125, -215.29359436035156, -330.8512878417969, -208.39207458496094, 437.93060302734375, 46.114776611328125, -45.50259780883789, -288.43511962890625, 370.05517578125, 39.27188491821289, 23.893423080444336, 110.79409790039062, -339.5097961425781, 29.35267448425293, -199.4685821533203, -137.92446899414062, 87.34927368164062, 387.8525695800781, -186.98202514648438, 96.14739990234375, 378.8566589355469, 187.5204315185547, -97.48171997070312, 377.1513671875, -244.45553588867188, -121.1456527709961], \"y\": [132.539306640625, 63.88780975341797, 111.75592041015625, -17.171829223632812, 174.69192504882812, 31.669706344604492, -7.705874919891357, -50.53956604003906, 358.7189025878906, 249.61924743652344, 43.84099578857422, 72.20347595214844, -187.6328582763672, -118.8271713256836, 268.9530944824219, -42.62778854370117, -29.127775192260742, 120.53942108154297, 39.643367767333984, -218.2088623046875, -126.6886978149414, -173.22198486328125, 173.13560485839844, -300.3087463378906, 155.17433166503906, -157.7294464111328, 265.1486511230469, 210.96156311035156, 55.60716247558594, 37.27706527709961, 88.62557983398438, 129.9381103515625, 37.77193832397461, -202.440673828125, 90.22112274169922, 197.8596649169922, -220.5833282470703, -191.8289337158203, 138.38973999023438, 85.15946197509766, -112.9288330078125, -34.269264221191406, 124.74750518798828, 312.7969970703125, 130.4069061279297, 152.56153869628906, -171.7489013671875, -177.80801391601562, -310.4232482910156, -259.9043273925781, -277.0781555175781, 180.47280883789062, 222.9822998046875, -113.43866729736328, -117.55589294433594, 75.40401458740234, 21.4137020111084, -56.973819732666016, 14.88599967956543, -363.2586364746094, -190.94859313964844, -278.8055725097656, -30.66071128845215, -128.51817321777344, 343.38311767578125, -106.45423889160156, 102.34849548339844, -184.4378662109375, -59.76092529296875, -121.6814956665039, -78.80955505371094, -131.900634765625, -171.0518798828125, 30.6038761138916, 220.2567596435547, -194.1884002685547, -116.87753295898438, 75.43062591552734, 82.89149475097656, 39.42805480957031, 17.139781951904297, -217.2097625732422, -201.1871337890625, 89.01420593261719, 89.11678314208984, -269.7790832519531, -102.48179626464844, 72.41358947753906, 92.97079467773438, 37.59563446044922, 16.641454696655273, 274.4271545410156, 309.8297424316406, -106.12727355957031, 195.53897094726562, -7.106744766235352, -85.08599853515625, -193.95228576660156, 194.5313262939453, 153.22483825683594, 147.4484100341797, 243.10118103027344, -1.3469524383544922, 64.68131256103516, 38.29701614379883, -129.46929931640625, 216.72911071777344, -247.66188049316406, -128.011474609375, -60.28966522216797, -88.31790924072266, 163.79869079589844, 66.28181457519531, -56.82003402709961, 111.74022674560547, 122.71383666992188, 178.0258026123047, -287.09796142578125, -197.7476043701172, -154.53553771972656, 130.0774383544922, -336.96533203125, -15.344523429870605, -118.6043701171875, -48.867103576660156, 6.336587905883789, 117.02786254882812, -316.5872802734375, -152.94644165039062, 73.13278198242188, -4.59735107421875, -81.22003173828125, 184.31932067871094, 52.92086410522461, 156.49771118164062, -67.31342315673828, 91.97478485107422, 13.892061233520508, 167.2549285888672, 91.29207611083984, -14.653277397155762, -124.61817169189453, 42.52596664428711, 81.97077941894531, 48.76560592651367, 63.52214431762695, 46.15896987915039, -253.22882080078125, -183.71453857421875, -141.8527069091797, 91.48212432861328, -33.92634201049805, -115.1333236694336, -219.9619598388672, -324.84771728515625, 144.05384826660156, 264.2065124511719, -61.649967193603516, -164.98324584960938, 34.3002815246582, -18.654577255249023, -97.0220947265625, 152.84059143066406, -152.4649200439453, 67.28182983398438, -274.252197265625, 94.05248260498047, -318.8404541015625, 56.54301452636719, 115.59203338623047, 48.309242248535156, 35.24109649658203, -2.7151427268981934, -101.5006103515625, 128.84274291992188, 176.73939514160156, -138.24087524414062], \"z\": [-121.57566833496094, -237.2456817626953, 89.14811706542969, -313.4721984863281, -241.00473022460938, 34.13113021850586, -219.06698608398438, -236.89906311035156, -41.38236999511719, 24.89581298828125, -100.28578186035156, -138.30224609375, -141.72244262695312, -274.0671081542969, 67.30802917480469, -196.8372344970703, -334.2187805175781, 44.5145263671875, -153.5162353515625, 98.41252136230469, 217.69741821289062, -143.29959106445312, -248.47984313964844, -114.99764251708984, -173.3292999267578, -97.52876281738281, 22.943220138549805, -97.72676849365234, -251.22882080078125, -157.9708251953125, 116.94965362548828, -106.27715301513672, -122.94041442871094, -92.29936981201172, -44.556278228759766, 73.27825927734375, -130.2932586669922, 146.40611267089844, -257.9239501953125, -63.66006088256836, 21.82036018371582, -121.15979766845703, -91.38833618164062, -15.102147102355957, -183.30099487304688, -170.87301635742188, 40.09595489501953, 108.45684051513672, -105.70071411132812, 16.129161834716797, 28.682844161987305, -120.19551086425781, 280.2015075683594, 188.478759765625, -75.6400375366211, -119.16161346435547, -166.08522033691406, -193.1706085205078, -333.8276062011719, 103.39527893066406, -156.41592407226562, 146.63255310058594, -117.99003601074219, -143.4728240966797, -11.157066345214844, -233.5410919189453, -91.96099090576172, -96.47111511230469, 25.38784408569336, -117.73145294189453, -78.63589477539062, -217.6918182373047, -114.56649017333984, -310.0272521972656, -19.25548553466797, -112.41893768310547, -211.6484375, 9.753764152526855, -48.73551940917969, -356.3485107421875, 34.62627029418945, -324.35888671875, 224.42074584960938, -96.78468322753906, -55.8171272277832, -15.503092765808105, -230.54922485351562, -85.84255981445312, 280.6161804199219, -21.852556228637695, -319.76092529296875, 44.53752136230469, -46.68092727661133, -299.07879638671875, -128.44027709960938, -235.92037963867188, -115.95109558105469, -199.73092651367188, 9.174996376037598, -178.5003204345703, -41.78020477294922, -88.77725982666016, -245.8301544189453, -324.77374267578125, -281.05810546875, -124.45375061035156, -81.60139465332031, -9.660140037536621, -211.30023193359375, -99.79995727539062, -212.39320373535156, -79.1504135131836, -210.7274169921875, -142.4634552001953, -334.8887634277344, -27.9173583984375, 92.9373779296875, -142.6082763671875, 101.7997055053711, 102.10407257080078, -128.78070068359375, -128.99928283691406, -7.218567371368408, -217.75587463378906, -262.74786376953125, -91.68741607666016, -278.31884765625, 39.63243865966797, -231.34457397460938, -124.7033920288086, 124.32373809814453, -91.14454650878906, -146.2942657470703, -278.4835205078125, 89.60549926757812, -295.0336608886719, -160.24278259277344, -172.56082153320312, -62.895938873291016, -326.970458984375, -271.4120178222656, -265.8753356933594, -16.247180938720703, -54.9046516418457, 75.34474182128906, 87.27457427978516, -293.88494873046875, 135.25291442871094, 60.628116607666016, -145.76736450195312, -110.38275909423828, -73.3306884765625, -95.23209381103516, -126.68173217773438, -76.75129699707031, -92.30342102050781, 281.0908508300781, -117.74283599853516, -241.78057861328125, -9.34762191772461, -71.46406555175781, 35.57845687866211, 24.635095596313477, -233.739990234375, -214.4959259033203, -91.50770568847656, -195.4354705810547, 65.74873352050781, -144.1002960205078, -163.1100311279297, -53.1455192565918, -79.97158813476562, -302.721435546875, -129.4194793701172, -129.43316650390625, -66.6680679321289, -84.65868377685547]}, {\"hovertemplate\": \"label_name=Data Scientist<br>PC1=%{x}<br>PC2=%{y}<br>PC3=%{z}<extra></extra>\", \"legendgroup\": \"Data Scientist\", \"marker\": {\"color\": \"#EF553B\", \"symbol\": \"circle\"}, \"mode\": \"markers\", \"name\": \"Data Scientist\", \"scene\": \"scene\", \"showlegend\": true, \"type\": \"scatter3d\", \"x\": [107.87336730957031, -368.9361572265625, -62.576351165771484, -3.8954102993011475, 68.9648208618164, 87.05467987060547, 18.646148681640625, 137.20896911621094, 39.51087188720703, -30.610889434814453, 104.82819366455078, -185.13792419433594, -33.68839645385742, 51.79206085205078, -9.936887741088867, 199.1699676513672, 70.19187927246094, -25.74658966064453, 17.01848793029785, -82.15152740478516, -87.81649017333984, -192.05142211914062, 45.52362060546875, 72.94530487060547, -160.8453826904297, 122.05477142333984, 63.67689895629883, -108.63812255859375, -137.766845703125, -161.08985900878906, -255.90753173828125, -13.132865905761719, 1.0439943075180054, 61.55345916748047, -173.81898498535156, -129.52157592773438, -34.51924133300781, -138.30006408691406, -117.59468078613281, -15.708935737609863, 405.89849853515625, -146.9558563232422, 113.52104949951172, 0.35904255509376526, 159.69407653808594, -200.2864990234375, -100.46084594726562, 128.4474334716797, 98.60089111328125, -190.6824188232422, 47.99020767211914, 324.0301818847656, -45.26349639892578, -36.84794998168945, 32.27772903442383, 114.89005279541016, 128.9386444091797, -278.55462646484375, -279.3302001953125, 26.6538143157959, -24.09229850769043, 268.4024353027344, -288.86309814453125, -105.95701599121094, 139.76885986328125, -78.92656707763672, 60.712345123291016, 26.743267059326172, 164.6926727294922, -12.84417724609375, -169.77651977539062, -89.2125473022461, 124.7767105102539, -14.955127716064453, 155.7812042236328, 20.762035369873047, -47.63422393798828, -170.53494262695312, -57.347652435302734, -208.7056121826172, 180.34201049804688, -5.606643199920654, -20.070711135864258, 98.67374420166016, -24.918365478515625, 105.49137115478516, -259.2473449707031, 6.9995012283325195, -291.9052734375, 349.74517822265625, 206.8439483642578, 117.84719848632812, -157.67019653320312, 201.206298828125, -0.13773155212402344, -38.63214111328125, 54.204769134521484, -16.965368270874023, 318.97442626953125, -178.12037658691406, 30.642906188964844, -99.49272155761719, -163.85494995117188, 3.3303122520446777, 10.722464561462402, -177.87637329101562, -25.75054931640625, -243.1041717529297, -239.63290405273438, -196.5994873046875, -12.42352294921875, -327.5380554199219, -81.64789581298828, 364.35577392578125, 6.982454299926758, 317.55084228515625, 58.14870834350586, -257.833984375, -130.47943115234375, -221.39930725097656, -2.7417898178100586, 39.4388542175293, 30.904693603515625, 72.2852554321289, 162.14547729492188, -5.220616340637207, -45.612152099609375, -351.447509765625, 52.437015533447266], \"y\": [-165.8286590576172, 62.64548110961914, -263.2925720214844, 20.62835693359375, 121.08568572998047, 147.8860626220703, 89.65290069580078, 207.78660583496094, 201.5663604736328, -256.79608154296875, 83.86647033691406, 153.7438507080078, -31.734779357910156, -145.53248596191406, 51.850521087646484, -302.13629150390625, 97.41288757324219, 132.80712890625, -156.22206115722656, 75.85372924804688, 174.3576202392578, -172.03076171875, -78.4171142578125, -111.5584716796875, -112.70921325683594, -35.47993469238281, 191.3867645263672, -251.48910522460938, 125.74983978271484, 94.58464050292969, 291.7159729003906, 106.58185577392578, -179.9850311279297, -210.46385192871094, -306.4835205078125, 277.2330017089844, 169.50128173828125, -276.6858215332031, 11.221463203430176, -57.21133804321289, 92.05305480957031, -150.71502685546875, -17.206632614135742, 53.411041259765625, -155.02980041503906, 203.98374938964844, -218.975830078125, 184.56222534179688, -79.94353485107422, -123.5042724609375, -84.11432647705078, 60.07607650756836, 217.637939453125, 252.64772033691406, -140.7721710205078, -116.66703796386719, -121.87810516357422, -3.6250195503234863, 36.57871627807617, 237.2144317626953, -21.38058853149414, -256.8077392578125, 29.542081832885742, 104.07356262207031, -199.2795867919922, 315.5563049316406, -91.7587890625, 253.77606201171875, 99.36705017089844, 258.1177978515625, -162.8587646484375, 104.6376724243164, 96.50222778320312, -144.8583984375, -13.742627143859863, -180.69190979003906, -220.18374633789062, 44.77962112426758, 183.82424926757812, -138.5745391845703, 134.78575134277344, -154.92259216308594, -192.33267211914062, -303.2594299316406, 108.42599487304688, -164.84828186035156, 13.555279731750488, -159.00697326660156, 266.0462646484375, 91.04917907714844, 123.1261215209961, 4.335976600646973, 236.75027465820312, 90.57960510253906, 151.32484436035156, 39.78712844848633, -244.7250213623047, 250.1912841796875, 124.06504821777344, 278.7776184082031, -192.79647827148438, -12.751901626586914, 268.47607421875, 221.0664520263672, 214.7834014892578, 21.80939292907715, -9.826557159423828, 92.32840728759766, 181.12603759765625, 168.17369079589844, 179.0006561279297, -171.5930633544922, -224.28640747070312, 155.7469940185547, 206.81785583496094, 147.05050659179688, 0.5800284743309021, 254.0897674560547, -311.3099670410156, 203.49322509765625, 18.53484344482422, -35.540382385253906, -338.6634216308594, 202.19329833984375, -157.91720581054688, -340.4693908691406, 201.2012176513672, -213.1499786376953, -128.55337524414062], \"z\": [348.39605712890625, 4.416453838348389, 174.88978576660156, 38.358360290527344, 172.52752685546875, 236.2820281982422, -184.39247131347656, 240.07330322265625, -5.737196922302246, 276.9010009765625, 231.20907592773438, 156.55227661132812, 62.623069763183594, -164.80267333984375, -151.28793334960938, -96.63041687011719, 52.89795684814453, 107.68252563476562, -174.4536590576172, 149.03562927246094, 84.57242584228516, 348.8542175292969, 141.13052368164062, -366.72943115234375, 324.2436218261719, 147.0581817626953, 261.43994140625, -22.845537185668945, -6.128642559051514, 84.23092651367188, 148.74215698242188, -259.77911376953125, 334.36724853515625, 250.607666015625, 219.1310577392578, 87.02983856201172, -302.8731994628906, 231.99659729003906, -54.123817443847656, 106.77760314941406, -95.5162124633789, 352.8558044433594, 60.97078323364258, 233.0686798095703, 289.29864501953125, 19.472293853759766, -225.55091857910156, 284.3797912597656, -370.16253662109375, 361.9684143066406, 325.2823791503906, -57.14444351196289, 292.6831970214844, 247.81051635742188, -49.71159744262695, -345.9800720214844, 323.6791687011719, -67.68059539794922, -180.10728454589844, 152.46768188476562, -389.3377685546875, -147.9232177734375, -46.77227783203125, -8.640252113342285, 315.3723449707031, -83.40023040771484, -103.18887329101562, 199.3347930908203, 163.62940979003906, 294.5104675292969, 297.9403076171875, 36.819236755371094, 261.04632568359375, -67.40301513671875, 151.8057861328125, -79.59913635253906, 260.71875, 148.31944274902344, 106.00238037109375, 305.9358215332031, 193.99282836914062, -18.71645164489746, -48.47903823852539, -222.81207275390625, 177.19480895996094, 296.23138427734375, -157.18321228027344, 162.10757446289062, 146.8017578125, -99.0713119506836, 156.8668670654297, 170.5686492919922, 94.01278686523438, 192.70761108398438, 31.81659507751465, 138.27073669433594, 269.9476318359375, 177.14813232421875, -57.57850646972656, 101.47731018066406, -29.175657272338867, 84.69202423095703, 56.00980758666992, 254.0070037841797, 311.65594482421875, -120.47898864746094, -11.57011604309082, 154.23370361328125, 28.04945182800293, 52.855979919433594, 281.4563293457031, -64.1243896484375, 174.44638061523438, -13.153166770935059, 184.87364196777344, -116.03337097167969, 111.15824127197266, 172.0992889404297, 199.12789916992188, 68.108642578125, 111.07488250732422, 73.64875793457031, 223.59912109375, 212.20787048339844, 343.1955261230469, 213.28855895996094, 237.32757568359375, -80.63871002197266, 279.0713806152344]}, {\"hovertemplate\": \"label_name=Data Engineer<br>PC1=%{x}<br>PC2=%{y}<br>PC3=%{z}<extra></extra>\", \"legendgroup\": \"Data Engineer\", \"marker\": {\"color\": \"#00cc96\", \"symbol\": \"circle\"}, \"mode\": \"markers\", \"name\": \"Data Engineer\", \"scene\": \"scene\", \"showlegend\": true, \"type\": \"scatter3d\", \"x\": [162.55662536621094, -293.9707946777344, -159.244140625, -195.29360961914062, -339.7169189453125, 216.5149688720703, -119.51449584960938, -108.80374908447266, 130.3547821044922, 205.99392700195312, -71.65518951416016, -306.41796875, 194.0385284423828, -198.03236389160156, -12.907539367675781, 149.03317260742188, 68.74958038330078, -69.73907470703125, 193.026123046875, -183.99462890625, -226.54861450195312, 341.36602783203125, 5.707612991333008, -75.13728332519531, 208.90220642089844, -333.01214599609375, -114.92318725585938, 201.30177307128906, 283.2477111816406, -269.5209655761719, 252.01498413085938, -112.03860473632812, 10.972675323486328, -228.8314208984375, -305.6213073730469, -391.259033203125, -107.72428131103516, 351.25433349609375, -165.0553436279297, 382.4798889160156, 272.4428405761719, 26.30036163330078, 12.366609573364258, -304.0773620605469, 204.83213806152344, -266.5075378417969, 290.19427490234375, -69.95571899414062, 55.63331604003906, 9.259798049926758, 64.0745620727539, -137.0284881591797, -195.0093536376953, 5.617794513702393, 302.5256042480469, 259.4273986816406, 423.22637939453125, -82.210205078125, -101.82085418701172, 111.76747131347656, 66.23237609863281, 55.365211486816406, -342.15771484375, 341.7274169921875, -136.6058807373047, 163.9359588623047, 336.689208984375, -356.790283203125, 247.63063049316406, -101.87995147705078, -107.30291748046875, 312.51568603515625, 17.86086654663086, -288.8614501953125, 364.6628723144531, 74.82112884521484, 406.0420227050781, -167.63238525390625, 263.64984130859375, 79.4309310913086, 333.99761962890625, -50.37628173828125, -157.34335327148438, 76.28667449951172, 135.64805603027344, 192.1656036376953, -219.5443572998047, 167.27764892578125, -84.13330841064453, 32.3214225769043, 239.4629669189453, -237.15472412109375, 239.369873046875, 198.00234985351562, 36.85667419433594, -111.86601257324219, 79.52892303466797, 219.47169494628906, -210.97706604003906, -44.34379577636719, -208.6956024169922, 308.4245910644531, -64.26537322998047, -15.918903350830078, -323.2823486328125, -80.30348205566406, -218.97174072265625, -197.66845703125, -142.6645050048828, 253.2509765625, 217.2567138671875, 346.4411926269531, 266.61749267578125, 162.52899169921875, 124.35828399658203, 293.8860168457031, -103.29419708251953, -5.951339244842529, -82.39532470703125, 5.832874774932861, -356.0289306640625, -125.39147186279297, -28.81894302368164, 138.9748992919922, 183.13832092285156, 417.9188232421875, 158.1979522705078, 17.90964126586914, 44.33763885498047, -205.4086151123047, 224.5137481689453, -56.237850189208984, 151.12677001953125, 27.677854537963867, 205.03330993652344, 244.8101806640625, 193.50048828125, -230.669189453125, 8.835867881774902, 296.84613037109375, 195.00387573242188, 212.8870391845703, 113.45747375488281, 50.05931091308594, 230.86032104492188, 186.84463500976562, 224.69598388671875, 13.41981029510498, -64.01836395263672, 22.384241104125977, -86.12737274169922, 22.927352905273438, 72.6682357788086, -231.08889770507812, -29.6112117767334, -44.1270866394043, -73.63507843017578, -156.97372436523438, -71.90776062011719, -52.78059005737305, -59.13139343261719, -108.9120101928711, 183.7383270263672, 164.84161376953125, -267.027099609375, -57.587982177734375, 86.07383728027344, 107.30738830566406, -31.7602596282959, 96.49806213378906, 333.0707092285156, 236.72962951660156, -94.34317016601562, 237.46908569335938, -54.8265266418457, 255.9936981201172, 52.25550079345703, 248.54698181152344, -137.53451538085938, -192.3258056640625, -109.53168487548828, -6.524474143981934, 60.04988098144531, -193.5813751220703, 13.772711753845215, -106.46925354003906, 255.13088989257812, 143.35948181152344, 99.37960815429688, 124.85567474365234, 155.03477478027344, 179.6542205810547, 151.3595733642578, -20.041946411132812, 121.54773712158203, -299.7333984375, 1.3962290287017822, 227.5222625732422, 142.17909240722656, 107.21347045898438, -75.74961853027344, -130.7895965576172, 189.71768188476562, -239.06210327148438, -239.55807495117188, -214.79627990722656, 217.45962524414062, 24.942007064819336, 249.02525329589844, -158.0229034423828, 149.59414672851562, -201.34800720214844, 242.01087951660156, 114.6900405883789, 133.62794494628906, -1.4699375629425049, -289.7173767089844, -165.12689208984375, -145.02029418945312, 201.33607482910156, 442.9605407714844, 272.0323486328125, -229.52061462402344, -185.62721252441406, -223.6540069580078, 149.79124450683594, -42.616966247558594, 165.9581298828125, 89.7968521118164, 272.816162109375, -344.8692626953125, -29.641586303710938, -271.74505615234375, -152.60302734375, -47.61539077758789, 141.70248413085938, 379.47943115234375, -233.91229248046875, -260.8467712402344, -302.6783752441406, -38.50368118286133, -85.2319107055664, 49.361724853515625, 392.569580078125, 202.90333557128906, -332.74053955078125, -202.3291473388672, -12.981804847717285, -167.84913635253906, 185.5067138671875, 195.15170288085938, 165.6283721923828, 113.578857421875, 208.63943481445312, 238.48143005371094, 125.30526733398438, -174.91201782226562, 232.15570068359375, -257.4370422363281, 212.16773986816406, -140.256591796875, 135.1203155517578, -39.72770309448242, -20.843830108642578, -338.96649169921875, -246.48052978515625, 143.0248260498047, 180.04934692382812, -5.100543975830078, 212.57232666015625, 320.0837097167969, -60.71701431274414, 8.468585968017578, 155.1218719482422, 403.2768859863281, -176.13845825195312, 159.7918701171875, -147.95120239257812, 135.04061889648438, 364.0091857910156, 375.1575622558594, -200.02462768554688, 0.13799721002578735, -160.9726104736328, 182.82717895507812, -105.85826110839844, -19.29377555847168, -65.10411071777344, -159.66722106933594, -148.8047637939453, 102.00804138183594, 223.93820190429688, -351.6552734375, 112.87495422363281, 64.44728088378906, -192.27139282226562, 285.84722900390625, -20.323955535888672, 12.675618171691895, -48.59415817260742, -347.2511901855469, -97.91975402832031, -35.391448974609375, -266.3634948730469, -139.47018432617188, 119.72958374023438, -302.2306213378906, 319.1103820800781, -143.38409423828125, -267.8978271484375, 222.3448486328125, -113.90882873535156, 179.10159301757812, 268.85577392578125, 124.6915512084961, 215.94696044921875, 338.7271728515625, 28.30592155456543, -90.66121673583984, 149.64906311035156, 125.35865020751953, 298.09564208984375, -215.0144500732422, -85.1257553100586, 240.18617248535156, 118.26797485351562, 85.34765625, 133.18580627441406, -80.33026123046875, 67.27227020263672, 262.6942443847656, -27.618379592895508, -207.52639770507812, 217.70654296875, 146.6745147705078, -20.189393997192383, -8.081825256347656, 287.3238830566406, -32.43917465209961, 79.86986541748047, 26.908395767211914, 60.768192291259766, 147.64129638671875, 163.80413818359375, 84.82678985595703, -224.85693359375, -143.55906677246094, 92.59298706054688, 294.358642578125, 80.47941589355469, 436.96124267578125, 58.614723205566406, 119.8022689819336, 129.82440185546875, 258.5940246582031, 134.13336181640625, -69.12532043457031, 123.4250717163086, -226.98834228515625, -114.85037994384766, 201.1774139404297, 131.74554443359375, 217.14508056640625, 15.254396438598633, -156.77761840820312, -8.360706329345703, -72.58152770996094, -65.69537353515625, -74.31131744384766, 165.41734313964844, 198.1642303466797, -27.158897399902344], \"y\": [-70.47819519042969, -82.64807891845703, -272.32171630859375, -60.00514221191406, 166.2896270751953, 6.391078472137451, -355.6368103027344, -133.63397216796875, -204.2848358154297, 187.57376098632812, 186.99636840820312, -161.9276580810547, 60.125022888183594, 238.050048828125, -226.32492065429688, -260.4173278808594, 285.8209228515625, -71.86322021484375, -97.76716613769531, 214.4508819580078, -120.8327407836914, 0.32326382398605347, -19.0981502532959, -248.23963928222656, -189.3854217529297, 132.47344970703125, -154.05760192871094, 258.3607177734375, -163.21177673339844, 2.981476306915283, 249.52149963378906, -55.22870635986328, 309.9944152832031, -86.18380737304688, 154.53311157226562, -36.034080505371094, 210.7307891845703, 17.091552734375, -91.1953125, -77.13973236083984, -248.88906860351562, 42.01481246948242, 255.4070587158203, -110.86215209960938, -127.87895202636719, -162.3547821044922, -24.857330322265625, 231.33416748046875, 394.9112548828125, -63.107757568359375, 82.9566879272461, -230.25462341308594, -131.02960205078125, -64.34341430664062, -112.6598892211914, 9.290693283081055, 141.98472595214844, -328.2998352050781, -137.21188354492188, 297.2729187011719, 323.28460693359375, -48.24647903442383, 103.9802474975586, -119.9986343383789, 150.34738159179688, 193.0101318359375, 98.9913558959961, 86.94739532470703, -101.00680541992188, -61.55891418457031, 257.64825439453125, -171.93963623046875, -25.014162063598633, -106.58393096923828, 191.33604431152344, 291.0993347167969, 96.60595703125, 206.46376037597656, 45.241844177246094, -329.1244812011719, 186.77369689941406, 251.03355407714844, -159.67982482910156, -116.7932357788086, 66.45668029785156, 307.78619384765625, 4.282302379608154, 94.17194366455078, 372.82476806640625, 383.5743408203125, 105.6238021850586, -187.501953125, -82.00501251220703, -263.7977600097656, -344.540771484375, 56.79264450073242, 157.9120635986328, -40.567657470703125, -24.359254837036133, -47.217227935791016, 73.30030822753906, 13.856359481811523, -96.74614715576172, 331.27569580078125, -121.50153350830078, -127.36227416992188, 89.4095458984375, -38.78142547607422, 18.274551391601562, 13.625174522399902, -44.93282699584961, -101.66679382324219, 19.961328506469727, -11.388437271118164, -184.45492553710938, -70.43318176269531, -209.77293395996094, 304.3132629394531, -59.45006561279297, 264.9699401855469, 189.07125854492188, 97.4740219116211, -162.810791015625, 167.16439819335938, -97.2645492553711, 166.67349243164062, -146.7911376953125, -187.96405029296875, -99.0367431640625, 229.05262756347656, -242.80487060546875, -29.863910675048828, 277.5983581542969, -238.00604248046875, 95.59856414794922, -277.0621337890625, 235.4824676513672, 210.53506469726562, 411.0481262207031, 256.88775634765625, -235.46624755859375, 316.517822265625, 244.4955596923828, -204.9381561279297, 278.9034729003906, 23.798940658569336, 146.00563049316406, -107.02043151855469, -241.1267852783203, 16.119510650634766, 38.980228424072266, -385.80010986328125, 270.3631591796875, -332.7701110839844, -302.06500244140625, 7.6580424308776855, 90.91983032226562, 171.49070739746094, 315.0770263671875, -99.0078353881836, -57.54107666015625, 112.14862060546875, -1.201148509979248, 24.28288459777832, 94.46257781982422, 195.6807403564453, -215.5258026123047, -86.83744049072266, 304.41876220703125, -55.39105987548828, -5.000538349151611, -169.17315673828125, -369.9789123535156, -48.41487503051758, -120.59593200683594, 139.02285766601562, -365.2406311035156, 232.1550750732422, -101.7056655883789, -168.45187377929688, -77.3039321899414, -326.0963134765625, 150.48097229003906, 47.39137268066406, -189.23843383789062, -289.2535095214844, -55.25689697265625, 20.076047897338867, 263.0718688964844, 317.0992126464844, 211.34715270996094, -133.1192169189453, -198.27883911132812, -377.39447021484375, 264.9704284667969, -154.20664978027344, 47.52022171020508, 217.6151885986328, 130.71890258789062, -29.13039779663086, 18.1558895111084, -163.70806884765625, -200.1942138671875, 243.59951782226562, -43.52478790283203, -314.08367919921875, -140.21128845214844, -78.78070831298828, 47.75445556640625, -65.5400619506836, -355.5727233886719, -211.49044799804688, -218.62388610839844, 24.682552337646484, -99.993408203125, -287.82781982421875, -231.9911651611328, -208.0073699951172, -53.321659088134766, -163.63125610351562, 100.562744140625, -91.936279296875, 9.981675148010254, -182.36927795410156, 5.786338806152344, 340.8740539550781, -102.9775619506836, 386.2120056152344, 327.7245788574219, -138.69384765625, -50.531002044677734, -155.24679565429688, 19.80736541748047, 242.31297302246094, 71.46781921386719, 325.3798522949219, -89.6686782836914, 48.082496643066406, -243.15823364257812, 37.97126388549805, 245.9674835205078, -193.61216735839844, 124.36566925048828, 106.2105941772461, -215.9415740966797, -87.02991485595703, -106.75589752197266, 26.809547424316406, -95.01756286621094, 336.3556823730469, -19.91156768798828, -111.99119567871094, -119.14036560058594, -132.95603942871094, 289.4224548339844, -16.226465225219727, -120.31285095214844, -110.64398956298828, -50.57161331176758, -157.58163452148438, -30.402482986450195, -120.23091888427734, 330.1368713378906, 140.85845947265625, -80.43719482421875, -16.934612274169922, 230.90638732910156, -156.86343383789062, -208.75917053222656, -270.11322021484375, -58.09186935424805, 78.5679931640625, -391.405517578125, 185.08705139160156, 194.44882202148438, -40.471736907958984, -245.14492797851562, -153.36737060546875, 363.25360107421875, -106.7789535522461, 141.32852172851562, -111.7928466796875, 68.72899627685547, 28.081552505493164, -49.558834075927734, -3.891927719116211, -286.24932861328125, -46.745445251464844, -179.4533233642578, 70.38545227050781, -40.706939697265625, 189.42153930664062, -122.50885772705078, -244.45582580566406, 6.039509296417236, -312.45263671875, -106.38665008544922, 222.9485321044922, 219.0745086669922, -3.217435836791992, 209.76687622070312, 114.00324249267578, 271.9165344238281, 95.8335952758789, 38.08513641357422, 302.20330810546875, -229.72906494140625, -12.693049430847168, 223.48077392578125, -34.120052337646484, 250.51034545898438, 229.14407348632812, 78.38256072998047, 171.5426483154297, 381.97100830078125, -200.22850036621094, -194.70301818847656, 359.5429992675781, -96.54080963134766, 0.5181217789649963, 380.51531982421875, -147.74169921875, -19.373106002807617, -105.67719268798828, -98.64580535888672, -131.50555419921875, -64.14309692382812, 262.9655456542969, 287.1319580078125, -64.26736450195312, 309.06988525390625, -45.3108024597168, -3.517301321029663, -19.897247314453125, -224.3609619140625, 299.3033447265625, 96.50154113769531, -175.36973571777344, -277.87005615234375, -294.032958984375, -280.825927734375, 338.593994140625, -234.3480224609375, -29.10968780517578, -163.08815002441406, -86.54144287109375, -17.341625213623047, 29.373584747314453, -46.05057907104492, -176.70909118652344, 41.17227554321289, -47.34079360961914, -119.32527923583984, 272.517333984375, 296.3542785644531, -215.06857299804688, 33.871055603027344, -378.1863098144531, 24.986600875854492, 72.62836456298828, 362.63897705078125, -93.66565704345703, 37.694190979003906, 39.719520568847656, -253.1121368408203, 416.82879638671875, 356.9638977050781, 34.66651153564453, 241.71759033203125, -87.33954620361328, -9.096747398376465, 11.353078842163086], \"z\": [-113.82916259765625, 21.954570770263672, 186.19656372070312, -24.295869827270508, 15.711699485778809, 176.89962768554688, -7.156359672546387, 77.69252014160156, 242.10336303710938, 82.7498550415039, -26.214479446411133, 116.55402374267578, -11.505282402038574, -208.64341735839844, 226.91648864746094, 127.062255859375, -25.97246742248535, 258.0269470214844, 94.01800537109375, 233.31138610839844, 1.3681448698043823, 114.92084503173828, -203.86898803710938, 22.52228355407715, -24.92064094543457, 149.64894104003906, 39.01976776123047, -47.79828643798828, -28.789461135864258, 265.13958740234375, -27.265361785888672, -31.69532585144043, -204.49046325683594, 151.91531372070312, 136.70530700683594, 24.020618438720703, -135.22940063476562, 156.7307891845703, 113.64266204833984, -11.624775886535645, 15.698824882507324, 174.3384246826172, -179.50144958496094, 226.20733642578125, -230.06414794921875, 114.9029312133789, 269.02789306640625, -150.48524475097656, 104.08406829833984, 255.630126953125, 131.23007202148438, 60.791500091552734, 149.60301208496094, -27.08138084411621, -202.8009796142578, -189.3599395751953, -31.51983070373535, -168.1688232421875, 147.177490234375, 112.54070281982422, -80.28810119628906, 18.891101837158203, -146.2251739501953, -162.45745849609375, 245.73348999023438, -65.06851959228516, -3.198942184448242, -53.06766128540039, 10.675737380981445, 137.55665588378906, -139.2624969482422, -90.13424682617188, -161.3312530517578, 120.29564666748047, -119.54651641845703, 36.0733528137207, 13.611651420593262, -73.53636932373047, 120.81806945800781, -133.6538848876953, -63.532814025878906, -246.37893676757812, -29.96537971496582, 225.28988647460938, -128.22738647460938, -15.157657623291016, -2.1786577701568604, -207.45130920410156, 92.661865234375, 67.37088012695312, -24.096044540405273, 51.7632942199707, 170.1468505859375, -226.0529022216797, -148.85116577148438, 94.64078521728516, -38.743282318115234, -71.76480865478516, 37.50935745239258, -283.8091125488281, -21.059236526489258, -273.74365234375, 86.77986907958984, -15.202608108520508, 37.27207565307617, -300.16400146484375, 18.723508834838867, 131.810791015625, 35.17215347290039, -80.99024200439453, 50.522674560546875, -11.908764839172363, 9.099292755126953, 308.6307678222656, -140.6392822265625, 74.71632385253906, -9.048044204711914, -40.2680778503418, 193.59848022460938, -240.4346923828125, -18.819807052612305, 171.66143798828125, 197.94239807128906, 121.05732727050781, -57.197654724121094, -147.194091796875, 6.117414951324463, -258.1401062011719, -263.88543701171875, -251.71612548828125, 117.38471221923828, 116.97915649414062, 36.052059173583984, -153.9731903076172, -209.2373809814453, 28.958341598510742, 3.9750282764434814, -220.0203399658203, -100.98991394042969, 1.6656708717346191, 205.20193481445312, -72.49584197998047, -5.589470863342285, -290.1632080078125, -165.1950225830078, 289.88916015625, -61.29570770263672, 257.53363037109375, 135.0502471923828, -300.6381530761719, 214.24537658691406, 104.36824798583984, -95.37248229980469, 95.96082305908203, -85.74565124511719, 201.89453125, 233.83628845214844, -81.31864929199219, -127.74945831298828, 155.85174560546875, -67.72126770019531, 138.103271484375, 1.8675323724746704, -78.91020202636719, 64.89846801757812, -95.16738891601562, -150.48085021972656, 77.1585922241211, -245.99266052246094, -153.69149780273438, -250.02926635742188, -88.55946350097656, 18.282697677612305, -34.0550422668457, 305.3269348144531, 239.73216247558594, -117.80955505371094, 25.184986114501953, -20.57772445678711, 88.47184753417969, 77.88121032714844, -52.795013427734375, -331.51165771484375, 189.07986450195312, -305.5182800292969, 84.58944702148438, -168.8745574951172, -178.5451202392578, -168.15367126464844, -0.5380083322525024, -131.1896514892578, 100.6090316772461, -71.58269500732422, 95.49945831298828, -207.7095184326172, 44.494686126708984, 386.1228332519531, 108.05955505371094, -40.869441986083984, -212.09976196289062, -27.178476333618164, 213.68258666992188, 160.99696350097656, -126.84553527832031, 225.04922485351562, 59.95637130737305, -29.124645233154297, -180.30471801757812, 29.811038970947266, 177.31655883789062, -58.9914436340332, 129.98397827148438, -68.05476379394531, -216.65155029296875, 198.4544677734375, -244.18931579589844, 138.33291625976562, 32.06501007080078, 24.158733367919922, -241.5868682861328, -140.57504272460938, -56.525177001953125, 127.83711242675781, -43.75873947143555, -43.215702056884766, 98.5073471069336, 337.7696838378906, -39.95702362060547, -113.90452575683594, 102.84355926513672, 97.62638854980469, 123.20661163330078, 181.65077209472656, 252.5876007080078, 372.7091369628906, -56.91852569580078, 89.84532928466797, 79.6290512084961, 106.11872100830078, 118.51679229736328, -102.0322494506836, 102.30294799804688, -8.803509712219238, -181.85264587402344, 72.00755310058594, 256.1568603515625, 220.75436401367188, 345.49505615234375, 232.20880126953125, -104.17726135253906, 274.32196044921875, -155.2537384033203, 56.96591567993164, 53.673648834228516, 11.729345321655273, -138.1371307373047, 57.53977584838867, 192.92337036132812, 24.801952362060547, -153.23606872558594, 262.227783203125, -80.28567504882812, -192.6742706298828, 226.52499389648438, 207.58721923828125, 96.77350616455078, 51.9299430847168, -91.12847900390625, 179.94326782226562, 142.69044494628906, -73.19905090332031, -202.3760986328125, 63.932682037353516, -28.596179962158203, -67.7880630493164, 75.55204772949219, -146.05535888671875, 110.57941436767578, 64.97389221191406, -51.24186325073242, -73.87542724609375, -328.7798767089844, 62.584537506103516, 261.55499267578125, -197.66616821289062, 168.762939453125, -42.817543029785156, 303.29931640625, 194.99948120117188, -321.12823486328125, -69.78634643554688, 3.098590850830078, 226.73606872558594, -72.97330474853516, 241.4231414794922, 98.71398162841797, -141.98968505859375, -208.66217041015625, -33.513275146484375, 238.7115020751953, 19.45172119140625, -289.4945983886719, -194.47006225585938, 207.6977081298828, -30.039430618286133, -179.77230834960938, 94.47286224365234, 149.1658172607422, 213.33041381835938, 150.0465087890625, -189.45709228515625, 0.6537794470787048, -51.264808654785156, 27.781818389892578, -61.22985076904297, 205.98092651367188, 11.925830841064453, 105.47623443603516, 202.72006225585938, 259.8551025390625, -16.44122314453125, -187.01988220214844, 207.95236206054688, -36.66470718383789, -112.68948364257812, 181.17796325683594, 278.9991455078125, 117.31778717041016, -213.53428649902344, 203.44947814941406, -26.277240753173828, 166.26837158203125, 300.1755676269531, 79.46717834472656, -178.6952362060547, -143.27908325195312, 21.227001190185547, 100.63716888427734, -225.9497528076172, -61.83366012573242, -74.9916000366211, -8.214310646057129, 189.1598358154297, -29.9726619720459, -16.368715286254883, 82.23055267333984, 226.57110595703125, 316.5179138183594, -8.54943561553955, -55.13119888305664, -103.1764144897461, -280.4929504394531, 262.2750244140625, -74.2179946899414, 60.18525695800781, 31.452123641967773, 366.3868408203125, -44.293216705322266, 274.84527587890625, 305.8965759277344, 20.904504776000977, -14.856532096862793, -58.7630500793457, -328.4732360839844, 29.525136947631836, -68.26815032958984, 60.63031005859375, 55.354774475097656, -10.339200973510742, 4.598598957061768, -129.10958862304688, 389.2381591796875]}],\n",
       "                        {\"legend\": {\"title\": {\"text\": \"label_name\"}, \"tracegroupgap\": 0}, \"scene\": {\"domain\": {\"x\": [0.0, 1.0], \"y\": [0.0, 1.0]}, \"xaxis\": {\"title\": {\"text\": \"PC1\"}}, \"yaxis\": {\"title\": {\"text\": \"PC2\"}}, \"zaxis\": {\"title\": {\"text\": \"PC3\"}}}, \"template\": {\"data\": {\"bar\": [{\"error_x\": {\"color\": \"#2a3f5f\"}, \"error_y\": {\"color\": \"#2a3f5f\"}, \"marker\": {\"line\": {\"color\": \"#E5ECF6\", \"width\": 0.5}}, \"type\": \"bar\"}], \"barpolar\": [{\"marker\": {\"line\": {\"color\": \"#E5ECF6\", \"width\": 0.5}}, \"type\": \"barpolar\"}], \"carpet\": [{\"aaxis\": {\"endlinecolor\": \"#2a3f5f\", \"gridcolor\": \"white\", \"linecolor\": \"white\", \"minorgridcolor\": \"white\", \"startlinecolor\": \"#2a3f5f\"}, \"baxis\": {\"endlinecolor\": \"#2a3f5f\", \"gridcolor\": \"white\", \"linecolor\": \"white\", \"minorgridcolor\": \"white\", \"startlinecolor\": \"#2a3f5f\"}, \"type\": \"carpet\"}], \"choropleth\": [{\"colorbar\": {\"outlinewidth\": 0, \"ticks\": \"\"}, \"type\": \"choropleth\"}], \"contour\": [{\"colorbar\": {\"outlinewidth\": 0, \"ticks\": \"\"}, \"colorscale\": [[0.0, \"#0d0887\"], [0.1111111111111111, \"#46039f\"], [0.2222222222222222, \"#7201a8\"], [0.3333333333333333, \"#9c179e\"], [0.4444444444444444, \"#bd3786\"], [0.5555555555555556, \"#d8576b\"], [0.6666666666666666, \"#ed7953\"], [0.7777777777777778, \"#fb9f3a\"], [0.8888888888888888, \"#fdca26\"], [1.0, \"#f0f921\"]], \"type\": \"contour\"}], \"contourcarpet\": [{\"colorbar\": {\"outlinewidth\": 0, \"ticks\": \"\"}, \"type\": \"contourcarpet\"}], \"heatmap\": [{\"colorbar\": {\"outlinewidth\": 0, \"ticks\": \"\"}, \"colorscale\": [[0.0, \"#0d0887\"], [0.1111111111111111, \"#46039f\"], [0.2222222222222222, \"#7201a8\"], [0.3333333333333333, \"#9c179e\"], [0.4444444444444444, \"#bd3786\"], [0.5555555555555556, \"#d8576b\"], [0.6666666666666666, \"#ed7953\"], [0.7777777777777778, \"#fb9f3a\"], [0.8888888888888888, \"#fdca26\"], [1.0, \"#f0f921\"]], \"type\": \"heatmap\"}], \"heatmapgl\": [{\"colorbar\": {\"outlinewidth\": 0, \"ticks\": \"\"}, \"colorscale\": [[0.0, \"#0d0887\"], [0.1111111111111111, \"#46039f\"], [0.2222222222222222, \"#7201a8\"], [0.3333333333333333, \"#9c179e\"], [0.4444444444444444, \"#bd3786\"], [0.5555555555555556, \"#d8576b\"], [0.6666666666666666, \"#ed7953\"], [0.7777777777777778, \"#fb9f3a\"], [0.8888888888888888, \"#fdca26\"], [1.0, \"#f0f921\"]], \"type\": \"heatmapgl\"}], \"histogram\": [{\"marker\": {\"colorbar\": {\"outlinewidth\": 0, \"ticks\": \"\"}}, \"type\": \"histogram\"}], \"histogram2d\": [{\"colorbar\": {\"outlinewidth\": 0, \"ticks\": \"\"}, \"colorscale\": [[0.0, \"#0d0887\"], [0.1111111111111111, \"#46039f\"], [0.2222222222222222, \"#7201a8\"], [0.3333333333333333, \"#9c179e\"], [0.4444444444444444, \"#bd3786\"], [0.5555555555555556, \"#d8576b\"], [0.6666666666666666, \"#ed7953\"], [0.7777777777777778, \"#fb9f3a\"], [0.8888888888888888, \"#fdca26\"], [1.0, \"#f0f921\"]], \"type\": \"histogram2d\"}], \"histogram2dcontour\": [{\"colorbar\": {\"outlinewidth\": 0, \"ticks\": \"\"}, \"colorscale\": [[0.0, \"#0d0887\"], [0.1111111111111111, \"#46039f\"], [0.2222222222222222, \"#7201a8\"], [0.3333333333333333, \"#9c179e\"], [0.4444444444444444, \"#bd3786\"], [0.5555555555555556, \"#d8576b\"], [0.6666666666666666, \"#ed7953\"], [0.7777777777777778, \"#fb9f3a\"], [0.8888888888888888, \"#fdca26\"], [1.0, \"#f0f921\"]], \"type\": \"histogram2dcontour\"}], \"mesh3d\": [{\"colorbar\": {\"outlinewidth\": 0, \"ticks\": \"\"}, \"type\": \"mesh3d\"}], \"parcoords\": [{\"line\": {\"colorbar\": {\"outlinewidth\": 0, \"ticks\": \"\"}}, \"type\": \"parcoords\"}], \"pie\": [{\"automargin\": true, \"type\": \"pie\"}], \"scatter\": [{\"marker\": {\"colorbar\": {\"outlinewidth\": 0, \"ticks\": \"\"}}, \"type\": \"scatter\"}], \"scatter3d\": [{\"line\": {\"colorbar\": {\"outlinewidth\": 0, \"ticks\": \"\"}}, \"marker\": {\"colorbar\": {\"outlinewidth\": 0, \"ticks\": \"\"}}, \"type\": \"scatter3d\"}], \"scattercarpet\": [{\"marker\": {\"colorbar\": {\"outlinewidth\": 0, \"ticks\": \"\"}}, \"type\": \"scattercarpet\"}], \"scattergeo\": [{\"marker\": {\"colorbar\": {\"outlinewidth\": 0, \"ticks\": \"\"}}, \"type\": \"scattergeo\"}], \"scattergl\": [{\"marker\": {\"colorbar\": {\"outlinewidth\": 0, \"ticks\": \"\"}}, \"type\": \"scattergl\"}], \"scattermapbox\": [{\"marker\": {\"colorbar\": {\"outlinewidth\": 0, \"ticks\": \"\"}}, \"type\": \"scattermapbox\"}], \"scatterpolar\": [{\"marker\": {\"colorbar\": {\"outlinewidth\": 0, \"ticks\": \"\"}}, \"type\": \"scatterpolar\"}], \"scatterpolargl\": [{\"marker\": {\"colorbar\": {\"outlinewidth\": 0, \"ticks\": \"\"}}, \"type\": \"scatterpolargl\"}], \"scatterternary\": [{\"marker\": {\"colorbar\": {\"outlinewidth\": 0, \"ticks\": \"\"}}, \"type\": \"scatterternary\"}], \"surface\": [{\"colorbar\": {\"outlinewidth\": 0, \"ticks\": \"\"}, \"colorscale\": [[0.0, \"#0d0887\"], [0.1111111111111111, \"#46039f\"], [0.2222222222222222, \"#7201a8\"], [0.3333333333333333, \"#9c179e\"], [0.4444444444444444, \"#bd3786\"], [0.5555555555555556, \"#d8576b\"], [0.6666666666666666, \"#ed7953\"], [0.7777777777777778, \"#fb9f3a\"], [0.8888888888888888, \"#fdca26\"], [1.0, \"#f0f921\"]], \"type\": \"surface\"}], \"table\": [{\"cells\": {\"fill\": {\"color\": \"#EBF0F8\"}, \"line\": {\"color\": \"white\"}}, \"header\": {\"fill\": {\"color\": \"#C8D4E3\"}, \"line\": {\"color\": \"white\"}}, \"type\": \"table\"}]}, \"layout\": {\"annotationdefaults\": {\"arrowcolor\": \"#2a3f5f\", \"arrowhead\": 0, \"arrowwidth\": 1}, \"coloraxis\": {\"colorbar\": {\"outlinewidth\": 0, \"ticks\": \"\"}}, \"colorscale\": {\"diverging\": [[0, \"#8e0152\"], [0.1, \"#c51b7d\"], [0.2, \"#de77ae\"], [0.3, \"#f1b6da\"], [0.4, \"#fde0ef\"], [0.5, \"#f7f7f7\"], [0.6, \"#e6f5d0\"], [0.7, \"#b8e186\"], [0.8, \"#7fbc41\"], [0.9, \"#4d9221\"], [1, \"#276419\"]], \"sequential\": [[0.0, \"#0d0887\"], [0.1111111111111111, \"#46039f\"], [0.2222222222222222, \"#7201a8\"], [0.3333333333333333, \"#9c179e\"], [0.4444444444444444, \"#bd3786\"], [0.5555555555555556, \"#d8576b\"], [0.6666666666666666, \"#ed7953\"], [0.7777777777777778, \"#fb9f3a\"], [0.8888888888888888, \"#fdca26\"], [1.0, \"#f0f921\"]], \"sequentialminus\": [[0.0, \"#0d0887\"], [0.1111111111111111, \"#46039f\"], [0.2222222222222222, \"#7201a8\"], [0.3333333333333333, \"#9c179e\"], [0.4444444444444444, \"#bd3786\"], [0.5555555555555556, \"#d8576b\"], [0.6666666666666666, \"#ed7953\"], [0.7777777777777778, \"#fb9f3a\"], [0.8888888888888888, \"#fdca26\"], [1.0, \"#f0f921\"]]}, \"colorway\": [\"#636efa\", \"#EF553B\", \"#00cc96\", \"#ab63fa\", \"#FFA15A\", \"#19d3f3\", \"#FF6692\", \"#B6E880\", \"#FF97FF\", \"#FECB52\"], \"font\": {\"color\": \"#2a3f5f\"}, \"geo\": {\"bgcolor\": \"white\", \"lakecolor\": \"white\", \"landcolor\": \"#E5ECF6\", \"showlakes\": true, \"showland\": true, \"subunitcolor\": \"white\"}, \"hoverlabel\": {\"align\": \"left\"}, \"hovermode\": \"closest\", \"mapbox\": {\"style\": \"light\"}, \"paper_bgcolor\": \"white\", \"plot_bgcolor\": \"#E5ECF6\", \"polar\": {\"angularaxis\": {\"gridcolor\": \"white\", \"linecolor\": \"white\", \"ticks\": \"\"}, \"bgcolor\": \"#E5ECF6\", \"radialaxis\": {\"gridcolor\": \"white\", \"linecolor\": \"white\", \"ticks\": \"\"}}, \"scene\": {\"xaxis\": {\"backgroundcolor\": \"#E5ECF6\", \"gridcolor\": \"white\", \"gridwidth\": 2, \"linecolor\": \"white\", \"showbackground\": true, \"ticks\": \"\", \"zerolinecolor\": \"white\"}, \"yaxis\": {\"backgroundcolor\": \"#E5ECF6\", \"gridcolor\": \"white\", \"gridwidth\": 2, \"linecolor\": \"white\", \"showbackground\": true, \"ticks\": \"\", \"zerolinecolor\": \"white\"}, \"zaxis\": {\"backgroundcolor\": \"#E5ECF6\", \"gridcolor\": \"white\", \"gridwidth\": 2, \"linecolor\": \"white\", \"showbackground\": true, \"ticks\": \"\", \"zerolinecolor\": \"white\"}}, \"shapedefaults\": {\"line\": {\"color\": \"#2a3f5f\"}}, \"ternary\": {\"aaxis\": {\"gridcolor\": \"white\", \"linecolor\": \"white\", \"ticks\": \"\"}, \"baxis\": {\"gridcolor\": \"white\", \"linecolor\": \"white\", \"ticks\": \"\"}, \"bgcolor\": \"#E5ECF6\", \"caxis\": {\"gridcolor\": \"white\", \"linecolor\": \"white\", \"ticks\": \"\"}}, \"title\": {\"x\": 0.05}, \"xaxis\": {\"automargin\": true, \"gridcolor\": \"white\", \"linecolor\": \"white\", \"ticks\": \"\", \"title\": {\"standoff\": 15}, \"zerolinecolor\": \"white\", \"zerolinewidth\": 2}, \"yaxis\": {\"automargin\": true, \"gridcolor\": \"white\", \"linecolor\": \"white\", \"ticks\": \"\", \"title\": {\"standoff\": 15}, \"zerolinecolor\": \"white\", \"zerolinewidth\": 2}}}, \"title\": {\"text\": \"t-SNE decomposition\"}},\n",
       "                        {\"responsive\": true}\n",
       "                    ).then(function(){\n",
       "                            \n",
       "var gd = document.getElementById('47b0ea2e-2f4f-412a-93be-c21bd107db63');\n",
       "var x = new MutationObserver(function (mutations, observer) {{\n",
       "        var display = window.getComputedStyle(gd).display;\n",
       "        if (!display || display === 'none') {{\n",
       "            console.log([gd, 'removed!']);\n",
       "            Plotly.purge(gd);\n",
       "            observer.disconnect();\n",
       "        }}\n",
       "}});\n",
       "\n",
       "// Listen for the removal of the full notebook cells\n",
       "var notebookContainer = gd.closest('#notebook-container');\n",
       "if (notebookContainer) {{\n",
       "    x.observe(notebookContainer, {childList: true});\n",
       "}}\n",
       "\n",
       "// Listen for the clearing of the current output cell\n",
       "var outputEl = gd.closest('.output');\n",
       "if (outputEl) {{\n",
       "    x.observe(outputEl, {childList: true});\n",
       "}}\n",
       "\n",
       "                        })\n",
       "                };\n",
       "                });\n",
       "            </script>\n",
       "        </div>"
      ]
     },
     "metadata": {},
     "output_type": "display_data"
    }
   ],
   "source": [
    "# 3D visualisation\n",
    "\n",
    "fig = px.scatter_3d(df_full, x='PC1', y='PC2', z='PC3',\n",
    "              color='label_name', title=\"t-SNE decomposition\")\n",
    "fig.show()"
   ]
  },
  {
   "cell_type": "code",
   "execution_count": null,
   "metadata": {},
   "outputs": [],
   "source": []
  },
  {
   "cell_type": "code",
   "execution_count": null,
   "metadata": {},
   "outputs": [],
   "source": []
  },
  {
   "cell_type": "code",
   "execution_count": null,
   "metadata": {},
   "outputs": [],
   "source": []
  },
  {
   "cell_type": "code",
   "execution_count": null,
   "metadata": {},
   "outputs": [],
   "source": []
  },
  {
   "cell_type": "code",
   "execution_count": null,
   "metadata": {},
   "outputs": [],
   "source": []
  }
 ],
 "metadata": {
  "kernelspec": {
   "display_name": "Python 3",
   "language": "python",
   "name": "python3"
  }
 },
 "nbformat": 4,
 "nbformat_minor": 4
}
